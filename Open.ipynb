{
 "cells": [
  {
   "cell_type": "code",
   "execution_count": null,
   "metadata": {},
   "outputs": [],
   "source": [
    "import openai\n",
    "openai.api_key = \"\"\n",
    "\n",
    "# output = openai.ChatCompletion.create(\n",
    "#   model=\"gpt-3.5-turbo\", \n",
    "#   messages=[{\"role\": \"user\", \"content\": \n",
    "#              \"Select the correct statements below: \\\n",
    "#               (a) Storing relations by columns can give significant performance boost for analytic queries. \\\n",
    "#               (b) In a main-memory-based database system, some persistent storage is needed in case the server crashes. \\\n",
    "#               (c) Documents in document stores always correspond to data from a single relation in a relational system. \\\n",
    "#               (d) Eventual consistency guarantees that all clients always get the latest version of data items.\"}]\n",
    "# )\n",
    "\n",
    "output = openai.ChatCompletion.create(\n",
    "  model=\"gpt-3.5-turbo\", \n",
    "  messages=[{\"role\": \"user\", \"content\": \n",
    "             \"Discuss pros and cons of key-value stores in a database context.\"}]\n",
    ")\n",
    "\n",
    "# Get the output text only\n",
    "print(output['choices'][0]['message']['content'])"
   ]
  }
 ],
 "metadata": {
  "kernelspec": {
   "display_name": "Python 3.10.7 64-bit",
   "language": "python",
   "name": "python3"
  },
  "language_info": {
   "codemirror_mode": {
    "name": "ipython",
    "version": 3
   },
   "file_extension": ".py",
   "mimetype": "text/x-python",
   "name": "python",
   "nbconvert_exporter": "python",
   "pygments_lexer": "ipython3",
   "version": "3.10.10"
  },
  "orig_nbformat": 4,
  "vscode": {
   "interpreter": {
    "hash": "b5f0bfb910b5f89afee0c4e65874b118d019a6f05b0e3b9906c17a1424dc1b44"
   }
  }
 },
 "nbformat": 4,
 "nbformat_minor": 2
}

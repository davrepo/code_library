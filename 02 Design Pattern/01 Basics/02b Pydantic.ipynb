{
 "cells": [
  {
   "cell_type": "code",
   "execution_count": 3,
   "metadata": {},
   "outputs": [
    {
     "name": "stdout",
     "output_type": "stream",
     "text": [
      "title='zero to one' author='peter thiel' publisher='ballantine books' price=14.29 isbn_10='0753555190' isbn_13='978-0753555194' subtitle='notes on startups, or how to build the future' author2=Author(name='Peter Thiel', verified=True)\n"
     ]
    }
   ],
   "source": [
    "# https://www.youtube.com/watch?v=Vj-iU-8_xLs \n",
    "# Pydantic is not part of standard library\n",
    "# Example 1:\n",
    "import json\n",
    "from typing import List, Optional\n",
    "import pydantic\n",
    "\n",
    "class Author(pydantic.BaseModel):\n",
    "    name: str\n",
    "    verified: bool\n",
    "\n",
    "class Book(pydantic.BaseModel):\n",
    "    \"\"\"Represents a book with that you can read from a JSON file.\"\"\"\n",
    "\n",
    "    title: str\n",
    "    author: str\n",
    "    publisher: str\n",
    "    price: float\n",
    "    isbn_10: Optional[str]\n",
    "    isbn_13: Optional[str]\n",
    "    subtitle: Optional[str]\n",
    "    author2: Optional[Author]\n",
    "\n",
    "    @pydantic.root_validator(pre=True)\n",
    "    @classmethod\n",
    "    def check_isbn_10_or_13(cls, values):\n",
    "        \"\"\"Make sure there is either an isbn_10 or isbn_13 value defined\"\"\"\n",
    "        if \"isbn_10\" not in values and \"isbn_13\" not in values:\n",
    "            raise ISBNMissingError(\n",
    "                title=values[\"title\"],\n",
    "                message=\"Document should have either an ISBN10 or ISBN13\",\n",
    "            )\n",
    "        return values\n",
    "\n",
    "    @pydantic.validator(\"isbn_10\")\n",
    "    @classmethod\n",
    "    def isbn_10_valid(cls, value) -> None:\n",
    "        \"\"\"Validator to check whether ISBN10 is valid\"\"\"\n",
    "        chars = [c for c in value if c in \"0123456789Xx\"]\n",
    "        if len(chars) != 10:\n",
    "            raise ISBN10FormatError(value=value, message=\"ISBN10 should be 10 digits.\")\n",
    "\n",
    "        def char_to_int(char: str) -> int:\n",
    "            if char in \"Xx\":\n",
    "                return 10\n",
    "            return int(char)\n",
    "\n",
    "        if sum((10 - i) * char_to_int(x) for i, x in enumerate(chars)) % 11 != 0:\n",
    "            raise ISBN10FormatError(\n",
    "                value=value, message=\"ISBN10 digit sum should be divisible by 11.\"\n",
    "            )\n",
    "        return value\n",
    "\n",
    "    class Config:\n",
    "        \"\"\"Pydantic config class\"\"\"\n",
    "\n",
    "        allow_mutation = False\n",
    "        anystr_lower = True\n",
    "\n",
    "class ISBNMissingError(Exception):\n",
    "    \"\"\"Custom error that is raised when both ISBN10 and ISBN13 are missing.\"\"\"\n",
    "\n",
    "    def __init__(self, title: str, message: str) -> None:\n",
    "        self.title = title\n",
    "        self.message = message\n",
    "        super().__init__(message)\n",
    "\n",
    "\n",
    "class ISBN10FormatError(Exception):\n",
    "    \"\"\"Custom error that is raised when ISBN10 doesn't have the right format.\"\"\"\n",
    "\n",
    "    def __init__(self, value: str, message: str) -> None:\n",
    "        self.value = value\n",
    "        self.message = message\n",
    "        super().__init__(message)\n",
    "\n",
    "with open(\"./data.json\") as file:\n",
    "    data = json.load(file)\n",
    "    books: List[Book] = [Book(**item) for item in data]\n",
    "    # print(books)\n",
    "    print(books[0])\n",
    "    # print(books[0].dict(exclude={\"price\"}))\n",
    "    # print(books[1].copy())\n"
   ]
  }
 ],
 "metadata": {
  "kernelspec": {
   "display_name": "Python 3.10.7 64-bit",
   "language": "python",
   "name": "python3"
  },
  "language_info": {
   "codemirror_mode": {
    "name": "ipython",
    "version": 3
   },
   "file_extension": ".py",
   "mimetype": "text/x-python",
   "name": "python",
   "nbconvert_exporter": "python",
   "pygments_lexer": "ipython3",
   "version": "3.10.7"
  },
  "orig_nbformat": 4,
  "vscode": {
   "interpreter": {
    "hash": "b5f0bfb910b5f89afee0c4e65874b118d019a6f05b0e3b9906c17a1424dc1b44"
   }
  }
 },
 "nbformat": 4,
 "nbformat_minor": 2
}

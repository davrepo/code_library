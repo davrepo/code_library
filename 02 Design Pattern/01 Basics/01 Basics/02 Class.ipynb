{
 "cells": [
  {
   "cell_type": "code",
   "execution_count": 13,
   "metadata": {},
   "outputs": [
    {
     "name": "stdout",
     "output_type": "stream",
     "text": [
      "ok\n",
      "ok\n",
      "John\n",
      "Corey Schafer\n",
      "Corey.Schafer@email.com\n",
      "Delete Name!\n",
      "None\n"
     ]
    }
   ],
   "source": [
    "# --------- @property ---------\n",
    "# https://stackoverflow.com/questions/17330160/how-does-the-property-decorator-work-in-python\n",
    "# https://docs.python.org/3/howto/descriptor.html \n",
    "# allow you to define a method(), but can access it like an attribute\n",
    "\n",
    "# Example 1\n",
    "class Foo:\n",
    "    def __init__(self, my_word):\n",
    "        self._word = my_word\n",
    "    @property\n",
    "    def word(self):\n",
    "        return self._word\n",
    "# word() is now a attribute instead of a method\n",
    "print(Foo('ok').word)     # ok\n",
    "\n",
    "class Bar:\n",
    "    def __init__(self, my_word):\n",
    "        self._word = my_word\n",
    "    def word(self):\n",
    "        return self._word\n",
    "print(Bar('ok').word())   # ok   # word() is a method\n",
    "\n",
    "# Example 2\n",
    "class Employee:\n",
    "    def __init__(self, first, last) -> None:\n",
    "        self.first = first\n",
    "        self.last = last\n",
    "    \n",
    "    @property\n",
    "    def email(self):\n",
    "        return f'{self.first}.{self.last}@email.com'\n",
    "    \n",
    "    @property\n",
    "    def fullname(self):\n",
    "        return f'{self.first} {self.last}'\n",
    "    \n",
    "    @fullname.setter    # using fullname property, then call property's __setter__, hence fullname.setter\n",
    "    def fullname(self, name):\n",
    "        first, last = name.split(' ')\n",
    "        self.first = first\n",
    "        self.last = last\n",
    "    \n",
    "    @fullname.deleter    # property() also has __deleter__, __getter__\n",
    "    def fullname(self):\n",
    "        print('Delete Name!')\n",
    "        self.first = None\n",
    "        self.last = None\n",
    "\n",
    "emp_1 = Employee('John', 'Smith')\n",
    "print(emp_1.first)      # John\n",
    "emp_1.fullname = 'Corey Schafer'\n",
    "print(emp_1.fullname)   # Corey Schafer\n",
    "print(emp_1.email)      # John.Smith@email.com     # email() is a attribute\n",
    "del emp_1.fullname      # Delete Name!   # del keyword calls fullname.deleter\n",
    "print(emp_1.first)      # None"
   ]
  },
  {
   "cell_type": "code",
   "execution_count": 32,
   "metadata": {},
   "outputs": [
    {
     "name": "stdout",
     "output_type": "stream",
     "text": [
      "6:30 AM\n",
      "7:45 AM\n",
      "5:45 AM\n",
      "45:45 PM\n",
      "50:30 PM\n"
     ]
    }
   ],
   "source": [
    "# --------- getter, setter ---------\n",
    "class Time:\n",
    "    def __init__(self, hour=0, minute=0):\n",
    "        self._hour = hour  # 0-23\n",
    "        if minute < 0 or minute > 59:\n",
    "            raise ValueError('minute must be 0-59')\n",
    "        else:\n",
    "            self.minute = minute\n",
    "\n",
    "    @property       \n",
    "    def hour(self):\n",
    "        \"\"\"getter hour.\"\"\"\n",
    "        return self._hour\n",
    "\n",
    "    @hour.setter            \n",
    "    def hour(self, hour):\n",
    "        \"\"\"setter hour.\"\"\"\n",
    "        if not (0 <= hour < 24): raise ValueError(f'Hour ({hour}) must be 0-23')\n",
    "        self._hour = hour\n",
    "    \n",
    "    @property\n",
    "    def minute(self):\n",
    "        \"\"\"getter minute.\"\"\"\n",
    "        return self._minute\n",
    "\n",
    "    @minute.setter\n",
    "    def minute(self, minute):\n",
    "        \"\"\"setter minute.\"\"\"\n",
    "        if not (0 <= minute < 60): raise ValueError(f'Minute ({minute}) must be 0-59')\n",
    "        self._minute = minute\n",
    "\n",
    "    def set_time(self, hour=0, minute=0):\n",
    "        \"\"\"setter hour, minute.\"\"\"\n",
    "        self.hour = hour\n",
    "        self.minute = minute\n",
    "        \n",
    "    @property \n",
    "    def time(self):\n",
    "        \"\"\"Return hour, minute as a tuple.\"\"\"\n",
    "        return (self.hour, self.minute)\n",
    "\n",
    "    @time.setter\n",
    "    def time(self, time_tuple):\n",
    "        \"\"\"Set time from a tuple containing hour, minute.\"\"\"\n",
    "        self.set_time(time_tuple[0], time_tuple[1])\n",
    "\n",
    "    def __repr__(self):\n",
    "        \"\"\"Return Time string for repr().\"\"\"\n",
    "        return (f'Time(hour={self.hour}, minute={self.minute})')\n",
    "\n",
    "    def __str__(self):\n",
    "        \"\"\"Return Time string in 12-hour clock format.\"\"\"\n",
    "        return (('12' if self.hour in (0, 12) else str(self.hour)) + \n",
    "                f':{self.minute:0>2}' + \n",
    "                (' AM' if self.hour < 12 else ' PM'))\n",
    "\n",
    "wake_up = Time(hour=6, minute=30)\n",
    "wake_up             # Time(hour=6, minute=30)      # calls __repr__, i.e. display \"Time\" object\n",
    "print(wake_up)      # 6:30 AM       # calls __str__, i.e. display \"Time\" string\n",
    "wake_up.hour        # 6             # calls property getter method, hour() is now an attribute, hence .hour\n",
    "wake_up.set_time(hour=7, minute=45)    \n",
    "print(wake_up)      # 7:45 AM\n",
    "wake_up.hour = 5                    # Setting an attribute via property\n",
    "print(wake_up)      # 5:30 AM \n",
    "# wake_up.hour = 45 # ValueError: Hour (45) must be 0-23\n",
    "# However, you can bypass setter method by accessing directly the private attributes\n",
    "wake_up._hour = 45                  # bypass setter method\n",
    "print(wake_up)      # 45:30 AM             \n",
    "\n",
    "wake_up2 = Time(hour=50, minute=30)\n",
    "print(wake_up2)     # 50:30 AM\n",
    "# wake_up3 = Time(hour=6, minute=70)  # ValueError: Minute (70) must be 0-59\n",
    "\n"
   ]
  },
  {
   "cell_type": "code",
   "execution_count": 46,
   "metadata": {},
   "outputs": [
    {
     "name": "stdout",
     "output_type": "stream",
     "text": [
      "public\n",
      "private\n"
     ]
    },
    {
     "data": {
      "text/plain": [
       "'modified'"
      ]
     },
     "execution_count": 46,
     "metadata": {},
     "output_type": "execute_result"
    }
   ],
   "source": [
    "# --------- Private attributes ---------\n",
    "# https://stackoverflow.com/questions/14671487/what-is-the-difference-in-python-attributes-with-underscore-in-front-and-back\n",
    "# Naming convention:\n",
    "    # _attribute: protected (not enforced)\n",
    "    # __attribute: private  (enforced by Python name mangling)\n",
    "# self.__private_data. Then Python automatically renames it as _ClassName__private_data (name mangling)\n",
    "# so instance.__private_data will not access this attribute\n",
    "# but instance._PrivateClass__private_data will still be able to access it\n",
    "\n",
    "class PrivateClass:\n",
    "    def __init__(self):\n",
    "        \"\"\"Initialize the public and private attributes.\"\"\"\n",
    "        self.public_data = \"public\"         # public attribute\n",
    "        self.__private_data = \"private\"     # private attribute, preceded by __\n",
    "\n",
    "instance = PrivateClass()\n",
    "print(instance.public_data)                     # public\n",
    "\n",
    "#instance.__private_data    # AttributeError: 'PrivateClass' object has no attribute '__private_data'\n",
    "\n",
    "print(instance._PrivateClass__private_data)     # private\n",
    "instance._PrivateClass__private_data = 'modified'\n",
    "instance._PrivateClass__private_data            # modified"
   ]
  },
  {
   "cell_type": "code",
   "execution_count": 45,
   "metadata": {},
   "outputs": [
    {
     "data": {
      "text/plain": [
       "2"
      ]
     },
     "execution_count": 45,
     "metadata": {},
     "output_type": "execute_result"
    }
   ],
   "source": [
    "# --------- Class variable ---------\n",
    "# https://www.youtube.com/watch?v=BJ-VvGyQxho&list=PL-osiE80TeTsqhIuOqKhwlXsIBIdSeYtc&index=2 \n",
    "class Foo:\n",
    "    num_of_foos = 0     # class variable, shared by all instances\n",
    "    raise_amt = 1.04    # class variable\n",
    "    def __init__(self, x):\n",
    "        self.instance_var = x\n",
    "        Foo.num_of_foos += 1    # class safe way to use class variable\n",
    "    def raise_me(self):\n",
    "        # self.raise_amt allows object / subclass to override class variable\n",
    "        return self.instance_var * self.raise_amt   \n",
    "\n",
    "bar = Foo(1)\n",
    "baz = Foo(1)\n",
    "Foo.num_of_foos     # 2\n",
    "bar.num_of_foos     # 2\n",
    "bar.raise_me()      # 1.04\n",
    "bar.raise_amt = 1.5 # create instance variable that overrides class variable\n",
    "bar.raise_me()      # 1.5"
   ]
  },
  {
   "cell_type": "code",
   "execution_count": 49,
   "metadata": {},
   "outputs": [
    {
     "name": "stdout",
     "output_type": "stream",
     "text": [
      "1.5\n"
     ]
    },
    {
     "data": {
      "text/plain": [
       "<__main__.Employee at 0x1d247f24f70>"
      ]
     },
     "execution_count": 49,
     "metadata": {},
     "output_type": "execute_result"
    }
   ],
   "source": [
    "# --------- Class method ---------\n",
    "# accepts class instead of object as the first argument, i.e. cls, instead of self\n",
    "# i.e. you don't need to create an instance to call class method\n",
    "class Foo:\n",
    "    raise_amt = 1.04    # class variable\n",
    "    def __init__(self, x):\n",
    "        self.instance_var = x\n",
    "    def raise_me(self):\n",
    "        return self.instance_var * self.raise_amt\n",
    "    @classmethod\n",
    "    def set_raise_amt(cls, amount):\n",
    "        cls.raise_amt = amount \n",
    "\n",
    "bar = Foo(1)\n",
    "Foo.set_raise_amt(1.5)      # class method\n",
    "print(bar.raise_me())   # 1.5\n",
    "\n",
    "# Alternative constructor with class method\n",
    "class Employee:\n",
    "    def __init__(self, first, last):\n",
    "        self.first = first\n",
    "        self.last = last\n",
    "    @classmethod\n",
    "    def from_string(cls, emp_str):  # alternative constructor\n",
    "        first, last = emp_str.split(' ')\n",
    "        return cls(first, last)    # cls() is the same as Employee()\n",
    "\n",
    "emp_1 = Employee('John', 'Smith')\n",
    "emp_2 = Employee.from_string('Jane Doe')"
   ]
  },
  {
   "cell_type": "code",
   "execution_count": 50,
   "metadata": {},
   "outputs": [
    {
     "name": "stdout",
     "output_type": "stream",
     "text": [
      "False\n"
     ]
    }
   ],
   "source": [
    "# --------- Static method ---------\n",
    "# doesn't pass anything automatically, i.e. no self or cls\n",
    "# use static method when you don't need to access class or instance\n",
    "class Employee:\n",
    "    @staticmethod\n",
    "    def is_workday(day):\n",
    "        if day.weekday() == 5 or day.weekday() == 6:\n",
    "            return False\n",
    "        return True\n",
    "\n",
    "import datetime\n",
    "my_date = datetime.date(2016, 7, 10)        # this is a Sunday\n",
    "print(Employee.is_workday(my_date))     # False"
   ]
  },
  {
   "cell_type": "code",
   "execution_count": 48,
   "metadata": {},
   "outputs": [
    {
     "data": {
      "text/plain": [
       "-2"
      ]
     },
     "execution_count": 48,
     "metadata": {},
     "output_type": "execute_result"
    }
   ],
   "source": [
    "# --------- Validate attributes ---------\n",
    "# method 1: validation occurs in __init__\n",
    "# see above examples\n",
    "\n",
    "# method 2: validation function outside __init__\n",
    "# Pros: can reuse checker function\n",
    "# Cons: __init__ not clean \n",
    "# Cons: attribute can still be assigned to invalid value after the initialization without raising exception.\n",
    "class Foo1:\n",
    "    def __init__(self, x):\n",
    "        self.__x = self._positive_checker(x)\n",
    "\n",
    "    def _positive_checker(self, x):       #_positive_checker is a private fxn\n",
    "        if x < 0:\n",
    "            raise ValueError('x must be positive')\n",
    "        else:\n",
    "            return x\n",
    "\n",
    "    @property\n",
    "    def x(self):\n",
    "        return self.__x\n",
    "\n",
    "# num = Foo1(-2)    # ValueError: x must be positive\n",
    "num = Foo1(5)\n",
    "# num.x = 3         # AttributeError: can't set attribute 'x'\n",
    "                         # x is private attribute, without setter method, i.e. cannot alter after init\n",
    "num._Foo1__x = -2        # however, private attribute can be accessed if you know Python name mangling\n",
    "num.x               # -2\n"
   ]
  },
  {
   "cell_type": "code",
   "execution_count": null,
   "metadata": {},
   "outputs": [],
   "source": [
    "# --------- Polymorphism ---------\n",
    "import math\n",
    "class Shape:\n",
    "    def __init__(self, name):\n",
    "        self.name = name\n",
    "    def area(self):\n",
    "        pass\n",
    "    def __str__(self):\n",
    "        return self.name\n",
    "\n",
    "class Square(Shape):\n",
    "    def __init__(self, length):\n",
    "        super().__init__(\"Square\")\n",
    "        self.length = length\n",
    "    def area(self):\n",
    "        return self.length**2\n",
    "\n",
    "class Circle(Shape):\n",
    "    def __init__(self, radius):\n",
    "        super().__init__(\"Circle\")\n",
    "        self.radius = radius\n",
    "    def area(self):\n",
    "        return math.pi * self.radius**2 \n",
    "\n",
    "a = Square(4)\n",
    "b = Circle(7)\n",
    "for shape in (a, b):\n",
    "    print(f'Area of {shape} is {shape.area():.2f}')\n",
    "# Area of Square is 16.00\n",
    "# Area of Circle is 153.94"
   ]
  },
  {
   "cell_type": "code",
   "execution_count": 24,
   "metadata": {},
   "outputs": [
    {
     "name": "stdout",
     "output_type": "stream",
     "text": [
      "6\n",
      "I love Python\n",
      "[1, 2, 3, 4, 5, 6]\n",
      "I'm a string: Hello\n",
      "I'm a number: 5\n",
      "I'm a number: 2.5\n",
      "today\n",
      "26-5-2021\n",
      "19:22:15\n"
     ]
    }
   ],
   "source": [
    "# --------- Method overloading Singledispatch ---------\n",
    "# https://martinheinz.dev/blog/50\n",
    "# supported in Python standard library\n",
    "# Singledispatch can only overload on the first argument\n",
    "\n",
    "\n",
    "# Example 1: for methods in a class\n",
    "from functools import singledispatchmethod, singledispatch\n",
    "class Foo:\n",
    "    @singledispatchmethod   # this is for method in a class, otherwise use @singledispatch\n",
    "    def add(self, *args):\n",
    "        res = 0\n",
    "        for x in args:\n",
    "            res += x\n",
    "        print(res)\n",
    "    @add.register(str)\n",
    "    def _(self, *args):\n",
    "        string = ' '.join(args)\n",
    "        print(string)\n",
    "    @add.register(list)\n",
    "    def _(self, *args):\n",
    "        myList = []\n",
    "        for x in args:\n",
    "            myList += x\n",
    "        print(myList)\n",
    "\n",
    "obj = Foo()\n",
    "obj.add(1, 2, 3)        # 6\n",
    "obj.add('I', 'love', 'Python')      # I love Python\n",
    "obj.add([1, 2], [3, 4], [5, 6])     # [1, 2, 3, 4, 5, 6]\n",
    "\n",
    "# Example 2: you can stack singledispatch\n",
    "class Bar:\n",
    "    @singledispatchmethod\n",
    "    def output(self, arg):\n",
    "        print(f\"I'm a string: {arg}\")\n",
    " \n",
    "    @output.register(int)\n",
    "    @output.register(float)\n",
    "    def _(self, arg):\n",
    "        print(f\"I'm a number: {arg}\")\n",
    "\n",
    "bar = Bar()\n",
    "bar.output('Hello')         # I'm a string: Hello\n",
    "bar.output(5)               # I'm a number: 5\n",
    "bar.output(2.5)             # I'm a number: 2.5\n",
    "\n",
    "# Example 3: for independent methods\n",
    "from datetime import date, time\n",
    "\n",
    "@singledispatch\n",
    "def format(arg):\n",
    "    print(arg)\n",
    "\n",
    "@format.register            # syntax version 1\n",
    "def _(arg: date):\n",
    "    print(f\"{arg.day}-{arg.month}-{arg.year}\")\n",
    "\n",
    "@format.register(time)      # syntax version 2\n",
    "def _(arg):\n",
    "    print(f\"{arg.hour}:{arg.minute}:{arg.second}\")\n",
    "\n",
    "format(\"today\")                  # today\n",
    "format(date(2021, 5, 26))        # 26-5-2021\n",
    "format(time(19, 22, 15))         # 19:22:15"
   ]
  },
  {
   "cell_type": "code",
   "execution_count": 33,
   "metadata": {},
   "outputs": [
    {
     "name": "stdout",
     "output_type": "stream",
     "text": [
      "['a', 'b', 'c']\n",
      "HelloWorld\n",
      "a1\n",
      "['a', 'b', 'c']\n",
      "['a', 'b', 1]\n"
     ]
    }
   ],
   "source": [
    "# --------- Method overloading Multipledispatch ---------\n",
    "# https://martinheinz.dev/blog/50\n",
    "# not supported by standard library, must pip install multipledispatch\n",
    "from multipledispatch import dispatch \n",
    "# example 1: proof of concept\n",
    "class Foo:\n",
    "    @dispatch(list, str)     # not dispatchmethod here\n",
    "    def concatenate(a, b):\n",
    "        a.append(b)\n",
    "        return a\n",
    "\n",
    "    @dispatch(str, str)\n",
    "    def concatenate(a, b):   # have to use the same function name, not _\n",
    "        return a + b\n",
    "\n",
    "    @dispatch(str, int)\n",
    "    def concatenate(a, b):\n",
    "        return a + str(b)\n",
    "\n",
    "foo = Foo()\n",
    "print(foo.concatenate([\"a\", \"b\"], \"c\"))     # ['a', 'b', 'c']\n",
    "print(foo.concatenate(\"Hello\", \"World\"))    # HelloWorld\n",
    "print(foo.concatenate(\"a\", 1))              # a1\n",
    "\n",
    "# example 2: union types - much more generic\n",
    "@dispatch((list, tuple), (str, int))\n",
    "def concatenate(a, b):\n",
    "    return list(a) + [b]\n",
    "\n",
    "print(concatenate([\"a\", \"b\"], \"c\"))     # ['a', 'b', 'c']\n",
    "print(concatenate((\"a\", \"b\"), 1))       # ['a', 'b', 1]\n",
    "\n",
    "# example 3: abstract types (like in Java) - even more generic\n",
    "from collections.abc import Sequence\n",
    "# Sequence is an abstract type, which means it is a type that is not meant to be instantiated, but rather inherited from.\n",
    "# covers things like list, tuple, range, etc. but not dict\n",
    "@dispatch(Sequence, (str, int))\n",
    "def concatenate(a, b):\n",
    "    return list(a) + [b]"
   ]
  },
  {
   "cell_type": "code",
   "execution_count": 1,
   "metadata": {},
   "outputs": [
    {
     "data": {
      "text/plain": [
       "(5 - 1i)"
      ]
     },
     "execution_count": 1,
     "metadata": {},
     "output_type": "execute_result"
    }
   ],
   "source": [
    "# --------- Operator overloading ---------\n",
    "# Overload + and += operators\n",
    "class Complex_number:\n",
    "    def __init__(self, real, imaginary):\n",
    "        self.real = real\n",
    "        self.imaginary = imaginary\n",
    "\n",
    "    def __add__(self, right):       # binary operators must provide 2 parameters\n",
    "        return Complex_number(self.real + right.real, \n",
    "                       self.imaginary + right.imaginary)\n",
    "\n",
    "    def __iadd__(self, right):\n",
    "        \"\"\"Overrides the += operator.\"\"\"\n",
    "        self.real += right.real\n",
    "        self.imaginary += right.imaginary\n",
    "        return self\n",
    "\n",
    "    def __repr__(self):\n",
    "        return (f'({self.real}' + \n",
    "                (' + ' if self.imaginary >= 0 else ' - ') +\n",
    "                f'{abs(self.imaginary)}i)')\n",
    "\n",
    "x = Complex_number(real = 2, imaginary = 4)\n",
    "x       # (2 + 4i)\n",
    "y = Complex_number(real = 5, imaginary = -1)\n",
    "y       # (5 - 1i)\n",
    "x + y   # (7 + 3i)\n",
    "x += y\n",
    "x       # (7 + 3i)\n",
    "y       # (5 - 1i)"
   ]
  }
 ],
 "metadata": {
  "kernelspec": {
   "display_name": "Python 3.10.7 64-bit",
   "language": "python",
   "name": "python3"
  },
  "language_info": {
   "codemirror_mode": {
    "name": "ipython",
    "version": 3
   },
   "file_extension": ".py",
   "mimetype": "text/x-python",
   "name": "python",
   "nbconvert_exporter": "python",
   "pygments_lexer": "ipython3",
   "version": "3.10.7"
  },
  "orig_nbformat": 4,
  "vscode": {
   "interpreter": {
    "hash": "b5f0bfb910b5f89afee0c4e65874b118d019a6f05b0e3b9906c17a1424dc1b44"
   }
  }
 },
 "nbformat": 4,
 "nbformat_minor": 2
}

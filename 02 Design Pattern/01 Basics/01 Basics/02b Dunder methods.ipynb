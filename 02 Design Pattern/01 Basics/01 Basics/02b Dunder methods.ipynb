{
 "cells": [
  {
   "cell_type": "code",
   "execution_count": 6,
   "metadata": {},
   "outputs": [
    {
     "name": "stdout",
     "output_type": "stream",
     "text": [
      "['__add__', '__class__', '__class_getitem__', '__contains__', '__delattr__', '__delitem__', '__dir__', '__doc__', '__eq__', '__format__', '__ge__', '__getattribute__', '__getitem__', '__gt__', '__hash__', '__iadd__', '__imul__', '__init__', '__init_subclass__', '__iter__', '__le__', '__len__', '__lt__', '__mul__', '__ne__', '__new__', '__reduce__', '__reduce_ex__', '__repr__', '__reversed__', '__rmul__', '__setattr__', '__setitem__', '__sizeof__', '__str__', '__subclasshook__', 'append', 'clear', 'copy', 'count', 'extend', 'index', 'insert', 'pop', 'remove', 'reverse', 'sort']\n",
      "['__class__', '__delattr__', '__dir__', '__doc__', '__eq__', '__format__', '__ge__', '__getattribute__', '__gt__', '__hash__', '__init__', '__init_subclass__', '__iter__', '__le__', '__length_hint__', '__lt__', '__ne__', '__new__', '__next__', '__reduce__', '__reduce_ex__', '__repr__', '__setattr__', '__setstate__', '__sizeof__', '__str__', '__subclasshook__']\n",
      "1\n",
      "2\n",
      "0 1 2 3 4 "
     ]
    }
   ],
   "source": [
    "# --------- __iter__, Iterators, Iterables ---------\n",
    "# https://www.youtube.com/watch?v=jTYiNjvnHZY&t=16s \n",
    "# Iterator: An object that can be iterated upon. An object which returns data, one element at a time when next() is called.\n",
    "        # an object with a state, so it rememebers where it is during iteration\n",
    "# Iterable: an object that can return an iterator object from its __iter__ method\n",
    "nums = [1, 2, 3]    # list is iterable, but it's not an iterator\n",
    "print(dir(nums))    # __iter__ is present in List class, but not __next__\n",
    "# print(next(nums)) # TypeError: 'list' object is not an iterator\n",
    "\n",
    "i_nums = nums.__iter__()    # i_nums is an iterator\n",
    "# alternative syntax\n",
    "i_nums = iter(nums)         # iter() is a built-in function that calls __iter__() method\n",
    "print(dir(i_nums))          # __next__, __iter__, are present in ListIterator class\n",
    "\n",
    "print(next(i_nums))        # 1\n",
    "print(next(i_nums))        # 2\n",
    "\n",
    "# Example 1: make class iterable\n",
    "class MyRange:\n",
    "    def __init__(self, start, end):\n",
    "        self.value = start\n",
    "        self.end = end\n",
    "\n",
    "    def __iter__(self):    # make class iterable\n",
    "        return self        # has to return an object that has a __next__ method\n",
    "\n",
    "    def __next__(self):\n",
    "        if self.value >= self.end:\n",
    "            raise StopIteration\n",
    "        current = self.value\n",
    "        self.value += 1\n",
    "        return current\n",
    "\n",
    "# Example 2: make class iterable\n",
    "class Sentence:\n",
    "    def __init__(self, sentence):\n",
    "        self.sentence = sentence\n",
    "        self.index = 0\n",
    "        self.words = self.sentence.split()\n",
    "    def __iter__(self):\n",
    "        return self\n",
    "    def __next__(self):\n",
    "        if self.index >= len(self.words):\n",
    "            raise StopIteration\n",
    "        word = self.words[self.index]\n",
    "        self.index += 1\n",
    "        return word\n",
    "\n",
    "my_sentence = Sentence('This is a test')\n",
    "print([i for i in my_sentence])    # ['This', 'is', 'a', 'test']\n",
    "    \n",
    "# Example 3: make a generator class\n",
    "from typing import Iterator\n",
    "\n",
    "class Range:\n",
    "    def __init__(self, stop: int):\n",
    "        self.start = 0\n",
    "        self.stop = stop\n",
    "    def __iter__(self) -> Iterator[int]:\n",
    "        curr = self.start\n",
    "        while curr < self.stop:\n",
    "            yield curr  # yield is a keyword that returns a value and remembers the state of the function\n",
    "            curr += 1\n",
    "\n",
    "for i in Range(5): \n",
    "    print(i, end=\" \")    #0 1 2 3 4"
   ]
  },
  {
   "cell_type": "code",
   "execution_count": 10,
   "metadata": {},
   "outputs": [
    {
     "name": "stdout",
     "output_type": "stream",
     "text": [
      "['This', 'is', 'a', 'test']\n"
     ]
    }
   ],
   "source": [
    "class Sentence:\n",
    "    def __init__(self, sentence):\n",
    "        self.sentence = sentence\n",
    "        self.index = 0\n",
    "        self.words = self.sentence.split()\n",
    "    def __iter__(self):\n",
    "        return self\n",
    "    def __next__(self):\n",
    "        if self.index >= len(self.words):\n",
    "            raise StopIteration\n",
    "        word = self.words[self.index]\n",
    "        self.index += 1\n",
    "        return word\n",
    "    \n",
    "\n",
    "my_sentence = Sentence('This is a test')\n",
    "print([i for i in my_sentence])    # ['This', 'is', 'a', 'test']"
   ]
  }
 ],
 "metadata": {
  "kernelspec": {
   "display_name": "Python 3.10.7 64-bit",
   "language": "python",
   "name": "python3"
  },
  "language_info": {
   "codemirror_mode": {
    "name": "ipython",
    "version": 3
   },
   "file_extension": ".py",
   "mimetype": "text/x-python",
   "name": "python",
   "nbconvert_exporter": "python",
   "pygments_lexer": "ipython3",
   "version": "3.10.7"
  },
  "orig_nbformat": 4,
  "vscode": {
   "interpreter": {
    "hash": "b5f0bfb910b5f89afee0c4e65874b118d019a6f05b0e3b9906c17a1424dc1b44"
   }
  }
 },
 "nbformat": 4,
 "nbformat_minor": 2
}

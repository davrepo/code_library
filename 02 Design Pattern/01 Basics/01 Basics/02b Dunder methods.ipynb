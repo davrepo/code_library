{
 "cells": [
  {
   "cell_type": "code",
   "execution_count": 6,
   "metadata": {},
   "outputs": [
    {
     "name": "stdout",
     "output_type": "stream",
     "text": [
      "['__add__', '__class__', '__class_getitem__', '__contains__', '__delattr__', '__delitem__', '__dir__', '__doc__', '__eq__', '__format__', '__ge__', '__getattribute__', '__getitem__', '__gt__', '__hash__', '__iadd__', '__imul__', '__init__', '__init_subclass__', '__iter__', '__le__', '__len__', '__lt__', '__mul__', '__ne__', '__new__', '__reduce__', '__reduce_ex__', '__repr__', '__reversed__', '__rmul__', '__setattr__', '__setitem__', '__sizeof__', '__str__', '__subclasshook__', 'append', 'clear', 'copy', 'count', 'extend', 'index', 'insert', 'pop', 'remove', 'reverse', 'sort']\n",
      "['__class__', '__delattr__', '__dir__', '__doc__', '__eq__', '__format__', '__ge__', '__getattribute__', '__gt__', '__hash__', '__init__', '__init_subclass__', '__iter__', '__le__', '__length_hint__', '__lt__', '__ne__', '__new__', '__next__', '__reduce__', '__reduce_ex__', '__repr__', '__setattr__', '__setstate__', '__sizeof__', '__str__', '__subclasshook__']\n",
      "1\n",
      "2\n",
      "0 1 2 3 4 "
     ]
    }
   ],
   "source": [
    "# --------- __iter__, Iterators, Iterables ---------\n",
    "# https://www.youtube.com/watch?v=jTYiNjvnHZY&t=16s - Corey Schafer\n",
    "# Iterable: an object that can return an iterator object from its __iter__ method\n",
    "    # has __iter__ method\n",
    "# Iterator: An object that can be iterated upon. An object which returns data, one element at a time when next() is called.\n",
    "    # has __next___ method\n",
    "    # an object with a state, so it rememebers where it is during iteration\n",
    "nums = [1, 2, 3]    # list is iterable, but it's not an iterator\n",
    "print(dir(nums))    # __iter__ is present in List class, but not __next__\n",
    "# print(next(nums)) # TypeError: 'list' object is not an iterator\n",
    "\n",
    "i_nums = nums.__iter__()    # i_nums is an iterator\n",
    "# alternative syntax\n",
    "i_nums = iter(nums)         # iter() is a built-in function that calls __iter__() method\n",
    "print(dir(i_nums))          # __next__, __iter__, are present in ListIterator class\n",
    "\n",
    "print(next(i_nums))        # 1\n",
    "print(next(i_nums))        # 2\n",
    "\n",
    "# Example 1: make class iterable\n",
    "class MyRange:\n",
    "    def __init__(self, start, end):\n",
    "        self.value = start\n",
    "        self.end = end\n",
    "\n",
    "    def __iter__(self):    # make class iterable\n",
    "        return self        # has to return an object that has a __next__ method\n",
    "\n",
    "    def __next__(self):\n",
    "        if self.value >= self.end:\n",
    "            raise StopIteration\n",
    "        current = self.value\n",
    "        self.value += 1\n",
    "        return current\n",
    "\n",
    "# Example 2: make class iterable\n",
    "class Sentence:\n",
    "    def __init__(self, sentence):\n",
    "        self.sentence = sentence\n",
    "        self.index = 0\n",
    "        self.words = self.sentence.split()\n",
    "    def __iter__(self):\n",
    "        return self\n",
    "    def __next__(self):\n",
    "        if self.index >= len(self.words):\n",
    "            raise StopIteration\n",
    "        word = self.words[self.index]\n",
    "        self.index += 1\n",
    "        return word\n",
    "\n",
    "my_sentence = Sentence('This is a test')\n",
    "print([i for i in my_sentence])    # ['This', 'is', 'a', 'test']\n",
    "    \n",
    "# Example 3: make a generator class\n",
    "from typing import Iterator\n",
    "\n",
    "class Range:\n",
    "    def __init__(self, stop: int):\n",
    "        self.start = 0\n",
    "        self.stop = stop\n",
    "    def __iter__(self) -> Iterator[int]:\n",
    "        curr = self.start\n",
    "        while curr < self.stop:\n",
    "            yield curr  # yield is a keyword that returns a value and remembers the state of the function\n",
    "            curr += 1\n",
    "\n",
    "for i in Range(5): \n",
    "    print(i, end=\" \")    #0 1 2 3 4"
   ]
  },
  {
   "cell_type": "code",
   "execution_count": 10,
   "metadata": {},
   "outputs": [
    {
     "name": "stdout",
     "output_type": "stream",
     "text": [
      "['This', 'is', 'a', 'test']\n"
     ]
    }
   ],
   "source": [
    "# --------- __slots__, __dict__ ---------\n",
    "# https://www.youtube.com/watch?v=Iwf17zsDAnY - mCoding\n",
    "# slotted class is a class that has a fixed set of attributes, more memory efficient than a dict class\n",
    "    # about 5 times less memory than a dict class depending on the number of attributes\n",
    "# namedtuple is a slotted class by default"
   ]
  },
  {
   "cell_type": "code",
   "execution_count": 8,
   "metadata": {},
   "outputs": [
    {
     "name": "stdout",
     "output_type": "stream",
     "text": [
      "Python\n"
     ]
    }
   ],
   "source": [
    "# --------- __getattr__, __getattribute__ ---------\n",
    "# http://www.sefidian.com/2021/06/06/python-__getattr__-and-__getattribute__-magic-methods/\n",
    "    # for __getattr__, __getattribute__, getattr()\n",
    "# object.__getattr__(self, name) is an object method that is called if the object's properties are not found. \n",
    "# This method should return the property value or throw AttributeError. \n",
    "# Note that if the object property can be found through the normal mechanism, it will not be called\n",
    "\n",
    "class Dummy():\n",
    "    pass\n",
    "\n",
    "d = Dummy()\n",
    "# d.does_not_exist  # AttributeError: 'Dummy' object has no attribute 'does_not_exist'\n",
    "\n",
    "# __getattr__ magic method, we can intercept that inexistent attribute lookup and do sth so it doesn’t fail\n",
    "class Dummy_attr():\n",
    "    def __getattr__(self, attr):\n",
    "        return attr.upper()     # return the attribute name in uppercase if it doesn't exist, instead of throwing an error\n",
    "\n",
    "d = Dummy_attr()\n",
    "d.does_not_exist    # 'DOES_NOT_EXIST'\n",
    "# if the attribute does exist, __getattr__ won’t be invoked\n",
    "d.value = 'Python'\n",
    "print(d.value)      # 'Python'"
   ]
  },
  {
   "cell_type": "code",
   "execution_count": 10,
   "metadata": {},
   "outputs": [
    {
     "name": "stdout",
     "output_type": "stream",
     "text": [
      "dict_items([('a', 2), ('b', 3)])\n",
      "dict_items([('__module__', '__main__'), ('class_var', 1), ('__init__', <function A.__init__ at 0x00000197277BE320>), ('__dict__', <attribute '__dict__' of 'A' objects>), ('__weakref__', <attribute '__weakref__' of 'A' objects>), ('__doc__', None)])\n"
     ]
    }
   ],
   "source": [
    "# --------- __dict__ ---------\n",
    "class A:\n",
    "    class_var = 1\n",
    "    def __init__(self) -> None:\n",
    "        self.a = 2\n",
    "        self.b = 3\n",
    "\n",
    "a = A()\n",
    "print(a.__dict__.items())       # dict_items([('a', 2), ('b', 3)])\n",
    "print(A.__dict__.items())\n",
    "# dict_items([('__module__', '__main__'), ('class_var', 1), \n",
    "# ('__init__', <function A.__init__ at 0x00000197277BE320>), \n",
    "# ('__dict__', <attribute '__dict__' of 'A' objects>), \n",
    "# ('__weakref__', <attribute '__weakref__' of 'A' objects>), ('__doc__', None)])"
   ]
  }
 ],
 "metadata": {
  "kernelspec": {
   "display_name": "Python 3.10.7 64-bit",
   "language": "python",
   "name": "python3"
  },
  "language_info": {
   "codemirror_mode": {
    "name": "ipython",
    "version": 3
   },
   "file_extension": ".py",
   "mimetype": "text/x-python",
   "name": "python",
   "nbconvert_exporter": "python",
   "pygments_lexer": "ipython3",
   "version": "3.10.7"
  },
  "orig_nbformat": 4,
  "vscode": {
   "interpreter": {
    "hash": "b5f0bfb910b5f89afee0c4e65874b118d019a6f05b0e3b9906c17a1424dc1b44"
   }
  }
 },
 "nbformat": 4,
 "nbformat_minor": 2
}

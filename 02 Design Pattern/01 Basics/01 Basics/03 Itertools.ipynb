{
 "cells": [
  {
   "cell_type": "code",
   "execution_count": null,
   "metadata": {},
   "outputs": [],
   "source": [
    "# https://www.youtube.com/watch?v=Qu3dThVy6KQ - Corey Schafer\n",
    "# https://www.youtube.com/watch?v=HGOBQPFzWKo&list=WL&index=8 - freeCodeCamp.org"
   ]
  },
  {
   "cell_type": "code",
   "execution_count": 6,
   "metadata": {},
   "outputs": [
    {
     "name": "stdout",
     "output_type": "stream",
     "text": [
      "0 1 2 "
     ]
    }
   ],
   "source": [
    "# ---------- count ----------\n",
    "import itertools\n",
    "counter = itertools.count()     # count from 0 to infinity, as a generator\n",
    "for num in range(3):\n",
    "    print(next(counter), end = ' ')\n",
    "# 0 1 2 \n"
   ]
  },
  {
   "cell_type": "code",
   "execution_count": 9,
   "metadata": {},
   "outputs": [
    {
     "name": "stdout",
     "output_type": "stream",
     "text": [
      "On Off On Off On "
     ]
    }
   ],
   "source": [
    "# ---------- cycle ----------\n",
    "import itertools\n",
    "counter = itertools.cycle(('On', 'Off'))     # cycle through the list over and over, as a generator\n",
    "for num in range(5):\n",
    "    print(next(counter), end = ' ')\n",
    "# On Off On Off On "
   ]
  },
  {
   "cell_type": "code",
   "execution_count": 12,
   "metadata": {},
   "outputs": [
    {
     "name": "stdout",
     "output_type": "stream",
     "text": [
      "[0, 1, 4, 9, 16, 25, 36, 49, 64, 81]\n"
     ]
    }
   ],
   "source": [
    "# ---------- repeat ----------\n",
    "import itertools\n",
    "# for passing in a stream of constant values to a function like map, zip\n",
    "# pow is power function\n",
    "squares = map(pow, range(10), itertools.repeat(2))     # repeat the second argument over and over, as a generator\n",
    "print(list(squares))    #[0, 1, 4, 9, 16, 25, 36, 49, 64, 81]\n",
    "\n",
    "# can achieve the same effect with starmap, for a list for tuples\n",
    "squares = itertools.starmap(pow, [(0,2), (1,2), (2,2), (3,2)])\n",
    "# [0, 1, 4, 9, 16, 25, 36, 49, 64, 81]"
   ]
  },
  {
   "cell_type": "code",
   "execution_count": 3,
   "metadata": {},
   "outputs": [
    {
     "name": "stdout",
     "output_type": "stream",
     "text": [
      "[(1, 2), (1, 3), (2, 3)]\n",
      "[(1, 2, 3), (1, 3, 2), (2, 1, 3), (2, 3, 1), (3, 1, 2), (3, 2, 1)]\n",
      "[(1, 3), (1, 4), (2, 3), (2, 4)]\n",
      "[(1, 3, 1, 3), (1, 3, 2, 3), (2, 3, 1, 3), (2, 3, 2, 3)]\n",
      "[(1, 3, 6), (1, 4, 5), (2, 3, 5)]\n",
      "Match!\n"
     ]
    }
   ],
   "source": [
    "# ---------- Combination / Permutation / Product ----------\n",
    "# https://www.youtube.com/watch?v=QI9EczPQzPQ&list=PL-osiE80TeTsnP0Nl1UDY8VZAlHu1m_MQ&index=5 - Corey Schafer\n",
    "# for documentation, https://www.youtube.com/watch?v=jUM_Dpt6yu0&list=WL&index=4 - mCoding\n",
    "import itertools\n",
    "my_list = [1, 2, 3] \n",
    "print(list(itertools.combinations(my_list,2)))       # 3 choose 2 = 3\n",
    "# [(1, 2), (1, 3), (2, 3)]\n",
    "print(list(itertools.permutations(my_list, 3)))     # 3! = 6\n",
    "# [(1, 2, 3), (1, 3, 2), (2, 1, 3), (2, 3, 1), (3, 1, 2), (3, 2, 1)]\n",
    "\n",
    "a = [1, 2]\n",
    "b = [3, 4]\n",
    "c = [3]\n",
    "prod = itertools.product(a, b)      # Cartesian product\n",
    "print(list(prod))   # [(1, 3), (1, 4), (2, 3), (2, 4)]\n",
    "prod1 = itertools.product(a, c, repeat=2)      # Cartesian product\n",
    "print(list(prod1))  # [(1, 3, 1, 3), (1, 3, 2, 3), (2, 3, 1, 3), (2, 3, 2, 3)]\n",
    "\n",
    "# Use case 1:\n",
    "my_list = [1, 2, 3, 4, 5, 6]\n",
    "print([result for result in itertools.combinations(my_list, 3) if sum(result) == 10])\n",
    "# [(1, 3, 6), (1, 4, 5), (2, 3, 5)]\n",
    "\n",
    "# Use case 2:\n",
    "word = 'sample'\n",
    "my_letters = 'plmeas'\n",
    "    # for-else loop\n",
    "for p in itertools.permutations(my_letters, len(word)):\n",
    "    if ''.join(p) == word:\n",
    "        print('Match!')\n",
    "        break\n",
    "else:\n",
    "    print('No match!')\n",
    "# Match!"
   ]
  },
  {
   "cell_type": "code",
   "execution_count": 14,
   "metadata": {},
   "outputs": [
    {
     "name": "stdout",
     "output_type": "stream",
     "text": [
      "a b c d 0 1 2 3 Corey Nicole "
     ]
    }
   ],
   "source": [
    "# ---------- Chain ----------\n",
    "import itertools\n",
    "letters = ['a', 'b', 'c', 'd']\n",
    "numbers = [0, 1, 2, 3]\n",
    "names = ['Corey', 'Nicole']\n",
    "# this is bad code b/c it creates a new list in memory\n",
    "    # combined = letters + numbers + names\n",
    "# chain combines multiple iterables into one long iterable\n",
    "combined = itertools.chain(letters, numbers, names)\n",
    "for i in combined:\n",
    "    print(i, end = ' ')\n",
    "# a b c d 0 1 2 3 Corey Nicole "
   ]
  },
  {
   "cell_type": "code",
   "execution_count": 49,
   "metadata": {},
   "outputs": [
    {
     "name": "stdout",
     "output_type": "stream",
     "text": [
      "INFO:root:Ran with args: ('John', 25), and kwargs: {}\n",
      "INFO:root:Ran with args: ('John', 25), and kwargs: {}\n",
      "INFO:root:Ran with args: ('John', 25), and kwargs: {}\n"
     ]
    }
   ],
   "source": [
    "# ---------- islice ----------\n",
    "# islice is a lazy version of slice\n",
    "import itertools\n",
    "result = itertools.islice(range(10), 1, 5, 2)     # start, stop, step\n",
    "with open('display_info.log', 'r') as f:\n",
    "    header = itertools.islice(f, 3)     # get the first 3 lines, dont need to read the whole file\n",
    "    for line in header:\n",
    "        print(line.rstrip())"
   ]
  },
  {
   "cell_type": "code",
   "execution_count": 19,
   "metadata": {},
   "outputs": [
    {
     "name": "stdout",
     "output_type": "stream",
     "text": [
      "['a', 'b', 'd']\n",
      "[2, 3]\n"
     ]
    }
   ],
   "source": [
    "# ---------- compress / filterfallse ----------\n",
    "# compress takes an iterable and applies a mask to it\n",
    "# returns only the items where the corresponding mask element is True\n",
    "# filter requires a function, compress does not\n",
    "import itertools\n",
    "letters = ['a', 'b', 'c', 'd']\n",
    "selectors = [True, True, False, True]\n",
    "numbers = [0, 1, 2, 3]\n",
    "result = itertools.compress(letters, selectors)\n",
    "print(list(result))     # ['a', 'b', 'd']\n",
    "opposite = itertools.filterfalse(lambda x: x<2, numbers)\n",
    "print(list(opposite))   # [2, 3]"
   ]
  },
  {
   "cell_type": "code",
   "execution_count": 21,
   "metadata": {},
   "outputs": [
    {
     "name": "stdout",
     "output_type": "stream",
     "text": [
      "[2, 3, 2, 1, 0]\n",
      "[0, 1]\n"
     ]
    }
   ],
   "source": [
    "# ---------- dropwhile / takewhile ----------\n",
    "# dropwhile and takewhile return values from an iterable while a certain condition is met\n",
    "# dropwhile returns values after the condition is no longer met\n",
    "# takewhile returns values until the condition is no longer met\n",
    "import itertools\n",
    "numbers = [0, 1, 2, 3, 2, 1, 0]\n",
    "result = itertools.dropwhile(lambda x: x<2, numbers)\n",
    "print(list(result))     # [2, 3, 2, 1, 0]\n",
    "result1 = itertools.takewhile(lambda x: x<2, numbers)\n",
    "print(list(result1))    # [0, 1]"
   ]
  },
  {
   "cell_type": "code",
   "execution_count": 47,
   "metadata": {},
   "outputs": [
    {
     "name": "stdout",
     "output_type": "stream",
     "text": [
      "[1, 3, 6, 10]\n",
      "[1, 2, 6, 24]\n",
      "[1, 2, 5, 5, 5]\n"
     ]
    }
   ],
   "source": [
    "# ---------- accumulate ----------\n",
    "# accumulate returns a running total of values in an iterable (accumulated sum)\n",
    "import itertools\n",
    "import operator\n",
    "numbers = [1, 2, 3, 4]\n",
    "print(list(itertools.accumulate(numbers)))\n",
    "# [1, 3, 6, 10] \n",
    "print(list(itertools.accumulate(numbers, operator.mul)))   # accumulated multiply\n",
    "# [1, 2, 6, 24]\n",
    "numbers1 = [1, 2, 5, 3, 4]\n",
    "print(list(itertools.accumulate(numbers1, func=max)))      # max of the current value and the previous value\n",
    "# [1, 2, 5, 5, 5]   "
   ]
  },
  {
   "cell_type": "code",
   "execution_count": 64,
   "metadata": {},
   "outputs": [
    {
     "name": "stdout",
     "output_type": "stream",
     "text": [
      "CA\n",
      "{'name': 'David', 'state': 'CA'}\n",
      "{'name': 'John', 'state': 'CA'}\n",
      "NY\n",
      "{'name': 'Corey', 'state': 'NY'}\n",
      "{'name': 'Nicole', 'state': 'NY'}\n",
      "{'name': 'Jane', 'state': 'NY'}\n",
      "CA 2\n",
      "NY 3\n",
      "True [1, 2]\n",
      "False [3, 4]\n",
      "[{'name': 'Corey', 'state': 'NY'}, {'name': 'Nicole', 'state': 'NY'}, {'name': 'David', 'state': 'CA'}, {'name': 'John', 'state': 'CA'}, {'name': 'Jane', 'state': 'NY'}]\n"
     ]
    }
   ],
   "source": [
    "# ---------- groupby / tee----------\n",
    "# groupby groups consecutive(!) elements in an iterable by some key\n",
    "# hence the need for initial iterable to be sorted\n",
    "import itertools\n",
    "people = [\n",
    "    {'name': 'Corey', 'state': 'NY'},\n",
    "    {'name': 'Nicole', 'state': 'NY'},\n",
    "    {'name': 'David', 'state': 'CA'},\n",
    "    {'name': 'John', 'state': 'CA'},\n",
    "    {'name': 'Jane', 'state': 'NY'},\n",
    "]\n",
    "\n",
    "def get_state(person):\n",
    "    return person['state']\n",
    "\n",
    "sorted_people = sorted(people, key = lambda x: x['state'])  # list needs to be sorted\n",
    "\n",
    "# person_group = itertools.groupby(people, get_state)\n",
    "# for key, group in person_group:\n",
    "#     print(key)\n",
    "#     for person in group:\n",
    "#         print(person)\n",
    "\n",
    "person_group = itertools.groupby(sorted_people, lambda x: x['state'])\n",
    "for key, group in person_group:\n",
    "    print(key)\n",
    "    for person in group:\n",
    "        print(person)\n",
    "# CA\n",
    "# {'name': 'David', 'state': 'CA'}\n",
    "# {'name': 'John', 'state': 'CA'}\n",
    "# NY\n",
    "# {'name': 'Corey', 'state': 'NY'}\n",
    "# {'name': 'Nicole', 'state': 'NY'}\n",
    "# {'name': 'Jane', 'state': 'NY'}\n",
    "\n",
    "for key, group in itertools.groupby(sorted_people, lambda x: x['state']):\n",
    "    print(key, len(list(group)))\n",
    "# CA 2\n",
    "# NY 3\n",
    "\n",
    "a = [1, 2, 3, 4]\n",
    "group_obj = itertools.groupby(a, lambda x: x<3)\n",
    "for key, value in group_obj:\n",
    "    print(key, list(value))\n",
    "# True [1, 2]\n",
    "# False [3, 4]\n",
    "\n",
    "# Copying an iterable\n",
    "# tee returns n independent iterators from a single iterable\n",
    "copy1, copy2 = itertools.tee(people)\n",
    "# should no longer use people after this, use copy1 and copy2, because people is now exhausted"
   ]
  },
  {
   "cell_type": "code",
   "execution_count": null,
   "metadata": {},
   "outputs": [],
   "source": []
  }
 ],
 "metadata": {
  "kernelspec": {
   "display_name": "Python 3.10.7 64-bit",
   "language": "python",
   "name": "python3"
  },
  "language_info": {
   "codemirror_mode": {
    "name": "ipython",
    "version": 3
   },
   "file_extension": ".py",
   "mimetype": "text/x-python",
   "name": "python",
   "nbconvert_exporter": "python",
   "pygments_lexer": "ipython3",
   "version": "3.10.7"
  },
  "orig_nbformat": 4,
  "vscode": {
   "interpreter": {
    "hash": "b5f0bfb910b5f89afee0c4e65874b118d019a6f05b0e3b9906c17a1424dc1b44"
   }
  }
 },
 "nbformat": 4,
 "nbformat_minor": 2
}

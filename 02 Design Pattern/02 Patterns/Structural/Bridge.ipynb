{
 "cells": [
  {
   "cell_type": "code",
   "execution_count": null,
   "metadata": {},
   "outputs": [],
   "source": [
    "# Problem: You want to separate an abstraction from its implementation so that the two can vary independently.\n",
    "# Solution: The bridge uses encapsulation, aggregation, and can use inheritance to separate responsibilities \n",
    "# into different classes.\n",
    "# Separate the abstraction into two different class hierarchies: one for the abstraction and one for the implementation."
   ]
  },
  {
   "cell_type": "code",
   "execution_count": 2,
   "metadata": {},
   "outputs": [
    {
     "name": "stdout",
     "output_type": "stream",
     "text": [
      "API 1 drawing a circle at (1, 2 with radius 3!)\n",
      "API 2 drawing a circle at (2, 3 with radius 4!)\n"
     ]
    }
   ],
   "source": [
    "class DrawingAPIOne(object):\n",
    "    \"\"\"Implementation-specific abstraction: concrete class one\"\"\"\n",
    "    def draw_circle(self, x, y, radius):\n",
    "        print(f\"API 1 drawing a circle at ({x}, {y} with radius {radius}!)\")\n",
    "\n",
    "class DrawingAPITwo(object):\n",
    "    \"\"\"Implementation-specific abstraction: concrete class two\"\"\"\n",
    "    def draw_circle(self, x, y, radius):\n",
    "        print(f\"API 2 drawing a circle at ({x}, {y} with radius {radius}!)\")\n",
    " \n",
    "class Circle(object):\n",
    "    \"\"\"Implementation-independent abstraction: for example, there could be a rectangle class!\"\"\"\n",
    "    def __init__(self, x, y, radius, drawing_api):\n",
    "        \"\"\"Initialize the necessary attributes\"\"\"\n",
    "        self._x = x\n",
    "        self._y = y\n",
    "        self._radius = radius\n",
    "        self._drawing_api = drawing_api\n",
    "\n",
    "    def draw(self):\n",
    "        \"\"\"Implementation-specific abstraction taken care of by another class: DrawingAPI\"\"\"\n",
    "        self._drawing_api.draw_circle(self._x, self._y, self._radius)\n",
    "\n",
    "    def scale(self, percent):\n",
    "        \"\"\"Implementation-independent\"\"\"\n",
    "        self._radius *= percent\n",
    "\n",
    "# Build the first Circle object using API One\n",
    "circle1 = Circle(1, 2, 3, DrawingAPIOne())\n",
    "circle1.draw()  # API 1 drawing a circle at (1, 2 with radius 3!)\n",
    "# Build the second Circle object using API Two\n",
    "circle2 = Circle(2, 3, 4, DrawingAPITwo())\n",
    "circle2.draw()  # API 2 drawing a circle at (2, 3 with radius 4!)"
   ]
  }
 ],
 "metadata": {
  "kernelspec": {
   "display_name": "Python 3.10.7 64-bit",
   "language": "python",
   "name": "python3"
  },
  "language_info": {
   "codemirror_mode": {
    "name": "ipython",
    "version": 3
   },
   "file_extension": ".py",
   "mimetype": "text/x-python",
   "name": "python",
   "nbconvert_exporter": "python",
   "pygments_lexer": "ipython3",
   "version": "3.10.7"
  },
  "orig_nbformat": 4,
  "vscode": {
   "interpreter": {
    "hash": "b5f0bfb910b5f89afee0c4e65874b118d019a6f05b0e3b9906c17a1424dc1b44"
   }
  }
 },
 "nbformat": 4,
 "nbformat_minor": 2
}

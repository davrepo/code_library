{
 "cells": [
  {
   "cell_type": "code",
   "execution_count": null,
   "metadata": {},
   "outputs": [],
   "source": [
    "# Provide a uniform, simplified interface (wrapper class) for Client to interact with a combination of (complicated) subsystem.\n",
    "# Principle: Encapsulating subsystem classes into Façade class, hiding them from Client (Information hiding), \n",
    "# so Client does not know about the detail of the subsystem (Separation of concerns)"
   ]
  },
  {
   "cell_type": "code",
   "execution_count": 2,
   "metadata": {},
   "outputs": [
    {
     "name": "stdout",
     "output_type": "stream",
     "text": [
      "Facade: method1\n",
      "SubsystemA: method1\n",
      "SubsystemB: method1\n",
      "Facade: method2\n",
      "SubsystemA: method2\n",
      "SubsystemB: method2\n"
     ]
    }
   ],
   "source": [
    "class SubsystemA:\n",
    "    def method1(self):\n",
    "        print('SubsystemA: method1')\n",
    "    def method2(self):\n",
    "        print('SubsystemA: method2')\n",
    "\n",
    "class SubsystemB:\n",
    "    def method1(self):\n",
    "        print('SubsystemB: method1')\n",
    "    def method2(self):\n",
    "        print('SubsystemB: method2')\n",
    "\n",
    "class Facade:\n",
    "    def __init__(self):\n",
    "        self.subsystemA = SubsystemA()\n",
    "        self.subsystemB = SubsystemB()\n",
    "    def method1(self):\n",
    "        print('Facade: method1')\n",
    "        self.subsystemA.method1()\n",
    "        self.subsystemB.method1()\n",
    "    def method2(self):\n",
    "        print('Facade: method2')\n",
    "        self.subsystemA.method2()\n",
    "        self.subsystemB.method2()\n",
    "\n",
    "\n",
    "facade = Facade()\n",
    "facade.method1()\n",
    "facade.method2()"
   ]
  }
 ],
 "metadata": {
  "kernelspec": {
   "display_name": "Python 3.10.7 64-bit",
   "language": "python",
   "name": "python3"
  },
  "language_info": {
   "codemirror_mode": {
    "name": "ipython",
    "version": 3
   },
   "file_extension": ".py",
   "mimetype": "text/x-python",
   "name": "python",
   "nbconvert_exporter": "python",
   "pygments_lexer": "ipython3",
   "version": "3.10.7"
  },
  "orig_nbformat": 4,
  "vscode": {
   "interpreter": {
    "hash": "b5f0bfb910b5f89afee0c4e65874b118d019a6f05b0e3b9906c17a1424dc1b44"
   }
  }
 },
 "nbformat": 4,
 "nbformat_minor": 2
}

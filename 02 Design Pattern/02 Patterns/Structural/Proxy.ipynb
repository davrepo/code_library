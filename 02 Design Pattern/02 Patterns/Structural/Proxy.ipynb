{
 "cells": [
  {
   "cell_type": "code",
   "execution_count": null,
   "metadata": {},
   "outputs": [],
   "source": [
    "# Problem: postpone the creation of an object until it is needed\n",
    "# Solution: create a proxy object that will create the object when it is needed - lazy initialization (a placeholder)\n",
    "# Proxy is a structural design pattern that lets you provide a substitute or placeholder for another object. \n",
    "# A proxy controls access to the original object, allowing you to perform something \n",
    "# either before or after the request gets through to the original object."
   ]
  },
  {
   "cell_type": "code",
   "execution_count": 3,
   "metadata": {},
   "outputs": [
    {
     "name": "stdout",
     "output_type": "stream",
     "text": [
      "Artist checking if Producer is available ...\n",
      "Producer has time to meet you now!\n",
      "--------------------\n",
      "Artist checking if Producer is available ...\n",
      "Producer is busy!\n"
     ]
    }
   ],
   "source": [
    "import time\n",
    "\n",
    "class Producer:\n",
    "    \"\"\"Define the 'resource-intensive' object to instantiate!\"\"\"\n",
    "    def produce(self):\n",
    "        print(\"Producer is working hard!\")\n",
    "\n",
    "    def meet(self):\n",
    "        print(\"Producer has time to meet you now!\")\n",
    "\n",
    "class Proxy:\n",
    "    \"\"\"Define the 'relatively less resource-intensive' proxy to instantiate as a middleman\"\"\"\n",
    "    def __init__(self):\n",
    "        self.occupied = 'No'\n",
    "        self.producer = None\n",
    "\n",
    "    def produce(self):\n",
    "        \"\"\"Check if Producer is available\"\"\"\n",
    "        print(\"Artist checking if Producer is available ...\")\n",
    "\n",
    "        if self.occupied == 'No':\n",
    "            # If the producer is available, create a producer object!\n",
    "            self.producer = Producer()\n",
    "            time.sleep(2)\n",
    "\n",
    "            # Make the producer meet the guest!\n",
    "            self.producer.meet()\n",
    "\n",
    "        else:\n",
    "            # Otherwise, don't instantiate a producer\n",
    "            time.sleep(2)\n",
    "            print(\"Producer is busy!\")\n",
    "\n",
    "# Instantiate a Proxy\n",
    "p = Proxy()\n",
    "\n",
    "# Make the proxy: Artist produce until Producer is available\n",
    "p.produce()\n",
    "print(\"-\"*20)\n",
    "\n",
    "# Change the state to 'occupied'\n",
    "p.occupied = 'Yes'\n",
    "p.produce()\n"
   ]
  }
 ],
 "metadata": {
  "kernelspec": {
   "display_name": "Python 3.10.7 64-bit",
   "language": "python",
   "name": "python3"
  },
  "language_info": {
   "codemirror_mode": {
    "name": "ipython",
    "version": 3
   },
   "file_extension": ".py",
   "mimetype": "text/x-python",
   "name": "python",
   "nbconvert_exporter": "python",
   "pygments_lexer": "ipython3",
   "version": "3.10.7"
  },
  "orig_nbformat": 4,
  "vscode": {
   "interpreter": {
    "hash": "b5f0bfb910b5f89afee0c4e65874b118d019a6f05b0e3b9906c17a1424dc1b44"
   }
  }
 },
 "nbformat": 4,
 "nbformat_minor": 2
}

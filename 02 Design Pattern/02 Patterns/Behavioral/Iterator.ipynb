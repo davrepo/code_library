{
 "cells": [
  {
   "cell_type": "code",
   "execution_count": 2,
   "metadata": {},
   "outputs": [
    {
     "name": "stdout",
     "output_type": "stream",
     "text": [
      "eins zwei drei "
     ]
    }
   ],
   "source": [
    "# Related to Composite pattern\n",
    "# Custom iterator based on built-in Pythong iterator: zip()\n",
    "\n",
    "def count_to(count):\n",
    "    \"\"\"Our iterator implementation\"\"\"\n",
    "    numbers_in_german = [\"eins\", \"zwei\", \"drei\", \"vier\", \"funf\"]\n",
    "    # Our built-in iterator\n",
    "    # Creates a tuple such as (1, \"eins\")\n",
    "    iterator = zip(range(count), numbers_in_german)\n",
    "    for position, number in iterator:\n",
    "        # Returns a 'generator' containing numbers in German\n",
    "        yield number\n",
    "\n",
    "for num in count_to(3):\n",
    "    print(f\"{num}\", end=\" \")    # eins zwei drei "
   ]
  }
 ],
 "metadata": {
  "kernelspec": {
   "display_name": "Python 3.10.7 64-bit",
   "language": "python",
   "name": "python3"
  },
  "language_info": {
   "codemirror_mode": {
    "name": "ipython",
    "version": 3
   },
   "file_extension": ".py",
   "mimetype": "text/x-python",
   "name": "python",
   "nbconvert_exporter": "python",
   "pygments_lexer": "ipython3",
   "version": "3.10.7"
  },
  "orig_nbformat": 4,
  "vscode": {
   "interpreter": {
    "hash": "b5f0bfb910b5f89afee0c4e65874b118d019a6f05b0e3b9906c17a1424dc1b44"
   }
  }
 },
 "nbformat": 4,
 "nbformat_minor": 2
}

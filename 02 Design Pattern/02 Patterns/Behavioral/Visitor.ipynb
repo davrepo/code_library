{
 "cells": [
  {
   "cell_type": "code",
   "execution_count": null,
   "metadata": {},
   "outputs": [],
   "source": [
    "# Problem: You have a collection of objects that you want to perform an operation on.\n",
    "# The Visitor pattern is a way of separating an algorithm from an object structure on which it operates. \n",
    "# A practical result of this separation is the ability to add new operations to existing object structures \n",
    "# without modifying those structures. It is one way to follow the open/closed principle."
   ]
  },
  {
   "cell_type": "code",
   "execution_count": 2,
   "metadata": {},
   "outputs": [
    {
     "name": "stdout",
     "output_type": "stream",
     "text": [
      "House worked on by Hvacspecialist\n",
      "House worked on by Electrician\n"
     ]
    }
   ],
   "source": [
    "class House(object): # the class being visited\n",
    "    def accept(self, visitor):\n",
    "        \"\"\"Interface to accept a visitor\"\"\"\n",
    "        # Triggers the visiting operation!\n",
    "        visitor.visit(self)\n",
    "    \n",
    "    def work_on_hvac(self, hvac_specialist):\n",
    "        # Note that we now have a reference to the HVAC specialist object in the house object!\n",
    "        print(self, \"worked on by\", hvac_specialist) \n",
    "    \n",
    "    def work_on_electricity(self, electrician):\n",
    "        # Note that we now have a reference to the electrician object in the house object!\n",
    "        print(self, \"worked on by\", electrician)   \n",
    "    \n",
    "    def __str__(self): \n",
    "        \"\"\"return the class name when the House object is printed\"\"\"\n",
    "        return self.__class__.__name__\n",
    "\n",
    "class Visitor(object): # defines a visiting operation to be performed on the elements of an object structure\n",
    "    \"\"\"Abstract visitor\"\"\"\n",
    "    def __str__(self):\n",
    "        \"\"\"return the class name when the Visitor object is printed\"\"\"\n",
    "        return self.__class__.__name__\n",
    "\n",
    "class Hvacspecialist(Visitor): # implements each operation declared by Visitor\n",
    "    \"\"\"Concrete visitor: HVAC specialist\"\"\"\n",
    "    def visit(self, house):\n",
    "        house.work_on_hvac(self) # Note that the visitor now has a reference to the house object\n",
    "\n",
    "class Electrician(Visitor): # implements each operation declared by Visitor\n",
    "    \"\"\"Concrete visitor: electrician\"\"\"\n",
    "    def visit(self, house):\n",
    "        house.work_on_electricity(self) # Note that the visitor now has a reference to the house object\n",
    "\n",
    "hv = Hvacspecialist()\n",
    "e = Electrician()\n",
    "home = House()\n",
    "\n",
    "# Let house accept HVAC specialist and work on the house by invoking the visit() method\n",
    "home.accept(hv)     # House worked on by Hvacspecialist\n",
    "home.accept(e)      # House worked on by Electrician"
   ]
  }
 ],
 "metadata": {
  "kernelspec": {
   "display_name": "Python 3.10.7 64-bit",
   "language": "python",
   "name": "python3"
  },
  "language_info": {
   "codemirror_mode": {
    "name": "ipython",
    "version": 3
   },
   "file_extension": ".py",
   "mimetype": "text/x-python",
   "name": "python",
   "nbconvert_exporter": "python",
   "pygments_lexer": "ipython3",
   "version": "3.10.7"
  },
  "orig_nbformat": 4,
  "vscode": {
   "interpreter": {
    "hash": "b5f0bfb910b5f89afee0c4e65874b118d019a6f05b0e3b9906c17a1424dc1b44"
   }
  }
 },
 "nbformat": 4,
 "nbformat_minor": 2
}

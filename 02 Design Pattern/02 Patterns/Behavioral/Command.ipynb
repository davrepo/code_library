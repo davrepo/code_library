{
 "cells": [
  {
   "cell_type": "code",
   "execution_count": 4,
   "metadata": {},
   "outputs": [
    {
     "name": "stdout",
     "output_type": "stream",
     "text": [
      "Copying ...\n",
      "Pasting ...\n",
      "Saving ...\n"
     ]
    }
   ],
   "source": [
    "# bareboned version\n",
    "class Command:  # Abstract\n",
    "    def execute(self):\n",
    "        pass\n",
    "\n",
    "class CopyCommand(Command):\n",
    "    def execute(self):\n",
    "        print(\"Copying ...\")\n",
    "\n",
    "class PasteCommand(Command):\n",
    "    def execute(self):\n",
    "        print(\"Pasting ...\")\n",
    "\n",
    "class SaveCommand(Command):\n",
    "    def execute(self):\n",
    "        print(\"Saving ...\")\n",
    "\n",
    "class Macro:\n",
    "    def __init__(self):\n",
    "        self.commands = []\n",
    "\n",
    "    def add(self, command):\n",
    "        self.commands.append(command)\n",
    "\n",
    "    def run(self):\n",
    "        for command in self.commands:\n",
    "            command.execute()\n",
    "\n",
    "macro = Macro()\n",
    "macro.add(CopyCommand())\n",
    "macro.add(PasteCommand())\n",
    "macro.add(SaveCommand())\n",
    "macro.run()"
   ]
  },
  {
   "cell_type": "code",
   "execution_count": 5,
   "metadata": {},
   "outputs": [
    {
     "name": "stdout",
     "output_type": "stream",
     "text": [
      "Copy\n",
      "Paste\n",
      "Save\n"
     ]
    }
   ],
   "source": [
    "class Command:  # Abstract\n",
    "    def __init__(self, receiver):\n",
    "        self.receiver = receiver\n",
    "\n",
    "    def execute(self):\n",
    "        pass\n",
    "\n",
    "class CopyCommand(Command):\n",
    "    def __init__(self, receiver):\n",
    "        super().__init__(receiver)\n",
    "\n",
    "    def execute(self):\n",
    "        self.receiver.copy()\n",
    "\n",
    "class PasteCommand(Command):\n",
    "    def __init__(self, receiver):\n",
    "        super().__init__(receiver)\n",
    "\n",
    "    def execute(self):\n",
    "        self.receiver.paste()\n",
    "\n",
    "class SaveCommand(Command):\n",
    "    def __init__(self, receiver):\n",
    "        super().__init__(receiver)\n",
    "\n",
    "    def execute(self):\n",
    "        self.receiver.save()\n",
    "\n",
    "class Macro:\n",
    "    def __init__(self):\n",
    "        self.commands = []\n",
    "\n",
    "    def add(self, command):\n",
    "        self.commands.append(command)\n",
    "\n",
    "    def run(self):\n",
    "        for command in self.commands:\n",
    "            command.execute()\n",
    "\n",
    "class Editor:\n",
    "    def copy(self):\n",
    "        print(\"Copy\")\n",
    "\n",
    "    def paste(self):\n",
    "        print(\"Paste\")\n",
    "\n",
    "    def save(self):\n",
    "        print(\"Save\")\n",
    "\n",
    "\n",
    "editor = Editor()\n",
    "copy = CopyCommand(editor)\n",
    "paste = PasteCommand(editor)\n",
    "save = SaveCommand(editor)\n",
    "macro = Macro()\n",
    "macro.add(copy)\n",
    "macro.add(paste)\n",
    "macro.add(save)\n",
    "macro.run()"
   ]
  }
 ],
 "metadata": {
  "kernelspec": {
   "display_name": "Python 3.10.7 64-bit",
   "language": "python",
   "name": "python3"
  },
  "language_info": {
   "codemirror_mode": {
    "name": "ipython",
    "version": 3
   },
   "file_extension": ".py",
   "mimetype": "text/x-python",
   "name": "python",
   "nbconvert_exporter": "python",
   "pygments_lexer": "ipython3",
   "version": "3.10.7"
  },
  "orig_nbformat": 4,
  "vscode": {
   "interpreter": {
    "hash": "b5f0bfb910b5f89afee0c4e65874b118d019a6f05b0e3b9906c17a1424dc1b44"
   }
  }
 },
 "nbformat": 4,
 "nbformat_minor": 2
}

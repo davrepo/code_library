{
 "cells": [
  {
   "cell_type": "code",
   "execution_count": null,
   "metadata": {},
   "outputs": [],
   "source": [
    "# Cloning, making a copy instead of creating a new object from scratch\n",
    "# Problem: creating many identical objects individually is expensive\n",
    "# Solution: create a prototype object and clone it\n",
    "# Create a new object by copying an existing object\n",
    "# Create a prototypical instance first, clone it whenever you need a replica"
   ]
  },
  {
   "cell_type": "code",
   "execution_count": 1,
   "metadata": {},
   "outputs": [],
   "source": [
    "import copy\n",
    "\n",
    "class Prototype: \n",
    "    def __init__(self): \n",
    "        self._objects = {} \n",
    "\n",
    "    def register_object(self, name, obj): \n",
    "        self._objects[name] = obj \n",
    "\n",
    "    def unregister_object(self, name): \n",
    "        del self._objects[name] \n",
    "\n",
    "    def clone(self, name, **attr): \n",
    "        # clone a registered object and update its attributes\n",
    "        # copy.deepcopy() is used to clone an object\n",
    "        obj = copy.deepcopy(self._objects.get(name)) \n",
    "        obj.__dict__.update(attr)   \n",
    "        return obj\n",
    "\n",
    "class Car: \n",
    "    def __init__(self): \n",
    "        self.name = \"Skoda\" \n",
    "        self.color = \"Red\" \n",
    "        self.options = \"Ex\" \n",
    "\n",
    "    def __str__(self): \n",
    "        return f'{self.name} | {self.color} | {self.options}'"
   ]
  },
  {
   "cell_type": "code",
   "execution_count": 2,
   "metadata": {},
   "outputs": [
    {
     "name": "stdout",
     "output_type": "stream",
     "text": [
      "Skoda | Red | Ex\n"
     ]
    }
   ],
   "source": [
    "c = Car()\n",
    "prototype = Prototype()\n",
    "prototype.register_object('skoda', c)\n",
    "\n",
    "c1 = prototype.clone('skoda')\n",
    "print(c1)   # Skoda | Red | Ex"
   ]
  }
 ],
 "metadata": {
  "kernelspec": {
   "display_name": "Python 3.10.7 64-bit",
   "language": "python",
   "name": "python3"
  },
  "language_info": {
   "codemirror_mode": {
    "name": "ipython",
    "version": 3
   },
   "file_extension": ".py",
   "mimetype": "text/x-python",
   "name": "python",
   "nbconvert_exporter": "python",
   "pygments_lexer": "ipython3",
   "version": "3.10.7"
  },
  "orig_nbformat": 4,
  "vscode": {
   "interpreter": {
    "hash": "b5f0bfb910b5f89afee0c4e65874b118d019a6f05b0e3b9906c17a1424dc1b44"
   }
  }
 },
 "nbformat": 4,
 "nbformat_minor": 2
}

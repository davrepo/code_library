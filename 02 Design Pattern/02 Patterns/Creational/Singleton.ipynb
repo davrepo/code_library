{
 "cells": [
  {
   "cell_type": "markdown",
   "metadata": {},
   "source": [
    "Global variable in an object-oriented way\n",
    "\n",
    "https://stackoverflow.com/questions/31875/is-there-a-simple-elegant-way-to-define-singletons \n",
    "https://stackoverflow.com/questions/6760685/creating-a-singleton-in-python?noredirect=1&lq=1 \n",
    "https://www.oreilly.com/library/view/python-cookbook/0596001673/ch05s23.html \n",
    "\n",
    "Borg pattern: (class variable) \n",
    "- allows multiple instances of a class to share the same state. This is achieved by storing the shared state in a dictionary, which is then attached to the class itself. This dictionary is known as the “Borg”."
   ]
  },
  {
   "cell_type": "code",
   "execution_count": 2,
   "metadata": {},
   "outputs": [
    {
     "name": "stdout",
     "output_type": "stream",
     "text": [
      "{'HTTP': 'Hyper Text Transfer Protocol'}\n",
      "{'HTTP': 'Hyper Text Transfer Protocol', 'SNMP': 'Simple Network Management Protocol'}\n",
      "{'HTTP': 'Hyper Text Transfer Protocol', 'SNMP': 'Simple Network Management Protocol'}\n"
     ]
    }
   ],
   "source": [
    "# instead of forcing all instances to have the same identity, they share state\n",
    "# aka: Monostate pattern\n",
    "class Borg:\n",
    "    \"\"\"Borg class making class attributes global\"\"\"\n",
    "    _shared_data = {} # Attribute dictionary\n",
    "\n",
    "    def __init__(self):\n",
    "        self.__dict__ = self._shared_data # Make it an attribute dictionary\n",
    "\n",
    "class Singleton(Borg): #Inherits from the Borg class\n",
    "    \"\"\"This class now shares all its attributes among its various instances\"\"\"\n",
    "    #This essenstially makes the singleton objects an object-oriented global variable\n",
    "\n",
    "    def __init__(self, **kwargs):\n",
    "        Borg.__init__(self)\n",
    "        # Update the attribute dictionary by inserting a new key-value pair\n",
    "        self._shared_data.update(kwargs)    # update method to update the attribute dictionary\n",
    "\n",
    "    def __str__(self):\n",
    "        # Returns the attribute dictionary for printing\n",
    "        return str(self._shared_data)\n",
    "\n",
    "# Let's create a singleton object and add our first acronym\n",
    "x = Singleton(HTTP=\"Hyper Text Transfer Protocol\")\n",
    "print(x)    # {'HTTP': 'Hyper Text Transfer Protocol'}\n",
    "\n",
    "# Let's create another singleton object and if it refers to the same attribute dictionary by adding another acronym.\n",
    "y = Singleton(SNMP=\"Simple Network Management Protocol\")\n",
    "print(y)    # {'HTTP': 'Hyper Text Transfer Protocol', 'SNMP': 'Simple Network Management Protocol'}\n",
    "print(x)    # {'HTTP': 'Hyper Text Transfer Protocol', 'SNMP': 'Simple Network Management Protocol'}"
   ]
  },
  {
   "cell_type": "code",
   "execution_count": 1,
   "metadata": {},
   "outputs": [
    {
     "name": "stdout",
     "output_type": "stream",
     "text": [
      "Singleton works, both variables contain the same instance.\n"
     ]
    }
   ],
   "source": [
    "# https://refactoring.guru/design-patterns/singleton/python/example#example-0\n",
    "# Naive Singleton\n",
    "\n",
    "class SingletonMeta(type):\n",
    "    \"\"\"\n",
    "    The Singleton class can be implemented in different ways in Python. Some\n",
    "    possible methods include: base class, decorator, metaclass. We will use the\n",
    "    metaclass because it is best suited for this purpose.\n",
    "    \"\"\"\n",
    "\n",
    "    _instances = {}\n",
    "\n",
    "    def __call__(cls, *args, **kwargs):\n",
    "        \"\"\"\n",
    "        Possible changes to the value of the `__init__` argument do not affect\n",
    "        the returned instance.\n",
    "        \"\"\"\n",
    "        if cls not in cls._instances:\n",
    "            instance = super().__call__(*args, **kwargs)\n",
    "            cls._instances[cls] = instance\n",
    "        return cls._instances[cls]\n",
    "\n",
    "\n",
    "class Singleton(metaclass=SingletonMeta):\n",
    "    def some_business_logic(self):\n",
    "        \"\"\"\n",
    "        Finally, any singleton should define some business logic, which can be\n",
    "        executed on its instance.\n",
    "        \"\"\"\n",
    "\n",
    "        # ...\n",
    "\n",
    "\n",
    "if __name__ == \"__main__\":\n",
    "    # The client code.\n",
    "\n",
    "    s1 = Singleton()\n",
    "    s2 = Singleton()\n",
    "\n",
    "    if id(s1) == id(s2):\n",
    "        print(\"Singleton works, both variables contain the same instance.\")\n",
    "    else:\n",
    "        print(\"Singleton failed, variables contain different instances.\")"
   ]
  },
  {
   "cell_type": "code",
   "execution_count": 2,
   "metadata": {},
   "outputs": [
    {
     "name": "stdout",
     "output_type": "stream",
     "text": [
      "If you see the same value, then singleton was reused (yay!)\n",
      "If you see different values, then 2 singletons were created (booo!!)\n",
      "\n",
      "RESULT:\n",
      "\n",
      "FOO\n",
      "FOO\n"
     ]
    }
   ],
   "source": [
    "# https://refactoring.guru/design-patterns/singleton/python/example#example-1\n",
    "# Thread-safe Singleton\n",
    "\n",
    "from threading import Lock, Thread\n",
    "\n",
    "\n",
    "class SingletonMeta(type):\n",
    "    \"\"\"\n",
    "    This is a thread-safe implementation of Singleton.\n",
    "    \"\"\"\n",
    "\n",
    "    _instances = {}\n",
    "\n",
    "    _lock: Lock = Lock()\n",
    "    \"\"\"\n",
    "    We now have a lock object that will be used to synchronize threads during\n",
    "    first access to the Singleton.\n",
    "    \"\"\"\n",
    "\n",
    "    def __call__(cls, *args, **kwargs):\n",
    "        \"\"\"\n",
    "        Possible changes to the value of the `__init__` argument do not affect\n",
    "        the returned instance.\n",
    "        \"\"\"\n",
    "        # Now, imagine that the program has just been launched. Since there's no\n",
    "        # Singleton instance yet, multiple threads can simultaneously pass the\n",
    "        # previous conditional and reach this point almost at the same time. The\n",
    "        # first of them will acquire lock and will proceed further, while the\n",
    "        # rest will wait here.\n",
    "        with cls._lock:\n",
    "            # The first thread to acquire the lock, reaches this conditional,\n",
    "            # goes inside and creates the Singleton instance. Once it leaves the\n",
    "            # lock block, a thread that might have been waiting for the lock\n",
    "            # release may then enter this section. But since the Singleton field\n",
    "            # is already initialized, the thread won't create a new object.\n",
    "            if cls not in cls._instances:\n",
    "                instance = super().__call__(*args, **kwargs)\n",
    "                cls._instances[cls] = instance\n",
    "        return cls._instances[cls]\n",
    "\n",
    "\n",
    "class Singleton(metaclass=SingletonMeta):\n",
    "    value: str = None\n",
    "    \"\"\"\n",
    "    We'll use this property to prove that our Singleton really works.\n",
    "    \"\"\"\n",
    "\n",
    "    def __init__(self, value: str) -> None:\n",
    "        self.value = value\n",
    "\n",
    "    def some_business_logic(self):\n",
    "        \"\"\"\n",
    "        Finally, any singleton should define some business logic, which can be\n",
    "        executed on its instance.\n",
    "        \"\"\"\n",
    "\n",
    "\n",
    "def test_singleton(value: str) -> None:\n",
    "    singleton = Singleton(value)\n",
    "    print(singleton.value)\n",
    "\n",
    "\n",
    "if __name__ == \"__main__\":\n",
    "    # The client code.\n",
    "\n",
    "    print(\"If you see the same value, then singleton was reused (yay!)\\n\"\n",
    "          \"If you see different values, \"\n",
    "          \"then 2 singletons were created (booo!!)\\n\\n\"\n",
    "          \"RESULT:\\n\")\n",
    "\n",
    "    process1 = Thread(target=test_singleton, args=(\"FOO\",))\n",
    "    process2 = Thread(target=test_singleton, args=(\"BAR\",))\n",
    "    process1.start()\n",
    "    process2.start()"
   ]
  }
 ],
 "metadata": {
  "kernelspec": {
   "display_name": "Python 3.10.7 64-bit",
   "language": "python",
   "name": "python3"
  },
  "language_info": {
   "codemirror_mode": {
    "name": "ipython",
    "version": 3
   },
   "file_extension": ".py",
   "mimetype": "text/x-python",
   "name": "python",
   "nbconvert_exporter": "python",
   "pygments_lexer": "ipython3",
   "version": "3.10.7"
  },
  "orig_nbformat": 4,
  "vscode": {
   "interpreter": {
    "hash": "b5f0bfb910b5f89afee0c4e65874b118d019a6f05b0e3b9906c17a1424dc1b44"
   }
  }
 },
 "nbformat": 4,
 "nbformat_minor": 2
}

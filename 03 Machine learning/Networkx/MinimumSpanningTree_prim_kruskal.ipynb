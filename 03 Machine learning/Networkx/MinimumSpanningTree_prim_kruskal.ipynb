{
 "cells": [
  {
   "cell_type": "markdown",
   "metadata": {},
   "source": [
    "Minimal Spanning Tree, Prim's Algorithm, Kruskal's Algorithm"
   ]
  },
  {
   "cell_type": "code",
   "execution_count": 2,
   "metadata": {
    "slideshow": {
     "slide_type": "-"
    }
   },
   "outputs": [],
   "source": [
    "from Graph import *"
   ]
  },
  {
   "cell_type": "code",
   "execution_count": 4,
   "metadata": {},
   "outputs": [
    {
     "data": {
      "text/plain": [
       "{('A', 'B'): 7,\n",
       " ('A', 'D'): 5,\n",
       " ('B', 'A'): 7,\n",
       " ('B', 'C'): 8,\n",
       " ('B', 'D'): 9,\n",
       " ('B', 'E'): 7,\n",
       " ('D', 'A'): 5,\n",
       " ('D', 'B'): 9,\n",
       " ('D', 'E'): 15,\n",
       " ('D', 'F'): 6,\n",
       " ('C', 'B'): 8,\n",
       " ('C', 'E'): 5,\n",
       " ('E', 'B'): 7,\n",
       " ('E', 'C'): 5,\n",
       " ('E', 'D'): 15,\n",
       " ('E', 'F'): 8,\n",
       " ('E', 'G'): 9,\n",
       " ('F', 'D'): 6,\n",
       " ('F', 'E'): 8,\n",
       " ('F', 'G'): 11,\n",
       " ('G', 'E'): 9,\n",
       " ('G', 'F'): 11}"
      ]
     },
     "execution_count": 4,
     "metadata": {},
     "output_type": "execute_result"
    }
   ],
   "source": [
    "G = Graph()\n",
    "\n",
    "edge_list = [\n",
    "    ('A', 'B'),\n",
    "    ('A', 'D'),\n",
    "    ('B', 'C'),\n",
    "    ('B', 'D'),\n",
    "    ('B', 'E'),\n",
    "    ('C', 'E'),\n",
    "    ('D', 'E'),\n",
    "    ('D', 'F'),\n",
    "    ('E', 'F'),\n",
    "    ('E', 'G'),\n",
    "    ('F', 'G')]\n",
    "\n",
    "G.add_edges_from(edge_list)\n",
    "\n",
    "G._edges['A']['B']['weight'] = 7\n",
    "G._edges['A']['D']['weight'] = 5\n",
    "G._edges['B']['C']['weight'] = 8\n",
    "G._edges['B']['D']['weight'] = 9\n",
    "G._edges['B']['E']['weight'] = 7\n",
    "G._edges['C']['E']['weight'] = 5\n",
    "G._edges['D']['E']['weight'] = 15\n",
    "G._edges['D']['F']['weight'] = 6\n",
    "G._edges['E']['F']['weight'] = 8\n",
    "G._edges['E']['G']['weight'] = 9\n",
    "G._edges['F']['G']['weight'] = 11\n",
    "\n",
    "G.weights()"
   ]
  },
  {
   "cell_type": "markdown",
   "metadata": {},
   "source": [
    "# Prim's algorithm"
   ]
  },
  {
   "cell_type": "code",
   "execution_count": 5,
   "metadata": {},
   "outputs": [
    {
     "data": {
      "text/plain": [
       "{'A': {}, 'B': {}, 'D': {}, 'C': {}, 'E': {}, 'F': {}, 'G': {}}"
      ]
     },
     "execution_count": 5,
     "metadata": {},
     "output_type": "execute_result"
    }
   ],
   "source": [
    "G._nodes"
   ]
  },
  {
   "cell_type": "code",
   "execution_count": 6,
   "metadata": {},
   "outputs": [],
   "source": [
    "@add_method(Graph)  # is a Jupyter notebook magic function, now we can call this method on a Graph object\n",
    "# i.e. G.mst_prim(), even though it is not defined in the Graph class originally\n",
    "def mst_prim(self):\n",
    "    \"\"\" Calculates the minimum spanning tree using Prim's algorithm.\n",
    "    Focus is to be human-readable; the code was not optimized for efficiency.\n",
    "    \"\"\"\n",
    "    \n",
    "    demo = True # Set this to true to print how the algorithm works step by step\n",
    "    \n",
    "    # initialize the MST nodes, links, and weights\n",
    "    MST_nodes = set()\n",
    "    MST_links = {} # Will look like this: {('A', 'B'): 5}\n",
    "\n",
    "    # select an arbitrary node to begin with\n",
    "    MST_nodes.add(list(self._nodes.keys())[0])\n",
    "    \n",
    "    while len(MST_nodes) != self.number_of_nodes():\n",
    "        frontierlinks = set() # This is the frontier: All link candidates to grow the MST\n",
    "        \n",
    "        # for each node m in MST_nodes, consider the link (m, k) if\n",
    "        # k is not already in MST_links\n",
    "        for m in MST_nodes:\n",
    "            for k in self._nodes.keys():\n",
    "                if k not in MST_nodes and (m, k) in self.weights(): \n",
    "                    frontierlinks.add((m, k))\n",
    "        \n",
    "        # find the candidate link with the smallest weight\n",
    "        newlink = sorted(frontierlinks, key=lambda e:self.weights()[e[0], e[1]])[0]\n",
    "        # add this link and its weight to MST_links\n",
    "        MST_links[newlink] = self.weights()[newlink[0], newlink[1]]\n",
    "        # add the new node to MST_nodes\n",
    "        MST_nodes.add(newlink[1])\n",
    "        if demo: \n",
    "            print(\"Frontier:\",frontierlinks)\n",
    "            print(\"Adding the link\",newlink,\":\",self.weights()[newlink[0], newlink[1]])\n",
    "            print(\"MST progress:\",MST_links, '\\n')\n",
    "        #if demo: print(newlink, self.weights()[newlink[0], newlink[1]])\n",
    "        \n",
    "    MST = Graph()\n",
    "    MST.add_nodes_from(MST_nodes)\n",
    "    MST.add_edges_from(MST_links.keys())\n",
    "    for link, w in MST_links.items(): # update weights\n",
    "        MST._edges[link[0]][link[1]]['weight'] = w\n",
    "    \n",
    "    return MST"
   ]
  },
  {
   "cell_type": "code",
   "execution_count": 7,
   "metadata": {
    "scrolled": true
   },
   "outputs": [
    {
     "name": "stdout",
     "output_type": "stream",
     "text": [
      "Frontier: {('A', 'B'), ('A', 'D')}\n",
      "Adding the link ('A', 'D') : 5\n",
      "MST progress: {('A', 'D'): 5} \n",
      "\n",
      "Frontier: {('D', 'E'), ('D', 'F'), ('A', 'B'), ('D', 'B')}\n",
      "Adding the link ('D', 'F') : 6\n",
      "MST progress: {('A', 'D'): 5, ('D', 'F'): 6} \n",
      "\n",
      "Frontier: {('D', 'B'), ('D', 'E'), ('F', 'G'), ('A', 'B'), ('F', 'E')}\n",
      "Adding the link ('A', 'B') : 7\n",
      "MST progress: {('A', 'D'): 5, ('D', 'F'): 6, ('A', 'B'): 7} \n",
      "\n",
      "Frontier: {('B', 'C'), ('D', 'E'), ('B', 'E'), ('F', 'G'), ('F', 'E')}\n",
      "Adding the link ('B', 'E') : 7\n",
      "MST progress: {('A', 'D'): 5, ('D', 'F'): 6, ('A', 'B'): 7, ('B', 'E'): 7} \n",
      "\n",
      "Frontier: {('B', 'C'), ('F', 'G'), ('E', 'C'), ('E', 'G')}\n",
      "Adding the link ('E', 'C') : 5\n",
      "MST progress: {('A', 'D'): 5, ('D', 'F'): 6, ('A', 'B'): 7, ('B', 'E'): 7, ('E', 'C'): 5} \n",
      "\n",
      "Frontier: {('F', 'G'), ('E', 'G')}\n",
      "Adding the link ('E', 'G') : 9\n",
      "MST progress: {('A', 'D'): 5, ('D', 'F'): 6, ('A', 'B'): 7, ('B', 'E'): 7, ('E', 'C'): 5, ('E', 'G'): 9} \n",
      "\n"
     ]
    },
    {
     "data": {
      "text/plain": [
       "{('A', 'D'): 5,\n",
       " ('A', 'B'): 7,\n",
       " ('D', 'A'): 5,\n",
       " ('D', 'F'): 6,\n",
       " ('F', 'D'): 6,\n",
       " ('B', 'A'): 7,\n",
       " ('B', 'E'): 7,\n",
       " ('E', 'B'): 7,\n",
       " ('E', 'C'): 5,\n",
       " ('E', 'G'): 9,\n",
       " ('C', 'E'): 5,\n",
       " ('G', 'E'): 9}"
      ]
     },
     "execution_count": 7,
     "metadata": {},
     "output_type": "execute_result"
    }
   ],
   "source": [
    "MST = G.mst_prim()\n",
    "MST.weights()"
   ]
  },
  {
   "cell_type": "markdown",
   "metadata": {},
   "source": [
    "# Kruskal's algorithm"
   ]
  },
  {
   "cell_type": "code",
   "execution_count": 2,
   "metadata": {},
   "outputs": [
    {
     "ename": "NameError",
     "evalue": "name 'add_method' is not defined",
     "output_type": "error",
     "traceback": [
      "\u001b[1;31m---------------------------------------------------------------------------\u001b[0m",
      "\u001b[1;31mNameError\u001b[0m                                 Traceback (most recent call last)",
      "Cell \u001b[1;32mIn [2], line 1\u001b[0m\n\u001b[1;32m----> 1\u001b[0m \u001b[39m@add_method\u001b[39m(Graph)\n\u001b[0;32m      2\u001b[0m \u001b[39mclass\u001b[39;00m \u001b[39m_UF\u001b[39;00m:\n\u001b[0;32m      3\u001b[0m     \u001b[39m# Union-Find data structure, used for Kruskal's algorithm, important\u001b[39;00m\n\u001b[0;32m      4\u001b[0m     \u001b[39m\"\"\"Union-find data structure for the Kruskal algorithm.\u001b[39;00m\n\u001b[0;32m      5\u001b[0m \u001b[39m    Focus is to be human-readable; the code was not optimized for efficiency.\u001b[39;00m\n\u001b[0;32m      6\u001b[0m \u001b[39m    \"\"\"\u001b[39;00m\n\u001b[0;32m      8\u001b[0m     \u001b[39mdef\u001b[39;00m \u001b[39m__init__\u001b[39m(\u001b[39mself\u001b[39m, G):\n",
      "\u001b[1;31mNameError\u001b[0m: name 'add_method' is not defined"
     ]
    }
   ],
   "source": [
    "@add_method(Graph)\n",
    "class _UF:\n",
    "    # Union-Find data structure, used for Kruskal's algorithm, important\n",
    "    \"\"\"Union-find data structure for the Kruskal algorithm.\n",
    "    Focus is to be human-readable; the code was not optimized for efficiency.\n",
    "    \"\"\"\n",
    "\n",
    "    def __init__(self, G):\n",
    "        \"\"\"Initialize: Every node is its own parent and has rank 0\"\"\"\n",
    "        self.parent = {key:key for key in list(G._nodes.keys())}\n",
    "        self.rank = {key:0 for key in list(G._nodes.keys())}\n",
    "\n",
    "    def are_connected(self, u, v):\n",
    "        \"\"\"Check if two nodes are in the same component\"\"\"\n",
    "        return self._find(u) == self._find(v)\n",
    "\n",
    "    def _find(self, u):\n",
    "        \"\"\"Find the root of node u\"\"\"\n",
    "        while u != self.parent[u]:\n",
    "            u = self.parent[u]\n",
    "        return u\n",
    "    \n",
    "    def union(self, u, v):\n",
    "        \"\"\"Create the union of two components\"\"\"\n",
    "        u_root = self._find(u)\n",
    "        v_root = self._find(v)\n",
    "        if u_root == v_root:\n",
    "            # nothing to do if they are already in the same component\n",
    "            return\n",
    "        if self.rank[u_root] > self.rank[v_root]:\n",
    "            # If u is higher ranked, we can connect v to u\n",
    "            self.parent[v_root] = u_root\n",
    "        else:\n",
    "            # If not, we connect u to v and increase v's rank if needed\n",
    "            self.parent[u_root] = v_root\n",
    "            if self.rank[u_root] == self.rank[v_root]:\n",
    "                self.rank[v_root] += 1"
   ]
  },
  {
   "cell_type": "code",
   "execution_count": 1,
   "metadata": {},
   "outputs": [
    {
     "ename": "NameError",
     "evalue": "name 'add_method' is not defined",
     "output_type": "error",
     "traceback": [
      "\u001b[1;31m---------------------------------------------------------------------------\u001b[0m",
      "\u001b[1;31mNameError\u001b[0m                                 Traceback (most recent call last)",
      "Cell \u001b[1;32mIn [1], line 1\u001b[0m\n\u001b[1;32m----> 1\u001b[0m \u001b[39m@add_method\u001b[39m(Graph)\n\u001b[0;32m      2\u001b[0m \u001b[39mdef\u001b[39;00m \u001b[39mmst_kruskal\u001b[39m(\u001b[39mself\u001b[39m):\n\u001b[0;32m      3\u001b[0m     \u001b[39m\"\"\" Calculates the minimum spanning tree using Kruskal's algorithm.\u001b[39;00m\n\u001b[0;32m      4\u001b[0m \u001b[39m    Focus is to be human-readable; the code was not optimized for efficiency.\u001b[39;00m\n\u001b[0;32m      5\u001b[0m \u001b[39m    \"\"\"\u001b[39;00m\n\u001b[0;32m      7\u001b[0m     demo \u001b[39m=\u001b[39m \u001b[39mTrue\u001b[39;00m \u001b[39m# Set this to true to print how the algorithm works step by step\u001b[39;00m\n",
      "\u001b[1;31mNameError\u001b[0m: name 'add_method' is not defined"
     ]
    }
   ],
   "source": [
    "@add_method(Graph)\n",
    "def mst_kruskal(self):\n",
    "    \"\"\" Calculates the minimum spanning tree using Kruskal's algorithm.\n",
    "    Focus is to be human-readable; the code was not optimized for efficiency.\n",
    "    \"\"\"\n",
    "    \n",
    "    demo = True # Set this to true to print how the algorithm works step by step\n",
    "    \n",
    "    # Initialize the MST nodes, links, and weights\n",
    "    MST_nodes = set()\n",
    "    MST_links = {} # Will look like this: {('A', 'B'): 5}\n",
    "\n",
    "    # Sort all links by weights from smallest to largest. Skip every other due to symmetry.\n",
    "    sorted_links = sorted(self.weights(), key=self.weights().__getitem__)[0::2]\n",
    "    \n",
    "    uf = _UF(self)\n",
    "    for e in sorted_links:\n",
    "        u, v = e\n",
    "        if demo: print(\"Consider adding:\",e,\":\",self.weights()[e])\n",
    "        # if u, v already connected, abort this edge\n",
    "        if uf.are_connected(u, v):\n",
    "            if demo: print(\"NOT adding the link.\\n\")\n",
    "            continue\n",
    "        # if not, connect them and add this edge and its nodes to the MST\n",
    "        uf.union(u, v)\n",
    "        MST_links[e] = self.weights()[e[0], e[1]]\n",
    "        MST_nodes.add(u)\n",
    "        MST_nodes.add(v)\n",
    "        if demo: \n",
    "            print(\"Adding the link.\")\n",
    "            print(\"MST progress:\",MST_links)\n",
    "            print(\"Components:\", uf.parent)\n",
    "            print(\"Ranks:\", uf.rank, \"\\n\")\n",
    "        if len(MST_nodes) == self.number_of_nodes(): \n",
    "            break # We can stop once we cover all nodes\n",
    "        \n",
    "    MST = Graph()\n",
    "    MST.add_nodes_from(MST_nodes)\n",
    "    MST.add_edges_from(MST_links.keys())\n",
    "    for link, w in MST_links.items(): # update weights\n",
    "        MST._edges[link[0]][link[1]]['weight'] = w\n",
    "    \n",
    "    return MST"
   ]
  },
  {
   "cell_type": "code",
   "execution_count": 10,
   "metadata": {},
   "outputs": [
    {
     "name": "stdout",
     "output_type": "stream",
     "text": [
      "Consider adding: ('A', 'D') : 5\n",
      "Adding the link.\n",
      "MST progress: {('A', 'D'): 5}\n",
      "Components: {'A': 'D', 'B': 'B', 'D': 'D', 'C': 'C', 'E': 'E', 'F': 'F', 'G': 'G'}\n",
      "Ranks: {'A': 0, 'B': 0, 'D': 1, 'C': 0, 'E': 0, 'F': 0, 'G': 0} \n",
      "\n",
      "Consider adding: ('C', 'E') : 5\n",
      "Adding the link.\n",
      "MST progress: {('A', 'D'): 5, ('C', 'E'): 5}\n",
      "Components: {'A': 'D', 'B': 'B', 'D': 'D', 'C': 'E', 'E': 'E', 'F': 'F', 'G': 'G'}\n",
      "Ranks: {'A': 0, 'B': 0, 'D': 1, 'C': 0, 'E': 1, 'F': 0, 'G': 0} \n",
      "\n",
      "Consider adding: ('D', 'F') : 6\n",
      "Adding the link.\n",
      "MST progress: {('A', 'D'): 5, ('C', 'E'): 5, ('D', 'F'): 6}\n",
      "Components: {'A': 'D', 'B': 'B', 'D': 'D', 'C': 'E', 'E': 'E', 'F': 'D', 'G': 'G'}\n",
      "Ranks: {'A': 0, 'B': 0, 'D': 1, 'C': 0, 'E': 1, 'F': 0, 'G': 0} \n",
      "\n",
      "Consider adding: ('A', 'B') : 7\n",
      "Adding the link.\n",
      "MST progress: {('A', 'D'): 5, ('C', 'E'): 5, ('D', 'F'): 6, ('A', 'B'): 7}\n",
      "Components: {'A': 'D', 'B': 'D', 'D': 'D', 'C': 'E', 'E': 'E', 'F': 'D', 'G': 'G'}\n",
      "Ranks: {'A': 0, 'B': 0, 'D': 1, 'C': 0, 'E': 1, 'F': 0, 'G': 0} \n",
      "\n",
      "Consider adding: ('B', 'E') : 7\n",
      "Adding the link.\n",
      "MST progress: {('A', 'D'): 5, ('C', 'E'): 5, ('D', 'F'): 6, ('A', 'B'): 7, ('B', 'E'): 7}\n",
      "Components: {'A': 'D', 'B': 'D', 'D': 'E', 'C': 'E', 'E': 'E', 'F': 'D', 'G': 'G'}\n",
      "Ranks: {'A': 0, 'B': 0, 'D': 1, 'C': 0, 'E': 2, 'F': 0, 'G': 0} \n",
      "\n",
      "Consider adding: ('B', 'C') : 8\n",
      "NOT adding the link.\n",
      "\n",
      "Consider adding: ('E', 'F') : 8\n",
      "NOT adding the link.\n",
      "\n",
      "Consider adding: ('B', 'D') : 9\n",
      "NOT adding the link.\n",
      "\n",
      "Consider adding: ('E', 'G') : 9\n",
      "Adding the link.\n",
      "MST progress: {('A', 'D'): 5, ('C', 'E'): 5, ('D', 'F'): 6, ('A', 'B'): 7, ('B', 'E'): 7, ('E', 'G'): 9}\n",
      "Components: {'A': 'D', 'B': 'D', 'D': 'E', 'C': 'E', 'E': 'E', 'F': 'D', 'G': 'E'}\n",
      "Ranks: {'A': 0, 'B': 0, 'D': 1, 'C': 0, 'E': 2, 'F': 0, 'G': 0} \n",
      "\n"
     ]
    },
    {
     "data": {
      "text/plain": [
       "{('A', 'D'): 5,\n",
       " ('A', 'B'): 7,\n",
       " ('D', 'A'): 5,\n",
       " ('D', 'F'): 6,\n",
       " ('C', 'E'): 5,\n",
       " ('E', 'C'): 5,\n",
       " ('E', 'B'): 7,\n",
       " ('E', 'G'): 9,\n",
       " ('F', 'D'): 6,\n",
       " ('B', 'A'): 7,\n",
       " ('B', 'E'): 7,\n",
       " ('G', 'E'): 9}"
      ]
     },
     "execution_count": 10,
     "metadata": {},
     "output_type": "execute_result"
    }
   ],
   "source": [
    "MST = G.mst_kruskal()\n",
    "MST.weights()"
   ]
  }
 ],
 "metadata": {
  "kernelspec": {
   "display_name": "Python 3.10.7 64-bit",
   "language": "python",
   "name": "python3"
  },
  "language_info": {
   "codemirror_mode": {
    "name": "ipython",
    "version": 3
   },
   "file_extension": ".py",
   "mimetype": "text/x-python",
   "name": "python",
   "nbconvert_exporter": "python",
   "pygments_lexer": "ipython3",
   "version": "3.10.7"
  },
  "vscode": {
   "interpreter": {
    "hash": "b5f0bfb910b5f89afee0c4e65874b118d019a6f05b0e3b9906c17a1424dc1b44"
   }
  }
 },
 "nbformat": 4,
 "nbformat_minor": 1
}

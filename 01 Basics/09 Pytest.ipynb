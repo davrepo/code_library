{
 "cells": [
  {
   "cell_type": "code",
   "execution_count": null,
   "metadata": {},
   "outputs": [],
   "source": [
    "# --- terminal ---\n",
    "# turn on docker container app\n",
    "# in terminal write:\n",
    "# docker-compose build\n",
    "# docker-compose run test sh\n",
    "# pytest -k test_sad_path_start.py\n",
    "\n",
    "# run pytest for a specific function by supplying a part of its name as a keyword\n",
    "# pytest -k <test_function_name>"
   ]
  },
  {
   "cell_type": "code",
   "execution_count": 1,
   "metadata": {},
   "outputs": [],
   "source": [
    "# --------- assert ---------\n",
    "\n",
    "class Point():\n",
    "    def __init__(self, name, lat, long):\n",
    "        self._name = name\n",
    "        self._lat = lat\n",
    "        self._long = long\n",
    "\n",
    "    def get_lat_long(self):\n",
    "        return (self._lat, self._long)\n",
    "\n",
    "# new file\n",
    "def point_test():\n",
    "    p1 = Point('Dakar', 14.7167, 17.4677)\n",
    "    assert p1.get_lat_long() == (14.7167, 17.4677)\n",
    "\n",
    "# --- terminal ---\n",
    "# pytest -k - point_test"
   ]
  },
  {
   "cell_type": "code",
   "execution_count": null,
   "metadata": {},
   "outputs": [],
   "source": [
    "# --------- raises ---------\n",
    "# pytest.raises() is a context manager that allows you to test for exceptions.\n",
    "# test how to handle unwanted input\n",
    "import pytest\n",
    "\n",
    "class Point():\n",
    "    def __init__(self, name, latitude, longitude):\n",
    "        if not isinstance(name, str):\n",
    "            raise ValueError(\"City name provided must be a string\")\n",
    "        self._name = name\n",
    "\n",
    "        if not (-90 <= latitude <= 90) or not (-180 <= longitude <= 180):\n",
    "            raise ValueError(\"Invalid latitude, longitude combination.\")\n",
    "        self._latitude = latitude\n",
    "        self._longitude = longitude\n",
    "\n",
    "    def get_lat_long(self):\n",
    "        return (self._latitude, self._longitude)\n",
    "\n",
    "def test_invalid_point_generation():\n",
    "    with pytest.raises(ValueError) as exp:\n",
    "        Point(\"Senegal\", 99.6937, -189.44406)\n",
    "    assert str(exp.value) == \"Invalid latitude, longitude combination.\"\n",
    "\n",
    "    with pytest.raises(ValueError) as exp:\n",
    "        Point(5, 12.11386, -55.08269)\n",
    "    assert str(exp.value) == 'City name provided must be a string'"
   ]
  },
  {
   "cell_type": "code",
   "execution_count": null,
   "metadata": {},
   "outputs": [],
   "source": [
    "# --------- fixtures ---------\n",
    "# Scoping fixtures\n",
    "import pytest\n",
    "\n",
    "@pytest.fixture(scope='session')    # once per session\n",
    "@pytest.fixture(scope='module')     # once per module\n",
    "@pytest.fixture(scope='class')      # once per class of tests\n",
    "@pytest.fixture(scope='function')   # once per test"
   ]
  }
 ],
 "metadata": {
  "kernelspec": {
   "display_name": "Python 3.10.7 64-bit",
   "language": "python",
   "name": "python3"
  },
  "language_info": {
   "codemirror_mode": {
    "name": "ipython",
    "version": 3
   },
   "file_extension": ".py",
   "mimetype": "text/x-python",
   "name": "python",
   "nbconvert_exporter": "python",
   "pygments_lexer": "ipython3",
   "version": "3.10.7"
  },
  "orig_nbformat": 4,
  "vscode": {
   "interpreter": {
    "hash": "b5f0bfb910b5f89afee0c4e65874b118d019a6f05b0e3b9906c17a1424dc1b44"
   }
  }
 },
 "nbformat": 4,
 "nbformat_minor": 2
}

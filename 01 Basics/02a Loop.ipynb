{
 "cells": [
  {
   "cell_type": "code",
   "execution_count": null,
   "metadata": {},
   "outputs": [],
   "source": [
    "#while loop\n",
    "dates = [1982, 1980, 1973, 2000]\n",
    "\n",
    "i = 0\n",
    "while(i < len(dates) and dates[i] != 1973):                  #1982 1980\n",
    "    print(dates[i], end=\" \")\n",
    "    i += 1      #x += y is x = x + y\n",
    "    \n",
    "print(\"It took \", i ,\"repetitions to get out of loop.\")     #i == 2"
   ]
  },
  {
   "cell_type": "code",
   "execution_count": null,
   "metadata": {},
   "outputs": [],
   "source": [
    "# continue + break\n",
    "for i in range(5):\n",
    "  if i == 3:        # skips if i is 3\n",
    "    continue\n",
    "  print(i, end=\" \")     #0 1 2 4 \n",
    "\n",
    "while True:\n",
    "    print('Who are you?')\n",
    "    name = input()\n",
    "    if name != 'Joe':\n",
    "        continue  #skips the rest, condition is retested to determine whether loop should continue executing. \n",
    "    print('Hello, Joe. What is the password? (It is a fish.)')\n",
    "    password = input()\n",
    "    if password == 'swordfish':\n",
    "        break     #exits loop\n",
    "print('Access granted.')"
   ]
  },
  {
   "cell_type": "code",
   "execution_count": null,
   "metadata": {},
   "outputs": [],
   "source": [
    "# range function (start=int, stop=int, step=int)\n",
    "for i in range(5):      #instead of newline after each int, end=\" \", means space after each int. end= is a keyword argument in print constructor. end=\"\\n\" by default\n",
    "    print(i, end=\" \")         #0 1 2 3 4 \n",
    "\n",
    "for i in range(2,7,2):        #2 4 6 \n",
    "    print(i, end=\" \")\n",
    "\n",
    "for i in range(10,0,-2):      #10 8 6 4 2 \n",
    "    print(i, end=\" \")\n",
    "\n",
    "type(range(5))      #<class 'range'> - range is a generator, not a list like in Python 2"
   ]
  },
  {
   "cell_type": "code",
   "execution_count": null,
   "metadata": {},
   "outputs": [],
   "source": [
    "# enumerate function (built in)\n",
    "# returns a collection of index:value tuple pairs\n",
    "colors = [\"red\", \"yellow\", \"green\"]\n",
    "type(enumerate(colors))     #enumerate\n",
    "list(enumerate(colors)) #[(0, 'red'), (1, 'yellow'), (2, 'green')]\n",
    "tuple(enumerate(colors)) #((0, 'red'), (1, 'yellow'), (2, 'green'))\n",
    "\n",
    "for i,color in enumerate(colors): \n",
    "    print(f'{i}:{color}', end=\" \")     #0:red 1:yellow 2:green"
   ]
  },
  {
   "cell_type": "code",
   "execution_count": 3,
   "metadata": {},
   "outputs": [
    {
     "data": {
      "text/plain": [
       "[1, 3]"
      ]
     },
     "execution_count": 3,
     "metadata": {},
     "output_type": "execute_result"
    }
   ],
   "source": [
    "# Remove elements from a list while iterating\n",
    "# What not to do\n",
    "a = [1, 2, 2, 3, 4]\n",
    "def even(x):    # helper function\n",
    "    return x % 2 == 0\n",
    "for i in a:\n",
    "    if even(i):\n",
    "        a.remove(i)     # never loop over a list and remove elements at the same time\n",
    "a    #[1, 2, 3]     <= 2 is still here. \n",
    "# Problem: removed an element while looping over it, \n",
    "# so all elements after the removed element are shifted one place to the left, so we skip 1 iteration. \n",
    "# the right way is to loop over a copy of the list\n",
    "\n",
    "# Approach 1: loop over a copy of the list\n",
    "a = [1, 2, 2, 3, 4]\n",
    "for i in a[:]:    # loop over a copy of the list\n",
    "    if even(i):\n",
    "        a.remove(i)\n",
    "a   #[1, 3]\n",
    "\n",
    "# Approach 2: use list comprehension to create a new list\n",
    "a = [x for x in a if not even(x)]    # [1, 3]\n",
    "# Faster way, assign in slice of a, so modify in place\n",
    "a[:] = [x for x in a if not even(x)]    # [1, 3]\n",
    "\n",
    "# Approach 3: use filter\n",
    "from itertools import filterfalse\n",
    "a[:] = filterfalse(even, a)    # [1, 3]"
   ]
  },
  {
   "cell_type": "code",
   "execution_count": 1,
   "metadata": {},
   "outputs": [
    {
     "name": "stdout",
     "output_type": "stream",
     "text": [
      "There are no 2's in the list\n"
     ]
    }
   ],
   "source": [
    "# for/else loop\n",
    "# else block just after for/while is executed only when the loop is NOT terminated by a break statement\n",
    "list = [99, 98, 97, 96, 95, 94]\n",
    "\n",
    "for number in list:\n",
    "  if number == 2:\n",
    "    print(\"There is a 2 in the list\")\n",
    "    break\n",
    "else:\n",
    "    print(\"There are no 2's in the list\")    #There are no 2's in the list"
   ]
  }
 ],
 "metadata": {
  "kernelspec": {
   "display_name": "Python 3.10.7 64-bit",
   "language": "python",
   "name": "python3"
  },
  "language_info": {
   "codemirror_mode": {
    "name": "ipython",
    "version": 3
   },
   "file_extension": ".py",
   "mimetype": "text/x-python",
   "name": "python",
   "nbconvert_exporter": "python",
   "pygments_lexer": "ipython3",
   "version": "3.10.7"
  },
  "orig_nbformat": 4,
  "vscode": {
   "interpreter": {
    "hash": "b5f0bfb910b5f89afee0c4e65874b118d019a6f05b0e3b9906c17a1424dc1b44"
   }
  }
 },
 "nbformat": 4,
 "nbformat_minor": 2
}

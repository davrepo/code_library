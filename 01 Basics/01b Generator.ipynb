{
 "cells": [
  {
   "cell_type": "markdown",
   "metadata": {},
   "source": [
    "https://realpython.com/introduction-to-python-generators/\n",
    "https://www.youtube.com/watch?v=tmeKsb2Fras \n",
    "\n",
    "- List comprehension is greedy evaluation, create lists immediately when execute it, occupying memory\n",
    "- Generator expressions is lazy evaluation, creates an iterable generator object on demand\n",
    "- Generator uses <font color=red>()</font> instead of [], and <font color=red>yield</font> instead of return\n",
    "- the way you run a generator it by calling the  <font color=red>next()</font> method on it"
   ]
  },
  {
   "cell_type": "code",
   "execution_count": null,
   "metadata": {},
   "outputs": [],
   "source": [
    "# Generator function has yield keyword, acts like normal fxn except when you hit yield statement it pauses\n",
    "# Every time you pause, you yield a value that becomes available to the caller\n",
    "# Unlike fxn, calling generator doesn't run the fxn, it creates a generator object\n",
    "# The way you run a generator it by calling the next() method on it\n",
    "\n",
    "def get_values():   \n",
    "    yield \"hello\"\n",
    "    yield \"world\"\n",
    "    yield 123\n",
    "    return 42\n",
    "\n",
    "def example_get_values():\n",
    "    gen = get_values()\n",
    "    print(gen)          #<generator object get_values at 0x0000020B1B2B4C50>\n",
    "    print(next(gen))    #hello\n",
    "    print(next(gen))    #world\n",
    "    print(next(gen))    #123\n",
    "    print(next(gen))    #StopIteration exception raised\n",
    "    \n",
    "    for x in get_values():    #for loop automatically calls next() on the generator\n",
    "        print(x)   #hello world 123\n",
    "    "
   ]
  },
  {
   "cell_type": "code",
   "execution_count": 30,
   "metadata": {},
   "outputs": [
    {
     "name": "stdout",
     "output_type": "stream",
     "text": [
      "0 1 2 3 4 "
     ]
    }
   ],
   "source": [
    "# use case (1) - to make class iterable\n",
    "from typing import Iterator\n",
    "\n",
    "class Range:\n",
    "    def __init__(self, stop: int):\n",
    "        self.start = 0\n",
    "        self.stop = stop\n",
    "    def __iter__(self) -> Iterator[int]:\n",
    "        curr = self.start\n",
    "        while curr < self.stop:\n",
    "            yield curr\n",
    "            curr += 1\n",
    "\n",
    "for i in Range(5): \n",
    "    print(i, end=\" \")    #0 1 2 3 4"
   ]
  },
  {
   "cell_type": "code",
   "execution_count": 1,
   "metadata": {},
   "outputs": [],
   "source": [
    "# use case (2) - read from large file (leverage lazy evaluation)\n",
    "from typing import NamedTuple\n",
    "\n",
    "class MyDataPoint(NamedTuple):\n",
    "    x: float\n",
    "    y: float\n",
    "    z: float\n",
    "\n",
    "def mydata_reader(file):\n",
    "    for row in file:\n",
    "        cols = row.rstrip().split(\",\")\n",
    "        cols = [float(c) for c in cols]\n",
    "        yield MyDataPoint._make(cols)\n",
    "\n",
    "def example_reader():\n",
    "    with open(\"mydata.csv\") as f:\n",
    "        for row in mydata_reader(f):\n",
    "            print(row)          #MyDataPoint(x=1.0, y=2.0, z=3.0) ..."
   ]
  },
  {
   "cell_type": "code",
   "execution_count": 25,
   "metadata": {},
   "outputs": [
    {
     "name": "stdout",
     "output_type": "stream",
     "text": [
      "[46, 23, 70, 35, 106, 53, 160, 80, 40, 20, 10, 5, 16, 8, 4, 2, 1]\n"
     ]
    },
    {
     "data": {
      "text/plain": [
       "111"
      ]
     },
     "execution_count": 25,
     "metadata": {},
     "output_type": "execute_result"
    }
   ],
   "source": [
    "# use case (3) - lazy sequences, don't compute until someone asks for it\n",
    "def collatz(n):\n",
    "    while True:\n",
    "        if n % 2 == 0:\n",
    "            n = n // 2\n",
    "        else:\n",
    "            n = 3 * n + 1\n",
    "        yield n     # result.append(n)  <= list implementation is\n",
    "        if n == 1:\n",
    "            break\n",
    "\n",
    "seq = list(collatz(15))    # [46, 23, 70, 35, 106, 53, 160, 80, 40, 20, 10, 5, 16, 8, 4, 2, 1]\n",
    "sum(1 for _ in collatz(15))  # 17 <= if you want the len of the list, but don't care about its content"
   ]
  },
  {
   "cell_type": "code",
   "execution_count": 26,
   "metadata": {},
   "outputs": [
    {
     "name": "stdout",
     "output_type": "stream",
     "text": [
      "1 9 25 49 "
     ]
    }
   ],
   "source": [
    "# use case (4) - infinite sequences can be represented\n",
    "def powers_of_two():    # can compute as many as you need without running out of memory\n",
    "    x = 1\n",
    "    while True:\n",
    "        yield x\n",
    "        x *= 2"
   ]
  },
  {
   "cell_type": "code",
   "execution_count": null,
   "metadata": {},
   "outputs": [],
   "source": [
    "# Generator comprehension\n",
    "numbers = [1, 2, 3, 4, 5, 6, 7, 8]\n",
    "for val in (x**2 for x in numbers if x%2 != 0):     # generator uses () instead of []\n",
    "    print(val, end = \" \")\n",
    "#1 9 25 49 "
   ]
  }
 ],
 "metadata": {
  "kernelspec": {
   "display_name": "Python 3.10.7 64-bit",
   "language": "python",
   "name": "python3"
  },
  "language_info": {
   "codemirror_mode": {
    "name": "ipython",
    "version": 3
   },
   "file_extension": ".py",
   "mimetype": "text/x-python",
   "name": "python",
   "nbconvert_exporter": "python",
   "pygments_lexer": "ipython3",
   "version": "3.10.7"
  },
  "orig_nbformat": 4,
  "vscode": {
   "interpreter": {
    "hash": "b5f0bfb910b5f89afee0c4e65874b118d019a6f05b0e3b9906c17a1424dc1b44"
   }
  }
 },
 "nbformat": 4,
 "nbformat_minor": 2
}

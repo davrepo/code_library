{
 "cells": [
  {
   "cell_type": "code",
   "execution_count": null,
   "metadata": {},
   "outputs": [],
   "source": [
    "# ------------ f-string -----------------\n",
    "\n",
    "# ---------------- presentation type -------------------\n",
    "# f = float, d = int to string, c = char, s = string, e = exponential scientific notation\n",
    "num1 = 5\n",
    "num2 = 3                \n",
    "print(f'{num1} times {num2} is {num1 / num2:.2f}')  #f is presentation type float, 2 is 2 decimal precision\n",
    "#5 times 3 is 1.67\n",
    "\n",
    "# ---------------- string format -------------------\n",
    "'{:.2f}'.format(17.489) #{} is placeholder, : is start of format specifiers, .2 is 2 decimal precision, f is float presentation type\n",
    "#'17.49'\n",
    "\n",
    "# ---------------- explicit call format() method -------------------\n",
    "number1 = 'One'\n",
    "number2 = 'Two'\n",
    "number3 = 'Three'\n",
    "\n",
    "# default(implicit) order\n",
    "default_order = \"{}, {} and {}\".format(number1,number2,number3)\n",
    "print(default_order)\n",
    "# One, Two and Three\n",
    "\n",
    "# order using positional argument\n",
    "positional_order = \"{1}, {0} and {2}\".format(number1,number2,number3)\n",
    "print(positional_order)\n",
    "# Two, One and Three\n",
    "\n",
    "'{0} {0} {1}'.format('Happy', 'Birthday')   #can reference each argument as often as one like\n",
    "#'Happy Happy Birthday'\n",
    "\n",
    "# order using keyword argument\n",
    "keyword_order = \"{i}, {j} and {k}\".format(j=number1,k=number2,i=number3)\n",
    "print(keyword_order)\n",
    "# Three, One and Two\n",
    "\n",
    "# String formatting %e for exponent\n",
    "print(\"\\n%04d %s %.2f %c\" % (1, \"Derek\", 1.234, 'A'))\n",
    "# 0001 Derek 1.23 A\n",
    "\n",
    "# Formatted print with dictionary mapping\n",
    "d1 = {\"name\": \"Bread\", \"price\": .88}\n",
    "print(\"%(name)s costs $%(price).2f\" % d1)\n",
    "# Bread costs $0.88"
   ]
  },
  {
   "cell_type": "code",
   "execution_count": 1,
   "metadata": {},
   "outputs": [
    {
     "name": "stdout",
     "output_type": "stream",
     "text": [
      "Areas of circles with r = 2 is 12.56\n",
      "Areas of circles with r = 0 is 0.0\n",
      "Areas of circles with r = 3.5 is 38.465\n",
      "Areas of circles with r = -2 is 12.56\n",
      "Areas of circles with r = 10 is 314.0\n"
     ]
    }
   ],
   "source": [
    "# -------------------- fstring capture function return ---------------------------------\n",
    "\n",
    "def circle_area(r):\n",
    "    return 3.14 * r ** 2\n",
    "\n",
    "radii = [2, 0, 3.5, -2, 10]\n",
    "message = \"Areas of circles with r = {radii} is {area}\"\n",
    "\n",
    "for r in radii:\n",
    "    a = circle_area(r)\n",
    "    print(message.format(radii=r, area=a))"
   ]
  },
  {
   "cell_type": "code",
   "execution_count": null,
   "metadata": {},
   "outputs": [],
   "source": [
    "# --------------------- String tokenization ---------------------------------\n",
    "from collections import Counter\n",
    "# Counter: Elements are stored as dictionary keys and their counts are stored as dictionary values.\n",
    "\n",
    "text = ('this is is is text text with with with with several words')\n",
    "\n",
    "print(text.split())         #str.split() returns a list of words, delimiter separated\n",
    "# ['this', 'is', 'is', 'is', 'text', 'text', 'with', 'with', 'with', 'with', 'several', 'words']\n",
    "\n",
    "counter = Counter(text.split())\n",
    "\n",
    "#Counter implementation\n",
    "#returns a dictionary-like object, keys = unique words, value = word frequency\n",
    "#Counter.items() returns each word and its associated count as a tuple\n",
    "for word, count in sorted(counter.items()):\n",
    "    print(f'{word:<12}{count}')\n",
    "\n",
    "# is          3\n",
    "# several     1\n",
    "# text        2\n",
    "# this        1\n",
    "# with        4\n",
    "# words       1\n",
    "\n",
    "print('Number of unique keys:', len(counter.keys()))\n",
    "# Number of unique keys: 6"
   ]
  }
 ],
 "metadata": {
  "kernelspec": {
   "display_name": "Python 3.10.7 64-bit",
   "language": "python",
   "name": "python3"
  },
  "language_info": {
   "codemirror_mode": {
    "name": "ipython",
    "version": 3
   },
   "file_extension": ".py",
   "mimetype": "text/x-python",
   "name": "python",
   "nbconvert_exporter": "python",
   "pygments_lexer": "ipython3",
   "version": "3.10.7"
  },
  "orig_nbformat": 4,
  "vscode": {
   "interpreter": {
    "hash": "b5f0bfb910b5f89afee0c4e65874b118d019a6f05b0e3b9906c17a1424dc1b44"
   }
  }
 },
 "nbformat": 4,
 "nbformat_minor": 2
}

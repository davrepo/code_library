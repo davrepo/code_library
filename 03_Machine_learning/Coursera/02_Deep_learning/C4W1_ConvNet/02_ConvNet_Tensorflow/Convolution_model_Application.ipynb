{
 "cells": [
  {
   "attachments": {},
   "cell_type": "markdown",
   "metadata": {},
   "source": [
    "# Convolutional Neural Networks: Application\n",
    "\n",
    "Welcome to Course 4's second assignment! In this notebook, you will:\n",
    "\n",
    "- Create a mood classifer using the TF Keras Sequential API\n",
    "- Build a ConvNet to identify sign language digits using the TF Keras Functional API\n",
    "\n",
    "**After this assignment you will be able to:**\n",
    "\n",
    "- Build and train a ConvNet in TensorFlow for a __binary__ classification problem\n",
    "- Build and train a ConvNet in TensorFlow for a __multiclass__ classification problem\n",
    "- Explain different use cases for the Sequential and Functional APIs"
   ]
  },
  {
   "cell_type": "markdown",
   "metadata": {},
   "source": [
    "## Table of Contents\n",
    "\n",
    "- [1 - Packages](#1)\n",
    "    - [1.1 - Load the Data and Split the Data into Train/Test Sets](#1-1)\n",
    "- [2 - Layers in TF Keras](#2)\n",
    "- [3 - The Sequential API](#3)\n",
    "    - [3.1 - Create the Sequential Model](#3-1)\n",
    "        - [Exercise 1 - happyModel](#ex-1)\n",
    "    - [3.2 - Train and Evaluate the Model](#3-2)\n",
    "- [4 - The Functional API](#4)\n",
    "    - [4.1 - Load the SIGNS Dataset](#4-1)\n",
    "    - [4.2 - Split the Data into Train/Test Sets](#4-2)\n",
    "    - [4.3 - Forward Propagation](#4-3)\n",
    "        - [Exercise 2 - convolutional_model](#ex-2)\n",
    "    - [4.4 - Train the Model](#4-4)\n",
    "- [5 - History Object](#5)\n",
    "- [6 - Bibliography](#6)"
   ]
  },
  {
   "cell_type": "markdown",
   "metadata": {},
   "source": [
    "<a name='1'></a>\n",
    "## 1 - Packages\n",
    "\n",
    "As usual, begin by loading in the packages."
   ]
  },
  {
   "cell_type": "code",
   "execution_count": 13,
   "metadata": {},
   "outputs": [],
   "source": [
    "import math\n",
    "import numpy as np\n",
    "import h5py\n",
    "import matplotlib.pyplot as plt\n",
    "from matplotlib.pyplot import imread\n",
    "import scipy\n",
    "from PIL import Image\n",
    "import pandas as pd\n",
    "import tensorflow as tf\n",
    "import tensorflow.keras.layers as tfl\n",
    "from tensorflow.python.framework import ops\n",
    "from cnn_utils import *\n",
    "from test_utils import summary, comparator\n",
    "\n",
    "%matplotlib inline\n",
    "np.random.seed(1)"
   ]
  },
  {
   "cell_type": "markdown",
   "metadata": {},
   "source": [
    "<a name='1-1'></a>\n",
    "### 1.1 - Load the Data and Split the Data into Train/Test Sets\n",
    "\n",
    "You'll be using the Happy House dataset for this part of the assignment, which contains images of peoples' faces. Your task will be to build a ConvNet that determines whether the people in the images are smiling or not "
   ]
  },
  {
   "cell_type": "code",
   "execution_count": 14,
   "metadata": {},
   "outputs": [
    {
     "name": "stdout",
     "output_type": "stream",
     "text": [
      "number of training examples = 600\n",
      "number of test examples = 150\n",
      "X_train shape: (600, 64, 64, 3)\n",
      "Y_train shape: (600, 1)\n",
      "X_test shape: (150, 64, 64, 3)\n",
      "Y_test shape: (150, 1)\n"
     ]
    }
   ],
   "source": [
    "X_train_orig, Y_train_orig, X_test_orig, Y_test_orig, classes = load_happy_dataset()\n",
    "\n",
    "# Normalize image vectors\n",
    "X_train = X_train_orig/255.\n",
    "X_test = X_test_orig/255.\n",
    "\n",
    "# Reshape\n",
    "Y_train = Y_train_orig.T\n",
    "Y_test = Y_test_orig.T\n",
    "\n",
    "print (\"number of training examples = \" + str(X_train.shape[0]))\n",
    "print (\"number of test examples = \" + str(X_test.shape[0]))\n",
    "print (\"X_train shape: \" + str(X_train.shape))\n",
    "print (\"Y_train shape: \" + str(Y_train.shape))\n",
    "print (\"X_test shape: \" + str(X_test.shape))\n",
    "print (\"Y_test shape: \" + str(Y_test.shape))"
   ]
  },
  {
   "cell_type": "markdown",
   "metadata": {},
   "source": [
    "You can display the images contained in the dataset. Images are **64x64** pixels in RGB format (3 channels)."
   ]
  },
  {
   "cell_type": "code",
   "execution_count": 15,
   "metadata": {},
   "outputs": [
    {
     "data": {
      "image/png": "[encoded data removed]",
      "text/plain": [
       "<Figure size 640x480 with 1 Axes>"
      ]
     },
     "metadata": {},
     "output_type": "display_data"
    }
   ],
   "source": [
    "index = 124\n",
    "plt.imshow(X_train_orig[index]) #display sample training image\n",
    "plt.show()"
   ]
  },
  {
   "cell_type": "markdown",
   "metadata": {},
   "source": [
    "<a name='2'></a>\n",
    "## 2 - Layers in TF Keras \n",
    "\n",
    "TF Keras has pre-defined layers you can use. \n",
    "When you create a layer in TF Keras, you are creating a function that takes some input and transforms it into an output you can reuse later. Nice and easy! "
   ]
  },
  {
   "cell_type": "markdown",
   "metadata": {},
   "source": [
    "<a name='3'></a>\n",
    "## 3 - The Sequential API\n",
    "\n",
    "Keras is a high-level abstraction built on top of TensorFlow, which allows for even more simplified and optimized model creation and training. \n",
    "\n",
    "For the first part of this assignment, you'll create a model using TF Keras' Sequential API, which allows you to build layer by layer, and is ideal for building models where each layer has **exactly one** input tensor and **one** output tensor. \n",
    "\n",
    "As you'll see, using the Sequential API is simple and straightforward, but is only appropriate for simpler, more straightforward tasks. Later in this notebook you'll spend some time building with a more flexible, powerful alternative: the Functional API. \n",
    " "
   ]
  },
  {
   "cell_type": "markdown",
   "metadata": {},
   "source": [
    "<a name='3-1'></a>\n",
    "### 3.1 - Create the Sequential Model\n",
    "\n",
    "As mentioned earlier, the TensorFlow Keras Sequential API can be used to build simple models with layer operations that proceed in a sequential order. \n",
    "\n",
    "You can also add layers incrementally to a Sequential model with the `.add()` method, or remove them using the `.pop()` method, much like you would in a regular Python list.\n",
    "\n",
    "Actually, you can think of a Sequential model as behaving like a list of layers. Like Python lists, Sequential layers are ordered, and the order in which they are specified matters.  If your model is non-linear or contains layers with multiple inputs or outputs, a Sequential model wouldn't be the right choice!\n",
    "\n",
    "For any layer construction in Keras, you'll need to specify the input shape in advance. This is because in Keras, the shape of the weights is based on the shape of the inputs. The weights are only created when the model first sees some input data. Sequential models can be created by passing a list of layers to the Sequential constructor, like you will do in the next assignment.\n",
    "\n",
    "<a name='ex-1'></a>\n",
    "### Exercise 1 - happyModel\n",
    "\n",
    "Implement the `happyModel` function below to build the following model: `ZEROPAD2D -> CONV2D -> BATCHNORM -> RELU -> MAXPOOL -> FLATTEN -> DENSE`. Take help from [tf.keras.layers](https://www.tensorflow.org/api_docs/python/tf/keras/layers) \n",
    "\n",
    "Also, plug in the following parameters for all the steps:\n",
    "\n",
    " - [ZeroPadding2D](https://www.tensorflow.org/api_docs/python/tf/keras/layers/ZeroPadding2D): padding 3, input shape 64 x 64 x 3\n",
    " - [Conv2D](https://www.tensorflow.org/api_docs/python/tf/keras/layers/Conv2D): Use 32 7x7 filters, stride 1\n",
    " - [BatchNormalization](https://www.tensorflow.org/api_docs/python/tf/keras/layers/BatchNormalization): for axis 3\n",
    " - [ReLU](https://www.tensorflow.org/api_docs/python/tf/keras/layers/ReLU)\n",
    " - [MaxPool2D](https://www.tensorflow.org/api_docs/python/tf/keras/layers/MaxPool2D): Using default parameters\n",
    " - [Flatten](https://www.tensorflow.org/api_docs/python/tf/keras/layers/Flatten) the previous output.\n",
    " - Fully-connected ([Dense](https://www.tensorflow.org/api_docs/python/tf/keras/layers/Dense)) layer: Apply a fully connected layer with 1 neuron and a sigmoid activation. \n",
    " \n",
    " \n",
    " **Hint:**\n",
    " \n",
    " Use **tfl** as shorthand for **tensorflow.keras.layers**"
   ]
  },
  {
   "cell_type": "code",
   "execution_count": 16,
   "metadata": {
    "deletable": false,
    "nbgrader": {
     "cell_type": "code",
     "checksum": "95d28b191f257bdd5b70c7b8952559d5",
     "grade": false,
     "grade_id": "cell-0e56d3fc28b69aec",
     "locked": false,
     "schema_version": 3,
     "solution": true,
     "task": false
    }
   },
   "outputs": [],
   "source": [
    "# GRADED FUNCTION: happyModel\n",
    "\n",
    "def happyModel():\n",
    "    \"\"\"\n",
    "    Implements the forward propagation for the binary classification model:\n",
    "    ZEROPAD2D -> CONV2D -> BATCHNORM -> RELU -> MAXPOOL -> FLATTEN -> DENSE\n",
    "    \n",
    "    Note that for simplicity and grading purposes, you'll hard-code all the values\n",
    "    such as the stride and kernel (filter) sizes. \n",
    "    Normally, functions should take these values as function parameters.\n",
    "    \n",
    "    Arguments:\n",
    "    None\n",
    "\n",
    "    Returns:\n",
    "    model -- TF Keras model (object containing the information for the entire training process) \n",
    "    \"\"\"\n",
    "    model = tf.keras.Sequential([\n",
    "            tfl.ZeroPadding2D(padding=3, input_shape=(64, 64, 3)), ## ZeroPadding2D with padding 3, input shape of 64 x 64 x 3\n",
    "            tfl.Conv2D(filters=32, kernel_size=(7, 7), strides=(1, 1)), ## Conv2D with 32 7x7 filters and stride of 1\n",
    "            tfl.BatchNormalization(axis=3), ## BatchNormalization for axis 3, means in the z-axis channel, each data point in that channel are normalized separately\n",
    "            tfl.ReLU(),  ## ReLU\n",
    "            tfl.MaxPooling2D(),  ## Max Pooling 2D with default parameters\n",
    "            tfl.Flatten(),  ## Flatten layer\n",
    "            tfl.Dense(units=1, activation='sigmoid')  ## Dense layer with 1 unit for output & 'sigmoid' activation\n",
    "        ])\n",
    "    \n",
    "    return model"
   ]
  },
  {
   "cell_type": "code",
   "execution_count": 17,
   "metadata": {
    "deletable": false,
    "editable": false,
    "nbgrader": {
     "cell_type": "code",
     "checksum": "8d3575c950e2e78149be2d05d671c80d",
     "grade": true,
     "grade_id": "cell-e3e1046e5c33d775",
     "locked": true,
     "points": 10,
     "schema_version": 3,
     "solution": false,
     "task": false
    }
   },
   "outputs": [
    {
     "name": "stdout",
     "output_type": "stream",
     "text": [
      "['ZeroPadding2D', (None, 70, 70, 3), 0, ((3, 3), (3, 3))]\n",
      "['Conv2D', (None, 64, 64, 32), 4736, 'valid', 'linear', 'GlorotUniform']\n",
      "['BatchNormalization', (None, 64, 64, 32), 128]\n",
      "['ReLU', (None, 64, 64, 32), 0]\n",
      "['MaxPooling2D', (None, 32, 32, 32), 0, (2, 2), (2, 2), 'valid']\n",
      "['Flatten', (None, 32768), 0]\n",
      "['Dense', (None, 1), 32769, 'sigmoid']\n",
      "All tests passed!\n"
     ]
    }
   ],
   "source": [
    "happy_model = happyModel()\n",
    "# Print a summary for each layer\n",
    "for layer in summary(happy_model):\n",
    "    print(layer)\n",
    "    \n",
    "output = [['ZeroPadding2D', (None, 70, 70, 3), 0, ((3, 3), (3, 3))],\n",
    "            ['Conv2D', (None, 64, 64, 32), 4736, 'valid', 'linear', 'GlorotUniform'],\n",
    "            ['BatchNormalization', (None, 64, 64, 32), 128],\n",
    "            ['ReLU', (None, 64, 64, 32), 0],\n",
    "            ['MaxPooling2D', (None, 32, 32, 32), 0, (2, 2), (2, 2), 'valid'],\n",
    "            ['Flatten', (None, 32768), 0],\n",
    "            ['Dense', (None, 1), 32769, 'sigmoid']]\n",
    "    \n",
    "comparator(summary(happy_model), output)"
   ]
  },
  {
   "cell_type": "markdown",
   "metadata": {},
   "source": [
    "Now that your model is created, you can compile it for training with an optimizer and loss of your choice. When the string `accuracy` is specified as a metric, the type of accuracy used will be automatically converted based on the loss function used. This is one of the many optimizations built into TensorFlow that make your life easier! If you'd like to read more on how the compiler operates, check the docs [here](https://www.tensorflow.org/api_docs/python/tf/keras/Model#compile)."
   ]
  },
  {
   "cell_type": "code",
   "execution_count": 18,
   "metadata": {},
   "outputs": [],
   "source": [
    "happy_model.compile(optimizer='adam',\n",
    "                   loss='binary_crossentropy',\n",
    "                   metrics=['accuracy'])"
   ]
  },
  {
   "cell_type": "markdown",
   "metadata": {},
   "source": [
    "It's time to check your model's parameters with the `.summary()` method. This will display the types of layers you have, the shape of the outputs, and how many parameters are in each layer. "
   ]
  },
  {
   "cell_type": "code",
   "execution_count": 19,
   "metadata": {},
   "outputs": [
    {
     "name": "stdout",
     "output_type": "stream",
     "text": [
      "Model: \"sequential_1\"\n",
      "_________________________________________________________________\n",
      " Layer (type)                Output Shape              Param #   \n",
      "=================================================================\n",
      " zero_padding2d_1 (ZeroPaddi  (None, 70, 70, 3)        0         \n",
      " ng2D)                                                           \n",
      "                                                                 \n",
      " conv2d_3 (Conv2D)           (None, 64, 64, 32)        4736      \n",
      "                                                                 \n",
      " batch_normalization_1 (Batc  (None, 64, 64, 32)       128       \n",
      " hNormalization)                                                 \n",
      "                                                                 \n",
      " re_lu_3 (ReLU)              (None, 64, 64, 32)        0         \n",
      "                                                                 \n",
      " max_pooling2d_3 (MaxPooling  (None, 32, 32, 32)       0         \n",
      " 2D)                                                             \n",
      "                                                                 \n",
      " flatten_2 (Flatten)         (None, 32768)             0         \n",
      "                                                                 \n",
      " dense_2 (Dense)             (None, 1)                 32769     \n",
      "                                                                 \n",
      "=================================================================\n",
      "Total params: 37,633\n",
      "Trainable params: 37,569\n",
      "Non-trainable params: 64\n",
      "_________________________________________________________________\n"
     ]
    }
   ],
   "source": [
    "happy_model.summary()"
   ]
  },
  {
   "cell_type": "markdown",
   "metadata": {},
   "source": [
    "<a name='3-2'></a>\n",
    "### 3.2 - Train and Evaluate the Model\n",
    "\n",
    "After creating the model, compiling it with your choice of optimizer and loss function, and doing a sanity check on its contents, you are now ready to build! \n",
    "\n",
    "Simply call `.fit()` to train. That's it! No need for mini-batching, saving, or complex backpropagation computations. That's all been done for you, as you're using a TensorFlow dataset with the batches specified already. You do have the option to specify epoch number or minibatch size if you like (for example, in the case of an un-batched dataset)."
   ]
  },
  {
   "cell_type": "code",
   "execution_count": 20,
   "metadata": {},
   "outputs": [
    {
     "name": "stdout",
     "output_type": "stream",
     "text": [
      "Epoch 1/10\n"
     ]
    },
    {
     "name": "stdout",
     "output_type": "stream",
     "text": [
      "38/38 [==============================] - 2s 36ms/step - loss: 1.0964 - accuracy: 0.7250\n",
      "Epoch 2/10\n",
      "38/38 [==============================] - 1s 30ms/step - loss: 0.1618 - accuracy: 0.9367\n",
      "Epoch 3/10\n",
      "38/38 [==============================] - 1s 33ms/step - loss: 0.2125 - accuracy: 0.9267\n",
      "Epoch 4/10\n",
      "38/38 [==============================] - 1s 30ms/step - loss: 0.0890 - accuracy: 0.9667\n",
      "Epoch 5/10\n",
      "38/38 [==============================] - 1s 34ms/step - loss: 0.0875 - accuracy: 0.9733\n",
      "Epoch 6/10\n",
      "38/38 [==============================] - 1s 33ms/step - loss: 0.0737 - accuracy: 0.9750\n",
      "Epoch 7/10\n",
      "38/38 [==============================] - 1s 34ms/step - loss: 0.0801 - accuracy: 0.9750\n",
      "Epoch 8/10\n",
      "38/38 [==============================] - 1s 30ms/step - loss: 0.0887 - accuracy: 0.9683\n",
      "Epoch 9/10\n",
      "38/38 [==============================] - 1s 35ms/step - loss: 0.0445 - accuracy: 0.9817\n",
      "Epoch 10/10\n",
      "38/38 [==============================] - 1s 31ms/step - loss: 0.1010 - accuracy: 0.9633\n"
     ]
    },
    {
     "data": {
      "text/plain": [
       "<keras.callbacks.History at 0x1a5b051ac80>"
      ]
     },
     "execution_count": 20,
     "metadata": {},
     "output_type": "execute_result"
    }
   ],
   "source": [
    "happy_model.fit(X_train, Y_train, epochs=10, batch_size=16)"
   ]
  },
  {
   "cell_type": "markdown",
   "metadata": {},
   "source": [
    "After that completes, just use `.evaluate()` to evaluate against your test set. This function will print the value of the loss function and the performance metrics specified during the compilation of the model. In this case, the `binary_crossentropy` and the `accuracy` respectively."
   ]
  },
  {
   "cell_type": "code",
   "execution_count": 21,
   "metadata": {},
   "outputs": [
    {
     "name": "stdout",
     "output_type": "stream",
     "text": [
      "5/5 [==============================] - 0s 17ms/step - loss: 0.2473 - accuracy: 0.8867\n"
     ]
    },
    {
     "data": {
      "text/plain": [
       "[0.24727915227413177, 0.8866666555404663]"
      ]
     },
     "execution_count": 21,
     "metadata": {},
     "output_type": "execute_result"
    }
   ],
   "source": [
    "happy_model.evaluate(X_test, Y_test)"
   ]
  },
  {
   "cell_type": "markdown",
   "metadata": {},
   "source": [
    "Easy, right? But what if you need to build a model with shared layers, branches, or multiple inputs and outputs? This is where Sequential won't be able to help you. \n",
    "\n",
    "Next up: Enter the Functional API, your slightly more complex, highly flexible friend.  "
   ]
  },
  {
   "cell_type": "markdown",
   "metadata": {},
   "source": [
    "<a name='4'></a>\n",
    "## 4 - The Functional API"
   ]
  },
  {
   "cell_type": "markdown",
   "metadata": {},
   "source": [
    "use Keras' flexible [Functional API](https://www.tensorflow.org/guide/keras/functional) to build a ConvNet that can differentiate between 6 sign language digits. \n",
    "\n",
    "The Functional API can handle models with non-linear topology, shared layers, as well as layers with multiple inputs or outputs. Imagine that, where the Sequential API requires the model to move in a linear fashion through its layers, the Functional API allows much more flexibility. Where Sequential is a straight line, a Functional model is a graph, where the nodes of the layers can connect in many more ways than one. \n",
    "\n",
    "In the visual example below, the one possible direction of the movement Sequential model is shown in contrast to a skip connection, which is just one of the many ways a Functional model can be constructed. A skip connection, as you might have guessed, skips some layer in the network and feeds the output to a later layer in the network. Don't worry, you'll be spending more time with skip connections very soon! "
   ]
  },
  {
   "attachments": {},
   "cell_type": "markdown",
   "metadata": {},
   "source": [
    "<img src=\"images/seq_vs_func.png\" style=\"width:350px;\">"
   ]
  },
  {
   "cell_type": "markdown",
   "metadata": {},
   "source": [
    "<a name='4-1'></a>\n",
    "### 4.1 - Load the SIGNS Dataset\n",
    "\n",
    "the SIGNS dataset is a collection of 6 signs representing numbers from 0 to 5."
   ]
  },
  {
   "cell_type": "code",
   "execution_count": 22,
   "metadata": {},
   "outputs": [],
   "source": [
    "# Loading the data (signs)\n",
    "X_train_orig, Y_train_orig, X_test_orig, Y_test_orig, classes = load_signs_dataset()"
   ]
  },
  {
   "cell_type": "markdown",
   "metadata": {},
   "source": [
    "<img src=\"images/SIGNS.png\" style=\"width:800px;height:300px;\">"
   ]
  },
  {
   "cell_type": "code",
   "execution_count": 23,
   "metadata": {},
   "outputs": [
    {
     "name": "stdout",
     "output_type": "stream",
     "text": [
      "y = 4\n"
     ]
    },
    {
     "data": {
      "image/png": "[encoded data removed]",
      "text/plain": [
       "<Figure size 640x480 with 1 Axes>"
      ]
     },
     "metadata": {},
     "output_type": "display_data"
    }
   ],
   "source": [
    "# Example of an image from the dataset\n",
    "index = 9\n",
    "plt.imshow(X_train_orig[index])\n",
    "print (\"y = \" + str(np.squeeze(Y_train_orig[:, index])))"
   ]
  },
  {
   "cell_type": "markdown",
   "metadata": {},
   "source": [
    "<a name='4-2'></a>\n",
    "### 4.2 - Split the Data into Train/Test Sets\n",
    "\n",
    "In Course 2, you built a fully-connected network for this dataset. But since this is an image dataset, it is more natural to apply a ConvNet to it.\n",
    "\n",
    "let's examine the shapes of your data. "
   ]
  },
  {
   "cell_type": "code",
   "execution_count": 24,
   "metadata": {},
   "outputs": [
    {
     "name": "stdout",
     "output_type": "stream",
     "text": [
      "number of training examples = 1080\n",
      "number of test examples = 120\n",
      "X_train shape: (1080, 64, 64, 3)\n",
      "Y_train shape: (1080, 6)\n",
      "X_test shape: (120, 64, 64, 3)\n",
      "Y_test shape: (120, 6)\n"
     ]
    }
   ],
   "source": [
    "X_train = X_train_orig/255.\n",
    "X_test = X_test_orig/255.\n",
    "Y_train = convert_to_one_hot(Y_train_orig, 6).T\n",
    "Y_test = convert_to_one_hot(Y_test_orig, 6).T\n",
    "print (\"number of training examples = \" + str(X_train.shape[0]))\n",
    "print (\"number of test examples = \" + str(X_test.shape[0]))\n",
    "print (\"X_train shape: \" + str(X_train.shape))\n",
    "print (\"Y_train shape: \" + str(Y_train.shape))\n",
    "print (\"X_test shape: \" + str(X_test.shape))\n",
    "print (\"Y_test shape: \" + str(Y_test.shape))"
   ]
  },
  {
   "cell_type": "markdown",
   "metadata": {},
   "source": [
    "<a name='4-3'></a>\n",
    "### 4.3 - Forward Propagation\n",
    "\n",
    "In TensorFlow, there are built-in functions that implement the convolution steps for you. By now, you should be familiar with how TensorFlow builds computational graphs. In the [Functional API](https://www.tensorflow.org/guide/keras/functional), you create a graph of layers. This is what allows such great flexibility.\n",
    "\n",
    "However, the following model could also be defined using the Sequential API since the information flow is on a single line. But don't deviate. What we want you to learn is to use the functional API.\n",
    "\n",
    "Begin building your graph of layers by creating an input node that functions as a callable object:\n",
    "\n",
    "- **input_img = tf.keras.Input(shape=input_shape):** \n",
    "\n",
    "Then, create a new node in the graph of layers by calling a layer on the `input_img` object: \n",
    "\n",
    "- **tf.keras.layers.Conv2D(filters= ... , kernel_size= ... , padding='same')(input_img):** Read the full documentation on [Conv2D](https://www.tensorflow.org/api_docs/python/tf/keras/layers/Conv2D).\n",
    "\n",
    "- **tf.keras.layers.MaxPool2D(pool_size=(f, f), strides=(s, s), padding='same'):** `MaxPool2D()` downsamples your input using a window of size (f, f) and strides of size (s, s) to carry out max pooling over each window.  For max pooling, you usually operate on a single example at a time and a single channel at a time. Read the full documentation on [MaxPool2D](https://www.tensorflow.org/api_docs/python/tf/keras/layers/MaxPool2D).\n",
    "\n",
    "- **tf.keras.layers.ReLU():** computes the elementwise ReLU of Z (which can be any shape). You can read the full documentation on [ReLU](https://www.tensorflow.org/api_docs/python/tf/keras/layers/ReLU).\n",
    "\n",
    "- **tf.keras.layers.Flatten()**: given a tensor \"P\", this function takes each training (or test) example in the batch and flattens it into a 1D vector.  \n",
    "\n",
    "    * If a tensor P has the shape (batch_size,h,w,c), it returns a flattened tensor with shape (batch_size, k), where $k=h \\times w \\times c$.  \"k\" equals the product of all the dimension sizes other than the first dimension.\n",
    "    \n",
    "    * For example, given a tensor with dimensions [100, 2, 3, 4], it flattens the tensor to be of shape [100, 24], where 24 = 2 * 3 * 4.  You can read the full documentation on [Flatten](https://www.tensorflow.org/api_docs/python/tf/keras/layers/Flatten).\n",
    "\n",
    "- **tf.keras.layers.Dense(units= ... , activation='softmax')(F):** given the flattened input F, it returns the output computed using a fully connected layer. You can read the full documentation on [Dense](https://www.tensorflow.org/api_docs/python/tf/keras/layers/Dense).\n",
    "\n",
    "In the last function above (`tf.keras.layers.Dense()`), the fully connected layer automatically initializes weights in the graph and keeps on training them as you train the model. Hence, you did not need to initialize those weights when initializing the parameters.\n",
    "\n",
    "Lastly, before creating the model, you'll need to define the output using the last of the function's compositions (in this example, a Dense layer): \n",
    "\n",
    "- **outputs = tf.keras.layers.Dense(units=6, activation='softmax')(F)**\n",
    "\n",
    "\n",
    "#### Window, kernel, filter, pool\n",
    "\n",
    "The words \"kernel\" and \"filter\" are used to refer to the same thing. The word \"filter\" accounts for the amount of \"kernels\" that will be used in a single convolution layer. \"Pool\" is the name of the operation that takes the max or average value of the kernels. \n",
    "\n",
    "This is why the parameter `pool_size` refers to `kernel_size`, and you use `(f,f)` to refer to the filter size. \n",
    "\n",
    "Pool size and kernel size refer to the same thing in different objects - They refer to the shape of the window where the operation takes place. "
   ]
  },
  {
   "cell_type": "markdown",
   "metadata": {},
   "source": [
    "<a name='ex-2'></a>\n",
    "### Exercise 2 - convolutional_model\n",
    "\n",
    "Implement the `convolutional_model` function below to build the following model: `CONV2D -> RELU -> MAXPOOL -> CONV2D -> RELU -> MAXPOOL -> FLATTEN -> DENSE`. Use the functions above! \n",
    "\n",
    "Also, plug in the following parameters for all the steps:\n",
    "\n",
    " - [Conv2D](https://www.tensorflow.org/api_docs/python/tf/keras/layers/Conv2D): Use 8, of 4 by 4 filters, stride 1, padding is \"SAME\"\n",
    " - [ReLU](https://www.tensorflow.org/api_docs/python/tf/keras/layers/ReLU)\n",
    " - [MaxPool2D](https://www.tensorflow.org/api_docs/python/tf/keras/layers/MaxPool2D): Use an 8 by 8 filter size and an 8 by 8 stride, padding is \"SAME\"\n",
    " - **Conv2D**: Use 16, of 2 by 2 filters, stride 1, padding is \"SAME\"\n",
    " - **ReLU**\n",
    " - **MaxPool2D**: Use a 4 by 4 filter size and a 4 by 4 stride, padding is \"SAME\"\n",
    " - [Flatten](https://www.tensorflow.org/api_docs/python/tf/keras/layers/Flatten) the previous output.\n",
    " - Fully-connected ([Dense](https://www.tensorflow.org/api_docs/python/tf/keras/layers/Dense)) layer: Apply a fully connected layer with 6 neurons and a softmax activation. "
   ]
  },
  {
   "cell_type": "code",
   "execution_count": 25,
   "metadata": {
    "deletable": false,
    "nbgrader": {
     "cell_type": "code",
     "checksum": "f58643806aa8380c96225fc8b4c5e7aa",
     "grade": false,
     "grade_id": "cell-dac51744a9e03f51",
     "locked": false,
     "schema_version": 3,
     "solution": true,
     "task": false
    }
   },
   "outputs": [],
   "source": [
    "# GRADED FUNCTION: convolutional_model\n",
    "\n",
    "def convolutional_model(input_shape):\n",
    "    \"\"\"\n",
    "    Implements the forward propagation for the model:\n",
    "    CONV2D -> RELU -> MAXPOOL -> CONV2D -> RELU -> MAXPOOL -> FLATTEN -> DENSE\n",
    "    \n",
    "    Note that for simplicity and grading purposes, you'll hard-code some values\n",
    "    such as the stride and kernel (filter) sizes. \n",
    "    Normally, functions should take these values as function parameters.\n",
    "    \n",
    "    Arguments:\n",
    "    input_img -- input dataset, of shape (input_shape)\n",
    "\n",
    "    Returns:\n",
    "    model -- TF Keras model (object containing the information for the entire training process) \n",
    "    \"\"\"\n",
    "\n",
    "    input_img = tf.keras.Input(shape=input_shape)\n",
    "    \n",
    "    Z1 = tfl.Conv2D(filters=8, kernel_size=(4, 4), strides=(1, 1), padding='SAME')(input_img) ## CONV2D: 8 filters 4x4, stride of 1, padding 'SAME'\n",
    "    A1 = tfl.ReLU()(Z1) ## RELU\n",
    "    P1 = tfl.MaxPooling2D(pool_size=(8, 8), strides=(8, 8), padding='SAME')(A1)  ## MAXPOOL: window 8x8, stride 8, padding 'SAME'\n",
    "    Z2 = tfl.Conv2D(filters=16, kernel_size=(2, 2), strides=(1, 1), padding='SAME')(P1)  ## CONV2D: 16 filters 2x2, stride 1, padding 'SAME'\n",
    "    A2 = tfl.ReLU()(Z2)  ## RELU\n",
    "    P2 = tfl.MaxPooling2D(pool_size=(4, 4), strides=(4, 4), padding='SAME')(A2)  ## MAXPOOL: window 4x4, stride 4, padding 'SAME'\n",
    "    F = tfl.Flatten()(P2)  ## FLATTEN\n",
    "    outputs = tfl.Dense(units=6, activation='softmax')(F)  ## 6 neurons in output layer. Hint: one of the arguments should be \"activation='softmax'\" \n",
    "    \n",
    "    model = tf.keras.Model(inputs=input_img, outputs=outputs)\n",
    "    return model"
   ]
  },
  {
   "cell_type": "code",
   "execution_count": 26,
   "metadata": {
    "deletable": false,
    "editable": false,
    "nbgrader": {
     "cell_type": "code",
     "checksum": "483d626949930a0b0ef20997e7c6ba72",
     "grade": true,
     "grade_id": "cell-45d22e92042174c9",
     "locked": true,
     "points": 10,
     "schema_version": 3,
     "solution": false,
     "task": false
    }
   },
   "outputs": [
    {
     "name": "stdout",
     "output_type": "stream",
     "text": [
      "Model: \"model_1\"\n",
      "_________________________________________________________________\n",
      " Layer (type)                Output Shape              Param #   \n",
      "=================================================================\n",
      " input_2 (InputLayer)        [(None, 64, 64, 3)]       0         \n",
      "                                                                 \n",
      " conv2d_4 (Conv2D)           (None, 64, 64, 8)         392       \n",
      "                                                                 \n",
      " re_lu_4 (ReLU)              (None, 64, 64, 8)         0         \n",
      "                                                                 \n",
      " max_pooling2d_4 (MaxPooling  (None, 8, 8, 8)          0         \n",
      " 2D)                                                             \n",
      "                                                                 \n",
      " conv2d_5 (Conv2D)           (None, 8, 8, 16)          528       \n",
      "                                                                 \n",
      " re_lu_5 (ReLU)              (None, 8, 8, 16)          0         \n",
      "                                                                 \n",
      " max_pooling2d_5 (MaxPooling  (None, 2, 2, 16)         0         \n",
      " 2D)                                                             \n",
      "                                                                 \n",
      " flatten_3 (Flatten)         (None, 64)                0         \n",
      "                                                                 \n",
      " dense_3 (Dense)             (None, 6)                 390       \n",
      "                                                                 \n",
      "=================================================================\n",
      "Total params: 1,310\n",
      "Trainable params: 1,310\n",
      "Non-trainable params: 0\n",
      "_________________________________________________________________\n",
      "All tests passed!\n"
     ]
    }
   ],
   "source": [
    "conv_model = convolutional_model((64, 64, 3))\n",
    "conv_model.compile(optimizer='adam',\n",
    "                  loss='categorical_crossentropy',\n",
    "                  metrics=['accuracy'])\n",
    "conv_model.summary()\n",
    "    \n",
    "output = [['InputLayer', [(None, 64, 64, 3)], 0],\n",
    "        ['Conv2D', (None, 64, 64, 8), 392, 'same', 'linear', 'GlorotUniform'],\n",
    "        ['ReLU', (None, 64, 64, 8), 0],\n",
    "        ['MaxPooling2D', (None, 8, 8, 8), 0, (8, 8), (8, 8), 'same'],\n",
    "        ['Conv2D', (None, 8, 8, 16), 528, 'same', 'linear', 'GlorotUniform'],\n",
    "        ['ReLU', (None, 8, 8, 16), 0],\n",
    "        ['MaxPooling2D', (None, 2, 2, 16), 0, (4, 4), (4, 4), 'same'],\n",
    "        ['Flatten', (None, 64), 0],\n",
    "        ['Dense', (None, 6), 390, 'softmax']]\n",
    "    \n",
    "comparator(summary(conv_model), output)"
   ]
  },
  {
   "cell_type": "markdown",
   "metadata": {},
   "source": [
    "Both the Sequential and Functional APIs return a TF Keras model object. The only difference is how inputs are handled inside the object model! "
   ]
  },
  {
   "cell_type": "markdown",
   "metadata": {},
   "source": [
    "<a name='4-4'></a>\n",
    "### 4.4 - Train the Model"
   ]
  },
  {
   "cell_type": "code",
   "execution_count": 27,
   "metadata": {},
   "outputs": [
    {
     "name": "stdout",
     "output_type": "stream",
     "text": [
      "Epoch 1/100\n"
     ]
    },
    {
     "name": "stdout",
     "output_type": "stream",
     "text": [
      "17/17 [==============================] - 1s 35ms/step - loss: 1.8013 - accuracy: 0.2093 - val_loss: 1.7855 - val_accuracy: 0.2250\n",
      "Epoch 2/100\n",
      "17/17 [==============================] - 1s 30ms/step - loss: 1.7856 - accuracy: 0.2148 - val_loss: 1.7825 - val_accuracy: 0.2500\n",
      "Epoch 3/100\n",
      "17/17 [==============================] - 1s 35ms/step - loss: 1.7791 - accuracy: 0.2519 - val_loss: 1.7764 - val_accuracy: 0.3000\n",
      "Epoch 4/100\n",
      "17/17 [==============================] - 1s 30ms/step - loss: 1.7713 - accuracy: 0.2722 - val_loss: 1.7696 - val_accuracy: 0.3167\n",
      "Epoch 5/100\n",
      "17/17 [==============================] - 0s 29ms/step - loss: 1.7633 - accuracy: 0.3278 - val_loss: 1.7623 - val_accuracy: 0.3667\n",
      "Epoch 6/100\n",
      "17/17 [==============================] - 1s 30ms/step - loss: 1.7541 - accuracy: 0.3546 - val_loss: 1.7540 - val_accuracy: 0.3667\n",
      "Epoch 7/100\n",
      "17/17 [==============================] - 1s 32ms/step - loss: 1.7436 - accuracy: 0.3778 - val_loss: 1.7445 - val_accuracy: 0.3583\n",
      "Epoch 8/100\n",
      "17/17 [==============================] - 1s 35ms/step - loss: 1.7292 - accuracy: 0.3843 - val_loss: 1.7342 - val_accuracy: 0.3250\n",
      "Epoch 9/100\n",
      "17/17 [==============================] - 0s 29ms/step - loss: 1.7124 - accuracy: 0.4009 - val_loss: 1.7201 - val_accuracy: 0.3250\n",
      "Epoch 10/100\n",
      "17/17 [==============================] - 1s 33ms/step - loss: 1.6950 - accuracy: 0.3944 - val_loss: 1.7055 - val_accuracy: 0.3167\n",
      "Epoch 11/100\n",
      "17/17 [==============================] - 1s 31ms/step - loss: 1.6720 - accuracy: 0.3972 - val_loss: 1.6879 - val_accuracy: 0.3167\n",
      "Epoch 12/100\n",
      "17/17 [==============================] - 1s 36ms/step - loss: 1.6462 - accuracy: 0.4130 - val_loss: 1.6670 - val_accuracy: 0.3583\n",
      "Epoch 13/100\n",
      "17/17 [==============================] - 1s 31ms/step - loss: 1.6178 - accuracy: 0.4222 - val_loss: 1.6414 - val_accuracy: 0.3750\n",
      "Epoch 14/100\n",
      "17/17 [==============================] - 1s 30ms/step - loss: 1.5864 - accuracy: 0.4500 - val_loss: 1.6141 - val_accuracy: 0.3917\n",
      "Epoch 15/100\n",
      "17/17 [==============================] - 1s 30ms/step - loss: 1.5537 - accuracy: 0.4620 - val_loss: 1.5874 - val_accuracy: 0.3750\n",
      "Epoch 16/100\n",
      "17/17 [==============================] - 1s 35ms/step - loss: 1.5204 - accuracy: 0.4704 - val_loss: 1.5633 - val_accuracy: 0.3833\n",
      "Epoch 17/100\n",
      "17/17 [==============================] - 1s 35ms/step - loss: 1.4860 - accuracy: 0.4870 - val_loss: 1.5367 - val_accuracy: 0.3917\n",
      "Epoch 18/100\n",
      "17/17 [==============================] - 1s 33ms/step - loss: 1.4519 - accuracy: 0.4935 - val_loss: 1.5121 - val_accuracy: 0.4000\n",
      "Epoch 19/100\n",
      "17/17 [==============================] - 1s 30ms/step - loss: 1.4189 - accuracy: 0.4991 - val_loss: 1.4865 - val_accuracy: 0.4083\n",
      "Epoch 20/100\n",
      "17/17 [==============================] - 1s 30ms/step - loss: 1.3853 - accuracy: 0.5157 - val_loss: 1.4623 - val_accuracy: 0.4000\n",
      "Epoch 21/100\n",
      "17/17 [==============================] - 1s 40ms/step - loss: 1.3525 - accuracy: 0.5296 - val_loss: 1.4386 - val_accuracy: 0.4000\n",
      "Epoch 22/100\n",
      "17/17 [==============================] - 1s 31ms/step - loss: 1.3218 - accuracy: 0.5324 - val_loss: 1.4156 - val_accuracy: 0.4500\n",
      "Epoch 23/100\n",
      "17/17 [==============================] - 1s 32ms/step - loss: 1.2924 - accuracy: 0.5435 - val_loss: 1.3923 - val_accuracy: 0.4500\n",
      "Epoch 24/100\n",
      "17/17 [==============================] - 1s 32ms/step - loss: 1.2630 - accuracy: 0.5528 - val_loss: 1.3707 - val_accuracy: 0.4417\n",
      "Epoch 25/100\n",
      "17/17 [==============================] - 1s 36ms/step - loss: 1.2365 - accuracy: 0.5602 - val_loss: 1.3498 - val_accuracy: 0.4667\n",
      "Epoch 26/100\n",
      "17/17 [==============================] - 1s 33ms/step - loss: 1.2100 - accuracy: 0.5759 - val_loss: 1.3287 - val_accuracy: 0.4667\n",
      "Epoch 27/100\n",
      "17/17 [==============================] - 0s 29ms/step - loss: 1.1849 - accuracy: 0.5824 - val_loss: 1.3092 - val_accuracy: 0.4750\n",
      "Epoch 28/100\n",
      "17/17 [==============================] - 1s 32ms/step - loss: 1.1563 - accuracy: 0.6028 - val_loss: 1.2791 - val_accuracy: 0.4917\n",
      "Epoch 29/100\n",
      "17/17 [==============================] - 1s 34ms/step - loss: 1.1300 - accuracy: 0.6093 - val_loss: 1.2598 - val_accuracy: 0.4833\n",
      "Epoch 30/100\n",
      "17/17 [==============================] - 1s 34ms/step - loss: 1.1075 - accuracy: 0.6093 - val_loss: 1.2367 - val_accuracy: 0.5083\n",
      "Epoch 31/100\n",
      "17/17 [==============================] - 1s 31ms/step - loss: 1.0811 - accuracy: 0.6250 - val_loss: 1.2071 - val_accuracy: 0.5000\n",
      "Epoch 32/100\n",
      "17/17 [==============================] - 1s 31ms/step - loss: 1.0604 - accuracy: 0.6259 - val_loss: 1.1845 - val_accuracy: 0.5333\n",
      "Epoch 33/100\n",
      "17/17 [==============================] - 1s 33ms/step - loss: 1.0363 - accuracy: 0.6306 - val_loss: 1.1667 - val_accuracy: 0.5250\n",
      "Epoch 34/100\n",
      "17/17 [==============================] - 1s 41ms/step - loss: 1.0147 - accuracy: 0.6407 - val_loss: 1.1479 - val_accuracy: 0.5417\n",
      "Epoch 35/100\n",
      "17/17 [==============================] - 1s 31ms/step - loss: 0.9960 - accuracy: 0.6481 - val_loss: 1.1271 - val_accuracy: 0.5417\n",
      "Epoch 36/100\n",
      "17/17 [==============================] - 1s 32ms/step - loss: 0.9748 - accuracy: 0.6537 - val_loss: 1.1096 - val_accuracy: 0.5583\n",
      "Epoch 37/100\n",
      "17/17 [==============================] - 1s 33ms/step - loss: 0.9544 - accuracy: 0.6611 - val_loss: 1.0915 - val_accuracy: 0.5750\n",
      "Epoch 38/100\n",
      "17/17 [==============================] - 1s 35ms/step - loss: 0.9346 - accuracy: 0.6620 - val_loss: 1.0770 - val_accuracy: 0.5917\n",
      "Epoch 39/100\n",
      "17/17 [==============================] - 1s 32ms/step - loss: 0.9151 - accuracy: 0.6713 - val_loss: 1.0550 - val_accuracy: 0.6000\n",
      "Epoch 40/100\n",
      "17/17 [==============================] - 1s 31ms/step - loss: 0.8969 - accuracy: 0.6759 - val_loss: 1.0336 - val_accuracy: 0.6083\n",
      "Epoch 41/100\n",
      "17/17 [==============================] - 1s 31ms/step - loss: 0.8788 - accuracy: 0.6787 - val_loss: 1.0185 - val_accuracy: 0.6083\n",
      "Epoch 42/100\n",
      "17/17 [==============================] - 1s 33ms/step - loss: 0.8610 - accuracy: 0.6843 - val_loss: 1.0007 - val_accuracy: 0.6083\n",
      "Epoch 43/100\n",
      "17/17 [==============================] - 1s 41ms/step - loss: 0.8442 - accuracy: 0.6917 - val_loss: 0.9902 - val_accuracy: 0.6083\n",
      "Epoch 44/100\n",
      "17/17 [==============================] - 1s 31ms/step - loss: 0.8278 - accuracy: 0.7037 - val_loss: 0.9740 - val_accuracy: 0.6167\n",
      "Epoch 45/100\n",
      "17/17 [==============================] - 1s 32ms/step - loss: 0.8102 - accuracy: 0.7083 - val_loss: 0.9585 - val_accuracy: 0.6250\n",
      "Epoch 46/100\n",
      "17/17 [==============================] - 1s 30ms/step - loss: 0.7953 - accuracy: 0.7194 - val_loss: 0.9471 - val_accuracy: 0.6167\n",
      "Epoch 47/100\n",
      "17/17 [==============================] - 1s 35ms/step - loss: 0.7789 - accuracy: 0.7278 - val_loss: 0.9364 - val_accuracy: 0.6333\n",
      "Epoch 48/100\n",
      "17/17 [==============================] - 1s 31ms/step - loss: 0.7659 - accuracy: 0.7324 - val_loss: 0.9244 - val_accuracy: 0.6333\n",
      "Epoch 49/100\n",
      "17/17 [==============================] - 1s 35ms/step - loss: 0.7530 - accuracy: 0.7407 - val_loss: 0.9152 - val_accuracy: 0.6333\n",
      "Epoch 50/100\n",
      "17/17 [==============================] - 1s 30ms/step - loss: 0.7417 - accuracy: 0.7435 - val_loss: 0.9031 - val_accuracy: 0.6333\n",
      "Epoch 51/100\n",
      "17/17 [==============================] - 1s 31ms/step - loss: 0.7298 - accuracy: 0.7491 - val_loss: 0.8913 - val_accuracy: 0.6417\n",
      "Epoch 52/100\n",
      "17/17 [==============================] - 1s 37ms/step - loss: 0.7180 - accuracy: 0.7602 - val_loss: 0.8771 - val_accuracy: 0.6583\n",
      "Epoch 53/100\n",
      "17/17 [==============================] - 1s 32ms/step - loss: 0.7070 - accuracy: 0.7593 - val_loss: 0.8626 - val_accuracy: 0.6583\n",
      "Epoch 54/100\n",
      "17/17 [==============================] - 1s 30ms/step - loss: 0.6961 - accuracy: 0.7620 - val_loss: 0.8474 - val_accuracy: 0.6583\n",
      "Epoch 55/100\n",
      "17/17 [==============================] - 1s 30ms/step - loss: 0.6848 - accuracy: 0.7676 - val_loss: 0.8334 - val_accuracy: 0.6667\n",
      "Epoch 56/100\n",
      "17/17 [==============================] - 1s 40ms/step - loss: 0.6744 - accuracy: 0.7722 - val_loss: 0.8196 - val_accuracy: 0.6667\n",
      "Epoch 57/100\n",
      "17/17 [==============================] - 1s 32ms/step - loss: 0.6642 - accuracy: 0.7731 - val_loss: 0.8036 - val_accuracy: 0.6667\n",
      "Epoch 58/100\n",
      "17/17 [==============================] - 1s 30ms/step - loss: 0.6526 - accuracy: 0.7741 - val_loss: 0.7919 - val_accuracy: 0.6667\n",
      "Epoch 59/100\n",
      "17/17 [==============================] - 1s 31ms/step - loss: 0.6415 - accuracy: 0.7806 - val_loss: 0.7799 - val_accuracy: 0.6833\n",
      "Epoch 60/100\n",
      "17/17 [==============================] - 1s 31ms/step - loss: 0.6310 - accuracy: 0.7898 - val_loss: 0.7717 - val_accuracy: 0.6833\n",
      "Epoch 61/100\n",
      "17/17 [==============================] - 1s 36ms/step - loss: 0.6211 - accuracy: 0.7963 - val_loss: 0.7614 - val_accuracy: 0.6833\n",
      "Epoch 62/100\n",
      "17/17 [==============================] - 1s 32ms/step - loss: 0.6124 - accuracy: 0.7991 - val_loss: 0.7536 - val_accuracy: 0.6833\n",
      "Epoch 63/100\n",
      "17/17 [==============================] - 1s 34ms/step - loss: 0.6040 - accuracy: 0.7991 - val_loss: 0.7431 - val_accuracy: 0.6917\n",
      "Epoch 64/100\n",
      "17/17 [==============================] - 1s 31ms/step - loss: 0.5956 - accuracy: 0.8028 - val_loss: 0.7340 - val_accuracy: 0.7083\n",
      "Epoch 65/100\n",
      "17/17 [==============================] - 1s 38ms/step - loss: 0.5865 - accuracy: 0.8065 - val_loss: 0.7257 - val_accuracy: 0.7167\n",
      "Epoch 66/100\n",
      "17/17 [==============================] - 1s 31ms/step - loss: 0.5778 - accuracy: 0.8148 - val_loss: 0.7182 - val_accuracy: 0.7167\n",
      "Epoch 67/100\n",
      "17/17 [==============================] - 1s 31ms/step - loss: 0.5700 - accuracy: 0.8148 - val_loss: 0.7104 - val_accuracy: 0.7167\n",
      "Epoch 68/100\n",
      "17/17 [==============================] - 1s 30ms/step - loss: 0.5619 - accuracy: 0.8148 - val_loss: 0.7049 - val_accuracy: 0.7167\n",
      "Epoch 69/100\n",
      "17/17 [==============================] - 1s 33ms/step - loss: 0.5552 - accuracy: 0.8194 - val_loss: 0.6957 - val_accuracy: 0.7167\n",
      "Epoch 70/100\n",
      "17/17 [==============================] - 1s 40ms/step - loss: 0.5473 - accuracy: 0.8185 - val_loss: 0.6920 - val_accuracy: 0.7250\n",
      "Epoch 71/100\n",
      "17/17 [==============================] - 1s 30ms/step - loss: 0.5416 - accuracy: 0.8204 - val_loss: 0.6844 - val_accuracy: 0.7167\n",
      "Epoch 72/100\n",
      "17/17 [==============================] - 1s 30ms/step - loss: 0.5330 - accuracy: 0.8231 - val_loss: 0.6789 - val_accuracy: 0.7250\n",
      "Epoch 73/100\n",
      "17/17 [==============================] - 1s 30ms/step - loss: 0.5266 - accuracy: 0.8259 - val_loss: 0.6721 - val_accuracy: 0.7167\n",
      "Epoch 74/100\n",
      "17/17 [==============================] - 1s 37ms/step - loss: 0.5192 - accuracy: 0.8269 - val_loss: 0.6679 - val_accuracy: 0.7250\n",
      "Epoch 75/100\n",
      "17/17 [==============================] - 1s 31ms/step - loss: 0.5137 - accuracy: 0.8278 - val_loss: 0.6609 - val_accuracy: 0.7250\n",
      "Epoch 76/100\n",
      "17/17 [==============================] - 1s 32ms/step - loss: 0.5078 - accuracy: 0.8259 - val_loss: 0.6569 - val_accuracy: 0.7250\n",
      "Epoch 77/100\n",
      "17/17 [==============================] - 1s 34ms/step - loss: 0.5031 - accuracy: 0.8296 - val_loss: 0.6505 - val_accuracy: 0.7333\n",
      "Epoch 78/100\n",
      "17/17 [==============================] - 1s 36ms/step - loss: 0.4973 - accuracy: 0.8324 - val_loss: 0.6457 - val_accuracy: 0.7333\n",
      "Epoch 79/100\n",
      "17/17 [==============================] - 1s 32ms/step - loss: 0.4921 - accuracy: 0.8315 - val_loss: 0.6402 - val_accuracy: 0.7333\n",
      "Epoch 80/100\n",
      "17/17 [==============================] - 1s 32ms/step - loss: 0.4865 - accuracy: 0.8343 - val_loss: 0.6350 - val_accuracy: 0.7333\n",
      "Epoch 81/100\n",
      "17/17 [==============================] - 1s 33ms/step - loss: 0.4808 - accuracy: 0.8343 - val_loss: 0.6304 - val_accuracy: 0.7417\n",
      "Epoch 82/100\n",
      "17/17 [==============================] - 1s 32ms/step - loss: 0.4761 - accuracy: 0.8343 - val_loss: 0.6256 - val_accuracy: 0.7500\n",
      "Epoch 83/100\n",
      "17/17 [==============================] - 1s 37ms/step - loss: 0.4708 - accuracy: 0.8352 - val_loss: 0.6200 - val_accuracy: 0.7583\n",
      "Epoch 84/100\n",
      "17/17 [==============================] - 1s 32ms/step - loss: 0.4656 - accuracy: 0.8398 - val_loss: 0.6157 - val_accuracy: 0.7667\n",
      "Epoch 85/100\n",
      "17/17 [==============================] - 1s 31ms/step - loss: 0.4605 - accuracy: 0.8435 - val_loss: 0.6105 - val_accuracy: 0.7667\n",
      "Epoch 86/100\n",
      "17/17 [==============================] - 1s 30ms/step - loss: 0.4560 - accuracy: 0.8454 - val_loss: 0.6069 - val_accuracy: 0.7667\n",
      "Epoch 87/100\n",
      "17/17 [==============================] - 1s 37ms/step - loss: 0.4514 - accuracy: 0.8491 - val_loss: 0.6019 - val_accuracy: 0.7833\n",
      "Epoch 88/100\n",
      "17/17 [==============================] - 1s 31ms/step - loss: 0.4472 - accuracy: 0.8472 - val_loss: 0.5977 - val_accuracy: 0.7833\n",
      "Epoch 89/100\n",
      "17/17 [==============================] - 1s 31ms/step - loss: 0.4430 - accuracy: 0.8509 - val_loss: 0.5932 - val_accuracy: 0.7917\n",
      "Epoch 90/100\n",
      "17/17 [==============================] - 1s 33ms/step - loss: 0.4383 - accuracy: 0.8481 - val_loss: 0.5891 - val_accuracy: 0.7833\n",
      "Epoch 91/100\n",
      "17/17 [==============================] - 1s 37ms/step - loss: 0.4335 - accuracy: 0.8556 - val_loss: 0.5857 - val_accuracy: 0.7917\n",
      "Epoch 92/100\n",
      "17/17 [==============================] - 1s 33ms/step - loss: 0.4287 - accuracy: 0.8574 - val_loss: 0.5818 - val_accuracy: 0.8000\n",
      "Epoch 93/100\n",
      "17/17 [==============================] - 1s 30ms/step - loss: 0.4246 - accuracy: 0.8583 - val_loss: 0.5783 - val_accuracy: 0.8000\n",
      "Epoch 94/100\n",
      "17/17 [==============================] - 1s 31ms/step - loss: 0.4205 - accuracy: 0.8593 - val_loss: 0.5739 - val_accuracy: 0.8000\n",
      "Epoch 95/100\n",
      "17/17 [==============================] - 1s 34ms/step - loss: 0.4163 - accuracy: 0.8602 - val_loss: 0.5700 - val_accuracy: 0.8000\n",
      "Epoch 96/100\n",
      "17/17 [==============================] - 1s 38ms/step - loss: 0.4127 - accuracy: 0.8630 - val_loss: 0.5656 - val_accuracy: 0.8000\n",
      "Epoch 97/100\n",
      "17/17 [==============================] - 1s 33ms/step - loss: 0.4087 - accuracy: 0.8620 - val_loss: 0.5622 - val_accuracy: 0.8000\n",
      "Epoch 98/100\n",
      "17/17 [==============================] - 1s 32ms/step - loss: 0.4051 - accuracy: 0.8657 - val_loss: 0.5580 - val_accuracy: 0.8000\n",
      "Epoch 99/100\n",
      "17/17 [==============================] - 1s 35ms/step - loss: 0.4013 - accuracy: 0.8667 - val_loss: 0.5548 - val_accuracy: 0.8083\n",
      "Epoch 100/100\n",
      "17/17 [==============================] - 1s 36ms/step - loss: 0.3973 - accuracy: 0.8685 - val_loss: 0.5510 - val_accuracy: 0.8000\n"
     ]
    }
   ],
   "source": [
    "train_dataset = tf.data.Dataset.from_tensor_slices((X_train, Y_train)).batch(64)\n",
    "test_dataset = tf.data.Dataset.from_tensor_slices((X_test, Y_test)).batch(64)\n",
    "history = conv_model.fit(train_dataset, epochs=100, validation_data=test_dataset)"
   ]
  },
  {
   "cell_type": "markdown",
   "metadata": {},
   "source": [
    "<a name='5'></a>\n",
    "## 5 - History Object \n",
    "\n",
    "The history object is an output of the `.fit()` operation, and provides a record of all the loss and metric values in memory. It's stored as a dictionary that you can retrieve at `history.history`: "
   ]
  },
  {
   "cell_type": "code",
   "execution_count": 28,
   "metadata": {},
   "outputs": [
    {
     "data": {
      "text/plain": [
       "{'loss': [1.8012958765029907,\n",
       "  1.785585880279541,\n",
       "  1.7790956497192383,\n",
       "  1.7713079452514648,\n",
       "  1.7633072137832642,\n",
       "  1.7541097402572632,\n",
       "  1.7435818910598755,\n",
       "  1.7291823625564575,\n",
       "  1.7123656272888184,\n",
       "  1.6949803829193115,\n",
       "  1.6720459461212158,\n",
       "  1.6461838483810425,\n",
       "  1.6177946329116821,\n",
       "  1.5863714218139648,\n",
       "  1.5536919832229614,\n",
       "  1.5203684568405151,\n",
       "  1.486034631729126,\n",
       "  1.4519304037094116,\n",
       "  1.4189109802246094,\n",
       "  1.385286569595337,\n",
       "  1.3525269031524658,\n",
       "  1.3217625617980957,\n",
       "  1.2923580408096313,\n",
       "  1.2630079984664917,\n",
       "  1.2365089654922485,\n",
       "  1.2099822759628296,\n",
       "  1.1849457025527954,\n",
       "  1.1562737226486206,\n",
       "  1.1299588680267334,\n",
       "  1.1074721813201904,\n",
       "  1.0811461210250854,\n",
       "  1.0603971481323242,\n",
       "  1.0362789630889893,\n",
       "  1.014742136001587,\n",
       "  0.9959984421730042,\n",
       "  0.9748010635375977,\n",
       "  0.954434335231781,\n",
       "  0.9346469640731812,\n",
       "  0.9151138067245483,\n",
       "  0.8968828320503235,\n",
       "  0.878847062587738,\n",
       "  0.8610219955444336,\n",
       "  0.8441797494888306,\n",
       "  0.8278226852416992,\n",
       "  0.810197651386261,\n",
       "  0.7952557802200317,\n",
       "  0.7789192199707031,\n",
       "  0.7658693194389343,\n",
       "  0.7530016899108887,\n",
       "  0.7417155504226685,\n",
       "  0.7297505736351013,\n",
       "  0.7180314660072327,\n",
       "  0.7070452570915222,\n",
       "  0.6960560083389282,\n",
       "  0.6848227977752686,\n",
       "  0.6744415163993835,\n",
       "  0.664233386516571,\n",
       "  0.6526002287864685,\n",
       "  0.6414982080459595,\n",
       "  0.6310386657714844,\n",
       "  0.6211063861846924,\n",
       "  0.6123659610748291,\n",
       "  0.6040216088294983,\n",
       "  0.5956164598464966,\n",
       "  0.5864822864532471,\n",
       "  0.5778110027313232,\n",
       "  0.5699511766433716,\n",
       "  0.5619444847106934,\n",
       "  0.5551979541778564,\n",
       "  0.5472506880760193,\n",
       "  0.5416004657745361,\n",
       "  0.5330093502998352,\n",
       "  0.5266218185424805,\n",
       "  0.519160270690918,\n",
       "  0.5137072801589966,\n",
       "  0.5078469514846802,\n",
       "  0.5030950903892517,\n",
       "  0.4973306655883789,\n",
       "  0.49211007356643677,\n",
       "  0.48645341396331787,\n",
       "  0.48080670833587646,\n",
       "  0.4760824739933014,\n",
       "  0.4707557260990143,\n",
       "  0.46555691957473755,\n",
       "  0.4604708254337311,\n",
       "  0.4560413956642151,\n",
       "  0.4514215886592865,\n",
       "  0.447218120098114,\n",
       "  0.44295167922973633,\n",
       "  0.43829554319381714,\n",
       "  0.43354833126068115,\n",
       "  0.4287278950214386,\n",
       "  0.42461007833480835,\n",
       "  0.42050784826278687,\n",
       "  0.41634783148765564,\n",
       "  0.41271424293518066,\n",
       "  0.40869638323783875,\n",
       "  0.4050699472427368,\n",
       "  0.40127602219581604,\n",
       "  0.39734724164009094],\n",
       " 'accuracy': [0.2092592567205429,\n",
       "  0.21481481194496155,\n",
       "  0.2518518567085266,\n",
       "  0.27222222089767456,\n",
       "  0.32777777314186096,\n",
       "  0.35462963581085205,\n",
       "  0.3777777850627899,\n",
       "  0.38425925374031067,\n",
       "  0.4009259343147278,\n",
       "  0.39444443583488464,\n",
       "  0.39722222089767456,\n",
       "  0.41296297311782837,\n",
       "  0.42222222685813904,\n",
       "  0.44999998807907104,\n",
       "  0.46203702688217163,\n",
       "  0.4703703820705414,\n",
       "  0.4870370328426361,\n",
       "  0.49351853132247925,\n",
       "  0.4990740716457367,\n",
       "  0.5157407522201538,\n",
       "  0.529629647731781,\n",
       "  0.5324074029922485,\n",
       "  0.5435185432434082,\n",
       "  0.5527777671813965,\n",
       "  0.5601851940155029,\n",
       "  0.5759259462356567,\n",
       "  0.5824074149131775,\n",
       "  0.6027777791023254,\n",
       "  0.6092592477798462,\n",
       "  0.6092592477798462,\n",
       "  0.625,\n",
       "  0.6259258985519409,\n",
       "  0.6305555701255798,\n",
       "  0.6407407522201538,\n",
       "  0.6481481194496155,\n",
       "  0.6537036895751953,\n",
       "  0.6611111164093018,\n",
       "  0.6620370149612427,\n",
       "  0.6712962985038757,\n",
       "  0.6759259104728699,\n",
       "  0.6787037253379822,\n",
       "  0.6842592358589172,\n",
       "  0.6916666626930237,\n",
       "  0.7037037014961243,\n",
       "  0.7083333134651184,\n",
       "  0.7194444537162781,\n",
       "  0.7277777791023254,\n",
       "  0.7324073910713196,\n",
       "  0.7407407164573669,\n",
       "  0.7435185313224792,\n",
       "  0.7490741014480591,\n",
       "  0.760185182094574,\n",
       "  0.7592592835426331,\n",
       "  0.7620370388031006,\n",
       "  0.7675926089286804,\n",
       "  0.7722222208976746,\n",
       "  0.7731481194496155,\n",
       "  0.7740740776062012,\n",
       "  0.7805555462837219,\n",
       "  0.789814829826355,\n",
       "  0.7962962985038757,\n",
       "  0.7990740537643433,\n",
       "  0.7990740537643433,\n",
       "  0.8027777671813965,\n",
       "  0.8064814805984497,\n",
       "  0.8148148059844971,\n",
       "  0.8148148059844971,\n",
       "  0.8148148059844971,\n",
       "  0.8194444179534912,\n",
       "  0.8185185194015503,\n",
       "  0.8203703761100769,\n",
       "  0.8231481313705444,\n",
       "  0.8259259462356567,\n",
       "  0.8268518447875977,\n",
       "  0.8277778029441833,\n",
       "  0.8259259462356567,\n",
       "  0.8296296000480652,\n",
       "  0.8324074149131775,\n",
       "  0.8314814567565918,\n",
       "  0.8342592716217041,\n",
       "  0.8342592716217041,\n",
       "  0.8342592716217041,\n",
       "  0.835185170173645,\n",
       "  0.8398148417472839,\n",
       "  0.8435184955596924,\n",
       "  0.845370352268219,\n",
       "  0.8490740656852722,\n",
       "  0.8472222089767456,\n",
       "  0.8509259223937988,\n",
       "  0.8481481671333313,\n",
       "  0.855555534362793,\n",
       "  0.8574073910713196,\n",
       "  0.8583333492279053,\n",
       "  0.8592592477798462,\n",
       "  0.8601852059364319,\n",
       "  0.8629629611968994,\n",
       "  0.8620370626449585,\n",
       "  0.8657407164573669,\n",
       "  0.8666666746139526,\n",
       "  0.8685185313224792],\n",
       " 'val_loss': [1.7855486869812012,\n",
       "  1.782517671585083,\n",
       "  1.7763999700546265,\n",
       "  1.7696144580841064,\n",
       "  1.7623354196548462,\n",
       "  1.7539763450622559,\n",
       "  1.7445133924484253,\n",
       "  1.7341809272766113,\n",
       "  1.7201305627822876,\n",
       "  1.705535650253296,\n",
       "  1.687935471534729,\n",
       "  1.666961669921875,\n",
       "  1.6413955688476562,\n",
       "  1.6141245365142822,\n",
       "  1.587382197380066,\n",
       "  1.5632754564285278,\n",
       "  1.5367406606674194,\n",
       "  1.5120952129364014,\n",
       "  1.486504077911377,\n",
       "  1.4622668027877808,\n",
       "  1.438595175743103,\n",
       "  1.4156476259231567,\n",
       "  1.392315149307251,\n",
       "  1.3707181215286255,\n",
       "  1.349805474281311,\n",
       "  1.3286806344985962,\n",
       "  1.3091585636138916,\n",
       "  1.279103398323059,\n",
       "  1.2598152160644531,\n",
       "  1.2367454767227173,\n",
       "  1.2071267366409302,\n",
       "  1.1844524145126343,\n",
       "  1.1666961908340454,\n",
       "  1.1479287147521973,\n",
       "  1.1270986795425415,\n",
       "  1.1095824241638184,\n",
       "  1.091450810432434,\n",
       "  1.0769540071487427,\n",
       "  1.0549768209457397,\n",
       "  1.0336272716522217,\n",
       "  1.0185110569000244,\n",
       "  1.0006740093231201,\n",
       "  0.9902467131614685,\n",
       "  0.9740068912506104,\n",
       "  0.9585002064704895,\n",
       "  0.9471215605735779,\n",
       "  0.9364079833030701,\n",
       "  0.9244188666343689,\n",
       "  0.9152262210845947,\n",
       "  0.9031489491462708,\n",
       "  0.8912655711174011,\n",
       "  0.8771026730537415,\n",
       "  0.862622082233429,\n",
       "  0.8474389314651489,\n",
       "  0.8334111571311951,\n",
       "  0.819638192653656,\n",
       "  0.8035534024238586,\n",
       "  0.791907012462616,\n",
       "  0.779901921749115,\n",
       "  0.7716646790504456,\n",
       "  0.7614358067512512,\n",
       "  0.7536102533340454,\n",
       "  0.7431187033653259,\n",
       "  0.7339964509010315,\n",
       "  0.7257195711135864,\n",
       "  0.7182159423828125,\n",
       "  0.7104160189628601,\n",
       "  0.704880952835083,\n",
       "  0.6956542134284973,\n",
       "  0.69199538230896,\n",
       "  0.6843587160110474,\n",
       "  0.6788644194602966,\n",
       "  0.6720937490463257,\n",
       "  0.6679104566574097,\n",
       "  0.6609166860580444,\n",
       "  0.6569241881370544,\n",
       "  0.6504867672920227,\n",
       "  0.6456668972969055,\n",
       "  0.6402214169502258,\n",
       "  0.6349539160728455,\n",
       "  0.6304323673248291,\n",
       "  0.625580370426178,\n",
       "  0.6200195550918579,\n",
       "  0.6157382726669312,\n",
       "  0.6105453372001648,\n",
       "  0.6069288849830627,\n",
       "  0.6018573045730591,\n",
       "  0.5976927280426025,\n",
       "  0.5932033658027649,\n",
       "  0.5891497731208801,\n",
       "  0.5856931209564209,\n",
       "  0.5818079710006714,\n",
       "  0.5782699584960938,\n",
       "  0.5739206075668335,\n",
       "  0.5699756145477295,\n",
       "  0.565613329410553,\n",
       "  0.5622480511665344,\n",
       "  0.5580475330352783,\n",
       "  0.5547778010368347,\n",
       "  0.5509862303733826],\n",
       " 'val_accuracy': [0.22499999403953552,\n",
       "  0.25,\n",
       "  0.30000001192092896,\n",
       "  0.3166666626930237,\n",
       "  0.36666667461395264,\n",
       "  0.36666667461395264,\n",
       "  0.3583333194255829,\n",
       "  0.32499998807907104,\n",
       "  0.32499998807907104,\n",
       "  0.3166666626930237,\n",
       "  0.3166666626930237,\n",
       "  0.3583333194255829,\n",
       "  0.375,\n",
       "  0.3916666805744171,\n",
       "  0.375,\n",
       "  0.38333332538604736,\n",
       "  0.3916666805744171,\n",
       "  0.4000000059604645,\n",
       "  0.40833333134651184,\n",
       "  0.4000000059604645,\n",
       "  0.4000000059604645,\n",
       "  0.44999998807907104,\n",
       "  0.44999998807907104,\n",
       "  0.4416666626930237,\n",
       "  0.46666666865348816,\n",
       "  0.46666666865348816,\n",
       "  0.4749999940395355,\n",
       "  0.49166667461395264,\n",
       "  0.4833333194255829,\n",
       "  0.5083333253860474,\n",
       "  0.5,\n",
       "  0.5333333611488342,\n",
       "  0.5249999761581421,\n",
       "  0.5416666865348816,\n",
       "  0.5416666865348816,\n",
       "  0.5583333373069763,\n",
       "  0.574999988079071,\n",
       "  0.5916666388511658,\n",
       "  0.6000000238418579,\n",
       "  0.6083333492279053,\n",
       "  0.6083333492279053,\n",
       "  0.6083333492279053,\n",
       "  0.6083333492279053,\n",
       "  0.6166666746139526,\n",
       "  0.625,\n",
       "  0.6166666746139526,\n",
       "  0.6333333253860474,\n",
       "  0.6333333253860474,\n",
       "  0.6333333253860474,\n",
       "  0.6333333253860474,\n",
       "  0.6416666507720947,\n",
       "  0.6583333611488342,\n",
       "  0.6583333611488342,\n",
       "  0.6583333611488342,\n",
       "  0.6666666865348816,\n",
       "  0.6666666865348816,\n",
       "  0.6666666865348816,\n",
       "  0.6666666865348816,\n",
       "  0.6833333373069763,\n",
       "  0.6833333373069763,\n",
       "  0.6833333373069763,\n",
       "  0.6833333373069763,\n",
       "  0.6916666626930237,\n",
       "  0.7083333134651184,\n",
       "  0.7166666388511658,\n",
       "  0.7166666388511658,\n",
       "  0.7166666388511658,\n",
       "  0.7166666388511658,\n",
       "  0.7166666388511658,\n",
       "  0.7250000238418579,\n",
       "  0.7166666388511658,\n",
       "  0.7250000238418579,\n",
       "  0.7166666388511658,\n",
       "  0.7250000238418579,\n",
       "  0.7250000238418579,\n",
       "  0.7250000238418579,\n",
       "  0.7333333492279053,\n",
       "  0.7333333492279053,\n",
       "  0.7333333492279053,\n",
       "  0.7333333492279053,\n",
       "  0.7416666746139526,\n",
       "  0.75,\n",
       "  0.7583333253860474,\n",
       "  0.7666666507720947,\n",
       "  0.7666666507720947,\n",
       "  0.7666666507720947,\n",
       "  0.7833333611488342,\n",
       "  0.7833333611488342,\n",
       "  0.7916666865348816,\n",
       "  0.7833333611488342,\n",
       "  0.7916666865348816,\n",
       "  0.800000011920929,\n",
       "  0.800000011920929,\n",
       "  0.800000011920929,\n",
       "  0.800000011920929,\n",
       "  0.800000011920929,\n",
       "  0.800000011920929,\n",
       "  0.800000011920929,\n",
       "  0.8083333373069763,\n",
       "  0.800000011920929]}"
      ]
     },
     "execution_count": 28,
     "metadata": {},
     "output_type": "execute_result"
    }
   ],
   "source": [
    "history.history"
   ]
  },
  {
   "cell_type": "markdown",
   "metadata": {},
   "source": [
    "Now visualize the loss over time using `history.history`: "
   ]
  },
  {
   "cell_type": "code",
   "execution_count": 29,
   "metadata": {},
   "outputs": [
    {
     "name": "stderr",
     "output_type": "stream",
     "text": [
      "C:\\Users\\jackh\\AppData\\Local\\Temp\\ipykernel_19932\\973814028.py:5: SettingWithCopyWarning: \n",
      "A value is trying to be set on a copy of a slice from a DataFrame\n",
      "\n",
      "See the caveats in the documentation: https://pandas.pydata.org/pandas-docs/stable/user_guide/indexing.html#returning-a-view-versus-a-copy\n",
      "  df_loss.rename(columns={'loss':'train','val_loss':'validation'},inplace=True)\n",
      "C:\\Users\\jackh\\AppData\\Local\\Temp\\ipykernel_19932\\973814028.py:7: SettingWithCopyWarning: \n",
      "A value is trying to be set on a copy of a slice from a DataFrame\n",
      "\n",
      "See the caveats in the documentation: https://pandas.pydata.org/pandas-docs/stable/user_guide/indexing.html#returning-a-view-versus-a-copy\n",
      "  df_acc.rename(columns={'accuracy':'train','val_accuracy':'validation'},inplace=True)\n"
     ]
    },
    {
     "data": {
      "text/plain": [
       "[Text(0.5, 0, 'Epoch'), Text(0, 0.5, 'Accuracy')]"
      ]
     },
     "execution_count": 29,
     "metadata": {},
     "output_type": "execute_result"
    },
    {
     "data": {
      "image/png": "[encoded data removed]",
      "text/plain": [
       "<Figure size 1200x800 with 1 Axes>"
      ]
     },
     "metadata": {},
     "output_type": "display_data"
    },
    {
     "data": {
      "image/png": "[encoded data removed]",
      "text/plain": [
       "<Figure size 1200x800 with 1 Axes>"
      ]
     },
     "metadata": {},
     "output_type": "display_data"
    }
   ],
   "source": [
    "# The history.history[\"loss\"] entry is a dictionary with as many values as epochs that the\n",
    "# model was trained on. \n",
    "df_loss_acc = pd.DataFrame(history.history)\n",
    "df_loss= df_loss_acc[['loss','val_loss']]\n",
    "df_loss.rename(columns={'loss':'train','val_loss':'validation'},inplace=True)\n",
    "df_acc= df_loss_acc[['accuracy','val_accuracy']]\n",
    "df_acc.rename(columns={'accuracy':'train','val_accuracy':'validation'},inplace=True)\n",
    "df_loss.plot(title='Model loss',figsize=(12,8)).set(xlabel='Epoch',ylabel='Loss')\n",
    "df_acc.plot(title='Model Accuracy',figsize=(12,8)).set(xlabel='Epoch',ylabel='Accuracy')"
   ]
  },
  {
   "cell_type": "markdown",
   "metadata": {},
   "source": [
    "**Congratulations**! You've finished the assignment and built two models: One that recognizes  smiles, and another that recognizes SIGN language with almost 80% accuracy on the test set. In addition to that, you now also understand the applications of two Keras APIs: Sequential and Functional. Nicely done! \n",
    "\n",
    "By now, you know a bit about how the Functional API works and may have glimpsed the possibilities. In your next assignment, you'll really get a feel for its power when you get the opportunity to build a very deep ConvNet, using ResNets! "
   ]
  },
  {
   "cell_type": "markdown",
   "metadata": {},
   "source": [
    "<a name='6'></a>\n",
    "## 6 - Bibliography\n",
    "\n",
    "You're always encouraged to read the official documentation. To that end, you can find the docs for the Sequential and Functional APIs here: \n",
    "\n",
    "https://www.tensorflow.org/guide/keras/sequential_model\n",
    "\n",
    "https://www.tensorflow.org/guide/keras/functional"
   ]
  }
 ],
 "metadata": {
  "coursera": {
   "course_slug": "convolutional-neural-networks",
   "graded_item_id": "bwbJV",
   "launcher_item_id": "0TkXB"
  },
  "kernelspec": {
   "display_name": "Python 3",
   "language": "python",
   "name": "python3"
  },
  "language_info": {
   "codemirror_mode": {
    "name": "ipython",
    "version": 3
   },
   "file_extension": ".py",
   "mimetype": "text/x-python",
   "name": "python",
   "nbconvert_exporter": "python",
   "pygments_lexer": "ipython3",
   "version": "3.10.10"
  }
 },
 "nbformat": 4,
 "nbformat_minor": 2
}

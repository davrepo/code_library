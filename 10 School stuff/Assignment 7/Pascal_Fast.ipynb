{
 "cells": [
  {
   "cell_type": "code",
   "execution_count": 2,
   "metadata": {},
   "outputs": [],
   "source": [
    "from math import comb\n",
    "from collections import Counter\n",
    "import numpy as np\n",
    "from numpy import array\n",
    "from iteration_utilities import duplicates, unique_everseen\n",
    "from collections import deque\n",
    "\n",
    "# [120, 210, 1540, 3003, 7140, 11628, 24310, 61218182743304701891431482520]   250 rows"
   ]
  },
  {
   "cell_type": "code",
   "execution_count": 60,
   "metadata": {},
   "outputs": [
    {
     "name": "stdout",
     "output_type": "stream",
     "text": [
      "[120, 210, 1540, 3003, 7140, 11628, 24310, 61218182743304701891431482520]\n"
     ]
    }
   ],
   "source": [
    "myList = []\n",
    "for n in range(1, 251):\n",
    "    for k in range(2, int(n/2+1)):\n",
    "        myList.append(comb(n, k))\n",
    "\n",
    "new_list = []\n",
    "for i in myList:\n",
    "    if myList.count(i) > 1 and i not in new_list:\n",
    "        new_list.append(i)\n",
    "\n",
    "print(sorted(new_list))"
   ]
  },
  {
   "cell_type": "code",
   "execution_count": 10,
   "metadata": {},
   "outputs": [
    {
     "name": "stdout",
     "output_type": "stream",
     "text": [
      "[120, 3003]\n"
     ]
    }
   ],
   "source": [
    "myList = [comb(n, k) for n in range(10, 20) for k in range(2, int(n/2+1))]\n",
    "\n",
    "new_list = [i for i, count in Counter(myList).items() if count > 1]\n",
    "\n",
    "print(sorted(new_list))"
   ]
  },
  {
   "cell_type": "code",
   "execution_count": 8,
   "metadata": {},
   "outputs": [
    {
     "data": {
      "text/plain": [
       "[120, 210, 3003, 24310, 11628, 1540, 7140, 61218182743304701891431482520]"
      ]
     },
     "execution_count": 8,
     "metadata": {},
     "output_type": "execute_result"
    }
   ],
   "source": [
    "myArray = np.array([comb(n, k) for n in range(10, 251) for k in range(2, int(n/2+1))])\n",
    "myList = [i for i, count in Counter(myArray).items() if count > 1]\n",
    "myList"
   ]
  },
  {
   "cell_type": "code",
   "execution_count": 76,
   "metadata": {},
   "outputs": [
    {
     "name": "stdout",
     "output_type": "stream",
     "text": [
      "[120, 210, 1540, 3003, 7140, 11628, 24310, 61218182743304701891431482520]\n"
     ]
    }
   ],
   "source": [
    "def search_pascal_multiples_fast(row_limit):\n",
    "    myList = [comb(n, k) for n in range(10, row_limit) for k in range(2, int(n/2+1))]\n",
    "    new_list = [i for i, count in Counter(myList).items() if count > 1]\n",
    "    return sorted(new_list)\n",
    "\n",
    "print(search_pascal_multiples_fast(250))"
   ]
  },
  {
   "cell_type": "code",
   "execution_count": 17,
   "metadata": {},
   "outputs": [
    {
     "data": {
      "text/plain": [
       "[120, 210, 1540, 3003, 7140, 11628, 24310, 61218182743304701891431482520]"
      ]
     },
     "execution_count": 17,
     "metadata": {},
     "output_type": "execute_result"
    }
   ],
   "source": [
    "def search_pascal_multiples_fast(row_limit):\n",
    "    myList = [comb(n, k) for n in range(10, row_limit) for k in range(2, int(n/2+1))]\n",
    "    new_list = [i for i, count in Counter(myList).items() if count > 1]\n",
    "    return sorted(new_list)\n",
    "\n",
    "search_pascal_multiples_fast(250)"
   ]
  },
  {
   "cell_type": "code",
   "execution_count": 7,
   "metadata": {},
   "outputs": [
    {
     "name": "stdout",
     "output_type": "stream",
     "text": [
      "[120, 210, 1540, 3003, 7140, 11628, 24310, 61218182743304701891431482520]\n"
     ]
    }
   ],
   "source": [
    "def search_pascal_multiples_fast(row_limit):\n",
    "    # myList = [comb(n, k) for n in range(10, row_limit) for k in range(2, int(n/2+1))]\n",
    "    return sorted([i for i, count in Counter([comb(n, k) for n in range(10, row_limit) for k in range(2, int(n/2+1))]).items() if count > 1])\n",
    "\n",
    "print(search_pascal_multiples_fast(250))"
   ]
  },
  {
   "cell_type": "code",
   "execution_count": 12,
   "metadata": {},
   "outputs": [
    {
     "data": {
      "text/plain": [
       "[120, 210, 1540, 3003, 7140, 11628, 24310, 61218182743304701891431482520]"
      ]
     },
     "execution_count": 12,
     "metadata": {},
     "output_type": "execute_result"
    }
   ],
   "source": [
    "def search_pascal_multiples_fast5(row_limit):\n",
    "    return sorted(i for i, count in Counter(comb(n, k) for n in range(10, row_limit) for k in range(2, n//2+1)).items() if count > 1)\n",
    "search_pascal_multiples_fast5(250)"
   ]
  },
  {
   "cell_type": "code",
   "execution_count": 10,
   "metadata": {},
   "outputs": [
    {
     "name": "stdout",
     "output_type": "stream",
     "text": [
      "48.1 ms ± 2.62 ms per loop (mean ± std. dev. of 7 runs, 10 loops each)\n",
      "46.1 ms ± 5.48 ms per loop (mean ± std. dev. of 7 runs, 10 loops each)\n",
      "47.1 ms ± 2.15 ms per loop (mean ± std. dev. of 7 runs, 10 loops each)\n",
      "47.7 ms ± 3.18 ms per loop (mean ± std. dev. of 7 runs, 10 loops each)\n"
     ]
    }
   ],
   "source": [
    "\n",
    "def search_pascal_multiples_fast(row_limit):\n",
    "    array = np.empty((0), int)\n",
    "    return sorted([i for i, count in Counter(np.array([comb(n, k) for n in range(10, row_limit) for k in range(2, n//2+1)])).items() if count > 1])\n",
    "%timeit search_pascal_multiples_fast(250)\n",
    "\n",
    "def search_pascal_multiples_fast1(row_limit):\n",
    "    return sorted(i for i, count in Counter(comb(n, k) for n in range(10, row_limit) for k in range(2, n//2+1)).items() if count > 1)\n",
    "%timeit search_pascal_multiples_fast1(250)\n",
    "\n",
    "def search_pascal_multiples_fast2(row_limit):\n",
    "    return sorted(set(duplicates(comb(n, k) for n in range(10, row_limit) for k in range(2, n//2+1))))\n",
    "%timeit search_pascal_multiples_fast2(250)\n",
    "\n",
    "def search_pascal_multiples_fast3(row_limit):\n",
    "    return set(duplicates(sorted(comb(n, k) for n in range(10, row_limit) for k in range(2, n//2+1))))\n",
    "%timeit search_pascal_multiples_fast3(250)"
   ]
  },
  {
   "cell_type": "code",
   "execution_count": 9,
   "metadata": {},
   "outputs": [
    {
     "data": {
      "text/plain": [
       "{120, 210, 1540, 3003, 7140, 11628, 24310, 61218182743304701891431482520}"
      ]
     },
     "execution_count": 9,
     "metadata": {},
     "output_type": "execute_result"
    }
   ],
   "source": [
    "def search_pascal_multiples_fast3(row_limit):\n",
    "    return set(duplicates(sorted(comb(n, k) for n in range(10, row_limit) for k in range(2, n//2+1))))\n",
    "search_pascal_multiples_fast3(250)"
   ]
  },
  {
   "cell_type": "code",
   "execution_count": 27,
   "metadata": {},
   "outputs": [
    {
     "data": {
      "text/plain": [
       "[120, 210, 1540, 3003, 7140, 11628, 24310, 61218182743304701891431482520]"
      ]
     },
     "execution_count": 27,
     "metadata": {},
     "output_type": "execute_result"
    }
   ],
   "source": [
    "def search_pascal_multiples_fast(row_limit):\n",
    "    return sorted([i for i, count in Counter([comb(n, k) for n in range(10, row_limit-25) for k in range(2, int(n/2+1))]).items() if count > 1])\n",
    "search_pascal_multiples_fast(250)"
   ]
  },
  {
   "cell_type": "code",
   "execution_count": 8,
   "metadata": {},
   "outputs": [
    {
     "data": {
      "text/plain": [
       "[120, 210, 1540, 3003, 7140, 11628, 24310, 61218182743304701891431482520]"
      ]
     },
     "execution_count": 8,
     "metadata": {},
     "output_type": "execute_result"
    }
   ],
   "source": [
    "def search_pascal_multiples_slow(row_limit):\n",
    "\n",
    "    # Building up Pascal's triangle with a dict of lists\n",
    "    ptriangle = {}\n",
    "    ptriangle[0] = [1]\n",
    "    ptriangle[1] = [1,1]\n",
    "    ptriangle[2] = [1,2,1]\n",
    "    for r in range(3, row_limit):\n",
    "        ptriangle[r] = []\n",
    "        for i in range(len(ptriangle[r-1])+1):\n",
    "            if i == 0: # on left border, so we just add 1\n",
    "                ptriangle[r].append(1)\n",
    "            elif i == len(ptriangle[r-1]): # on right border, so we just add 1\n",
    "                ptriangle[r].append(1)\n",
    "            else: # not on border, so we sum up the two numbers above\n",
    "                ptriangle[r].append(ptriangle[r-1][i-1] + ptriangle[r-1][i])\n",
    "\n",
    "    # Putting all numbers into one list, except the outermost 2 numbers in each row\n",
    "    number_list = []\n",
    "    for r in range(row_limit):\n",
    "        row = ptriangle[r]\n",
    "        for i, number in enumerate(row):\n",
    "            if i > 1 and i < len(row)-1: # exclude the outermost 2 numbers in each row\n",
    "                number_list.append(number)\n",
    "\n",
    "    # Counting the numbers\n",
    "    number_set = set(number_list) \n",
    "    pascal_multiples = []\n",
    "    for unique_number in number_set:\n",
    "        count = 0\n",
    "        for number in number_list:\n",
    "            if number == unique_number:\n",
    "                count = count + 1\n",
    "        if count > 3:\n",
    "            pascal_multiples.append(unique_number)\n",
    "    \n",
    "    return sorted(pascal_multiples)\n",
    "\n",
    "search_pascal_multiples_slow(250)"
   ]
  }
 ],
 "metadata": {
  "kernelspec": {
   "display_name": "Python 3.10.7 64-bit",
   "language": "python",
   "name": "python3"
  },
  "language_info": {
   "codemirror_mode": {
    "name": "ipython",
    "version": 3
   },
   "file_extension": ".py",
   "mimetype": "text/x-python",
   "name": "python",
   "nbconvert_exporter": "python",
   "pygments_lexer": "ipython3",
   "version": "3.10.7"
  },
  "orig_nbformat": 4,
  "vscode": {
   "interpreter": {
    "hash": "b5f0bfb910b5f89afee0c4e65874b118d019a6f05b0e3b9906c17a1424dc1b44"
   }
  }
 },
 "nbformat": 4,
 "nbformat_minor": 2
}

{
 "cells": [
  {
   "cell_type": "code",
   "execution_count": 2,
   "metadata": {},
   "outputs": [],
   "source": [
    "from math import comb\n",
    "from collections import Counter\n",
    "import numpy as np\n",
    "from numpy import array\n",
    "from iteration_utilities import duplicates, unique_everseen\n",
    "from collections import deque\n",
    "\n",
    "# [120, 210, 1540, 3003, 7140, 11628, 24310, 61218182743304701891431482520]   250 rows"
   ]
  },
  {
   "cell_type": "code",
   "execution_count": 4,
   "metadata": {},
   "outputs": [
    {
     "name": "stdout",
     "output_type": "stream",
     "text": [
      "[120, 210, 1540, 3003, 7140, 11628, 24310, 61218182743304701891431482520]\n"
     ]
    }
   ],
   "source": [
    "myList = []\n",
    "for n in range(1, 251):\n",
    "    for k in range(2, int(n/2+1)):\n",
    "        myList.append(comb(n, k))\n",
    "\n",
    "new_list = []\n",
    "for i in myList:\n",
    "    if myList.count(i) > 1 and i not in new_list:\n",
    "        new_list.append(i)\n",
    "\n",
    "print(sorted(new_list))"
   ]
  },
  {
   "cell_type": "code",
   "execution_count": 5,
   "metadata": {},
   "outputs": [
    {
     "name": "stdout",
     "output_type": "stream",
     "text": [
      "[120, 3003]\n"
     ]
    }
   ],
   "source": [
    "myList = [comb(n, k) for n in range(10, 20) for k in range(2, int(n/2+1))]\n",
    "\n",
    "new_list = [i for i, count in Counter(myList).items() if count > 1]\n",
    "\n",
    "print(sorted(new_list))"
   ]
  },
  {
   "cell_type": "code",
   "execution_count": 8,
   "metadata": {},
   "outputs": [
    {
     "data": {
      "text/plain": [
       "[120, 210, 3003, 24310, 11628, 1540, 7140, 61218182743304701891431482520]"
      ]
     },
     "execution_count": 8,
     "metadata": {},
     "output_type": "execute_result"
    }
   ],
   "source": [
    "myArray = np.array([comb(n, k) for n in range(10, 251) for k in range(2, int(n/2+1))])\n",
    "myList = [i for i, count in Counter(myArray).items() if count > 1]\n",
    "myList"
   ]
  },
  {
   "cell_type": "code",
   "execution_count": 76,
   "metadata": {},
   "outputs": [
    {
     "name": "stdout",
     "output_type": "stream",
     "text": [
      "[120, 210, 1540, 3003, 7140, 11628, 24310, 61218182743304701891431482520]\n"
     ]
    }
   ],
   "source": [
    "def search_pascal_multiples_fast(row_limit):\n",
    "    myList = [comb(n, k) for n in range(10, row_limit) for k in range(2, int(n/2+1))]\n",
    "    new_list = [i for i, count in Counter(myList).items() if count > 1]\n",
    "    return sorted(new_list)\n",
    "\n",
    "print(search_pascal_multiples_fast(250))"
   ]
  },
  {
   "cell_type": "code",
   "execution_count": 17,
   "metadata": {},
   "outputs": [
    {
     "data": {
      "text/plain": [
       "[120, 210, 1540, 3003, 7140, 11628, 24310, 61218182743304701891431482520]"
      ]
     },
     "execution_count": 17,
     "metadata": {},
     "output_type": "execute_result"
    }
   ],
   "source": [
    "def search_pascal_multiples_fast(row_limit):\n",
    "    myList = [comb(n, k) for n in range(10, row_limit) for k in range(2, int(n/2+1))]\n",
    "    new_list = [i for i, count in Counter(myList).items() if count > 1]\n",
    "    return sorted(new_list)\n",
    "\n",
    "search_pascal_multiples_fast(250)"
   ]
  },
  {
   "cell_type": "code",
   "execution_count": 7,
   "metadata": {},
   "outputs": [
    {
     "name": "stdout",
     "output_type": "stream",
     "text": [
      "[120, 210, 1540, 3003, 7140, 11628, 24310, 61218182743304701891431482520]\n"
     ]
    }
   ],
   "source": [
    "def search_pascal_multiples_fast(row_limit):\n",
    "    # myList = [comb(n, k) for n in range(10, row_limit) for k in range(2, int(n/2+1))]\n",
    "    return sorted([i for i, count in Counter([comb(n, k) for n in range(10, row_limit) for k in range(2, int(n/2+1))]).items() if count > 1])\n",
    "\n",
    "print(search_pascal_multiples_fast(250))"
   ]
  },
  {
   "cell_type": "code",
   "execution_count": 12,
   "metadata": {},
   "outputs": [
    {
     "data": {
      "text/plain": [
       "[120, 210, 1540, 3003, 7140, 11628, 24310, 61218182743304701891431482520]"
      ]
     },
     "execution_count": 12,
     "metadata": {},
     "output_type": "execute_result"
    }
   ],
   "source": [
    "def search_pascal_multiples_fast5(row_limit):\n",
    "    return sorted(i for i, count in Counter(comb(n, k) for n in range(10, row_limit) for k in range(2, n//2+1)).items() if count > 1)\n",
    "search_pascal_multiples_fast5(250)"
   ]
  },
  {
   "cell_type": "code",
   "execution_count": 4,
   "metadata": {},
   "outputs": [
    {
     "ename": "AttributeError",
     "evalue": "module 'numpy' has no attribute 'int4'",
     "output_type": "error",
     "traceback": [
      "\u001b[1;31m---------------------------------------------------------------------------\u001b[0m",
      "\u001b[1;31mAttributeError\u001b[0m                            Traceback (most recent call last)",
      "Cell \u001b[1;32mIn [4], line 4\u001b[0m\n\u001b[0;32m      2\u001b[0m     array \u001b[39m=\u001b[39m np\u001b[39m.\u001b[39mempty((\u001b[39m0\u001b[39m), dtype\u001b[39m=\u001b[39mnp\u001b[39m.\u001b[39mint4)\n\u001b[0;32m      3\u001b[0m     \u001b[39mreturn\u001b[39;00m \u001b[39msorted\u001b[39m([i \u001b[39mfor\u001b[39;00m i, count \u001b[39min\u001b[39;00m Counter(np\u001b[39m.\u001b[39marray([comb(n, k) \u001b[39mfor\u001b[39;00m n \u001b[39min\u001b[39;00m \u001b[39mrange\u001b[39m(\u001b[39m10\u001b[39m, row_limit) \u001b[39mfor\u001b[39;00m k \u001b[39min\u001b[39;00m \u001b[39mrange\u001b[39m(\u001b[39m2\u001b[39m, n\u001b[39m/\u001b[39m\u001b[39m/\u001b[39m\u001b[39m2\u001b[39m\u001b[39m+\u001b[39m\u001b[39m1\u001b[39m)]))\u001b[39m.\u001b[39mitems() \u001b[39mif\u001b[39;00m count \u001b[39m>\u001b[39m \u001b[39m1\u001b[39m])\n\u001b[1;32m----> 4\u001b[0m get_ipython()\u001b[39m.\u001b[39mrun_line_magic(\u001b[39m'\u001b[39m\u001b[39mtimeit\u001b[39m\u001b[39m'\u001b[39m, \u001b[39m'\u001b[39m\u001b[39msearch_pascal_multiples_fast(250)\u001b[39m\u001b[39m'\u001b[39m)\n\u001b[0;32m      6\u001b[0m \u001b[39mdef\u001b[39;00m \u001b[39msearch_pascal_multiples_fast1\u001b[39m(row_limit):\n\u001b[0;32m      7\u001b[0m     \u001b[39mreturn\u001b[39;00m \u001b[39msorted\u001b[39m(i \u001b[39mfor\u001b[39;00m i, count \u001b[39min\u001b[39;00m Counter(comb(n, k) \u001b[39mfor\u001b[39;00m n \u001b[39min\u001b[39;00m \u001b[39mrange\u001b[39m(\u001b[39m10\u001b[39m, row_limit) \u001b[39mfor\u001b[39;00m k \u001b[39min\u001b[39;00m \u001b[39mrange\u001b[39m(\u001b[39m2\u001b[39m, n\u001b[39m/\u001b[39m\u001b[39m/\u001b[39m\u001b[39m2\u001b[39m\u001b[39m+\u001b[39m\u001b[39m1\u001b[39m))\u001b[39m.\u001b[39mitems() \u001b[39mif\u001b[39;00m count \u001b[39m>\u001b[39m \u001b[39m1\u001b[39m)\n",
      "File \u001b[1;32m~\\AppData\\Roaming\\Python\\Python310\\site-packages\\IPython\\core\\interactiveshell.py:2309\u001b[0m, in \u001b[0;36mInteractiveShell.run_line_magic\u001b[1;34m(self, magic_name, line, _stack_depth)\u001b[0m\n\u001b[0;32m   2307\u001b[0m     kwargs[\u001b[39m'\u001b[39m\u001b[39mlocal_ns\u001b[39m\u001b[39m'\u001b[39m] \u001b[39m=\u001b[39m \u001b[39mself\u001b[39m\u001b[39m.\u001b[39mget_local_scope(stack_depth)\n\u001b[0;32m   2308\u001b[0m \u001b[39mwith\u001b[39;00m \u001b[39mself\u001b[39m\u001b[39m.\u001b[39mbuiltin_trap:\n\u001b[1;32m-> 2309\u001b[0m     result \u001b[39m=\u001b[39m fn(\u001b[39m*\u001b[39margs, \u001b[39m*\u001b[39m\u001b[39m*\u001b[39mkwargs)\n\u001b[0;32m   2310\u001b[0m \u001b[39mreturn\u001b[39;00m result\n",
      "File \u001b[1;32m~\\AppData\\Roaming\\Python\\Python310\\site-packages\\IPython\\core\\magics\\execution.py:1162\u001b[0m, in \u001b[0;36mExecutionMagics.timeit\u001b[1;34m(self, line, cell, local_ns)\u001b[0m\n\u001b[0;32m   1160\u001b[0m \u001b[39mfor\u001b[39;00m index \u001b[39min\u001b[39;00m \u001b[39mrange\u001b[39m(\u001b[39m0\u001b[39m, \u001b[39m10\u001b[39m):\n\u001b[0;32m   1161\u001b[0m     number \u001b[39m=\u001b[39m \u001b[39m10\u001b[39m \u001b[39m*\u001b[39m\u001b[39m*\u001b[39m index\n\u001b[1;32m-> 1162\u001b[0m     time_number \u001b[39m=\u001b[39m timer\u001b[39m.\u001b[39;49mtimeit(number)\n\u001b[0;32m   1163\u001b[0m     \u001b[39mif\u001b[39;00m time_number \u001b[39m>\u001b[39m\u001b[39m=\u001b[39m \u001b[39m0.2\u001b[39m:\n\u001b[0;32m   1164\u001b[0m         \u001b[39mbreak\u001b[39;00m\n",
      "File \u001b[1;32m~\\AppData\\Roaming\\Python\\Python310\\site-packages\\IPython\\core\\magics\\execution.py:156\u001b[0m, in \u001b[0;36mTimer.timeit\u001b[1;34m(self, number)\u001b[0m\n\u001b[0;32m    154\u001b[0m gc\u001b[39m.\u001b[39mdisable()\n\u001b[0;32m    155\u001b[0m \u001b[39mtry\u001b[39;00m:\n\u001b[1;32m--> 156\u001b[0m     timing \u001b[39m=\u001b[39m \u001b[39mself\u001b[39;49m\u001b[39m.\u001b[39;49minner(it, \u001b[39mself\u001b[39;49m\u001b[39m.\u001b[39;49mtimer)\n\u001b[0;32m    157\u001b[0m \u001b[39mfinally\u001b[39;00m:\n\u001b[0;32m    158\u001b[0m     \u001b[39mif\u001b[39;00m gcold:\n",
      "File \u001b[1;32m<magic-timeit>:1\u001b[0m, in \u001b[0;36minner\u001b[1;34m(_it, _timer)\u001b[0m\n",
      "Cell \u001b[1;32mIn [4], line 2\u001b[0m, in \u001b[0;36msearch_pascal_multiples_fast\u001b[1;34m(row_limit)\u001b[0m\n\u001b[0;32m      1\u001b[0m \u001b[39mdef\u001b[39;00m \u001b[39msearch_pascal_multiples_fast\u001b[39m(row_limit):\n\u001b[1;32m----> 2\u001b[0m     array \u001b[39m=\u001b[39m np\u001b[39m.\u001b[39mempty((\u001b[39m0\u001b[39m), dtype\u001b[39m=\u001b[39mnp\u001b[39m.\u001b[39;49mint4)\n\u001b[0;32m      3\u001b[0m     \u001b[39mreturn\u001b[39;00m \u001b[39msorted\u001b[39m([i \u001b[39mfor\u001b[39;00m i, count \u001b[39min\u001b[39;00m Counter(np\u001b[39m.\u001b[39marray([comb(n, k) \u001b[39mfor\u001b[39;00m n \u001b[39min\u001b[39;00m \u001b[39mrange\u001b[39m(\u001b[39m10\u001b[39m, row_limit) \u001b[39mfor\u001b[39;00m k \u001b[39min\u001b[39;00m \u001b[39mrange\u001b[39m(\u001b[39m2\u001b[39m, n\u001b[39m/\u001b[39m\u001b[39m/\u001b[39m\u001b[39m2\u001b[39m\u001b[39m+\u001b[39m\u001b[39m1\u001b[39m)]))\u001b[39m.\u001b[39mitems() \u001b[39mif\u001b[39;00m count \u001b[39m>\u001b[39m \u001b[39m1\u001b[39m])\n",
      "File \u001b[1;32mc:\\Users\\jackh\\AppData\\Local\\Programs\\Python\\Python310\\lib\\site-packages\\numpy\\__init__.py:311\u001b[0m, in \u001b[0;36m__getattr__\u001b[1;34m(attr)\u001b[0m\n\u001b[0;32m    308\u001b[0m     \u001b[39mfrom\u001b[39;00m \u001b[39m.\u001b[39;00m\u001b[39mtesting\u001b[39;00m \u001b[39mimport\u001b[39;00m Tester\n\u001b[0;32m    309\u001b[0m     \u001b[39mreturn\u001b[39;00m Tester\n\u001b[1;32m--> 311\u001b[0m \u001b[39mraise\u001b[39;00m \u001b[39mAttributeError\u001b[39;00m(\u001b[39m\"\u001b[39m\u001b[39mmodule \u001b[39m\u001b[39m{!r}\u001b[39;00m\u001b[39m has no attribute \u001b[39m\u001b[39m\"\u001b[39m\n\u001b[0;32m    312\u001b[0m                      \u001b[39m\"\u001b[39m\u001b[39m{!r}\u001b[39;00m\u001b[39m\"\u001b[39m\u001b[39m.\u001b[39mformat(\u001b[39m__name__\u001b[39m, attr))\n",
      "\u001b[1;31mAttributeError\u001b[0m: module 'numpy' has no attribute 'int4'"
     ]
    }
   ],
   "source": [
    "\n",
    "def search_pascal_multiples_fast(row_limit):\n",
    "    array = np.empty((0), dtype=np.int8)\n",
    "    return sorted([i for i, count in Counter(np.array([comb(n, k) for n in range(10, row_limit) for k in range(2, n//2+1)])).items() if count > 1])\n",
    "%timeit search_pascal_multiples_fast(250)\n",
    "\n",
    "def search_pascal_multiples_fast1(row_limit):\n",
    "    return sorted(i for i, count in Counter(comb(n, k) for n in range(10, row_limit) for k in range(2, n//2+1)).items() if count > 1)\n",
    "%timeit search_pascal_multiples_fast1(250)\n",
    "\n",
    "def search_pascal_multiples_fast2(row_limit):\n",
    "    return sorted(set(duplicates(comb(n, k) for n in range(10, row_limit) for k in range(2, n//2+1))))\n",
    "%timeit search_pascal_multiples_fast2(250)\n",
    "\n",
    "def search_pascal_multiples_fast3(row_limit):\n",
    "    return [duplicates(sorted(comb(n, k) for n in range(10, row_limit) for k in range(2, n//2+1)))]\n",
    "%timeit search_pascal_multiples_fast3(250)"
   ]
  },
  {
   "cell_type": "code",
   "execution_count": 9,
   "metadata": {},
   "outputs": [
    {
     "data": {
      "text/plain": [
       "{120, 210, 1540, 3003, 7140, 11628, 24310, 61218182743304701891431482520}"
      ]
     },
     "execution_count": 9,
     "metadata": {},
     "output_type": "execute_result"
    }
   ],
   "source": [
    "def search_pascal_multiples_fast3(row_limit):\n",
    "    return set(duplicates(sorted(comb(n, k) for n in range(10, row_limit) for k in range(2, n//2+1))))\n",
    "search_pascal_multiples_fast3(250)"
   ]
  },
  {
   "cell_type": "code",
   "execution_count": 27,
   "metadata": {},
   "outputs": [
    {
     "data": {
      "text/plain": [
       "[120, 210, 1540, 3003, 7140, 11628, 24310, 61218182743304701891431482520]"
      ]
     },
     "execution_count": 27,
     "metadata": {},
     "output_type": "execute_result"
    }
   ],
   "source": [
    "def search_pascal_multiples_fast(row_limit):\n",
    "    return sorted([i for i, count in Counter([comb(n, k) for n in range(10, row_limit-25) for k in range(2, int(n/2+1))]).items() if count > 1])\n",
    "search_pascal_multiples_fast(250)"
   ]
  },
  {
   "cell_type": "code",
   "execution_count": 8,
   "metadata": {},
   "outputs": [
    {
     "data": {
      "text/plain": [
       "[120, 210, 1540, 3003, 7140, 11628, 24310, 61218182743304701891431482520]"
      ]
     },
     "execution_count": 8,
     "metadata": {},
     "output_type": "execute_result"
    }
   ],
   "source": [
    "def search_pascal_multiples_slow(row_limit):\n",
    "\n",
    "    # Building up Pascal's triangle with a dict of lists\n",
    "    ptriangle = {}\n",
    "    ptriangle[0] = [1]\n",
    "    ptriangle[1] = [1,1]\n",
    "    ptriangle[2] = [1,2,1]\n",
    "    for r in range(3, row_limit):\n",
    "        ptriangle[r] = []\n",
    "        for i in range(len(ptriangle[r-1])+1):\n",
    "            if i == 0: # on left border, so we just add 1\n",
    "                ptriangle[r].append(1)\n",
    "            elif i == len(ptriangle[r-1]): # on right border, so we just add 1\n",
    "                ptriangle[r].append(1)\n",
    "            else: # not on border, so we sum up the two numbers above\n",
    "                ptriangle[r].append(ptriangle[r-1][i-1] + ptriangle[r-1][i])\n",
    "\n",
    "    # Putting all numbers into one list, except the outermost 2 numbers in each row\n",
    "    number_list = []\n",
    "    for r in range(row_limit):\n",
    "        row = ptriangle[r]\n",
    "        for i, number in enumerate(row):\n",
    "            if i > 1 and i < len(row)-1: # exclude the outermost 2 numbers in each row\n",
    "                number_list.append(number)\n",
    "\n",
    "    # Counting the numbers\n",
    "    number_set = set(number_list) \n",
    "    pascal_multiples = []\n",
    "    for unique_number in number_set:\n",
    "        count = 0\n",
    "        for number in number_list:\n",
    "            if number == unique_number:\n",
    "                count = count + 1\n",
    "        if count > 3:\n",
    "            pascal_multiples.append(unique_number)\n",
    "    \n",
    "    return sorted(pascal_multiples)\n",
    "\n",
    "search_pascal_multiples_slow(250)"
   ]
  },
  {
   "cell_type": "code",
   "execution_count": 3,
   "metadata": {},
   "outputs": [
    {
     "name": "stdout",
     "output_type": "stream",
     "text": [
      "65.6 ns ± 6.72 ns per loop (mean ± std. dev. of 7 runs, 10,000,000 loops each)\n",
      "68 ns ± 2.97 ns per loop (mean ± std. dev. of 7 runs, 10,000,000 loops each)\n"
     ]
    }
   ],
   "source": [
    "from collections import Counter\n",
    "from functools import lru_cache\n",
    "import concurrent.futures\n",
    "from itertools import chain\n",
    "\n",
    "\n",
    "@lru_cache(maxsize=None)\n",
    "def comb_recurs(n, k):\n",
    "    if k == 0 or k == n:\n",
    "        return 1\n",
    "    else:\n",
    "        return comb_recurs(n-1, k-1) + comb_recurs(n-1, k)\n",
    "\n",
    "@lru_cache(maxsize=None)\n",
    "def search_pascal_multiples_fast(row_limit):\n",
    "    myList = []\n",
    "    for n in range(10, row_limit):\n",
    "        for k in range(2, n//2+1):\n",
    "            myList.append(comb_recurs(n,k))\n",
    "    \n",
    "    dupes = [i for i, count in Counter(myList).items() if count > 1]\n",
    "    sorted_dupes = sorted(dupes)\n",
    "    return sorted_dupes\n",
    "\n",
    "\n",
    "\n",
    "@lru_cache(maxsize=None)\n",
    "def subthread(n):\n",
    "    for k in range(2, n//2+1):\n",
    "        yield comb_recurs(n,k)\n",
    "\n",
    "@lru_cache(maxsize=None)\n",
    "def threaded(row_limit):\n",
    "    with concurrent.futures.ThreadPoolExecutor() as executor:\n",
    "        results = executor.map(subthread, range(10, row_limit))\n",
    "        chained_result = chain.from_iterable(results)\n",
    "        dupes = [i for i, count in Counter(chained_result).items() if count > 1]\n",
    "        sorted_dupes = sorted(dupes)\n",
    "        return sorted_dupes\n",
    "    \n",
    "%timeit search_pascal_multiples_fast(250)\n",
    "%timeit threaded(250)"
   ]
  }
 ],
 "metadata": {
  "kernelspec": {
   "display_name": "Python 3.10.7 64-bit",
   "language": "python",
   "name": "python3"
  },
  "language_info": {
   "codemirror_mode": {
    "name": "ipython",
    "version": 3
   },
   "file_extension": ".py",
   "mimetype": "text/x-python",
   "name": "python",
   "nbconvert_exporter": "python",
   "pygments_lexer": "ipython3",
   "version": "3.10.7"
  },
  "orig_nbformat": 4,
  "vscode": {
   "interpreter": {
    "hash": "b5f0bfb910b5f89afee0c4e65874b118d019a6f05b0e3b9906c17a1424dc1b44"
   }
  }
 },
 "nbformat": 4,
 "nbformat_minor": 2
}

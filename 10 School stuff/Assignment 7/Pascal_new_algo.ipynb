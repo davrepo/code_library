{
 "cells": [
  {
   "cell_type": "code",
   "execution_count": 24,
   "metadata": {},
   "outputs": [],
   "source": [
    "import numpy as np\n",
    "from queue import PriorityQueue\n",
    "from math import comb\n",
    "from heapq import heapify, heappop, heappush, nsmallest\n",
    "import heapq\n",
    "from collections import OrderedDict"
   ]
  },
  {
   "cell_type": "code",
   "execution_count": 27,
   "metadata": {},
   "outputs": [
    {
     "name": "stdout",
     "output_type": "stream",
     "text": [
      "[-231, -210, -105, -153, -190, -66, -91, -55, -136, -171, -36, -3, -21, -15, -78, -1, -28, -10, -120, -6, -45]\n",
      "OrderedDict([((2, 2), -1), ((3, 2), -3), ((4, 2), -6), ((5, 2), -10), ((6, 2), -15), ((7, 2), -21), ((8, 2), -28), ((9, 2), -36), ((10, 2), -45), ((11, 2), -55), ((12, 2), -66), ((13, 2), -78), ((14, 2), -91), ((15, 2), -105), ((16, 2), -120), ((17, 2), -136), ((18, 2), -153), ((19, 2), -171), ((20, 2), -190), ((21, 2), -210), ((22, 2), -231)])\n",
      "(22, 2)\n"
     ]
    }
   ],
   "source": [
    "N, k = 20, 2\n",
    "table = OrderedDict()\n",
    "heap = []\n",
    "heapify(heap)\n",
    "collisions = []\n",
    "\n",
    "for n in range(N+1):\n",
    "    c = comb(n+k, k)\n",
    "    table[(n+k, k)] = -comb(n+k, k)\n",
    "    heappush(heap, table[(n+k, k)])\n",
    "\n",
    "print(heap)\n",
    "print(table)\n",
    "\n",
    "top = heappop(heap)     # (22, 2) removed\n",
    "if top == nsmallest(1, heap):\n",
    "    collisions.append(top)  \n",
    "    second_top = heappop(heap)          # (21, 2) removed\n",
    "    N = N - 2\n",
    "    if k < N:\n",
    "        table[()]\n",
    "        new_value = second_top + \n",
    "\n",
    "print(next(reversed(table)))\n",
    "\n"
   ]
  },
  {
   "cell_type": "code",
   "execution_count": 21,
   "metadata": {},
   "outputs": [
    {
     "ename": "KeyError",
     "evalue": "(51, 4)",
     "output_type": "error",
     "traceback": [
      "\u001b[1;31m---------------------------------------------------------------------------\u001b[0m",
      "\u001b[1;31mKeyError\u001b[0m                                  Traceback (most recent call last)",
      "Cell \u001b[1;32mIn [21], line 27\u001b[0m\n\u001b[0;32m     25\u001b[0m pq\u001b[39m.\u001b[39mpop()\n\u001b[0;32m     26\u001b[0m \u001b[39mif\u001b[39;00m k \u001b[39m<\u001b[39m N\u001b[39m-\u001b[39m\u001b[39m2\u001b[39m:\n\u001b[1;32m---> 27\u001b[0m     table[(N\u001b[39m+\u001b[39mk\u001b[39m+\u001b[39m\u001b[39m2\u001b[39m, k\u001b[39m+\u001b[39m\u001b[39m1\u001b[39m)] \u001b[39m=\u001b[39m table[(N\u001b[39m+\u001b[39mk\u001b[39m+\u001b[39m\u001b[39m1\u001b[39m, k)] \u001b[39m+\u001b[39m table[(N\u001b[39m+\u001b[39mk\u001b[39m+\u001b[39m\u001b[39m1\u001b[39m, k\u001b[39m+\u001b[39m\u001b[39m1\u001b[39m)]\n\u001b[0;32m     28\u001b[0m     pq\u001b[39m.\u001b[39mappend(table[(N\u001b[39m+\u001b[39mk\u001b[39m+\u001b[39m\u001b[39m2\u001b[39m, k\u001b[39m+\u001b[39m\u001b[39m1\u001b[39m)])\n\u001b[0;32m     29\u001b[0m k \u001b[39m+\u001b[39m\u001b[39m=\u001b[39m \u001b[39m1\u001b[39m\n",
      "\u001b[1;31mKeyError\u001b[0m: (51, 4)"
     ]
    }
   ],
   "source": [
    "N = 50\n",
    "collision_list = []\n",
    "table = dict()\n",
    "pq = []\n",
    "k = 2\n",
    "\n",
    "for n in range(N+1):\n",
    "    table[(n, k)] = comb(n+k, k)\n",
    "    pq.append(table[(n, k)])\n",
    "\n",
    "table[(N, k+1)] = comb(N, k+1)\n",
    "table[(N+1, k+1)] = comb(N+1, k+1)\n",
    "\n",
    "N = 47\n",
    "while len(pq) > 0:\n",
    "    top = pq.pop()\n",
    "    if top == pq[-1]:\n",
    "        collision_list.append(top)\n",
    "        pq.pop()\n",
    "        if k < N-2:\n",
    "            table[(N+k+1, k+1)] = table[(N+k, k)] + table[(N+k, k+1)]\n",
    "            pq.append(table[(N+k+1, k+1)])\n",
    "        k += 1\n",
    "    else:\n",
    "        pq.pop()\n",
    "        if k < N-2:\n",
    "            table[(N+k+2, k+1)] = table[(N+k+1, k)] + table[(N+k+1, k+1)]\n",
    "            pq.append(table[(N+k+2, k+1)])\n",
    "        k += 1\n",
    "\n",
    "print(collision_list)\n",
    "        \n",
    "\n",
    "\n"
   ]
  },
  {
   "cell_type": "code",
   "execution_count": 7,
   "metadata": {},
   "outputs": [
    {
     "name": "stdout",
     "output_type": "stream",
     "text": [
      "50\n",
      "48\n",
      "47\n",
      "46\n",
      "45\n",
      "44\n",
      "43\n",
      "42\n",
      "41\n",
      "40\n",
      "39\n",
      "38\n",
      "37\n",
      "36\n",
      "35\n",
      "34\n",
      "33\n",
      "32\n",
      "31\n",
      "30\n",
      "29\n",
      "28\n",
      "27\n",
      "26\n",
      "25\n",
      "24\n",
      "22\n",
      "20\n",
      "18\n",
      "16\n",
      "14\n",
      "12\n",
      "10\n",
      "8\n",
      "6\n",
      "4\n",
      "2\n",
      "0\n",
      "[]\n"
     ]
    }
   ],
   "source": [
    "# find binomial coefficient collisions\n",
    "# compare top 2 elements of pQueue for equality\n",
    "# if equal, append to collision_list, then pop 2 elements\n",
    "# if not equal, pop 1 element\n",
    "# when comb(n+k, k) is popped, push comb(n+k+1, k+1) unless k >= n\n",
    "# comb(n+k+1, k+1) = comb(n+k, k) + comb(n+k, k+1)\n",
    "# this value is in numpy array at index n-1\n",
    "\n",
    "N = 50\n",
    "collision_list = []\n",
    "empty = np.empty(N, dtype=np.int64)\n",
    "pq = PriorityQueue(N)\n",
    "for i in range(N):\n",
    "    empty[i] = comb(i+2, 2)\n",
    "    pq.put(empty[i])\n",
    "\n",
    "k = 2\n",
    "print(pq.qsize())\n",
    "while not pq.empty():\n",
    "    top = pq.get()\n",
    "    # if pq.empty():\n",
    "    #     break\n",
    "    next = pq.get()\n",
    "    print(pq.qsize())\n",
    "    if top == next:\n",
    "        collision_list.append(top)\n",
    "        if k < pq.qsize()+2:\n",
    "            pq.put(comb(pq.qsize()+k+1, k+1))\n",
    "            k += 2\n",
    "    else:\n",
    "        if k < pq.qsize()+2:\n",
    "            pq.put(comb(pq.qsize()+k+2, k+1))\n",
    "            k += 1\n",
    "    \n",
    "\n",
    "print(collision_list)\n",
    "for i in pq.queue:\n",
    "    print(i)"
   ]
  }
 ],
 "metadata": {
  "kernelspec": {
   "display_name": "Python 3.10.7 64-bit",
   "language": "python",
   "name": "python3"
  },
  "language_info": {
   "codemirror_mode": {
    "name": "ipython",
    "version": 3
   },
   "file_extension": ".py",
   "mimetype": "text/x-python",
   "name": "python",
   "nbconvert_exporter": "python",
   "pygments_lexer": "ipython3",
   "version": "3.10.7"
  },
  "orig_nbformat": 4,
  "vscode": {
   "interpreter": {
    "hash": "b5f0bfb910b5f89afee0c4e65874b118d019a6f05b0e3b9906c17a1424dc1b44"
   }
  }
 },
 "nbformat": 4,
 "nbformat_minor": 2
}

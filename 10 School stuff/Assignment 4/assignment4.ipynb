{
 "cells": [
  {
   "cell_type": "markdown",
   "metadata": {},
   "source": [
    "# Assignment 4\n",
    "#### Due October 14, 2022, 11:59\n",
    "\n",
    "In this week's assignment, we are going to study the populations of Danish municipalities using NumPy. \n",
    "\n",
    "We have provided you with a CSV-file called `populations.csv` which contains the population size of every municipality in Denmark over the course of 10 years. Each row contains the population of a single  municipality, and each column represents a year in the period 2010-2019. Below is a table with columns describing the data found in `populations.csv`. \n",
    "\n",
    "| 2010 | 2011 | 2012 | 2013 | 2014 | 2015 | 2016 | 2017 | 2018 | 2019 |\n",
    "| ---- | ---- | ---- | ---- | ---- | ---- | ---- | ---- | ---- | ---- |\n",
    "|528208|539542|549050|559440|569557|580184|591481|602481|613288|623404|\n",
    "|96718 |98782 |100215|102029|102717|103192|104481|105037|104410|103960|\n",
    "|...   |      |      |      |      |      |      |      |      |      |\n",
    "|197426|199188|201142|203448|205809|207805|210316|211937|213558|215312|\n",
    "\n",
    "\n",
    "*Note that the names of the municipalities are not directly described in this dataset. If you'd like to check out the original data it may be found on [statistikbanken.dk](https://www.statistikbanken.dk/statbank5a/default.asp?w=1920).*\n",
    "\n",
    "## Submission\n",
    "All exercises this week can and must be solved purely using numpy. This also means that there is no need for any loops or recursion nor any extra imports.\n",
    "\n",
    "As part of each exercise description, **the actual expected output is provided**. Your task is to figure out how to get a matching result, not necesarrily in looks but in numbers. More nicely formatted prints are very much allowed.\n",
    "\n",
    "Implement your solution to each of the exercises in the code field below the exercise description.\n",
    "\n",
    "\n",
    "- Edit and turn in this jupyter notebook file containing your solutions to each task -- keep the name `assignment4.ipynb`.\n",
    "- Make sure that we are able to run the notebook by placing our own copy of `populations.csv` inside the same folder as this notebook.\n",
    "\n",
    "\n",
    "## Assignment"
   ]
  },
  {
   "cell_type": "code",
   "execution_count": 2,
   "metadata": {},
   "outputs": [],
   "source": [
    "import numpy as np"
   ]
  },
  {
   "cell_type": "markdown",
   "metadata": {},
   "source": [
    "### Exercise 1\n",
    "Load the data from `populations.csv` into a matrix using numpy's `loadtxt()` function. Note that numpy defaults to delimit values by spaces. Address this by providing the correct delimiter as an argument to the function.\n",
    "\n",
    "Retrieve and print the number of rows and columns of the resulting matrix.\n",
    "____________________________\n",
    "\n",
    "rows: `99`\n",
    "columns: `10`"
   ]
  },
  {
   "cell_type": "code",
   "execution_count": 3,
   "metadata": {},
   "outputs": [
    {
     "name": "stdout",
     "output_type": "stream",
     "text": [
      "rows: 99 columns: 10\n"
     ]
    }
   ],
   "source": [
    "data = np.loadtxt(\"populations.csv\", delimiter=\",\", dtype=np.int32)\n",
    "print(f'rows: {data.shape[0]} columns: {data.shape[1]}')"
   ]
  },
  {
   "cell_type": "markdown",
   "metadata": {},
   "source": [
    "### Exercise 2\n",
    "Extract a view of the population of all municipalities in the year 2018. With the extracted view, print the smallest and largest population using numpy functions.\n",
    "\n",
    "_______\n",
    "min: `83` \n",
    "max: `613288`"
   ]
  },
  {
   "cell_type": "code",
   "execution_count": 4,
   "metadata": {},
   "outputs": [
    {
     "name": "stdout",
     "output_type": "stream",
     "text": [
      "min: 83 max: 613288\n"
     ]
    }
   ],
   "source": [
    "year_2018 = data[:, 8]\n",
    "print(f'min: {year_2018.min()} max: {year_2018.max()}')"
   ]
  },
  {
   "cell_type": "markdown",
   "metadata": {},
   "source": [
    "### Exercise 3\n",
    "If you inspect the data more closely, you might notice that some values are negative. This is odd and doesn't make a whole lot of sense given that we are looking at the population in municipalities. It turns out that this specifically applies to all municipalities in the year 2014. \n",
    "\n",
    "Correct these values by setting the same population values, but the absolute (positive) value, via matrix slicing. Confirm that the values are now correct by printing the 2014 column.\n",
    "_______\n",
    "` [[569557] \n",
    "  [102717] \n",
    "  [ 13977] \n",
    "    ...    \n",
    "  [ 37479] \n",
    "  [205809]]`"
   ]
  },
  {
   "cell_type": "code",
   "execution_count": 5,
   "metadata": {},
   "outputs": [
    {
     "name": "stdout",
     "output_type": "stream",
     "text": [
      "[569557 102717  13977  41992  27728  48514  34580  74282  66656  22066\n",
      "  27706  51842  48807  21547  54237  37552  15095  24175  42210  39585\n",
      "  44401  38492  40778  30647  61519  48695  24709  55034  40215     90\n",
      "  48095  58374  26989  84219  21339  35119  61007  69016  48358  43528\n",
      "  81432  32534  33349  76948  29299  21825  45295  41037  51078  23665\n",
      "  12695  37685  29066  31314 195797  57979   6393  26318 115095   3264\n",
      "  50324  55906  90066  75264  38316  49958  42667 109652  58970  47163\n",
      "  45715  85662  37925  21773  96343   3767  89633  58176  41719 323893\n",
      "  86842  57338  40602  20933  57093  46942  21533  94486  35627  60458\n",
      "  65405  38351   1808  42093  21003  28794  44230  37479 205809]\n"
     ]
    }
   ],
   "source": [
    "data[:, 4] = np.absolute(data[:, 4])\n",
    "print(data[:, 4])"
   ]
  },
  {
   "cell_type": "markdown",
   "metadata": {},
   "source": [
    "### Exercise 4\n",
    "Extract a view of the populations in Denmarks three largest municipalities: København, Aarhus, and Aalborg for the year 2010 and the year 2019. The row indices for the municipalities in question can be found in the table below.\n",
    "\n",
    "| municipality | row index |\n",
    "| --- | --- |\n",
    "| København | 0 |\n",
    "| Aarhus | 79 | \n",
    "| Aalborg | 98 |\n",
    "\n",
    "Print the resulting view.\n",
    "____\n",
    "`[[528208, 623404],\n",
    "  [306650, 345332],\n",
    "  [197426, 215312]]`"
   ]
  },
  {
   "cell_type": "code",
   "execution_count": 34,
   "metadata": {},
   "outputs": [
    {
     "name": "stdout",
     "output_type": "stream",
     "text": [
      "[[528208 623404]\n",
      " [306650 345332]\n",
      " [197426 215312]]\n"
     ]
    }
   ],
   "source": [
    "# print(f'{data[0, [0, -1]]}, {data[79, [0, -1]]}, {data[98, [0, -1]]}')\n",
    "print(f'{data[(0, 79, 98),:][:, (0, -1)]}')"
   ]
  },
  {
   "cell_type": "markdown",
   "metadata": {},
   "source": [
    "### Exercise 5\n",
    "Given that we know the population of each municipality, we can compute the combined population of different parts of Denmark. \n",
    "\n",
    "For this exercise calculate and print the **combined** population of:\n",
    "1. København, Aarhus, and Aalborg for the year 2019\n",
    "2. All of Denmark for the year 2019\n",
    "___\n",
    "\n",
    "1: `1184048`\n",
    "2: `5806081`"
   ]
  },
  {
   "cell_type": "code",
   "execution_count": 9,
   "metadata": {},
   "outputs": [
    {
     "name": "stdout",
     "output_type": "stream",
     "text": [
      "1: 1184048 2: 5806081\n"
     ]
    }
   ],
   "source": [
    "print(f'1: {data[[0,79,98], -1].sum()} 2: {data[:, -1].sum()}')"
   ]
  },
  {
   "cell_type": "markdown",
   "metadata": {},
   "source": [
    "### Exercise 6\n",
    "The final exercise is to investigate low-density settlements in Denmark. These are, according to Wikipedia ([link](https://en.wikipedia.org/wiki/Settlement_hierarchy#Low_Density)), settlements with less than 100,000 inhabitants. \n",
    "\n",
    "Create a mask that captures municipalities with populations that were < 100,000 in the year 2019. Use this mask to calculate and print:\n",
    "1. How many municipalities are low density settlements\n",
    "2. How many people in total live in these areas\n",
    "___\n",
    "1: `92`\n",
    "2: `4083409`"
   ]
  },
  {
   "cell_type": "code",
   "execution_count": 10,
   "metadata": {},
   "outputs": [
    {
     "name": "stdout",
     "output_type": "stream",
     "text": [
      "1: 92 2: 4083409\n"
     ]
    }
   ],
   "source": [
    "low_density_mask = data[:, -1] < 100_000\n",
    "print(f'1: {data[low_density_mask].shape[0]} 2: {data[low_density_mask][:,-1].sum()}')"
   ]
  }
 ],
 "metadata": {
  "kernelspec": {
   "display_name": "Python 3.10.7 64-bit",
   "language": "python",
   "name": "python3"
  },
  "language_info": {
   "codemirror_mode": {
    "name": "ipython",
    "version": 3
   },
   "file_extension": ".py",
   "mimetype": "text/x-python",
   "name": "python",
   "nbconvert_exporter": "python",
   "pygments_lexer": "ipython3",
   "version": "3.10.7"
  },
  "vscode": {
   "interpreter": {
    "hash": "b5f0bfb910b5f89afee0c4e65874b118d019a6f05b0e3b9906c17a1424dc1b44"
   }
  }
 },
 "nbformat": 4,
 "nbformat_minor": 4
}

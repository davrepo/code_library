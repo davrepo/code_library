{
 "cells": [
  {
   "cell_type": "code",
   "execution_count": 12,
   "metadata": {},
   "outputs": [],
   "source": [
    "from functools import cache\n",
    "from collections import Counter\n",
    "from math import comb\n",
    "from heapq import heappush, heappop, heapify\n",
    "from iteration_utilities import duplicates, unique_everseen\n",
    "import threading\n",
    "from concurrent.futures import ThreadPoolExecutor\n",
    "import concurrent.futures\n",
    "from numba import njit\n"
   ]
  },
  {
   "cell_type": "code",
   "execution_count": 1,
   "metadata": {},
   "outputs": [
    {
     "name": "stdout",
     "output_type": "stream",
     "text": [
      "71.2 ns ± 11.1 ns per loop (mean ± std. dev. of 7 runs, 10,000,000 loops each)\n",
      "73.6 ns ± 4.65 ns per loop (mean ± std. dev. of 7 runs, 10,000,000 loops each)\n",
      "51.9 ms ± 3.39 ms per loop (mean ± std. dev. of 7 runs, 10 loops each)\n"
     ]
    }
   ],
   "source": [
    "# @cache\n",
    "# def collision(row_limit):\n",
    "#     @cache\n",
    "#     def comb_recurs(n, k):\n",
    "#         if k == 0 or k == n:\n",
    "#             return 1\n",
    "#         else:\n",
    "#             return comb_recurs(n-1, k-1) + comb_recurs(n-1, k)\n",
    "#     sorted_list = sorted(comb_recurs(n, k) for n in range(10, row_limit) for k in range(2, n//2+1))\n",
    "#     return [i for i, count in Counter(sorted_list).items() if count > 1]\n",
    "\n",
    "@cache\n",
    "def comb_recurs(n, k):\n",
    "    if k == 0 or k == n:\n",
    "        return 1\n",
    "    else:\n",
    "        return comb_recurs(n-1, k-1) + comb_recurs(n-1, k)\n",
    "\n",
    "@cache\n",
    "def collision(row_limit):\n",
    "    return sorted(i for i, count in Counter(comb_recurs(n, k) for n in range(10, row_limit) for k in range(2, n//2+1)).items() if count > 1)\n",
    "\n",
    "@cache\n",
    "def collision2(row_limit):  # sorting inside duplicates gives same performance \n",
    "    return sorted(unique_everseen(duplicates(comb_recurs(n, k) for n in range(10, row_limit) for k in range(2, n//2+1))))\n",
    "\n",
    "def search_pascal_multiples_fast1(row_limit):\n",
    "    return sorted(i for i, count in Counter(comb(n, k) for n in range(10, row_limit) for k in range(2, n//2+1)).items() if count > 1)\n",
    "\n",
    "row_limit = 250\n",
    "\n",
    "%timeit collision(row_limit)\n",
    "%timeit collision2(row_limit)\n",
    "%timeit search_pascal_multiples_fast1(row_limit)"
   ]
  },
  {
   "cell_type": "code",
   "execution_count": 14,
   "metadata": {},
   "outputs": [
    {
     "ename": "BrokenProcessPool",
     "evalue": "A process in the process pool was terminated abruptly while the future was running or pending.",
     "output_type": "error",
     "traceback": [
      "\u001b[1;31m---------------------------------------------------------------------------\u001b[0m",
      "\u001b[1;31mBrokenProcessPool\u001b[0m                         Traceback (most recent call last)",
      "Cell \u001b[1;32mIn [14], line 19\u001b[0m\n\u001b[0;32m     16\u001b[0m         f1 \u001b[39m=\u001b[39m executor\u001b[39m.\u001b[39msubmit(nonThread, row_limit)\n\u001b[0;32m     17\u001b[0m         \u001b[39mprint\u001b[39m(f1\u001b[39m.\u001b[39mresult())\n\u001b[1;32m---> 19\u001b[0m \u001b[39mprint\u001b[39m(threaded(\u001b[39m250\u001b[39m))\n",
      "Cell \u001b[1;32mIn [14], line 17\u001b[0m, in \u001b[0;36mthreaded\u001b[1;34m(row_limit)\u001b[0m\n\u001b[0;32m     15\u001b[0m \u001b[39mwith\u001b[39;00m concurrent\u001b[39m.\u001b[39mfutures\u001b[39m.\u001b[39mProcessPoolExecutor() \u001b[39mas\u001b[39;00m executor:\n\u001b[0;32m     16\u001b[0m     f1 \u001b[39m=\u001b[39m executor\u001b[39m.\u001b[39msubmit(nonThread, row_limit)\n\u001b[1;32m---> 17\u001b[0m     \u001b[39mprint\u001b[39m(f1\u001b[39m.\u001b[39;49mresult())\n",
      "File \u001b[1;32mc:\\Users\\jackh\\AppData\\Local\\Programs\\Python\\Python310\\lib\\concurrent\\futures\\_base.py:458\u001b[0m, in \u001b[0;36mFuture.result\u001b[1;34m(self, timeout)\u001b[0m\n\u001b[0;32m    456\u001b[0m     \u001b[39mraise\u001b[39;00m CancelledError()\n\u001b[0;32m    457\u001b[0m \u001b[39melif\u001b[39;00m \u001b[39mself\u001b[39m\u001b[39m.\u001b[39m_state \u001b[39m==\u001b[39m FINISHED:\n\u001b[1;32m--> 458\u001b[0m     \u001b[39mreturn\u001b[39;00m \u001b[39mself\u001b[39;49m\u001b[39m.\u001b[39;49m__get_result()\n\u001b[0;32m    459\u001b[0m \u001b[39melse\u001b[39;00m:\n\u001b[0;32m    460\u001b[0m     \u001b[39mraise\u001b[39;00m \u001b[39mTimeoutError\u001b[39;00m()\n",
      "File \u001b[1;32mc:\\Users\\jackh\\AppData\\Local\\Programs\\Python\\Python310\\lib\\concurrent\\futures\\_base.py:403\u001b[0m, in \u001b[0;36mFuture.__get_result\u001b[1;34m(self)\u001b[0m\n\u001b[0;32m    401\u001b[0m \u001b[39mif\u001b[39;00m \u001b[39mself\u001b[39m\u001b[39m.\u001b[39m_exception:\n\u001b[0;32m    402\u001b[0m     \u001b[39mtry\u001b[39;00m:\n\u001b[1;32m--> 403\u001b[0m         \u001b[39mraise\u001b[39;00m \u001b[39mself\u001b[39m\u001b[39m.\u001b[39m_exception\n\u001b[0;32m    404\u001b[0m     \u001b[39mfinally\u001b[39;00m:\n\u001b[0;32m    405\u001b[0m         \u001b[39m# Break a reference cycle with the exception in self._exception\u001b[39;00m\n\u001b[0;32m    406\u001b[0m         \u001b[39mself\u001b[39m \u001b[39m=\u001b[39m \u001b[39mNone\u001b[39;00m\n",
      "\u001b[1;31mBrokenProcessPool\u001b[0m: A process in the process pool was terminated abruptly while the future was running or pending."
     ]
    }
   ],
   "source": [
    "# threading implementation\n",
    "\n",
    "@cache\n",
    "def comb_recurs(n, k):\n",
    "    if k == 0 or k == n:\n",
    "        return 1\n",
    "    else:\n",
    "        return comb_recurs(n-1, k-1) + comb_recurs(n-1, k)\n",
    "\n",
    "@cache\n",
    "def nonThread(row_limit):\n",
    "    return sorted(i for i, count in Counter(comb_recurs(n, k) for n in range(10, row_limit) for k in range(2, n//2+1)).items() if count > 1)\n",
    "\n",
    "def threaded(row_limit):\n",
    "    with concurrent.futures.ProcessPoolExecutor() as executor:\n",
    "        f1 = executor.submit(nonThread, row_limit)\n",
    "        print(f1.result())\n",
    "\n",
    "print(threaded(250))\n"
   ]
  }
 ],
 "metadata": {
  "kernelspec": {
   "display_name": "Python 3.10.7 64-bit",
   "language": "python",
   "name": "python3"
  },
  "language_info": {
   "codemirror_mode": {
    "name": "ipython",
    "version": 3
   },
   "file_extension": ".py",
   "mimetype": "text/x-python",
   "name": "python",
   "nbconvert_exporter": "python",
   "pygments_lexer": "ipython3",
   "version": "3.10.7"
  },
  "orig_nbformat": 4,
  "vscode": {
   "interpreter": {
    "hash": "b5f0bfb910b5f89afee0c4e65874b118d019a6f05b0e3b9906c17a1424dc1b44"
   }
  }
 },
 "nbformat": 4,
 "nbformat_minor": 2
}

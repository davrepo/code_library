{
 "cells": [
  {
   "cell_type": "code",
   "execution_count": 2,
   "metadata": {},
   "outputs": [],
   "source": [
    "import numpy as np\n",
    "# https://numpy.org/doc/1.23/user/quickstart.html"
   ]
  },
  {
   "cell_type": "code",
   "execution_count": 9,
   "metadata": {},
   "outputs": [
    {
     "data": {
      "text/plain": [
       "(12,)"
      ]
     },
     "execution_count": 9,
     "metadata": {},
     "output_type": "execute_result"
    }
   ],
   "source": [
    "# advanced numpy lecture 36:59\n",
    "a = np.array([[100, 200, 50, 400], [50, 0, 0, 100], [350, 100, 50, 200]])\n",
    "abytes = a.ravel().view(dtype=np.uint8) # uint8 is unsigned 8-bit integer 0-255, int8 is signed 8-bit integer -128 to 127\n"
   ]
  },
  {
   "cell_type": "code",
   "execution_count": 3,
   "metadata": {},
   "outputs": [],
   "source": [
    "# Initialization -------------------------------------------\n",
    "# Dimensions\n",
    "a0 = np.array(1)    # 1     0 dimension\n",
    "a1 = np.array([1, 2, 3])  # [1 2 3]     1 dimensional array\n",
    "a2 = np.array([[1, 2, 3], [4, 5, 6]])  # 2 dimensional array\n",
    "a3 = np.array([[[1, 2, 3], [4, 5, 6]], [[7, 8, 9], [10, 11, 12]]])  # 3 dimensional array\n",
    "ax = np.array([1, 2], ndmin=5)    # [[[[[1 2]]]]]      force 5 dimensional array\n",
    "a1.ndim # 1\n",
    "a2.ndim # 2\n",
    "a3.ndim # 3\n",
    "combo = np.array(np.arrange(1, 5), np.arange(5, 9)) # [[1 2 3 4] [5 6 7 8]]\n",
    "# Autogenerate\n",
    "zeroes = np.zeros((2, 2))  # Create an 2x2 array filled with zeroes (float, so 0.)\n",
    "ones = np.ones((2, 2))  # Create an 2x2 array filled with ones (float, so 1.)\n",
    "empty = np.empty((2, 2))  # Create an 2x2 array filled with random values - faster than zeros and ones\n",
    "full = np.full((2, 2), 7)  # Create an 2x2 array filled with 7\n",
    "full = np.full(a2.shape, 7)  # Create an array filled with 7, same shape as a2\n",
    "identiy = np.eye(2)  # Create a 2x2 identity matrix\n",
    "range_array = np.arange(0, 10, 2)  # [0 2 4 6 8], syntax same as range(): start, stop, step\n",
    "linsspace = np.linspace(0, 10, 5)  # [ 0.0  2.5  5.0  7.5  10.0 ]\n",
    "logspace = np.logspace(0, 1, 5, base=10) # [ 1.  1.77827941  3.16227766  5.62341325  10. ]\n",
    "\n",
    "# Initialize large arrays\n",
    "# create array first in full size, then fill in w/ assignment\n",
    "epochs = range(100_000)\n",
    "result_array = np.zeros((len(epochs),))  # zeroes() accept a tuple param, singleton tupe is syntax (num,)\n",
    "for index, e in enumerate(epochs):\n",
    "    value = e * 2   # do something\n",
    "    result_array[index] = value\n",
    "# even if you don't know the size beforehand, you can use resize()"
   ]
  },
  {
   "cell_type": "code",
   "execution_count": null,
   "metadata": {},
   "outputs": [],
   "source": [
    "# Memory saving / use Disk -------------------------------------------\n",
    "# results = np.ones((600,600,600,6))        <= don't do this, use Disk for storage\n",
    "# results[2,4,5,1] = 100\n",
    "\n",
    "import h5py\n",
    "hdf5_store = h5py.File(\"./cache.hdf5\", mode=\"a\")     # https://docs.h5py.org/en/stable/high/file.html \n",
    "results = hdf5_store.create_dataset(\"results\", (600,600,600,6), dtype=np.float32, compression=\"gzip\")\n",
    "# do something\n",
    "results[2,3,4,1] = 100"
   ]
  },
  {
   "cell_type": "code",
   "execution_count": 4,
   "metadata": {},
   "outputs": [
    {
     "data": {
      "text/plain": [
       "dtype('int64')"
      ]
     },
     "execution_count": 4,
     "metadata": {},
     "output_type": "execute_result"
    }
   ],
   "source": [
    "# Datatypes ----------------------------\n",
    "# let numpy choose the datatype\n",
    "x = np.array([1, 2])\n",
    "x.dtype     # dtype('int32')\n",
    "x = np.array([1.0, 2.0])\n",
    "x.dtype     # dtype('float64')\n",
    "\n",
    "# default type is float64\n",
    "bar1 = np.ones(2)  # Create an array of ones of type int64\n",
    "bar1.dtype    # dtype('float64')\n",
    "\n",
    "# force a particular datatype\n",
    "bar2 = np.array([1.0, 2.0], dtype=np.int8)    # 1 bytes = 8 bits\n",
    "bar2.dtype    # dtype('int8')"
   ]
  },
  {
   "cell_type": "code",
   "execution_count": 5,
   "metadata": {},
   "outputs": [
    {
     "data": {
      "text/plain": [
       "(3, 2, 4)"
      ]
     },
     "execution_count": 5,
     "metadata": {},
     "output_type": "execute_result"
    }
   ],
   "source": [
    "# Dimensions, Size, Shape -------------------------------------------\n",
    "# Shape: https://www.youtube.com/watch?v=ZVNbUuitv54&list=PLmzborXQMQuocnQ8TA9q5WTd6yFhNbIaV&index=3\n",
    "# ndim, # of axis or dimension\n",
    "# size, total # of elements\n",
    "# shape: # of elements in tupe: dimension, 1st dimension contains 4 elements, 2nd dimension contains 2 elements, last dimension contains 3 elements\n",
    "\n",
    "a = np.array([[[0, 1, 2, 3], [4, 5, 6, 7]], [[0, 1, 2, 3], [4, 5, 6, 7]], [[0, 1, 2, 3], [4, 5, 6, 7]]])\n",
    "a.ndim      # 3\n",
    "a.size      # 24\n",
    "a.shape     # (3, 2, 4)  <= 4 elements in brackets, 2 yellows, 3 blues"
   ]
  },
  {
   "cell_type": "code",
   "execution_count": 20,
   "metadata": {},
   "outputs": [
    {
     "data": {
      "text/plain": [
       "(1, 1, 2, 1, 2, 3)"
      ]
     },
     "execution_count": 20,
     "metadata": {},
     "output_type": "execute_result"
    }
   ],
   "source": [
    "# Reshaping / newaxis ----------------------------\n",
    "a = np.arange(1, 7)     # [1 2 3 4 5 6]\n",
    "b = a.reshape(2, 3)     # [[1 2 3] [4 5 6]]\n",
    "c = a.reshape(3, 2)     # [[1 2] [3 4] [5 6]]\n",
    "\n",
    "# newaxis is used to create a new axis in the data - add a blank axis to increase the dimension of the array\n",
    "# needed when model require the data to be shaped in a certain manner\n",
    "a.shape     # (6,)      <= it's a singleton tuple, a tuple with 1 element (6,), not 6 and something else. \n",
    "d = a[np.newaxis, :]    # [[1 2 3 4 5 6]]   <= add a new axis at the beginning\n",
    "d.shape     # (1, 6)\n",
    "e = a[:, np.newaxis]    # [[1] [2] [3] [4] [5] [6]]   <= add a new axis at the end\n",
    "e.shape     # (6, 1)\n",
    "\n",
    "# Flatten to 1D\n",
    "# difference is that flatten() returns a copy of the array, while ravel() / reshape() returns a view / reference of the array\n",
    "c.reshape(-1)   # [1 2 3 4 5 6]\n",
    "\n",
    "k = np.array([[[[[1, 2, 3], [4, 5, 6]]], [[[1, 2, 3], [4, 5, 6]]]]])\n",
    "k.shape     # (1, 2, 1, 2, 3)\n",
    "k = k[:, np.newaxis]\n",
    "k.shape     # (1, 1, 2, 1, 2, 3)\n",
    "\n",
    "x = np.arange(10)\n",
    "x.shape     # (10,)\n",
    "x[:, np.newaxis, np.newaxis].shape   # (10, 1, 1)\n",
    "x[np.newaxis, np.newaxis,:].shape   # (1, 1, 10)"
   ]
  },
  {
   "cell_type": "code",
   "execution_count": 7,
   "metadata": {},
   "outputs": [
    {
     "data": {
      "text/plain": [
       "array([30, 31, 32, 33])"
      ]
     },
     "execution_count": 7,
     "metadata": {},
     "output_type": "execute_result"
    }
   ],
   "source": [
    "# Indexing --------------------------------\n",
    "two_dim = np.array([[1, 2, 3], [4, 5, 6]]) \n",
    "two_dim[0, 0]   # 1\n",
    "three_dim = np.array([[[1, 2, 3], [4, 5, 6]], [[7, 8, 9], [10, 11, 12]]])\n",
    "three_dim[1, 1, 2]  # 12\n",
    "# Slice\n",
    "arr = np.arange(0,9) # [0 1 2 3 4 5 6 7 8]\n",
    "arr[1:7] # [1 2 3 4 5 6]\n",
    "arr[0:7] # [0 1 2 3 4 5 6]\n",
    "# Slice (2)\n",
    "two_dim[1, 1:]  # [5 6]     <= [1:] means slice to the end\n",
    "two_dim[:, 1:3] # [[2 3] [5 6]]     <= [:, 1:3] means slice all rows, columns 1 and 2\n",
    "three_dim[:, 1, :]  # [[4 5 6] [10 11 12]]     <= [:, 1, :] means all rows, row 1, all columns\n",
    "# Devil in the details, potential BUG!\n",
    "A = np.array([[n+m*10 for n in range(4)] for m in range(4)]) # [[0 1 2 3] [10 11 12 13] [20 21 22 23] [30 31 32 33]]\n",
    "A[3:,:]     # [[30 31 32 33]]     <= 2 dimensional\n",
    "A[3,:]      # [30 31 32 33]       <= 1 dimensional \n"
   ]
  },
  {
   "cell_type": "code",
   "execution_count": 8,
   "metadata": {},
   "outputs": [],
   "source": [
    "# Boolean indexing ----------------------------\n",
    "a = np.array([[1, 2], [3, 4], [5, 6]])\n",
    "# [[1 2]\n",
    "#  [3 4]\n",
    "#  [5 6]]\n",
    "\n",
    "# same shape with True or False for the condition\n",
    "bool_idx = (a > 2)\n",
    "# [[False False]\n",
    "#  [ True  True]\n",
    "#  [ True  True]]\n",
    "\n",
    "# note: this will be a rank 1 array\n",
    "a[bool_idx]         #[3 4 5 6]\n",
    "a[a > 2]            #[3 4 5 6]      # same as above, more concise\n",
    "\n",
    "# modify the array\n",
    "b = np.where(a > 2, a, -1)  # if a > 2, then a, else -1  <= ternary operator\n",
    "# [[-1 -1]\n",
    "#  [ 3  4]\n",
    "#  [ 5  6]]"
   ]
  },
  {
   "cell_type": "code",
   "execution_count": 9,
   "metadata": {},
   "outputs": [
    {
     "data": {
      "text/plain": [
       "array([11, 23,  3])"
      ]
     },
     "execution_count": 9,
     "metadata": {},
     "output_type": "execute_result"
    }
   ],
   "source": [
    "# Fancy indexing / Advanced indexing ----------------------------\n",
    "# https://www.pythonlikeyoumeanit.com/Module3_IntroducingNumpy/AdvancedIndexing.html\n",
    "# fancy indexing: pass a list of indices to access multiple array elements at once\n",
    "a = np.array([10, 19, 30, 41, 50, 61])\n",
    "b = a[[1, 3, 5]]  # [19 41 61]\n",
    "\n",
    "# compute indices where condition is true\n",
    "even = np.argwhere(a%2==0).flatten()  # [0 2 4]     <= these are indices\n",
    "a_even = a[even]                      # [10 30 50]  <= pass the indices as param in fancy indexing to get the values\n",
    "\n",
    "# arrays of indices passed as param are Parallel processed, like zip list\n",
    "A = np.array([[n+m*10 for n in range(4)] for m in range(4)])    # [[0 1 2 3] [10 11 12 13] [20 21 22 23] [30 31 32 33]]\n",
    "A[[1, 2, 0], [1, 3, -1]]   # [11 23 3]     <= [1, 1], [2, 3], [0, 3]     <= [row, column]  "
   ]
  },
  {
   "cell_type": "code",
   "execution_count": 10,
   "metadata": {},
   "outputs": [
    {
     "data": {
      "text/plain": [
       "array([0, 2])"
      ]
     },
     "execution_count": 10,
     "metadata": {},
     "output_type": "execute_result"
    }
   ],
   "source": [
    "# nonzero, where, masking --------------------------------\n",
    "# https://numpy.org/doc/stable/reference/generated/numpy.nonzero.html\n",
    "\n",
    "# nonzero: returns a tuple of arrays, paraelle processing the indices of nonzero elements, like zip list\n",
    "x = np.array([[3, 0, 0], [0, 4, 0], [5, 6, 0]])\n",
    "x.nonzero()    # (array([0, 1, 2, 2]), array([0, 1, 0, 1]))  <= (row, column), so index (0,0), (1,1), (2,0), (2,1)\n",
    "x[[0, 1, 2, 2], [0, 1, 0, 1]]   # [3 4 5 6]\n",
    "np.transpose(x.nonzero())\n",
    "# ([[0, 0],\n",
    "#  [1, 1],\n",
    "#  [2, 0],\n",
    "#  [2, 1]])\n",
    "\n",
    "# where\n",
    "from numpy import where\n",
    "a = np.array([10, 20, 30, 40, 50])\n",
    "b = np.array([80, 40, 20, 10, 90])\n",
    "c = a>b     # [False  True  True  True False]\n",
    "c = where(a>b, a, b)    # [80 20 30 40 90]      <= ternary operator\n",
    "\n",
    "# where (2)\n",
    "x = np.arange(1, 7, 0.5)    # [1.  1.5 2.  2.5 3.  3.5 4.  4.5 5.  5.5 6. ]     <= 11 numbers   \n",
    "mask = (3 < x) & (x < 6.5)  # [False False False False  True  True  True  True  True  True False]\n",
    "# and = &, or = |, not = ~\n",
    "indices = np.where(mask)    # (array([4, 5, 6, 7, 8, 9]),)     <= indices of True\n",
    "x[indices]                 # [3.  3.5 4.  4.5 5.  5.5]       <= values of True\n",
    "\n",
    "# Masking (1)\n",
    "a = np.array([[1, 2, 3], [4, 5, 6], [7, 8, 9]])\n",
    "a > 3    # [[False False False] [ True  True  True] [ True  True  True]]\n",
    "np.nonzero(a > 3)   # (array([1, 1, 1, 2, 2, 2]), array([0, 1, 2, 0, 1, 2]))  <= (row, column), so 4 = (1, 1) index\n",
    "(a > 3).nonzero()   # (array([1, 1, 1, 2, 2, 2]), array([0, 1, 2, 0, 1, 2]))  <= (row, column)\n",
    "a[a > 3]    # [4 5 6 7 8 9]\n",
    "a[a < 4] = 0   # [[0 0 0] [4 5 6] [7 8 9]]\n",
    "\n",
    "# Masking (2)\n",
    "B = np.array([n for n in range(5)])   # [0 1 2 3 4]\n",
    "B[np.array([True, False, True, False, False])]  # [0 2]\n",
    "B[np.array([1,0,1,0,0], dtype=bool)]    # [0, 2]\n"
   ]
  },
  {
   "cell_type": "code",
   "execution_count": 11,
   "metadata": {},
   "outputs": [],
   "source": [
    "# Stacking, concatenating, repeat, tile ----------------------------\n",
    "# create large vectors and matrices from smaller ones\n",
    "# https://numpy.org/doc/stable/reference/routines.array-manipulation.html\n",
    "# Concatenation\n",
    "a = np.array([[1, 2], [3, 4]])\n",
    "b = np.array([[5, 6]])\n",
    "# axis=0: column, axis=1: rows, axis=2: depth(z axis), axis=None: flatten\n",
    "# https://stackoverflow.com/questions/17079279/how-is-axis-indexed-in-numpys-array\n",
    "c = np.concatenate((a, b), axis=None)  # [1 2 3 4 5 6]   <= flatten the array\n",
    "d = np.concatenate((a, b), axis=0)     # [[1 2] [3 4] [5 6]]   <= concatenate along axis 0\n",
    "e = np.concatenate((a, b.T), axis=1)   # [[1 2 5] [3 4 6]]   <= concatenate along axis 1\n",
    "\n",
    "# hstack: stack arrays in sequence horizontally (column wise)\n",
    "a = np.array([1, 2, 3, 4])\n",
    "b = np.array([5, 6, 7, 8])\n",
    "c = np.hstack((a, b))  # [1 2 3 4 5 6 7 8]\n",
    "\n",
    "a = np.array([[1, 2], [3, 4]])\n",
    "b = np.array([[5, 6], [7, 8]])\n",
    "c = np.hstack((a, b))  # [[1 2 5 6] [3 4 7 8]]\n",
    "\n",
    "# vstack: stack arrays in sequence vertically (row wise)\n",
    "a = np.array([1, 2, 3, 4])\n",
    "b = np.array([5, 6, 7, 8])\n",
    "c = np.vstack((a, b, a)) # [[1 2 3 4] [5 6 7 8] [1 2 3 4]]\n",
    "\n",
    "a = np.array([[1, 2], [3, 4]])\n",
    "b = np.array([[5, 6], [7, 8]])\n",
    "c = np.vstack((a, b))  # [[1 2] [3 4] [5 6] [7 8]]\n",
    "\n",
    "# repeat\n",
    "a = np.array([[1, 2], [3, 4]])\n",
    "np.repeat(a, 3)     # [1 1 1 2 2 2 3 3 3 4 4 4]     <= repeat each element 3 times\n",
    "np.repeat(a, 3, axis=0)  # [[1 2] [1 2] [1 2] [3 4] [3 4] [3 4]]\n",
    "np.repeat(a, 3, axis=1) # [[1 1 1 2 2 2] [3 3 3 4 4 4]]\n",
    "\n",
    "# tile\n",
    "np.tile(a, 3)       # [[1 2 1 2 1 2] [3 4 3 4 3 4]]   <= tile the array 3 times"
   ]
  },
  {
   "cell_type": "code",
   "execution_count": 12,
   "metadata": {},
   "outputs": [],
   "source": [
    "# Broadcasting ----------------------------\n",
    "a = np.array([[1, 2, 3], [4, 5, 6], [7, 8, 9], [10, 11, 12]])\n",
    "b = np.array([1, 0, 1])\n",
    "c = a + b  # [[ 2  2  4] [ 5  5  7] [ 8  8 10] [11 11 13]]  <= add value to each row of the array using broadcasting"
   ]
  },
  {
   "cell_type": "code",
   "execution_count": 13,
   "metadata": {},
   "outputs": [
    {
     "data": {
      "text/plain": [
       "array([1, 4, 7])"
      ]
     },
     "execution_count": 13,
     "metadata": {},
     "output_type": "execute_result"
    }
   ],
   "source": [
    "# Statistical methods ----------------------------\n",
    "# sum() - sum of all elements\n",
    "a = np.array([[7, 8, 9, 10, 11, 12, 13], [17, 18, 19, 20, 21, 22, 23]])\n",
    "a.sum()     # 210   <= sum all the elements, default axis is None\n",
    "a.sum(axis=None)  # 210\n",
    "a.sum(axis=0)   # [24 26 28 30 32 34 36]   <= sum along axis 0\n",
    "a.sum(axis=1)   # [70 98]   <= sum along axis 1\n",
    "\n",
    "# mean() - mean of all elements\n",
    "a.mean()    # 15.0  <= mean of all the elements, default axis is None\n",
    "a.mean(axis=None)  # 15.0\n",
    "a.mean(axis=0)  # [12. 13. 14. 15. 16. 17. 18.]   <= mean along axis 0\n",
    "a.mean(axis=1)  # [10. 14.]   <= mean along axis 1\n",
    "\n",
    "# min(), max()\n",
    "a = np.arange(1, 10).reshape(3, 3)  # [[1 2 3] [4 5 6] [7 8 9]]\n",
    "a.min()     # 1  <= min of flattened array\n",
    "a.min(0)    # [1 2 3]   <= min along axis 0 (columns)\n",
    "a.min(1)    # [1 4 7]   <= min along axis 1 (rows)\n",
    "\n",
    "# more functions: std, var, min, max, argmin, argmax, median, percentile, sort, etc\n",
    "# sort  https://numpy.org/doc/1.23/reference/routines.sort.html"
   ]
  },
  {
   "cell_type": "code",
   "execution_count": 14,
   "metadata": {},
   "outputs": [
    {
     "data": {
      "text/plain": [
       "array([5, 2, 3])"
      ]
     },
     "execution_count": 14,
     "metadata": {},
     "output_type": "execute_result"
    }
   ],
   "source": [
    "# Copying , Referencing (View) ----------------------------\n",
    "# Referencing (1)\n",
    "a = np.array([1, 2, 3])\n",
    "b = a   # b is a reference to a, only copies reference\n",
    "b[0] = 5\n",
    "a   # [5 2 3]\n",
    "b   # [5 2 3]\n",
    "\n",
    "# Referencing (2)\n",
    "arr = np.arange(10)     # [0 1 2 3 4 5 6 7 8 9]\n",
    "arr_part = arr[5:8]     # [5 6 7]\n",
    "arr_part[:] = 666\n",
    "arr                     # [  0   1   2   3   4 666 666 666   8   9]\n",
    "arr[:] = 999\n",
    "arr_part                # [999 999 999]\n",
    "\n",
    "# Copying\n",
    "a = np.array([1, 2, 3])\n",
    "b = a.copy()    # b is a copy of a, copies the data\n",
    "b[0] = 5\n",
    "a   # [1 2 3]\n",
    "b   # [5 2 3]"
   ]
  },
  {
   "cell_type": "code",
   "execution_count": 24,
   "metadata": {},
   "outputs": [
    {
     "data": {
      "text/plain": [
       "array([[3, 9, 3],\n",
       "       [8, 6, 4],\n",
       "       [5, 9, 7]])"
      ]
     },
     "execution_count": 24,
     "metadata": {},
     "output_type": "execute_result"
    }
   ],
   "source": [
    "# Random numbers ----------------------------\n",
    "# https://numpy.org/doc/1.16/reference/routines.random.html\n",
    "\n",
    "# param is a tuple, random numbers btwn 0 and 1, uniform distri,\n",
    "a = np.random.random((3,2)) # [[0.123 0.456] [0.789 0.123] [0.456 0.789]]\n",
    "\n",
    "# param is comma separated list\n",
    "# Note: the numbers are not in a tuple, but are comma separated\n",
    "a = np.random.rand(3,2)     # [[0.123 0.456] [0.789 0.123] [0.456 0.789]]\n",
    "b = np.random.randn(3,2)     # [[-0.123 0.456] [0.789 -0.123] [-0.456 0.789]]  <= normal distribution, mean 0, std 1\n",
    "e = np.random.randint(3, 10, size=(3,3))    # [[9 3 9] [8 4 6] [5 9 7]]  <= random integers btwn 3 and 10, uniform distribution mean 6.5, std 2.5\n",
    "f = np.random.choice(7, size=10)    # [1 2 3 4 5 6 7 1 2 3]  <= random integers btwn 1 and 7, uniform distribution\n",
    "g = np.random.choice([2, 3, 5, 7], size=8)  # [2 3 5 7 2 3 5 7]  <= random integers from the list, uniform distribution"
   ]
  },
  {
   "cell_type": "code",
   "execution_count": null,
   "metadata": {},
   "outputs": [],
   "source": [
    "# Conditional ----------------------------\n",
    "# https://numpy.org/doc/1.16/reference/routines.logic.html\n",
    "M = np.array([[1, 2], [3, 4]])   # if statements, one needs to use any() or all(), which requires any or all elements in array eval to True\n",
    "if (M > 5).any():\n",
    "    print(\"at least one element in M is greater than 5\")\n",
    "else:\n",
    "    print(\"No element in M is greater than 5\")\n",
    "\n",
    "if (M > 5).all():\n",
    "    print(\"all elements in M are greater than 5\")\n",
    "else:\n",
    "    print(\"all elements in M are not greater than 5\")\n"
   ]
  },
  {
   "cell_type": "code",
   "execution_count": 6,
   "metadata": {},
   "outputs": [
    {
     "name": "stdout",
     "output_type": "stream",
     "text": [
      "1 2 3 4 5 6 7 8 9 10 11 12 (0, 0, 0) 1 (0, 0, 1) 2 (0, 0, 2) 3 (0, 1, 0) 4 (0, 1, 1) 5 (0, 1, 2) 6 (1, 0, 0) 7 (1, 0, 1) 8 (1, 0, 2) 9 (1, 1, 0) 10 (1, 1, 1) 11 (1, 1, 2) 12 "
     ]
    }
   ],
   "source": [
    "# Iteration ----------------------------\n",
    "a = np.array([[[1, 2, 3], [4, 5, 6]], [[7, 8, 9], [10, 11, 12]]])   # 3D array, shape (2, 2, 2)\n",
    "for x in np.nditer(a):\n",
    "    print(x, end=\" \")   # 1 2 3 4 5 6 7 8 9 10 11 12\n",
    "\n",
    "for idx, x in np.ndenumerate(a):    # ndenumerate() returns a tuple of index and value\n",
    "    print(idx, x, end=\" \")   # (0, 0, 0) 1  (0, 0, 1) 2  (0, 0, 2) 3  (0, 1, 0) 4  (0, 1, 1) 5  (0, 1, 2) 6  (1, 0, 0) 7  (1, 0, 1) 8  (1, 0, 2) 9  (1, 1, 0) 10  (1, 1, 1) 11  (1, 1, 2) 12"
   ]
  },
  {
   "cell_type": "code",
   "execution_count": 16,
   "metadata": {},
   "outputs": [],
   "source": [
    "# Linear algebra ----------------------------\n",
    "# Eigenvalues and eigenvectors\n",
    "a = np.array([[1,2], [3,4]])\n",
    "eigenvalues, eigenvectors = np.linalg.eig(a)    # eigenvalues: [5. -2.], eigenvectors: [[-0.707 -0.447] [0.707 -0.894]]\n",
    "\n",
    "# Solve linear systems (Ax = b)\n",
    "A = np.array([[1, 1], [1.5, 4]])\n",
    "b = np.array([2200, 5050])\n",
    "# Non-example: calc inverse is slow and less accurate, don't use it\n",
    "x = np.linalg.inv(A).dot(b) # [1500.  700.]\n",
    "# Instead use:\n",
    "x = np.linalg.solve(A, b)   # [1500.  700.]"
   ]
  },
  {
   "cell_type": "code",
   "execution_count": 3,
   "metadata": {},
   "outputs": [],
   "source": [
    "# Vectorize ----------------------------\n",
    "# make function to handle a vector input\n",
    "def Theta(x):\n",
    "    if x >= 0:\n",
    "        return 1\n",
    "    else:\n",
    "        return 0\n",
    "# Theta(np.array([-3,-2,-1,0,1,2,3]))  # TypeError: because Theta function can't handle a vector input\n",
    "Theta_vec = np.vectorize(Theta)     # vectorize the function\n",
    "Theta_vec(np.array([-3, -2, -1, 0, 1, 2, 3]))  # [0 0 0 1 1 1 1]\n",
    "\n",
    "# Implement function to accept a vector input from the beginning (more effort, but better performance)\n",
    "def ThetaV2(x):\n",
    "    return 1 * (x >= 0)\n",
    "ThetaV2(np.array([-3, -2, -1, 0, 1, 2, 3])) # [0 0 0 1 1 1 1]\n",
    "ThetaV2(-1.2)   # 0     <= still works for scalar input too\n",
    "ThetaV2(2.6)   # 1"
   ]
  },
  {
   "cell_type": "code",
   "execution_count": 6,
   "metadata": {},
   "outputs": [
    {
     "ename": "FileNotFoundError",
     "evalue": "my_file.csv not found.",
     "output_type": "error",
     "traceback": [
      "\u001b[1;31m---------------------------------------------------------------------------\u001b[0m",
      "\u001b[1;31mFileNotFoundError\u001b[0m                         Traceback (most recent call last)",
      "Cell \u001b[1;32mIn [6], line 4\u001b[0m\n\u001b[0;32m      1\u001b[0m \u001b[39m# File IO ----------------------------\u001b[39;00m\n\u001b[0;32m      2\u001b[0m \u001b[39m# Loading data from CSV\u001b[39;00m\n\u001b[0;32m      3\u001b[0m \u001b[39m# np.loadtxt(), skiprows=1\u001b[39;00m\n\u001b[1;32m----> 4\u001b[0m data \u001b[39m=\u001b[39m np\u001b[39m.\u001b[39mloadtxt(\u001b[39m'\u001b[39m\u001b[39mmy_file.csv\u001b[39m\u001b[39m'\u001b[39m, delimiter\u001b[39m=\u001b[39m\u001b[39m'\u001b[39m\u001b[39m,\u001b[39m\u001b[39m'\u001b[39m, skiprows\u001b[39m=\u001b[39m\u001b[39m1\u001b[39m, dtype\u001b[39m=\u001b[39mnp\u001b[39m.\u001b[39mfloat32)\n\u001b[0;32m      6\u001b[0m \u001b[39m# np.genfromtxt(), similar but slightly more configuration params\u001b[39;00m\n\u001b[0;32m      7\u001b[0m \u001b[39m# skip_header=0, missing_values=\"---\", filling_values=0.0, ...\u001b[39;00m\n\u001b[0;32m      8\u001b[0m data \u001b[39m=\u001b[39m np\u001b[39m.\u001b[39mgenfromtxt(\u001b[39m'\u001b[39m\u001b[39mmy_file.csv\u001b[39m\u001b[39m'\u001b[39m, delimiter\u001b[39m=\u001b[39m\u001b[39m'\u001b[39m\u001b[39m,\u001b[39m\u001b[39m'\u001b[39m, skip_header\u001b[39m=\u001b[39m\u001b[39m1\u001b[39m, dtype\u001b[39m=\u001b[39mnp\u001b[39m.\u001b[39mfloat32)\n",
      "File \u001b[1;32mc:\\Users\\jackh\\AppData\\Local\\Programs\\Python\\Python310\\lib\\site-packages\\numpy\\lib\\npyio.py:1313\u001b[0m, in \u001b[0;36mloadtxt\u001b[1;34m(fname, dtype, comments, delimiter, converters, skiprows, usecols, unpack, ndmin, encoding, max_rows, quotechar, like)\u001b[0m\n\u001b[0;32m   1310\u001b[0m \u001b[39mif\u001b[39;00m \u001b[39misinstance\u001b[39m(delimiter, \u001b[39mbytes\u001b[39m):\n\u001b[0;32m   1311\u001b[0m     delimiter \u001b[39m=\u001b[39m delimiter\u001b[39m.\u001b[39mdecode(\u001b[39m'\u001b[39m\u001b[39mlatin1\u001b[39m\u001b[39m'\u001b[39m)\n\u001b[1;32m-> 1313\u001b[0m arr \u001b[39m=\u001b[39m _read(fname, dtype\u001b[39m=\u001b[39;49mdtype, comment\u001b[39m=\u001b[39;49mcomment, delimiter\u001b[39m=\u001b[39;49mdelimiter,\n\u001b[0;32m   1314\u001b[0m             converters\u001b[39m=\u001b[39;49mconverters, skiplines\u001b[39m=\u001b[39;49mskiprows, usecols\u001b[39m=\u001b[39;49musecols,\n\u001b[0;32m   1315\u001b[0m             unpack\u001b[39m=\u001b[39;49munpack, ndmin\u001b[39m=\u001b[39;49mndmin, encoding\u001b[39m=\u001b[39;49mencoding,\n\u001b[0;32m   1316\u001b[0m             max_rows\u001b[39m=\u001b[39;49mmax_rows, quote\u001b[39m=\u001b[39;49mquotechar)\n\u001b[0;32m   1318\u001b[0m \u001b[39mreturn\u001b[39;00m arr\n",
      "File \u001b[1;32mc:\\Users\\jackh\\AppData\\Local\\Programs\\Python\\Python310\\lib\\site-packages\\numpy\\lib\\npyio.py:955\u001b[0m, in \u001b[0;36m_read\u001b[1;34m(fname, delimiter, comment, quote, imaginary_unit, usecols, skiplines, max_rows, converters, ndmin, unpack, dtype, encoding)\u001b[0m\n\u001b[0;32m    953\u001b[0m     fname \u001b[39m=\u001b[39m os\u001b[39m.\u001b[39mfspath(fname)\n\u001b[0;32m    954\u001b[0m \u001b[39mif\u001b[39;00m \u001b[39misinstance\u001b[39m(fname, \u001b[39mstr\u001b[39m):\n\u001b[1;32m--> 955\u001b[0m     fh \u001b[39m=\u001b[39m np\u001b[39m.\u001b[39;49mlib\u001b[39m.\u001b[39;49m_datasource\u001b[39m.\u001b[39;49mopen(fname, \u001b[39m'\u001b[39;49m\u001b[39mrt\u001b[39;49m\u001b[39m'\u001b[39;49m, encoding\u001b[39m=\u001b[39;49mencoding)\n\u001b[0;32m    956\u001b[0m     \u001b[39mif\u001b[39;00m encoding \u001b[39mis\u001b[39;00m \u001b[39mNone\u001b[39;00m:\n\u001b[0;32m    957\u001b[0m         encoding \u001b[39m=\u001b[39m \u001b[39mgetattr\u001b[39m(fh, \u001b[39m'\u001b[39m\u001b[39mencoding\u001b[39m\u001b[39m'\u001b[39m, \u001b[39m'\u001b[39m\u001b[39mlatin1\u001b[39m\u001b[39m'\u001b[39m)\n",
      "File \u001b[1;32mc:\\Users\\jackh\\AppData\\Local\\Programs\\Python\\Python310\\lib\\site-packages\\numpy\\lib\\_datasource.py:193\u001b[0m, in \u001b[0;36mopen\u001b[1;34m(path, mode, destpath, encoding, newline)\u001b[0m\n\u001b[0;32m    156\u001b[0m \u001b[39m\"\"\"\u001b[39;00m\n\u001b[0;32m    157\u001b[0m \u001b[39mOpen `path` with `mode` and return the file object.\u001b[39;00m\n\u001b[0;32m    158\u001b[0m \n\u001b[1;32m   (...)\u001b[0m\n\u001b[0;32m    189\u001b[0m \n\u001b[0;32m    190\u001b[0m \u001b[39m\"\"\"\u001b[39;00m\n\u001b[0;32m    192\u001b[0m ds \u001b[39m=\u001b[39m DataSource(destpath)\n\u001b[1;32m--> 193\u001b[0m \u001b[39mreturn\u001b[39;00m ds\u001b[39m.\u001b[39;49mopen(path, mode, encoding\u001b[39m=\u001b[39;49mencoding, newline\u001b[39m=\u001b[39;49mnewline)\n",
      "File \u001b[1;32mc:\\Users\\jackh\\AppData\\Local\\Programs\\Python\\Python310\\lib\\site-packages\\numpy\\lib\\_datasource.py:533\u001b[0m, in \u001b[0;36mDataSource.open\u001b[1;34m(self, path, mode, encoding, newline)\u001b[0m\n\u001b[0;32m    530\u001b[0m     \u001b[39mreturn\u001b[39;00m _file_openers[ext](found, mode\u001b[39m=\u001b[39mmode,\n\u001b[0;32m    531\u001b[0m                               encoding\u001b[39m=\u001b[39mencoding, newline\u001b[39m=\u001b[39mnewline)\n\u001b[0;32m    532\u001b[0m \u001b[39melse\u001b[39;00m:\n\u001b[1;32m--> 533\u001b[0m     \u001b[39mraise\u001b[39;00m \u001b[39mFileNotFoundError\u001b[39;00m(\u001b[39mf\u001b[39m\u001b[39m\"\u001b[39m\u001b[39m{\u001b[39;00mpath\u001b[39m}\u001b[39;00m\u001b[39m not found.\u001b[39m\u001b[39m\"\u001b[39m)\n",
      "\u001b[1;31mFileNotFoundError\u001b[0m: my_file.csv not found."
     ]
    }
   ],
   "source": [
    "# File IO ----------------------------\n",
    "# Loading data from CSV\n",
    "# np.loadtxt(), skiprows=1\n",
    "data = np.loadtxt('my_file.csv', delimiter=',', skiprows=1, dtype=np.float32)\n",
    "\n",
    "# np.genfromtxt(), similar but slightly more configuration params\n",
    "# skip_header=0, missing_values=\"---\", filling_values=0.0, ...\n",
    "data = np.genfromtxt('my_file.csv', delimiter=',', skip_header=1, dtype=np.float32)\n",
    "\n",
    "#Write data to CSV\n",
    "M = np.random.rand(3,3)     # [[0.123 0.456 0.789] [0.123 0.456 0.789] [0.123 0.456 0.789]]\n",
    "np.savetxt(\"random-matrix.csv\", M, fmt='%.5f', delimiter=\",\")     # fmt specifies the format of the data, delimiter specifies the separator\n"
   ]
  }
 ],
 "metadata": {
  "kernelspec": {
   "display_name": "Python 3.10.7 64-bit",
   "language": "python",
   "name": "python3"
  },
  "language_info": {
   "codemirror_mode": {
    "name": "ipython",
    "version": 3
   },
   "file_extension": ".py",
   "mimetype": "text/x-python",
   "name": "python",
   "nbconvert_exporter": "python",
   "pygments_lexer": "ipython3",
   "version": "3.10.7"
  },
  "orig_nbformat": 4,
  "vscode": {
   "interpreter": {
    "hash": "b5f0bfb910b5f89afee0c4e65874b118d019a6f05b0e3b9906c17a1424dc1b44"
   }
  }
 },
 "nbformat": 4,
 "nbformat_minor": 2
}

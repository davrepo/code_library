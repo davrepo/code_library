{
 "cells": [
  {
   "cell_type": "code",
   "execution_count": 1,
   "metadata": {},
   "outputs": [],
   "source": [
    "# https://docs.python.org/3/howto/regex.html\n",
    "# https://regexone.com/\n",
    "# ^           Starts with\n",
    "# $           Ends with\n",
    "# .           Any character\n",
    "# ?           Optional character (e.g. \"p?each\", will match both \"peach\" and \"each\", as p is optional)\n",
    "# \\s          Whitespace\n",
    "# \\S          Non-whitespace characters\n",
    "# *           Repeats a character zero or more times (greedy means it will try to match the longest string possible)\n",
    "# *?          Repeats a character zero or more times (non-greedy)\n",
    "# +           Repeats a character one or more times\n",
    "# +?          Repeats a character one or more times(non-greedy)\n",
    "# [aeiou]     a single character in the listed set\n",
    "# [^XYZ]      a single character not in the listed set\n",
    "# [a-z0-9]    set of characters can include a range\n",
    "# ()          use () to group conditions together, e.g. r\"^([1-9]|1[0-2]):[0-5][0-9]\\s?(AM|PM|am|pm)$\"\n",
    "# /b          word boundary (e.g. r\"\\bcat\\b\" will match \"cat\" but not \"catch\")\n",
    "# \\d          digits\n",
    "# |           or, e.g. r\"cat|dog\" will match \"cat\" or \"dog\""
   ]
  },
  {
   "cell_type": "code",
   "execution_count": 2,
   "metadata": {},
   "outputs": [
    {
     "name": "stdout",
     "output_type": "stream",
     "text": [
      "['2', '19', '42']\n",
      "<re.Match object; span=(7, 13), match='vorite'>\n",
      "True\n",
      "7\n"
     ]
    }
   ],
   "source": [
    "import re\n",
    "x = 'My 2 favorite numbers are 19 and 42'\n",
    "print(re.findall('[0-9]+', x))      # ['2', '19', '42']\n",
    "print(re.search(r'vorite', x))      # <re.Match object; span=(7, 13), match='vorite'>\n",
    "print(x.startswith('My'))           # True\n",
    "print(x.find('vorite'))             # 7     # returns the index of first occurance"
   ]
  },
  {
   "cell_type": "code",
   "execution_count": 8,
   "metadata": {},
   "outputs": [
    {
     "name": "stdout",
     "output_type": "stream",
     "text": [
      "['From: stephen@gmail.com Sat Jan 5 09:14:']\n",
      "['From:']\n",
      "['stephen@gmail.com']\n",
      "['gmail.com']\n"
     ]
    }
   ],
   "source": [
    "# Greedy matching - * and + push outward in both directions (greedy)\n",
    "# to match the largest possible string\n",
    "\n",
    "x ='From: stephen@gmail.com Sat Jan 5 09:14:16 2022'\n",
    "y = re.findall('^F.+:', x)      # greedy match\n",
    "print(y)                        # ['From: stephen@gmail.com Sat Jan 5 09:14:']\n",
    "\n",
    "z = re.findall('^F.+?:', x)     # non-greedy match\n",
    "print(z)                        # ['From:']\n",
    "\n",
    "# find the substring, but extract only what's in ()\n",
    "a = re.findall('^From: (\\S+?@\\S+)', x)   \n",
    "print(a)                        # ['stephen@gmail.com']\n",
    "\n",
    "# Dual Split pattern - cut both ways\n",
    "b = re.findall('From.*@([^ ]*)', x)       # [^ ] == match non-blank char\n",
    "print(b)                        # ['gmail.com']"
   ]
  },
  {
   "cell_type": "code",
   "execution_count": 12,
   "metadata": {},
   "outputs": [
    {
     "name": "stdout",
     "output_type": "stream",
     "text": [
      "True\n",
      "False\n",
      "True\n"
     ]
    }
   ],
   "source": [
    "def check_aei (text):\n",
    "    # text contains a, e, or i in any order with exactly one occurence, sandwiched between two other characters, ignore case\n",
    "    result = re.search(r'[^aei][aei][^aei]', text, re.IGNORECASE)   # r'' is raw string\n",
    "    return result != None\n",
    "\n",
    "print(check_aei(\"academia\")) # True\n",
    "print(check_aei(\"aerial\")) # False\n",
    "print(check_aei(\"paramedic\")) # True"
   ]
  },
  {
   "cell_type": "code",
   "execution_count": 14,
   "metadata": {},
   "outputs": [
    {
     "name": "stdout",
     "output_type": "stream",
     "text": [
      "<re.Match object; span=(7, 10), match='cat'>\n",
      "['dog', 'cat']\n"
     ]
    }
   ],
   "source": [
    "# ----------- OR operator -----------\n",
    "print(re.search(r\"cat|dog\", \"I like cats.\"))             # <re.Match object; span=(7, 10), match='cat'>\n",
    "print(re.findall(r\"cat|dog\", \"I like dogs and cats.\"))   # ['dog', 'cat']"
   ]
  },
  {
   "cell_type": "code",
   "execution_count": 18,
   "metadata": {},
   "outputs": [
    {
     "name": "stdout",
     "output_type": "stream",
     "text": [
      "John F. Kennedy\n"
     ]
    }
   ],
   "source": [
    "# ----------- Capturing Groups -----------\n",
    "def rearrange_name(name):\n",
    "    result = re.search(r\"^([\\w \\.-]*), ([\\w \\.-]*)$\", name)     # () is a capturing group (will be returned as a tuple)\n",
    "    if result == None:      # if no match,\n",
    "        return name\n",
    "    return \"{} {}\".format(result[2], result[1])\n",
    "\n",
    "name=rearrange_name(\"Kennedy, John F.\")\n",
    "print(name)\n",
    "\n",
    "\n",
    "def extract_pid(log_line):\n",
    "  # match digits in square brackets, followed by a space, followed by one or more uppercase letters\n",
    "  regex = r\"\\[(\\d+)\\]: ([A-Z]+)\"    # () is a capturing group, which will be returned as a tuple\n",
    "  result = re.search(regex, log_line)\n",
    "  if result is None:\n",
    "    return None\n",
    "  return \"{} ({})\".format(result[1], result[2])\n",
    "\n",
    "print(extract_pid(\"July 31 07:51:48 mycomputer bad_process[12345]: ERROR Performing package upgrade\")) # 12345 (ERROR)\n",
    "print(extract_pid(\"99 elephants in a [cage]\")) # None\n",
    "print(extract_pid(\"A string that also has numbers [34567] but no uppercase message\")) # None\n",
    "print(extract_pid(\"July 31 08:08:08 mycomputer new_process[67890]: RUNNING Performing backup\")) # 67890 (RUNNING)"
   ]
  },
  {
   "cell_type": "code",
   "execution_count": 28,
   "metadata": {},
   "outputs": [
    {
     "data": {
      "text/plain": [
       "'Ada Lovelace'"
      ]
     },
     "execution_count": 28,
     "metadata": {},
     "output_type": "execute_result"
    }
   ],
   "source": [
    "# ----------- Split -----------\n",
    "re.split(r\"[.?!]\", \"One sentence. Another one? And the last one!\") # ['One sentence', ' Another one', ' And the last one', '']\n",
    "# to include the punctuation in the result, use () to capture the punctuation\n",
    "re.split(r\"([.?!])\", \"One sentence. Another one? And the last one!\") # ['One sentence', '.', ' Another one', '?', ' And the last one', '!', '']\n",
    "\n",
    "# ----------- Substitution -----------\n",
    "re.sub(r\"[\\w.%+-]+@[\\w.-]+\", \"[REDACTED]\", \"Received an email for go_nuts@example.com\") # 'Received an email for [REDACTED]'\n",
    "re.sub(r\"^([\\w .-]*), ([\\w .-]*)$\", r\"\\2 \\1\", \"Lovelace, Ada\") # 'Ada Lovelace'"
   ]
  },
  {
   "cell_type": "code",
   "execution_count": 41,
   "metadata": {},
   "outputs": [
    {
     "name": "stdout",
     "output_type": "stream",
     "text": [
      "Sabrina Green,+1-802-867-5309,System Administrator\n",
      "Eli Jones,+1-684-3481127,IT specialist\n",
      "Melody Daniels,+1-846-687-7436,Programmer\n",
      "Charlie Rivera,+1-698-746-3357,Web Developer\n"
     ]
    }
   ],
   "source": [
    "import re\n",
    "def transform_record(record):\n",
    "    new_record = re.sub(r\"(\\d{3}-?\\d{3}-?\\d{4})\", r\"+1-\\1\", record)\n",
    "    return new_record\n",
    "\n",
    "print(transform_record(\"Sabrina Green,802-867-5309,System Administrator\")) \n",
    "# Sabrina Green,+1-802-867-5309,System Administrator\n",
    "\n",
    "print(transform_record(\"Eli Jones,684-3481127,IT specialist\")) \n",
    "# Eli Jones,+1-684-3481127,IT specialist\n",
    "\n",
    "print(transform_record(\"Melody Daniels,846-687-7436,Programmer\")) \n",
    "# Melody Daniels,+1-846-687-7436,Programmer\n",
    "\n",
    "print(transform_record(\"Charlie Rivera,698-746-3357,Web Developer\")) \n",
    "# Charlie Rivera,+1-698-746-3357,Web Developer"
   ]
  },
  {
   "cell_type": "code",
   "execution_count": 42,
   "metadata": {},
   "outputs": [
    {
     "name": "stdout",
     "output_type": "stream",
     "text": [
      "['beautiful']\n",
      "['Obviously', 'queen', 'courageous', 'gracious']\n",
      "['rambunctious', 'quietly', 'delicious']\n",
      "['queue']\n",
      "[]\n"
     ]
    }
   ],
   "source": [
    "import re\n",
    "def multi_vowel_words(text):\n",
    "    # find all words with >= 3 consecutive vowels (a, e, i, o, u)\n",
    "    pattern = r\"\\w*[aeiou]{3,}\\w*\"\n",
    "    result = re.findall(pattern, text)\n",
    "    return result\n",
    "\n",
    "print(multi_vowel_words(\"Life is beautiful\")) \n",
    "# ['beautiful']\n",
    "\n",
    "print(multi_vowel_words(\"Obviously, the queen is courageous and gracious.\")) \n",
    "# ['Obviously', 'queen', 'courageous', 'gracious']\n",
    "\n",
    "print(multi_vowel_words(\"The rambunctious children had to sit quietly and await their delicious dinner.\")) \n",
    "# ['rambunctious', 'quietly', 'delicious']\n",
    "\n",
    "print(multi_vowel_words(\"The order of a data queue is First In First Out (FIFO)\")) \n",
    "# ['queue']\n",
    "\n",
    "print(multi_vowel_words(\"Hello world!\")) \n",
    "# []"
   ]
  },
  {
   "cell_type": "code",
   "execution_count": 45,
   "metadata": {},
   "outputs": [
    {
     "name": "stdout",
     "output_type": "stream",
     "text": [
      "// Start of program\n",
      "  number = 0   // Initialize the variable\n",
      "  number += 1   // Increment the variable\n",
      "  return(number)\n"
     ]
    }
   ],
   "source": [
    "import re\n",
    "def transform_comments(line_of_code):\n",
    "    # find >=1 # collectively as one group, replace this group with \"//\"\n",
    "    result = re.sub(r\"#+\", \"//\", line_of_code)\n",
    "    return result\n",
    "\n",
    "print(transform_comments(\"### Start of program\")) \n",
    "# Should be \"// Start of program\"\n",
    "print(transform_comments(\"  number = 0   ## Initialize the variable\")) \n",
    "# Should be \"  number = 0   // Initialize the variable\"\n",
    "print(transform_comments(\"  number += 1   # Increment the variable\")) \n",
    "# Should be \"  number += 1   // Increment the variable\"\n",
    "print(transform_comments(\"  return(number)\")) \n",
    "# Should be \"  return(number)\""
   ]
  },
  {
   "cell_type": "code",
   "execution_count": 52,
   "metadata": {},
   "outputs": [
    {
     "name": "stdout",
     "output_type": "stream",
     "text": [
      "My number is 212-345-9999.\n",
      "Please call 888-555-1234\n",
      "123-123-12345\n",
      "Phone number of Buckingham Palace is +44 303 123 7300\n"
     ]
    }
   ],
   "source": [
    "import re\n",
    "def convert_phone_number(phone):\n",
    "    # find 3 digits followed by a dash, followed by 3 digits, followed by a dash, followed by 4 digits, and not 5 digits\n",
    "    # replace with (3 digits) space (3 digits) dash (4 digits)\n",
    "    # if it is not a phone number, return the original string\n",
    "    result = re.sub(r\"(\\d{3})-(\\d{3})-(\\d{4} )\", r\"(\\1) \\2-\\3\", phone)\n",
    "    return result\n",
    "\n",
    "print(convert_phone_number(\"My number is 212-345-9999.\")) # My number is (212) 345-9999.\n",
    "print(convert_phone_number(\"Please call 888-555-1234\")) # Please call (888) 555-1234\n",
    "print(convert_phone_number(\"123-123-12345\")) # 123-123-12345\n",
    "print(convert_phone_number(\"Phone number of Buckingham Palace is +44 303 123 7300\")) # Phone number of Buckingham Palace is +44 303 123 7300"
   ]
  },
  {
   "cell_type": "code",
   "execution_count": null,
   "metadata": {},
   "outputs": [],
   "source": [
    "# Coursera Qwiklab week 3, Using Python to Interact with the Operating System\n",
    "#!/usr/bin/env python3\n",
    "\n",
    "import csv\n",
    "import re\n",
    "\n",
    "def contains_domain(address, domain):\n",
    "    \"\"\"Returns True if the email address contains the given, domain, in the domain position, false if not.\"\"\"\n",
    "    domain_pattern = r'[\\w\\.-]+@'+domain+'$'\n",
    "    if re.match(domain_pattern, address):\n",
    "        return True\n",
    "    return False\n",
    "\n",
    "def replace_domain(address, old_domain, new_domain):\n",
    "    \"\"\"Replaces the old domain with the new domain in the received address.\"\"\"\n",
    "    old_domain_pattern = r'' + old_domain + '$'\n",
    "    address = re.sub(old_domain_pattern, new_domain, address)\n",
    "    return address\n",
    "\n",
    "def main():\n",
    "    \"\"\"Processes the list of emails, replacing any instances of the old domain with the new domain.\"\"\"\n",
    "    old_domain, new_domain = 'abc.edu', 'xyz.edu'\n",
    "    csv_file_location = '/home/student-03-30b89dc53895/data/user_emails.csv'\n",
    "    report_file = '/home/student-03-30b89dc53895' + '/data/updated_user_emails.csv'\n",
    "    user_email_list = []\n",
    "    old_domain_email_list = []\n",
    "    new_domain_email_list = []\n",
    "    with open(csv_file_location, 'r') as f:\n",
    "        user_data_list = list(csv.reader(f))\n",
    "        user_email_list = [data[1].strip() for data in user_data_list[1:]]\n",
    "        for email_address in user_email_list:\n",
    "            if contains_domain(email_address, old_domain):\n",
    "                old_domain_email_list.append(email_address)\n",
    "                replaced_email = replace_domain(email_address, old_domain, new_domain)\n",
    "                new_domain_email_list.append(replaced_email)\n",
    "        email_key = ' ' + 'Email Address'\n",
    "        email_index = user_data_list[0].index(email_key)\n",
    "        for user in user_data_list[1:]:\n",
    "            for old_domain, new_domain in zip(old_domain_email_list, new_domain_email_list):\n",
    "                if user[email_index] == ' ' + old_domain:\n",
    "                    user[email_index] = ' ' + new_domain\n",
    "        f.close()\n",
    "    with open(report_file, 'w+') as output_file:\n",
    "        writer = csv.writer(output_file)\n",
    "        writer.writerows(user_data_list)\n",
    "        output_file.close()\n",
    "\n",
    "main()"
   ]
  }
 ],
 "metadata": {
  "kernelspec": {
   "display_name": "Python 3",
   "language": "python",
   "name": "python3"
  },
  "language_info": {
   "codemirror_mode": {
    "name": "ipython",
    "version": 3
   },
   "file_extension": ".py",
   "mimetype": "text/x-python",
   "name": "python",
   "nbconvert_exporter": "python",
   "pygments_lexer": "ipython3",
   "version": "3.10.7"
  },
  "orig_nbformat": 4,
  "vscode": {
   "interpreter": {
    "hash": "b5f0bfb910b5f89afee0c4e65874b118d019a6f05b0e3b9906c17a1424dc1b44"
   }
  }
 },
 "nbformat": 4,
 "nbformat_minor": 2
}

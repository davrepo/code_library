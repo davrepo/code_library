{
 "cells": [
  {
   "cell_type": "code",
   "execution_count": null,
   "metadata": {},
   "outputs": [],
   "source": [
    "# https://martinheinz.dev/blog/80"
   ]
  },
  {
   "cell_type": "code",
   "execution_count": 1,
   "metadata": {},
   "outputs": [
    {
     "name": "stdout",
     "output_type": "stream",
     "text": [
      "Hello My name is Mariya\n",
      "hiddenmessage\n"
     ]
    }
   ],
   "source": [
    "# ------- Multiple Conditionals -------\n",
    "my_string = \"HelloMyNameIsMariya\"\n",
    "\n",
    "#there is no elif clause in list comprehension \n",
    "#add elif equivalent in between if and else clause. else + action + (if condition)\n",
    "my_string = \"\".join(\n",
    "    [ i if i.islower() \n",
    "     else \" \" + i.lower() if i in [\"N\", \"I\"]    #elif equivalent\n",
    "     else \" \" + i \n",
    "     for i in my_string ]\n",
    "    )[1:]                    \n",
    "print(my_string)        #Hello My name is Mariya\n",
    "\n",
    "# example 2\n",
    "my_string = \"hi442nm233ag2\"\n",
    "\n",
    "new_string = \"\".join(\n",
    "    [\"d\" if i==\"4\" \n",
    "    else \"e\" if i==\"2\" \n",
    "    else \"s\" if i==\"3\" \n",
    "    else i \n",
    "    for i in my_string]\n",
    "    )\n",
    "print(new_string)       #hiddenmessage"
   ]
  },
  {
   "cell_type": "code",
   "execution_count": 1,
   "metadata": {},
   "outputs": [
    {
     "name": "stdout",
     "output_type": "stream",
     "text": [
      "[True, True, True]\n",
      "[True, True, True]\n",
      "[True, True, True]\n"
     ]
    }
   ],
   "source": [
    "# ------- Avoid repeated evaluation -------\n",
    "# https://martinheinz.dev/blog/80\n",
    "# if you have an expensive function\n",
    "def func(val):\n",
    "    # Expensive computation...\n",
    "    return val > 4\n",
    "\n",
    "values = [1, 4, 3, 5, 12, 9, 0]\n",
    "# Inefficient b/c it doubles the computation time\n",
    "print([func(x) for x in values if func(x)])     # [True, True, True]\n",
    "# Efficient - this is not a double loop b/c we built a generator inside comprehension which is consumed by outer loop\n",
    "print([y for y in (func(x) for x in values) if y])\n",
    "# Equivalent with a walrus operator - walrus operator creates a variable and assigns it a value\n",
    "print([y for x in values if (y := func(x))])\n",
    "\n"
   ]
  },
  {
   "cell_type": "code",
   "execution_count": 5,
   "metadata": {},
   "outputs": [
    {
     "name": "stdout",
     "output_type": "stream",
     "text": [
      "[1, ValueError(\"invalid literal for int() with base 10: 'text'\"), 2, 5, 1, ValueError(\"invalid literal for int() with base 10: 'also-text'\")]\n",
      "[1, ValueError(\"invalid literal for int() with base 10: 'text'\"), 2, 5, 1, ValueError(\"invalid literal for int() with base 10: 'also-text'\")]\n"
     ]
    }
   ],
   "source": [
    "# ------- Handling Exceptions -------\n",
    "# list comprehension is sometimes used to call a function on each element of a list,\n",
    "# there are situations where exception might be thrown inside the comprehension\n",
    "\n",
    "def catch(f, *args, handle=lambda e: e, **kwargs):  #helper function\n",
    "    try:\n",
    "        return f(*args, **kwargs)\n",
    "    except Exception as e:\n",
    "        return handle(e)\n",
    "\n",
    "\n",
    "values = [1, \"text\", 2, 5, 1, \"also-text\"]\n",
    "# convert all values to int\n",
    "print([catch(int, value) for value in values])\n",
    "# alternative syntax\n",
    "print([catch(lambda: int(value)) for value in values]) "
   ]
  },
  {
   "cell_type": "code",
   "execution_count": 6,
   "metadata": {},
   "outputs": [
    {
     "name": "stdout",
     "output_type": "stream",
     "text": [
      "[0, 1, 2, 3]\n"
     ]
    }
   ],
   "source": [
    "# ------- Breaking the loop -------\n",
    "from itertools import takewhile\n",
    "print([n for n in takewhile(lambda x: x != 4, range(10))])  # [0, 1, 2, 3]"
   ]
  },
  {
   "cell_type": "code",
   "execution_count": 8,
   "metadata": {},
   "outputs": [
    {
     "name": "stdout",
     "output_type": "stream",
     "text": [
      "[[datetime.datetime(2020, 1, 15, 0, 0), datetime.datetime(2020, 1, 16, 0, 0), datetime.datetime(2020, 1, 17, 0, 0)], [datetime.datetime(2020, 2, 1, 0, 0), datetime.datetime(2020, 2, 2, 0, 0)], [datetime.datetime(2020, 2, 4, 0, 0)]]\n"
     ]
    }
   ],
   "source": [
    "import datetime\n",
    "import more_itertools\n",
    "\n",
    "# we have a list of dates, some of them are consecutive. We want to group consecutive dates together\n",
    "dates = [\n",
    "    datetime.datetime(2020, 1, 15),\n",
    "    datetime.datetime(2020, 1, 16),\n",
    "    datetime.datetime(2020, 1, 17),\n",
    "    datetime.datetime(2020, 2, 1),\n",
    "    datetime.datetime(2020, 2, 2),\n",
    "    datetime.datetime(2020, 2, 4)\n",
    "]\n",
    "\n",
    "groups = [list(group) for group in more_itertools.consecutive_groups(dates, ordering=lambda d: d.toordinal())]\n",
    "print(groups)\n",
    "# [\n",
    "# [datetime.datetime(2020, 1, 15, 0, 0), datetime.datetime(2020, 1, 16, 0, 0), datetime.datetime(2020, 1, 17, 0, 0)],\n",
    "# [datetime.datetime(2020, 2, 1, 0, 0), datetime.datetime(2020, 2, 2, 0, 0)],\n",
    "# [datetime.datetime(2020, 2, 4, 0, 0)]\n",
    "# ]"
   ]
  }
 ],
 "metadata": {
  "kernelspec": {
   "display_name": "Python 3.10.7 64-bit",
   "language": "python",
   "name": "python3"
  },
  "language_info": {
   "codemirror_mode": {
    "name": "ipython",
    "version": 3
   },
   "file_extension": ".py",
   "mimetype": "text/x-python",
   "name": "python",
   "nbconvert_exporter": "python",
   "pygments_lexer": "ipython3",
   "version": "3.10.7"
  },
  "orig_nbformat": 4,
  "vscode": {
   "interpreter": {
    "hash": "b5f0bfb910b5f89afee0c4e65874b118d019a6f05b0e3b9906c17a1424dc1b44"
   }
  }
 },
 "nbformat": 4,
 "nbformat_minor": 2
}

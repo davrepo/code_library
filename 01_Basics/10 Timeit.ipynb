{
 "cells": [
  {
   "cell_type": "markdown",
   "metadata": {},
   "source": [
    "Source\n",
    "- https://towardsdatascience.com/speed-up-jupyter-notebooks-20716cbe2025\n",
    "- https://jakevdp.github.io/PythonDataScienceHandbook/01.07-timing-and-profiling.html\n",
    "- https://people.duke.edu/~ccc14/sta-663/MakingCodeFast.html"
   ]
  },
  {
   "cell_type": "markdown",
   "metadata": {
    "slideshow": {
     "slide_type": "slide"
    }
   },
   "source": [
    "Code can be slow for different reasons\n",
    "\n",
    "* **CPU-bound** - CPU is working flat out\n",
    "* **Memory-bound** - Out of RAM - swapping to hard disk\n",
    "* **IO-bound** - Lots of data transfer to and from hard disk\n",
    "* **Network-bound** - CPU is waiting for data to come over network or from memory (“starvation”)"
   ]
  },
  {
   "cell_type": "markdown",
   "metadata": {
    "slideshow": {
     "slide_type": "slide"
    }
   },
   "source": [
    "There is a natural order of making code fast\n",
    "1. Cheat: Use sample data, solve a simpler problem, buy more RAM, etc.\n",
    "2. **Profile**: Find out the bottlenecks\n",
    "3. **Use better algorithms and data structures**\n",
    "4. Using compiled code written in another language\n",
    "5. Converting Python code to compiled code\n",
    "6. Parallelize programs / execute in parallel"
   ]
  },
  {
   "cell_type": "markdown",
   "metadata": {},
   "source": [
    "#### Magic commands for Jupyter"
   ]
  },
  {
   "cell_type": "markdown",
   "metadata": {},
   "source": [
    "* `%time`: Time the execution of a single statement\n",
    "* `%timeit`: Time repeated execution of a single statement for more accuracy\n",
    "* `%prun`: Run code with the profiler\n",
    "* `%lprun`: Run code with the line-by-line profiler\n",
    "* `%memit`: Measure the memory use of a single statement\n",
    "* `%mprun`: Run code with the line-by-line memory profiler\n",
    "\n",
    "The last 3 commands are not bundled with Jupyter – you'll need to get the `line_profiler` and `memory_profiler` extension.\n",
    "\n",
    "Also we use:\n",
    "\n",
    "* `%%heat`\n",
    "* `snakeviz`: visualizing the output of a profiling session"
   ]
  },
  {
   "cell_type": "markdown",
   "metadata": {
    "slideshow": {
     "slide_type": "slide"
    }
   },
   "source": [
    "#### Timing Code Snippets: ``%timeit`` and ``%time``\n",
    "\n",
    "The ``%timeit`` line-magic and ``%%timeit`` cell-magic can be used to time the repeated execution of snippets of code:"
   ]
  },
  {
   "cell_type": "code",
   "execution_count": 2,
   "metadata": {},
   "outputs": [
    {
     "name": "stdout",
     "output_type": "stream",
     "text": [
      "948 ns ± 93.2 ns per loop (mean ± std. dev. of 7 runs, 1,000,000 loops each)\n"
     ]
    }
   ],
   "source": [
    "# % is line magic\n",
    "# %% is cell magic\n",
    "\n",
    "%timeit sum(range(100))     # timeit runs this 7 million times, iteration number depends on the size of the input"
   ]
  },
  {
   "cell_type": "markdown",
   "metadata": {},
   "source": [
    "Because this operation is so fast, ``%timeit`` automatically does a large number of repetitions.\n",
    "For slower commands, ``%timeit`` will automatically adjust and perform fewer repetitions:"
   ]
  },
  {
   "cell_type": "code",
   "execution_count": 3,
   "metadata": {},
   "outputs": [
    {
     "name": "stdout",
     "output_type": "stream",
     "text": [
      "310 ms ± 15.5 ms per loop (mean ± std. dev. of 7 runs, 1 loop each)\n"
     ]
    }
   ],
   "source": [
    "%%timeit        # %% is cell magic\n",
    "total = 0\n",
    "for i in range(1000):\n",
    "    for j in range(1000):\n",
    "        total += i * (-1) ** j\n",
    "\n",
    "# now this is ran only 7 times, because input is very large, by default it tries to adjust automatically"
   ]
  },
  {
   "cell_type": "markdown",
   "metadata": {
    "slideshow": {
     "slide_type": "slide"
    }
   },
   "source": [
    "Sometimes repeating an operation is not the best option.\n",
    "For example, if we have a list that we'd like to sort, we might be misled by a repeated operation.\n",
    "Sorting a pre-sorted list is much faster than sorting an unsorted list, so the repetition will skew the result:"
   ]
  },
  {
   "cell_type": "code",
   "execution_count": 4,
   "metadata": {},
   "outputs": [
    {
     "name": "stdout",
     "output_type": "stream",
     "text": [
      "387 µs ± 60.5 µs per loop (mean ± std. dev. of 7 runs, 1,000 loops each)\n"
     ]
    }
   ],
   "source": [
    "import random\n",
    "L = [random.random() for i in range(100000)]\n",
    "%timeit L.sort()\n",
    "# the number you get is not useful because list sorted only once, the other times timeit use the sorted list"
   ]
  },
  {
   "cell_type": "markdown",
   "metadata": {
    "slideshow": {
     "slide_type": "slide"
    }
   },
   "source": [
    "For this, the ``%time`` magic function may be a better choice. It also is a good choice for longer-running commands, when short, system-related delays are unlikely to affect the result.\n",
    "Let's time the sorting of an unsorted and a presorted list:"
   ]
  },
  {
   "cell_type": "code",
   "execution_count": 5,
   "metadata": {},
   "outputs": [
    {
     "name": "stdout",
     "output_type": "stream",
     "text": [
      "sorting an unsorted list:\n",
      "CPU times: total: 15.6 ms\n",
      "Wall time: 14.9 ms\n"
     ]
    }
   ],
   "source": [
    "import random\n",
    "L = [random.random() for i in range(100000)]\n",
    "print(\"sorting an unsorted list:\")\n",
    "%time L.sort()          # here use %time, not %timeit - and %time give you CPU times, Wall time etc. "
   ]
  },
  {
   "cell_type": "code",
   "execution_count": 6,
   "metadata": {},
   "outputs": [
    {
     "name": "stdout",
     "output_type": "stream",
     "text": [
      "sorting an already sorted list:\n",
      "CPU times: total: 0 ns\n",
      "Wall time: 3.05 ms\n"
     ]
    }
   ],
   "source": [
    "print(\"sorting an already sorted list:\")\n",
    "%time L.sort()          # the 2nd time, the list is already sorted, so it's faster"
   ]
  },
  {
   "cell_type": "markdown",
   "metadata": {
    "slideshow": {
     "slide_type": "skip"
    }
   },
   "source": [
    "Wall time is the time that a clock on the wall would measure as having elapsed between the start of the process and 'now'.\n",
    "\n",
    "The CPU times is the amount of time spent of the CPUs (can be much more than wall time if multi-core, for example)."
   ]
  },
  {
   "cell_type": "markdown",
   "metadata": {},
   "source": [
    "The presorted list is much faster to sort. Notice also how much longer the timing takes with ``%time`` versus ``%timeit``, even for the presorted list! ``%timeit`` does some clever things under the hood to prevent system calls from interfering with the timing. For this reason, ``%timeit`` results are usually noticeably faster than ``%time`` results."
   ]
  },
  {
   "cell_type": "markdown",
   "metadata": {
    "slideshow": {
     "slide_type": "slide"
    }
   },
   "source": [
    "For ``%time`` as with ``%timeit``, using the double-percent-sign cell magic syntax allows timing of multiline scripts:"
   ]
  },
  {
   "cell_type": "code",
   "execution_count": 7,
   "metadata": {
    "scrolled": true
   },
   "outputs": [
    {
     "name": "stdout",
     "output_type": "stream",
     "text": [
      "CPU times: total: 250 ms\n",
      "Wall time: 353 ms\n"
     ]
    }
   ],
   "source": [
    "%%time\n",
    "total = 0\n",
    "for i in range(1000):\n",
    "    for j in range(1000):\n",
    "        total += i * (-1) ** j"
   ]
  },
  {
   "cell_type": "code",
   "execution_count": 8,
   "metadata": {},
   "outputs": [
    {
     "name": "stdout",
     "output_type": "stream",
     "text": [
      "\u001b[1;31mDocstring:\u001b[0m\n",
      "Time execution of a Python statement or expression.\n",
      "\n",
      "The CPU and wall clock times are printed, and the value of the\n",
      "expression (if any) is returned.  Note that under Win32, system time\n",
      "is always reported as 0, since it can not be measured.\n",
      "\n",
      "This function can be used both as a line and cell magic:\n",
      "\n",
      "- In line mode you can time a single-line statement (though multiple\n",
      "  ones can be chained with using semicolons).\n",
      "\n",
      "- In cell mode, you can time the cell body (a directly\n",
      "  following statement raises an error).\n",
      "\n",
      "This function provides very basic timing functionality.  Use the timeit\n",
      "magic for more control over the measurement.\n",
      "\n",
      ".. versionchanged:: 7.3\n",
      "    User variables are no longer expanded,\n",
      "    the magic line is always left unmodified.\n",
      "\n",
      "Examples\n",
      "--------\n",
      "::\n",
      "\n",
      "  In [1]: %time 2**128\n",
      "  CPU times: user 0.00 s, sys: 0.00 s, total: 0.00 s\n",
      "  Wall time: 0.00\n",
      "  Out[1]: 340282366920938463463374607431768211456L\n",
      "\n",
      "  In [2]: n = 1000000\n",
      "\n",
      "  In [3]: %time sum(range(n))\n",
      "  CPU times: user 1.20 s, sys: 0.05 s, total: 1.25 s\n",
      "  Wall time: 1.37\n",
      "  Out[3]: 499999500000L\n",
      "\n",
      "  In [4]: %time print 'hello world'\n",
      "  hello world\n",
      "  CPU times: user 0.00 s, sys: 0.00 s, total: 0.00 s\n",
      "  Wall time: 0.00\n",
      "\n",
      ".. note::\n",
      "    The time needed by Python to compile the given expression will be\n",
      "    reported if it is more than 0.1s.\n",
      "\n",
      "    In the example below, the actual exponentiation is done by Python\n",
      "    at compilation time, so while the expression can take a noticeable\n",
      "    amount of time to compute, that time is purely due to the\n",
      "    compilation::\n",
      "\n",
      "        In [5]: %time 3**9999;\n",
      "        CPU times: user 0.00 s, sys: 0.00 s, total: 0.00 s\n",
      "        Wall time: 0.00 s\n",
      "\n",
      "        In [6]: %time 3**999999;\n",
      "        CPU times: user 0.00 s, sys: 0.00 s, total: 0.00 s\n",
      "        Wall time: 0.00 s\n",
      "        Compiler : 0.78 s\n",
      "\u001b[1;31mFile:\u001b[0m      c:\\users\\jackh\\appdata\\roaming\\python\\python310\\site-packages\\ipython\\core\\magics\\execution.py\n"
     ]
    }
   ],
   "source": [
    "%time?"
   ]
  },
  {
   "cell_type": "markdown",
   "metadata": {},
   "source": [
    "For more information on ``%time`` and ``%timeit``, as well as their available options, use the IPython help functionality (i.e., type ``%time?`` at the IPython prompt)."
   ]
  },
  {
   "cell_type": "markdown",
   "metadata": {
    "slideshow": {
     "slide_type": "slide"
    }
   },
   "source": [
    "## Timing outside of Jupyter"
   ]
  },
  {
   "cell_type": "code",
   "execution_count": 9,
   "metadata": {},
   "outputs": [
    {
     "name": "stdout",
     "output_type": "stream",
     "text": [
      "7.519999780924991e-05\n"
     ]
    }
   ],
   "source": [
    "from timeit import default_timer as timer\n",
    "\n",
    "start = timer()\n",
    "sum(range(100))\n",
    "end = timer()\n",
    "print(end - start)"
   ]
  },
  {
   "cell_type": "code",
   "execution_count": 10,
   "metadata": {},
   "outputs": [
    {
     "name": "stdout",
     "output_type": "stream",
     "text": [
      "4.369999805931002e-05\n"
     ]
    }
   ],
   "source": [
    "import time\n",
    "\n",
    "start = time.perf_counter()\n",
    "sum(range(100))\n",
    "end = time.perf_counter()\n",
    "print(end - start)"
   ]
  },
  {
   "cell_type": "markdown",
   "metadata": {
    "slideshow": {
     "slide_type": "slide"
    }
   },
   "source": [
    "## Profiling and Optimizing: Monte Carlo method example"
   ]
  },
  {
   "cell_type": "code",
   "execution_count": 11,
   "metadata": {
    "slideshow": {
     "slide_type": "slide"
    }
   },
   "outputs": [],
   "source": [
    "from random import random\n",
    "\n",
    "def estimate_pi(n = 10000000):\n",
    "    \"\"\"Estimate pi with monte carlo simulation.\"\"\"\n",
    "    in_circle = 0\n",
    "    total = n\n",
    "    \n",
    "    while n != 0:\n",
    "        prec_x = random()\n",
    "        prec_y = random()\n",
    "        if pow(prec_x, 2) + pow(prec_y, 2) <= 1: # circle equation: x^2+y^2=r^2\n",
    "            in_circle += 1 # inside the circle\n",
    "        n -= 1\n",
    "        \n",
    "    return 4 * in_circle / total"
   ]
  },
  {
   "cell_type": "code",
   "execution_count": 12,
   "metadata": {
    "slideshow": {
     "slide_type": "slide"
    }
   },
   "outputs": [
    {
     "name": "stdout",
     "output_type": "stream",
     "text": [
      "CPU times: total: 2.67 s\n",
      "Wall time: 4.44 s\n"
     ]
    },
    {
     "data": {
      "text/plain": [
       "3.1412344"
      ]
     },
     "execution_count": 12,
     "metadata": {},
     "output_type": "execute_result"
    }
   ],
   "source": [
    "%time estimate_pi()"
   ]
  },
  {
   "cell_type": "markdown",
   "metadata": {},
   "source": [
    "From now on, lets run `%timeit` always with the same parameters:"
   ]
  },
  {
   "cell_type": "code",
   "execution_count": 13,
   "metadata": {},
   "outputs": [
    {
     "name": "stdout",
     "output_type": "stream",
     "text": [
      "4.65 s ± 228 ms per loop (mean ± std. dev. of 2 runs, 5 loops each)\n"
     ]
    }
   ],
   "source": [
    "%timeit -r 2 -n 5 estimate_pi()     # -r 2 -n 5 means run 2 times, each time run 5 times"
   ]
  },
  {
   "cell_type": "markdown",
   "metadata": {
    "slideshow": {
     "slide_type": "slide"
    }
   },
   "source": [
    "### cProfile\n",
    "To learn what takes up most of the execution time, python ships with a great profiler, cProfile, breaking down the execution function by function. It causes our attention to shrink down to critical functions by handing out a high-level view of performance. In Jupyer, use the [`%prun`](https://ipython.readthedocs.io/en/stable/interactive/magics.html#magic-prun) magic:"
   ]
  },
  {
   "cell_type": "code",
   "execution_count": 14,
   "metadata": {},
   "outputs": [
    {
     "name": "stdout",
     "output_type": "stream",
     "text": [
      " "
     ]
    },
    {
     "name": "stdout",
     "output_type": "stream",
     "text": [
      "         40000004 function calls in 14.086 seconds\n",
      "\n",
      "   Ordered by: internal time\n",
      "\n",
      "   ncalls  tottime  percall  cumtime  percall filename:lineno(function)\n",
      "        1    7.925    7.925   14.086   14.086 1200316338.py:3(estimate_pi)\n",
      " 20000000    4.387    0.000    4.387    0.000 {built-in method builtins.pow}\n",
      " 20000000    1.774    0.000    1.774    0.000 {method 'random' of '_random.Random' objects}\n",
      "        1    0.000    0.000   14.086   14.086 {built-in method builtins.exec}\n",
      "        1    0.000    0.000   14.086   14.086 <string>:1(<module>)\n",
      "        1    0.000    0.000    0.000    0.000 {method 'disable' of '_lsprof.Profiler' objects}"
     ]
    }
   ],
   "source": [
    "%prun estimate_pi()"
   ]
  },
  {
   "cell_type": "markdown",
   "metadata": {
    "slideshow": {
     "slide_type": "slide"
    }
   },
   "source": [
    "The output will be written to stdout:<img src=\"files/profiling.png\" width=1000>\n",
    "\n",
    "The report shows for each function:\n",
    "* the number of calls (ncalls)\n",
    "* the total time (tottime) spent on it excluding calls to subfunctions\n",
    "* how long each call took (percall, excluding and including)\n",
    "* the total time (cumtime) including all calls to subfunctions"
   ]
  },
  {
   "cell_type": "markdown",
   "metadata": {
    "slideshow": {
     "slide_type": "slide"
    }
   },
   "source": [
    "An another useful option is -s which enables sorting for a particular column. For example sorting cumulative time in descending order:"
   ]
  },
  {
   "cell_type": "code",
   "execution_count": 15,
   "metadata": {},
   "outputs": [
    {
     "name": "stdout",
     "output_type": "stream",
     "text": [
      " "
     ]
    },
    {
     "name": "stdout",
     "output_type": "stream",
     "text": [
      "         40000004 function calls in 12.637 seconds\n",
      "\n",
      "   Ordered by: cumulative time\n",
      "\n",
      "   ncalls  tottime  percall  cumtime  percall filename:lineno(function)\n",
      "        1    0.000    0.000   12.637   12.637 {built-in method builtins.exec}\n",
      "        1    0.000    0.000   12.637   12.637 <string>:1(<module>)\n",
      "        1    7.109    7.109   12.637   12.637 1200316338.py:3(estimate_pi)\n",
      " 20000000    3.926    0.000    3.926    0.000 {built-in method builtins.pow}\n",
      " 20000000    1.602    0.000    1.602    0.000 {method 'random' of '_random.Random' objects}\n",
      "        1    0.000    0.000    0.000    0.000 {method 'disable' of '_lsprof.Profiler' objects}"
     ]
    }
   ],
   "source": [
    "%prun -s cumulative estimate_pi()"
   ]
  },
  {
   "cell_type": "markdown",
   "metadata": {
    "slideshow": {
     "slide_type": "slide"
    }
   },
   "source": [
    "If we wish to save the output for later inspection for example with [pstats](https://docs.python.org/3.7/library/profile.html#the-stats-class), use the -D option to save on disk. \n",
    "\n",
    "You can also just return the stats object with the -r option:"
   ]
  },
  {
   "cell_type": "code",
   "execution_count": 16,
   "metadata": {},
   "outputs": [
    {
     "name": "stdout",
     "output_type": "stream",
     "text": [
      " "
     ]
    }
   ],
   "source": [
    "stats = %prun -r -q estimate_pi()   # -r means run 3 times, -q means quiet, no output"
   ]
  },
  {
   "cell_type": "code",
   "execution_count": 17,
   "metadata": {},
   "outputs": [
    {
     "name": "stdout",
     "output_type": "stream",
     "text": [
      "         40000004 function calls in 10.126 seconds\n",
      "\n",
      "   Ordered by: internal time\n",
      "   List reduced from 6 to 3 due to restriction <3>\n",
      "\n",
      "   ncalls  tottime  percall  cumtime  percall filename:lineno(function)\n",
      "        1    5.705    5.705   10.126   10.126 1200316338.py:3(estimate_pi)\n",
      " 20000000    3.130    0.000    3.130    0.000 {built-in method builtins.pow}\n",
      " 20000000    1.291    0.000    1.291    0.000 {method 'random' of '_random.Random' objects}\n",
      "\n",
      "\n"
     ]
    }
   ],
   "source": [
    "stats.sort_stats('tottime').print_stats(3);"
   ]
  },
  {
   "cell_type": "markdown",
   "metadata": {},
   "source": [
    "The number of calls to built-in functions `pow()` and `random()` seems to take some time. Before we address this extensive number of calls, let’s have a look at a much more convenient library delivering even more concrete reports."
   ]
  },
  {
   "cell_type": "markdown",
   "metadata": {
    "slideshow": {
     "slide_type": "slide"
    }
   },
   "source": [
    "### Line profiler\n",
    "The `%lprun` command yields the time spent on each line of code giving us a line by line report. Since not shipped by default, install the library\n",
    "\n",
    "```bash\n",
    "conda install line_profiler \n",
    "```\n",
    "\n",
    "and load the extension manually in the notebook.\n",
    "\n",
    "```python\n",
    "%load_ext line_profiler\n",
    "```"
   ]
  },
  {
   "cell_type": "code",
   "execution_count": 46,
   "metadata": {},
   "outputs": [
    {
     "name": "stdout",
     "output_type": "stream",
     "text": [
      "The line_profiler extension is already loaded. To reload it, use:\n",
      "  %reload_ext line_profiler\n",
      "Timer unit: 1e-07 s\n",
      "\n",
      "Total time: 21.8076 s\n",
      "\n",
      "Could not find file C:\\Users\\jackh\\AppData\\Local\\Temp\\ipykernel_11108\\1200316338.py\n",
      "Are you sure you are running this program from the same directory\n",
      "that you ran the profiler from?\n",
      "Continuing without the function's contents.\n",
      "\n",
      "Line #      Hits         Time  Per Hit   % Time  Line Contents\n",
      "==============================================================\n",
      "     3                                           \n",
      "     4                                           \n",
      "     5         1         12.0     12.0      0.0  \n",
      "     6         1          7.0      7.0      0.0  \n",
      "     7                                           \n",
      "     8  10000001   29678491.0      3.0     13.6  \n",
      "     9  10000000   30594068.0      3.1     14.0  \n",
      "    10  10000000   29754768.0      3.0     13.6  \n",
      "    11  10000000   71119779.0      7.1     32.6  \n",
      "    12   7853994   24941712.0      3.2     11.4  \n",
      "    13  10000000   31986931.0      3.2     14.7  \n",
      "    14                                           \n",
      "    15         1         20.0     20.0      0.0  \n",
      "\n"
     ]
    },
    {
     "name": "stdout",
     "output_type": "stream",
     "text": [
      "Timer unit: 1e-07 s\n",
      "\n",
      "Total time: 21.8076 s\n",
      "\n",
      "Could not find file C:\\Users\\jackh\\AppData\\Local\\Temp\\ipykernel_11108\\1200316338.py\n",
      "Are you sure you are running this program from the same directory\n",
      "that you ran the profiler from?\n",
      "Continuing without the function's contents.\n",
      "\n",
      "Line #      Hits         Time  Per Hit   % Time  Line Contents\n",
      "==============================================================\n",
      "     3                                           \n",
      "     4                                           \n",
      "     5         1         12.0     12.0      0.0  \n",
      "     6         1          7.0      7.0      0.0  \n",
      "     7                                           \n",
      "     8  10000001   29678491.0      3.0     13.6  \n",
      "     9  10000000   30594068.0      3.1     14.0  \n",
      "    10  10000000   29754768.0      3.0     13.6  \n",
      "    11  10000000   71119779.0      7.1     32.6  \n",
      "    12   7853994   24941712.0      3.2     11.4  \n",
      "    13  10000000   31986931.0      3.2     14.7  \n",
      "    14                                           \n",
      "    15         1         20.0     20.0      0.0"
     ]
    }
   ],
   "source": [
    "%load_ext line_profiler\n",
    "stats_lprun = %lprun -r -f estimate_pi estimate_pi()    # -r means run 3 times, -f means function\n",
    "# this will give you more information than before\n",
    "stats_lprun.print_stats();      # most important is the % time column"
   ]
  },
  {
   "cell_type": "markdown",
   "metadata": {},
   "source": [
    "Notice the extensive time (~28%) spent on the if statement on line 11."
   ]
  },
  {
   "cell_type": "markdown",
   "metadata": {
    "slideshow": {
     "slide_type": "slide"
    }
   },
   "source": [
    "#### Visualizing the profile with heat"
   ]
  },
  {
   "cell_type": "markdown",
   "metadata": {},
   "source": [
    "```bash\n",
    "pip install py-heat-magic\n",
    "```\n",
    "\n",
    "and load the extension manually in the notebook:"
   ]
  },
  {
   "cell_type": "code",
   "execution_count": 21,
   "metadata": {},
   "outputs": [],
   "source": [
    "%load_ext heat"
   ]
  },
  {
   "cell_type": "markdown",
   "metadata": {},
   "source": [
    "This code can take a minute or two to execute:"
   ]
  },
  {
   "cell_type": "code",
   "execution_count": 22,
   "metadata": {
    "slideshow": {
     "slide_type": "slide"
    }
   },
   "outputs": [
    {
     "name": "stderr",
     "output_type": "stream",
     "text": [
      "c:\\Users\\jackh\\AppData\\Local\\Programs\\Python\\Python310\\lib\\site-packages\\pyheat\\pyheat.py:158: UserWarning: FixedFormatter should only be used together with FixedLocator\n",
      "  self.ax.set_yticklabels(row_labels, minor=False)\n"
     ]
    },
    {
     "data": {
      "image/png": "[encoded data removed]",
      "text/plain": [
       "<Figure size 1012.5x500 with 2 Axes>"
      ]
     },
     "metadata": {},
     "output_type": "display_data"
    }
   ],
   "source": [
    "%%heat\n",
    "from random import random\n",
    "def estimate_pi(n = 10000000):\n",
    "    in_circle = 0\n",
    "    total = n\n",
    "    \n",
    "    while n != 0:\n",
    "        prec_x = random()\n",
    "        prec_y = random()\n",
    "        if pow(prec_x, 2) + pow(prec_y, 2) <= 1: # circle equation: x^2+y^2=r^2\n",
    "            in_circle += 1 # inside the circle\n",
    "        n -= 1\n",
    "        \n",
    "    return 4 * in_circle / total\n",
    "\n",
    "estimate_pi()"
   ]
  },
  {
   "cell_type": "markdown",
   "metadata": {
    "slideshow": {
     "slide_type": "slide"
    }
   },
   "source": [
    "### Optimization"
   ]
  },
  {
   "cell_type": "markdown",
   "metadata": {},
   "source": [
    "```python\n",
    "def estimate_pi(n = 10000000):\n",
    "    in_circle = 0\n",
    "    total = n\n",
    "    \n",
    "    while n != 0:\n",
    "        prec_x = random()\n",
    "        prec_y = random()\n",
    "        if pow(prec_x, 2) + pow(prec_y, 2) <= 1: # circle equation: x^2+y^2=r^2\n",
    "            in_circle += 1 # inside the circle\n",
    "        n -= 1\n",
    "        \n",
    "    return 4 * in_circle / total\n",
    "```"
   ]
  },
  {
   "cell_type": "markdown",
   "metadata": {
    "slideshow": {
     "slide_type": "slide"
    }
   },
   "source": [
    "#### Algorithmic optimization\n",
    "Our code is easy to read, but slow, because of:\n",
    "* while loop\n",
    "* function calls: pow()\n",
    "\n",
    "We can replace the whole function with one line!:"
   ]
  },
  {
   "cell_type": "code",
   "execution_count": 25,
   "metadata": {},
   "outputs": [],
   "source": [
    "def estimate_pi_oneliner(n=1e7):\n",
    "    return 4 * sum(1 for _ in range(int(n)) if random()**2 + random()**2 <= 1) / n\n",
    "# when use ( __ ) instead of [ __ ], it's faster because it's a generator"
   ]
  },
  {
   "cell_type": "code",
   "execution_count": 47,
   "metadata": {
    "slideshow": {
     "slide_type": "-"
    }
   },
   "outputs": [
    {
     "name": "stdout",
     "output_type": "stream",
     "text": [
      "          27853922 function calls in 6.441 seconds\n",
      "\n",
      "   Ordered by: internal time\n",
      "   List reduced from 7 to 3 due to restriction <3>\n",
      "\n",
      "   ncalls  tottime  percall  cumtime  percall filename:lineno(function)\n",
      "  7853917    4.601    0.000    5.731    0.000 3474053777.py:2(<genexpr>)\n",
      " 20000000    1.130    0.000    1.130    0.000 {method 'random' of '_random.Random' objects}\n",
      "        1    0.710    0.710    6.441    6.441 {built-in method builtins.sum}\n",
      "\n",
      "\n"
     ]
    }
   ],
   "source": [
    "stats_oneliner = %prun -r -q estimate_pi_oneliner()\n",
    "stats_oneliner.sort_stats('tottime').print_stats(3);"
   ]
  },
  {
   "cell_type": "code",
   "execution_count": 28,
   "metadata": {},
   "outputs": [
    {
     "name": "stdout",
     "output_type": "stream",
     "text": [
      "3.63 s ± 159 ms per loop (mean ± std. dev. of 2 runs, 5 loops each)\n"
     ]
    }
   ],
   "source": [
    "%timeit -r 2 -n 5 estimate_pi_oneliner()"
   ]
  },
  {
   "cell_type": "markdown",
   "metadata": {},
   "source": [
    "From 4.02 to 2.59 seconds: Over 30% improvement!"
   ]
  },
  {
   "cell_type": "markdown",
   "metadata": {
    "slideshow": {
     "slide_type": "slide"
    }
   },
   "source": [
    "**What did we do?**\n",
    "* <span style=\"color:green\">Replace `pow()` with `**`</span>\n",
    "* <span style=\"color:green\">Replace `while` with `sum(.. for .. in range(n))`</span>\n",
    "* <span style=\"color:red\">Made the function really hard to read for humans</span>"
   ]
  },
  {
   "cell_type": "markdown",
   "metadata": {},
   "source": [
    "This is a **generator expression**: `sum(.. for .. in range(n))`"
   ]
  },
  {
   "cell_type": "markdown",
   "metadata": {
    "slideshow": {
     "slide_type": "slide"
    }
   },
   "source": [
    "Iterables: Everything that you can use in a for loop. For example:"
   ]
  },
  {
   "cell_type": "code",
   "execution_count": 29,
   "metadata": {},
   "outputs": [
    {
     "name": "stdout",
     "output_type": "stream",
     "text": [
      "0\n",
      "1\n",
      "4\n"
     ]
    }
   ],
   "source": [
    "mylist = [0, 1, 4]\n",
    "for i in mylist:\n",
    "    print(i)"
   ]
  },
  {
   "cell_type": "code",
   "execution_count": 30,
   "metadata": {},
   "outputs": [
    {
     "name": "stdout",
     "output_type": "stream",
     "text": [
      "0\n",
      "1\n",
      "4\n"
     ]
    }
   ],
   "source": [
    "mylist = [x*x for x in range(3)]\n",
    "for i in mylist:\n",
    "    print(i)"
   ]
  },
  {
   "cell_type": "markdown",
   "metadata": {
    "slideshow": {
     "slide_type": "slide"
    }
   },
   "source": [
    "Generators are iterators, but *you can only iterate over them once*. It’s because they do not store all the values in memory, they generate the values on the fly:"
   ]
  },
  {
   "cell_type": "code",
   "execution_count": 31,
   "metadata": {},
   "outputs": [
    {
     "name": "stdout",
     "output_type": "stream",
     "text": [
      "0\n",
      "1\n",
      "4\n"
     ]
    }
   ],
   "source": [
    "mygenerator = (x*x for x in range(3))\n",
    "for i in mygenerator:\n",
    "    print(i)"
   ]
  },
  {
   "cell_type": "code",
   "execution_count": 32,
   "metadata": {},
   "outputs": [],
   "source": [
    "for i in mygenerator:\n",
    "    print(i)\n",
    "# Nothing happens"
   ]
  },
  {
   "cell_type": "markdown",
   "metadata": {},
   "source": [
    "Generators are useful if you run into memory issues."
   ]
  },
  {
   "cell_type": "markdown",
   "metadata": {
    "slideshow": {
     "slide_type": "slide"
    }
   },
   "source": [
    "##### You can create a generator with yield\n",
    "Yield is a keyword that is used like return, except the function will return a generator."
   ]
  },
  {
   "cell_type": "code",
   "execution_count": 33,
   "metadata": {},
   "outputs": [
    {
     "name": "stdout",
     "output_type": "stream",
     "text": [
      "<generator object createGenerator at 0x000001C17FF4B7D0>\n",
      "0\n",
      "1\n",
      "4\n"
     ]
    }
   ],
   "source": [
    "def createGenerator():\n",
    "    mylist = range(3)\n",
    "    for i in mylist:\n",
    "        yield i*i\n",
    "\n",
    "mygenerator = createGenerator() # create a generator\n",
    "print(mygenerator) # mygenerator is an object!\n",
    "\n",
    "for i in mygenerator:\n",
    "    print(i)"
   ]
  },
  {
   "cell_type": "markdown",
   "metadata": {},
   "source": [
    "The first time the for calls the generator object created from your function, it will run the code in your function from the beginning until it hits yield, then it’ll return the first value of the loop. Then, each other call will run the loop you have written in the function one more time, and return the next value, until there is no value to return."
   ]
  },
  {
   "cell_type": "markdown",
   "metadata": {
    "slideshow": {
     "slide_type": "slide"
    }
   },
   "source": [
    "#### Optimization through vectorization"
   ]
  },
  {
   "cell_type": "markdown",
   "metadata": {},
   "source": [
    "All our operations are still inside the \"loop\":\n",
    "```python\n",
    "sum(1 for _ in range(int(n)) if random()**2 + random()**2 <= 1)\n",
    "```\n",
    "    \n",
    "So we are calling `random()` 2*n times, and we call `if` n times. Do we really need to?"
   ]
  },
  {
   "cell_type": "markdown",
   "metadata": {
    "slideshow": {
     "slide_type": "slide"
    }
   },
   "source": [
    "Vectorized version, using numpy:"
   ]
  },
  {
   "cell_type": "code",
   "execution_count": 34,
   "metadata": {
    "slideshow": {
     "slide_type": "-"
    }
   },
   "outputs": [],
   "source": [
    "import numpy as np\n",
    "# numpy is faster than before b/c it's written in C\n",
    "def estimate_pi_vectorized(n=10000000):\n",
    "    xy = np.random.rand(n, 2)       # 2D array, each row is a point, two columns are x and y\n",
    "    inside = np.sum(xy[:, 0]**2 + xy[:, 1]**2 <= 1)\n",
    "    return 4 * inside / n"
   ]
  },
  {
   "cell_type": "code",
   "execution_count": 35,
   "metadata": {
    "slideshow": {
     "slide_type": "slide"
    }
   },
   "outputs": [
    {
     "name": "stdout",
     "output_type": "stream",
     "text": [
      "249 ms ± 6.03 ms per loop (mean ± std. dev. of 2 runs, 5 loops each)\n"
     ]
    }
   ],
   "source": [
    "%timeit -r 2 -n 5 estimate_pi_vectorized()"
   ]
  },
  {
   "cell_type": "markdown",
   "metadata": {},
   "source": [
    "4.02 seconds to 0.3 seconds: We are 12 times faster than in the beginning!"
   ]
  },
  {
   "cell_type": "markdown",
   "metadata": {
    "slideshow": {
     "slide_type": "slide"
    }
   },
   "source": [
    "### Memory profiling - THIS IS NOT IMPORTANT ANYMORE, NUMPY HAS UPGRADED ITS IMPLEMENTATION\n",
    "\n",
    "```bash\n",
    "Juggling with large data sets involves having a clear sight of memory consumption and allocation processes going on in the background.\n",
    "\n",
    "After installing the memory profiler,\n",
    "```bash\n",
    "conda install memory_profiler \n",
    "```\n",
    "\n",
    "we can explore memory usage with `%memit`"
   ]
  },
  {
   "cell_type": "code",
   "execution_count": 36,
   "metadata": {},
   "outputs": [],
   "source": [
    "%load_ext memory_profiler"
   ]
  },
  {
   "cell_type": "code",
   "execution_count": 37,
   "metadata": {},
   "outputs": [
    {
     "name": "stdout",
     "output_type": "stream",
     "text": [
      "peak memory: 275.38 MiB, increment: 162.20 MiB\n"
     ]
    }
   ],
   "source": [
    "%memit estimate_pi_vectorized()"
   ]
  },
  {
   "cell_type": "markdown",
   "metadata": {
    "slideshow": {
     "slide_type": "slide"
    }
   },
   "source": [
    "This is a lot of memory. When we allocate things differently, we can reduce it:"
   ]
  },
  {
   "cell_type": "code",
   "execution_count": 38,
   "metadata": {},
   "outputs": [],
   "source": [
    "def estimate_pi_vectorized_oneliner(n=10000000):\n",
    "    return np.sum(np.random.random(n)**2 + np.random.random(n)**2 <= 1) / n * 4"
   ]
  },
  {
   "cell_type": "code",
   "execution_count": 39,
   "metadata": {},
   "outputs": [
    {
     "name": "stdout",
     "output_type": "stream",
     "text": [
      "peak memory: 323.71 MiB, increment: 210.45 MiB\n"
     ]
    }
   ],
   "source": [
    "%memit estimate_pi_vectorized_oneliner()"
   ]
  },
  {
   "cell_type": "markdown",
   "metadata": {
    "slideshow": {
     "slide_type": "slide"
    }
   },
   "source": [
    "Also, we improved runtime:"
   ]
  },
  {
   "cell_type": "code",
   "execution_count": 40,
   "metadata": {},
   "outputs": [
    {
     "name": "stdout",
     "output_type": "stream",
     "text": [
      "292 ms ± 41.7 ms per loop (mean ± std. dev. of 2 runs, 5 loops each)\n"
     ]
    }
   ],
   "source": [
    "%timeit -r 2 -n 5 estimate_pi_vectorized_oneliner()"
   ]
  },
  {
   "cell_type": "markdown",
   "metadata": {},
   "source": [
    "3.67 seconds to 0.227 seconds: We are now 16 times faster than in the beginning!"
   ]
  },
  {
   "cell_type": "markdown",
   "metadata": {
    "slideshow": {
     "slide_type": "slide"
    }
   },
   "source": [
    "## Summary of  most effective optimization techniques"
   ]
  },
  {
   "cell_type": "markdown",
   "metadata": {},
   "source": [
    "* Use better algorithms and data structures\n",
    "* Avoid loops\n",
    "* Vectorize (numpy)\n",
    "* Avoid function calls and dot notation\n",
    "* Memory: Use views, not copies\n",
    "* Memory: Use generators\n",
    "* Use compiled code"
   ]
  },
  {
   "cell_type": "markdown",
   "metadata": {
    "slideshow": {
     "slide_type": "slide"
    }
   },
   "source": [
    "### Use better algorithms and data structures, avoid loops"
   ]
  },
  {
   "cell_type": "markdown",
   "metadata": {},
   "source": [
    "* General explanation of time complexity: https://towardsdatascience.com/understanding-time-complexity-with-python-examples-2bda6e8158a7\n",
    "* Time complexity of Python data structures: https://wiki.python.org/moin/TimeComplexity"
   ]
  },
  {
   "cell_type": "markdown",
   "metadata": {
    "slideshow": {
     "slide_type": "slide"
    }
   },
   "source": [
    "### Avoid function calls and dot notation"
   ]
  },
  {
   "cell_type": "markdown",
   "metadata": {},
   "source": [
    "#### Example: Looped function calls\n",
    "In the following example, the function `inner` is called for each element in the list. The overhead of the function call and the argument checking is multiplied 100000 times. (From https://nyu-cds.github.io/python-performance-tips/04-functions/)"
   ]
  },
  {
   "cell_type": "code",
   "execution_count": 44,
   "metadata": {},
   "outputs": [
    {
     "name": "stdout",
     "output_type": "stream",
     "text": [
      "27.8 ms ± 4.68 ms per loop (mean ± std. dev. of 7 runs, 10 loops each)\n"
     ]
    }
   ],
   "source": [
    "x = 0\n",
    "def inner(i):\n",
    "    global x\n",
    "    x = x + i\n",
    "    \n",
    "def outer1():\n",
    "    for i in range(100000): \n",
    "        inner(i)        # inner function is called 100000 times\n",
    "        \n",
    "%timeit outer1()"
   ]
  },
  {
   "cell_type": "markdown",
   "metadata": {
    "slideshow": {
     "slide_type": "slide"
    }
   },
   "source": [
    "Here instead, the loop is moved inside the aggregate function so that the function is only called once instead of 100000 times:"
   ]
  },
  {
   "cell_type": "code",
   "execution_count": 45,
   "metadata": {},
   "outputs": [
    {
     "name": "stdout",
     "output_type": "stream",
     "text": [
      "8.14 ms ± 867 µs per loop (mean ± std. dev. of 7 runs, 100 loops each)\n"
     ]
    }
   ],
   "source": [
    "x = 0\n",
    "def aggregate(list):\n",
    "    global x\n",
    "    for i in list:\n",
    "        x = x + i\n",
    "\n",
    "def outer2():\n",
    "    aggregate(range(100000))    # aggregate function is called 1 time\n",
    "    \n",
    "%timeit outer2()"
   ]
  },
  {
   "cell_type": "markdown",
   "metadata": {
    "slideshow": {
     "slide_type": "slide"
    }
   },
   "source": [
    "#### Example: Avoid dot notation"
   ]
  },
  {
   "cell_type": "markdown",
   "metadata": {},
   "source": [
    "Use first class functions instead of dot notation:"
   ]
  },
  {
   "cell_type": "markdown",
   "metadata": {},
   "source": [
    "Slow:\n",
    "\n",
    "```python\n",
    "for i in range(n):\n",
    "    myObj.func(i)\n",
    "```"
   ]
  },
  {
   "cell_type": "markdown",
   "metadata": {},
   "source": [
    "Fast:\n",
    "\n",
    "```python\n",
    "myfunc = myObj.func\n",
    "for i in range(n):\n",
    "    myfunc(i)\n",
    "```"
   ]
  },
  {
   "cell_type": "markdown",
   "metadata": {
    "slideshow": {
     "slide_type": "slide"
    }
   },
   "source": [
    "## Use compiled code"
   ]
  },
  {
   "cell_type": "markdown",
   "metadata": {},
   "source": [
    "### Cython\n",
    "http://docs.cython.org/en/latest/src/tutorial/cython_tutorial.html\n",
    "\n",
    "Cython is Python with C data types.\n",
    "\n",
    "Cython is Python: Almost any piece of Python code is also valid Cython code. The Cython compiler will convert it into C code which makes equivalent calls to the Python/C API.\n",
    "\n",
    "### Pypy\n",
    "https://pypy.org/\n",
    "\n",
    "Alternative implementaiton of Cython using a just-in-time compiler instead of an interpreter, often making it run faster."
   ]
  },
  {
   "cell_type": "markdown",
   "metadata": {},
   "source": [
    "## When things go slow, use a progress bar: tqdm"
   ]
  },
  {
   "cell_type": "markdown",
   "metadata": {},
   "source": [
    "https://tqdm.github.io/presentation-%28pydata%29/video/"
   ]
  }
 ],
 "metadata": {
  "kernelspec": {
   "display_name": "Python 3.10.7 64-bit",
   "language": "python",
   "name": "python3"
  },
  "language_info": {
   "codemirror_mode": {
    "name": "ipython",
    "version": 3
   },
   "file_extension": ".py",
   "mimetype": "text/x-python",
   "name": "python",
   "nbconvert_exporter": "python",
   "pygments_lexer": "ipython3",
   "version": "3.10.7"
  },
  "vscode": {
   "interpreter": {
    "hash": "b5f0bfb910b5f89afee0c4e65874b118d019a6f05b0e3b9906c17a1424dc1b44"
   }
  }
 },
 "nbformat": 4,
 "nbformat_minor": 1
}

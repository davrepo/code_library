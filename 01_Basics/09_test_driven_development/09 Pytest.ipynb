{
 "cells": [
  {
   "cell_type": "code",
   "execution_count": null,
   "metadata": {},
   "outputs": [],
   "source": [
    "# --- terminal ---\n",
    "# turn on docker container app\n",
    "# in terminal write:\n",
    "# docker-compose build\n",
    "# docker-compose run test sh\n",
    "# pytest -k test_sad_path_start.py\n",
    "\n",
    "# run pytest for a specific function by supplying a part of its name as a keyword\n",
    "# pytest -k <test_function_name>"
   ]
  },
  {
   "cell_type": "code",
   "execution_count": null,
   "metadata": {},
   "outputs": [],
   "source": [
    "# https://docs.pytest.org/en/6.2.x/index.html "
   ]
  },
  {
   "cell_type": "code",
   "execution_count": 1,
   "metadata": {},
   "outputs": [],
   "source": [
    "# --------- assert ---------\n",
    "\n",
    "class Point():\n",
    "    def __init__(self, name, lat, long):\n",
    "        self._name = name\n",
    "        self._lat = lat\n",
    "        self._long = long \n",
    "\n",
    "    def get_lat_long(self):\n",
    "        return (self._lat, self._long)\n",
    "\n",
    "# new file\n",
    "def point_test():\n",
    "    p1 = Point('Dakar', 14.7167, 17.4677)\n",
    "    assert p1.get_lat_long() == (14.7167, 17.4677)\n",
    "\n",
    "# --- terminal ---\n",
    "# pytest -k - point_test"
   ]
  },
  {
   "cell_type": "code",
   "execution_count": 5,
   "metadata": {},
   "outputs": [],
   "source": [
    "# --------- raises ---------\n",
    "# pytest.raises() is a context manager that allows you to test for exceptions.\n",
    "# test how to handle unwanted input\n",
    "import pytest\n",
    "\n",
    "class Point():\n",
    "    def __init__(self, name, latitude, longitude):\n",
    "        if not isinstance(name, str):\n",
    "            raise ValueError(\"City name provided must be a string\")\n",
    "        self._name = name\n",
    "\n",
    "        if not (-90 <= latitude <= 90) or not (-180 <= longitude <= 180):\n",
    "            raise ValueError(\"Invalid latitude, longitude combination.\")\n",
    "        self._latitude = latitude\n",
    "        self._longitude = longitude\n",
    "\n",
    "    def get_lat_long(self):\n",
    "        return (self._latitude, self._longitude)\n",
    "\n",
    "def test_invalid_point_generation():\n",
    "    with pytest.raises(ValueError) as exp:\n",
    "        Point(\"Senegal\", 99.6937, -189.44406)\n",
    "    assert str(exp.value) == \"Invalid latitude, longitude combination.\"\n",
    "\n",
    "    with pytest.raises(ValueError) as exp:\n",
    "        Point(5, 12.11386, -55.08269)\n",
    "    assert str(exp.value) == 'City name provided must be a string'"
   ]
  },
  {
   "cell_type": "code",
   "execution_count": 8,
   "metadata": {},
   "outputs": [],
   "source": [
    "# --------- fixtures ---------\n",
    "# https://docs.pytest.org/en/6.2.x/fixture.html \n",
    "# fixtures are functions that are run before each test function\n",
    "# similar to @beforeEach in Java\n",
    "# Scoping fixtures\n",
    "import pytest\n",
    "\n",
    "# @pytest.fixture(scope='session')    # once per session\n",
    "# @pytest.fixture(scope='module')     # once per module\n",
    "# @pytest.fixture(scope='class')      # once per class of tests\n",
    "# @pytest.fixture(scope='function')   # once per test\n",
    "\n",
    "class Fruit:\n",
    "    def __init__(self, name):\n",
    "        self.name = name\n",
    "\n",
    "    def __eq__(self, other):\n",
    "        return self.name == other.name\n",
    "\n",
    "@pytest.fixture\n",
    "def my_fruit():\n",
    "    return Fruit(\"apple\")   # return a new instance of Fruit for each test\n",
    "\n",
    "@pytest.fixture\n",
    "def fruit_basket(my_fruit):\n",
    "    return [Fruit(\"banana\"), my_fruit]\n",
    "\n",
    "def test_my_fruit_in_basket(my_fruit, fruit_basket):\n",
    "    assert my_fruit in fruit_basket"
   ]
  },
  {
   "cell_type": "code",
   "execution_count": null,
   "metadata": {},
   "outputs": [],
   "source": [
    "# --------- Mock ---------\n",
    "# https://docs.python.org/3/library/unittest.mock.html\n",
    "# it's in Python standard library, no need to install\n",
    "# Mock objects replace real objects in your code, i.e. mock dependencies in your code\n",
    "# It allows you to replace parts of your system under test with mock objects and make assertions about how they have been used.\n",
    "\n",
    "from unittest.mock import Mock\n",
    "\n",
    "def test_can_get_total_price(cart):\n",
    "    cart.add(\"apple\")\n",
    "    cart.add(\"banana\")\n",
    "    item_database = ItemDatabase()\n",
    "    \n",
    "    # this is side effect\n",
    "    def mock_get_item(item: str):\n",
    "        if item == \"apple\":\n",
    "            return 1.0\n",
    "        if item == \"banana\":\n",
    "            return 2.0\n",
    "    \n",
    "    item_database.get = Mock(side_effect=mock_get_item)  # mock the get method of ItemDatabase\n",
    "    assert cart.get_total_price(item_database) == 3.0"
   ]
  }
 ],
 "metadata": {
  "kernelspec": {
   "display_name": "Python 3.10.7 64-bit",
   "language": "python",
   "name": "python3"
  },
  "language_info": {
   "codemirror_mode": {
    "name": "ipython",
    "version": 3
   },
   "file_extension": ".py",
   "mimetype": "text/x-python",
   "name": "python",
   "nbconvert_exporter": "python",
   "pygments_lexer": "ipython3",
   "version": "3.10.7"
  },
  "orig_nbformat": 4,
  "vscode": {
   "interpreter": {
    "hash": "b5f0bfb910b5f89afee0c4e65874b118d019a6f05b0e3b9906c17a1424dc1b44"
   }
  }
 },
 "nbformat": 4,
 "nbformat_minor": 2
}

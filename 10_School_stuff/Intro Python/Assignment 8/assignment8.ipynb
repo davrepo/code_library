{
 "cells": [
  {
   "cell_type": "markdown",
   "metadata": {},
   "source": [
    "# Assignment 8\n",
    "#### Due November 18, 2022, 11:59\n",
    "\n",
    "In this week’s assignment, we are going dive to dive back into graph theory and expand on the subject of network science.  \n",
    "Graphs are powerful constructs with even more powerful mathematical properties that we can take advantage of when we can formulate our problems as a graph. This time around, we are interested in one network property in particular: the **local clustering coefficient** of a node.\n",
    "\n",
    "## Submission\n",
    "Edit and turn in this jupyter notebook file containing your solutions to each task.  \n",
    "Implement your solution to each of the exercises in the code field below the exercise description.  \n",
    "\n",
    "The libraries you may need are already given, any extra imports are not allowed.\n",
    "\n",
    "___\n",
    "\n",
    "### Local clustering coefficient\n",
    "In this assignment, we want to calculate the local clustering coefficient of a node in an undirected graph. \n",
    "\n",
    "Recall that an undirected graph consists a set of nodes that are connected to some extent, where all the edges that connect the nodes are bidirectional. \n",
    "Imagine, for example, a graph where the nodes represent people at a party pre-corona and there is an edge between two people if they shook hands. This example graph is undirected because any person, A, can shake hands with another person, B, only if B also shakes hands with A. This means that if A is connected to B, then B is also per definition automatically connected to A.\n",
    "\n",
    "The intuition behind the **local clustering coefficient** metric is that it describes the connectivity of the neighborhood of a node. That is, the proportion of connections among its neighbours which are actually realised out of the number of all possible connections.\n",
    "\n",
    "Imagine a person, A, that has three friends: B, C, and D. These friends are person A’s neighborhood. They all have in common that they are friends with A. However, they might not be friends with each other. The local clustering coefficient expresses how many of A’s friends are in fact also friends with each other. \n",
    "\n",
    "Different scenarios for the local clustering coefficient of A:\n",
    "- $LCC_A = \\frac{0}{3}$ -- noone is friends in the neighbourhood: no nodes are connected\n",
    "- $LCC_A = \\frac{1}{3}$ -- only B and C are friends (or only C and D, or only D and B)\n",
    "- $LCC_A = \\frac{2}{3}$ -- we have two pairs of friends in the neighbourhood\n",
    "- $LCC_A = \\frac{3}{3}$ -- everybody is friends in the neighbourhood: all nodes are connected\n",
    "\n",
    "\n",
    "<img src=\"img/clustering_coeff.png\" align=\"center\">\n",
    "\n",
    "___\n",
    "\n",
    "## Assignment\n",
    "Your task in the following exercises is to compute the local clustering coefficient from various representations of the same undirected graph, `tiny`, consisting of 5 nodes and 7 edges.\n"
   ]
  },
  {
   "cell_type": "code",
   "execution_count": 2,
   "metadata": {},
   "outputs": [],
   "source": [
    "import numpy as np"
   ]
  },
  {
   "cell_type": "markdown",
   "metadata": {},
   "source": [
    "### Exercise 1\n",
    "As we know, one way of representing a graph is with an edge list. \n",
    "This representation can be found in the file `tiny_edgelist.txt`. The file contains one edge per line, shown as an edge pair of 2 integers separated by whitespace. Investigate the file to further by yourself to see the formatting of the edge pairs. \n",
    "\n",
    "Write a function called `coefficient_from_edgelist(edgefile, node_id)` that takes an edge list file formatted like so, and a node, and returns the local clustering coefficient for that node, rounded to 3 decimals.\n",
    "___\n",
    "`coefficient_from_edgelist(data/tiny_edgelist.txt, 2)`  \n",
    "\\>\\> `0.667`"
   ]
  },
  {
   "cell_type": "code",
   "execution_count": 3,
   "metadata": {},
   "outputs": [
    {
     "data": {
      "text/plain": [
       "0.667"
      ]
     },
     "execution_count": 3,
     "metadata": {},
     "output_type": "execute_result"
    }
   ],
   "source": [
    "# find local cluster coefficient of a node from edge list file\n",
    "\n",
    "def edge_reader(G, node_id):\n",
    "    neighbors_of_node = np.where(G == node_id)[0] \n",
    "    # print(f'{node_id} has edges {G[neighbors_of_node]}')\n",
    "    \n",
    "    # identify neighbors of node, and put them in a list\n",
    "    neighor_nodes = []\n",
    "    for i in neighbors_of_node:\n",
    "        for j in range(2):\n",
    "            if G[i][j] != node_id:\n",
    "                neighor_nodes.append(G[i][j])\n",
    "    # print(f'{node_id} has neightbors {neighor_nodes}')\n",
    "    \n",
    "    # find number of edges between neighbors_nodes\n",
    "    num_edges = 0\n",
    "    for i in range(len(neighor_nodes)):\n",
    "        for j in range(i+1, len(neighor_nodes)):\n",
    "            if np.any(np.all(G == [neighor_nodes[i], neighor_nodes[j]], axis=1)):\n",
    "                num_edges += 1\n",
    "    # print(f'{node_id} has {num_edges} edges among its neighbors')\n",
    "    \n",
    "    # the total number of edges between neighbors_nodes is the number of neighbors_nodes choose 2\n",
    "    total_edges = len(neighor_nodes) * (len(neighor_nodes) - 1) / 2\n",
    "    # print(f'{node_id} has {total_edges} total edges among its neighbors')\n",
    "    \n",
    "    # the local cluster coefficient is the number of edges between neighbors_nodes divided by the total number of edges between neighbors_nodes\n",
    "    # return the local cluster coefficient\n",
    "    return round(num_edges / total_edges, 3)\n",
    "\n",
    "def coefficient_from_edgelist(edgefile, node_id):\n",
    "    # read edge list file into numpy array\n",
    "    G = np.loadtxt(edgefile, dtype=int)\n",
    "    # print(G)\n",
    "    \n",
    "    return edge_reader(G, node_id)\n",
    "    \n",
    "coefficient_from_edgelist('data/tiny_edgelist.txt', 2)\n"
   ]
  },
  {
   "cell_type": "markdown",
   "metadata": {},
   "source": [
    "## Exercise 2\n",
    "Another common way to represent a graph is with an adjacency matrix. \n",
    "This representation can be found in the file `tiny_adjmatrix.txt`. Investigate the file by yourself to see the formatting of the adjacency matrix. \n",
    "\n",
    "Write a function called `coefficient_from_adjmatrix(matrixfile, node_id)` that takes an adjacency matrix file formatted like so, and a node, and returns the local clustering coefficient for that node, rounded to 3 decimals.\n",
    "___\n",
    "`coefficient_from_adjmatrix(data/tiny_adjmatrix.txt.txt, 0)`  \n",
    "\\>\\> `1.0`"
   ]
  },
  {
   "cell_type": "code",
   "execution_count": 4,
   "metadata": {},
   "outputs": [
    {
     "data": {
      "text/plain": [
       "1.0"
      ]
     },
     "execution_count": 4,
     "metadata": {},
     "output_type": "execute_result"
    }
   ],
   "source": [
    "def coefficient_from_adjmatrix(matrixfile, node_id):\n",
    "    # read adjacency matrix file into numpy array\n",
    "    G = np.loadtxt(matrixfile, dtype=int)\n",
    "    \n",
    "    # convert adjacency matrix to edge list\n",
    "    G = np.argwhere(G == 1)\n",
    "    \n",
    "    # sort all numbers in each row\n",
    "    G = np.sort(G, axis=1)\n",
    "    \n",
    "    # remove all duplicate rows in G\n",
    "    G = np.unique(G, axis=0)\n",
    "\n",
    "    return edge_reader(G, node_id)\n",
    "\n",
    "coefficient_from_adjmatrix(\"data/tiny_adjmatrix.txt\", 0)"
   ]
  }
 ],
 "metadata": {
  "kernelspec": {
   "display_name": "Python 3.10.7 64-bit",
   "language": "python",
   "name": "python3"
  },
  "language_info": {
   "codemirror_mode": {
    "name": "ipython",
    "version": 3
   },
   "file_extension": ".py",
   "mimetype": "text/x-python",
   "name": "python",
   "nbconvert_exporter": "python",
   "pygments_lexer": "ipython3",
   "version": "3.10.7 (tags/v3.10.7:6cc6b13, Sep  5 2022, 14:08:36) [MSC v.1933 64 bit (AMD64)]"
  },
  "vscode": {
   "interpreter": {
    "hash": "b5f0bfb910b5f89afee0c4e65874b118d019a6f05b0e3b9906c17a1424dc1b44"
   }
  }
 },
 "nbformat": 4,
 "nbformat_minor": 4
}

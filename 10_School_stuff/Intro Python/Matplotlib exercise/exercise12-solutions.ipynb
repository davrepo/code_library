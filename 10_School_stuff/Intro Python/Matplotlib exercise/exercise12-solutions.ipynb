{
 "cells": [
  {
   "cell_type": "code",
   "execution_count": 1,
   "metadata": {},
   "outputs": [],
   "source": [
    "import numpy as np\n",
    "import matplotlib.pyplot as plt\n",
    "import csv\n",
    "%matplotlib inline"
   ]
  },
  {
   "cell_type": "markdown",
   "metadata": {},
   "source": [
    "# Exploratory Data Analysis"
   ]
  },
  {
   "cell_type": "markdown",
   "metadata": {},
   "source": [
    "Exploratory Data Analysis refers to the **extremely important** process of performing initial investigations on data so as to discover patterns, to spot anomalies, etc. with the help of summary statistics and graphical representations.\n",
    "\n",
    "In short, it is a good practice to always start your process by understanding the data and trying to gather as many insights from it as possible. EDA is all about making sense of the data in hand, before getting your hands dirty with it."
   ]
  },
  {
   "cell_type": "markdown",
   "metadata": {},
   "source": [
    "### 12.0. Loading in the data\n",
    "In the folder for today's exercises, you have been supplied with the file ```marvel-wikia-data.csv``` which contains data about comic book characters from the Marvel universe. The file has the following variables:\n",
    "\n",
    "| | Variable | Definition |\n",
    "| -:- | :- | :- | \n",
    "| 0 | page_id | The unique identifier for that characters page within the wikia |\n",
    "| 1 | name | The name of the character |\n",
    "| 2 | urlslug | The unique url within the wikia that takes you to the character | \n",
    "| 3 | ID | The identity status of the character (Secret Identity, Public identity, [on marvel only: No Dual Identity])\n",
    "| 4 | ALIGN | If the character is Good, Bad or Neutral | \n",
    "| 5 | EYE | Eye color of the character | \n",
    "| 6 | HAIR | Hair color of the character | \n",
    "| 7 | SEX | Sex of the character (e.g. Male, Female, etc.) |\n",
    "| 8 | GSM | If the character is a gender or sexual minority (e.g. Homosexual characters, bisexual characters) |\n",
    "| 9 | ALIVE | If the character is alive or deceased |\n",
    "| 10 | APPEARANCES | The number of appareances of the character in comic books (as of Sep. 2, 2014. Number will become increasingly out of date as time goes on.) |\n",
    "| 11 | FIRST APPEARANCE | The month and year of the character's first appearance in a comic book, if available |\n",
    "| 12 | YEAR | The year of the character's first appearance in a comic book, if available |\n",
    "\n",
    "We have made a function for you to read the csv file into a numpy array."
   ]
  },
  {
   "cell_type": "code",
   "execution_count": 2,
   "metadata": {},
   "outputs": [],
   "source": [
    "def readCSVToNumpyArray(datafile):\n",
    "    values = [[]]\n",
    "    with open(datafile) as f:\n",
    "        counter = 0\n",
    "        for line in csv.reader(f):\n",
    "            for value in line:\n",
    "                try:\n",
    "                    values[counter].append(float(value))\n",
    "                except ValueError:\n",
    "                    values[counter].append(value)\n",
    "            counter += 1\n",
    "            values.append([])       # when append, the data input is reversed\n",
    "\n",
    "    data = np.array(values[:-1])    # hence reverse the data to preserve initial order\n",
    "\n",
    "    return data"
   ]
  },
  {
   "cell_type": "markdown",
   "metadata": {},
   "source": [
    "#### Load the data  using `readCSVToNumpyArray()` function, and have a look at it"
   ]
  },
  {
   "cell_type": "code",
   "execution_count": 3,
   "metadata": {},
   "outputs": [
    {
     "data": {
      "text/plain": [
       "array([['page_id', 'name', 'urlslug', ..., 'APPEARANCES',\n",
       "        'FIRST APPEARANCE', 'Year'],\n",
       "       ['1678.0', 'Spider-Man (Peter Parker)',\n",
       "        '\\\\/Spider-Man_(Peter_Parker)', ..., '4043.0', 'Aug-62',\n",
       "        '1962.0'],\n",
       "       ['7139.0', 'Captain America (Steven Rogers)',\n",
       "        '\\\\/Captain_America_(Steven_Rogers)', ..., '3360.0', 'Mar-41',\n",
       "        '1941.0'],\n",
       "       ...,\n",
       "       ['695217.0', 'Tinkerer (Skrull) (Earth-616)',\n",
       "        '\\\\/Tinkerer_(Skrull)_(Earth-616)', ..., '', '', ''],\n",
       "       ['708811.0', 'TK421 (Spiderling) (Earth-616)',\n",
       "        '\\\\/TK421_(Spiderling)_(Earth-616)', ..., '', '', ''],\n",
       "       ['673702.0', 'Yologarch (Earth-616)', '\\\\/Yologarch_(Earth-616)',\n",
       "        ..., '', '', '']], dtype='<U71')"
      ]
     },
     "execution_count": 3,
     "metadata": {},
     "output_type": "execute_result"
    }
   ],
   "source": [
    "readCSVToNumpyArray('marvel-wikia-data.csv')"
   ]
  },
  {
   "cell_type": "markdown",
   "metadata": {},
   "source": [
    "### 12.1. Separate the header from the data"
   ]
  },
  {
   "cell_type": "markdown",
   "metadata": {},
   "source": [
    "The first row of the array contains only the header information. This will interfere with our data analysis, and so we need to remove it. \n",
    "\n",
    "Hint: https://www.pythoninformer.com/python-libraries/numpy/index-and-slice/\n",
    "\n",
    "\n",
    "```[[1678.0 'Spider-Man (Peter Parker)' '\\\\/Spider-Man_(Peter_Parker)' ... 4043.0 'Aug-62' 1962.0] ... ]```\n"
   ]
  },
  {
   "cell_type": "code",
   "execution_count": 4,
   "metadata": {},
   "outputs": [
    {
     "data": {
      "text/plain": [
       "array([['1678.0', 'Spider-Man (Peter Parker)',\n",
       "        '\\\\/Spider-Man_(Peter_Parker)', ..., '4043.0', 'Aug-62',\n",
       "        '1962.0'],\n",
       "       ['7139.0', 'Captain America (Steven Rogers)',\n",
       "        '\\\\/Captain_America_(Steven_Rogers)', ..., '3360.0', 'Mar-41',\n",
       "        '1941.0'],\n",
       "       ['64786.0', 'Wolverine (James \\\\\"Logan\\\\\" Howlett)',\n",
       "        '\\\\/Wolverine_(James_%22Logan%22_Howlett)', ..., '3061.0',\n",
       "        'Oct-74', '1974.0'],\n",
       "       ...,\n",
       "       ['695217.0', 'Tinkerer (Skrull) (Earth-616)',\n",
       "        '\\\\/Tinkerer_(Skrull)_(Earth-616)', ..., '', '', ''],\n",
       "       ['708811.0', 'TK421 (Spiderling) (Earth-616)',\n",
       "        '\\\\/TK421_(Spiderling)_(Earth-616)', ..., '', '', ''],\n",
       "       ['673702.0', 'Yologarch (Earth-616)', '\\\\/Yologarch_(Earth-616)',\n",
       "        ..., '', '', '']], dtype='<U71')"
      ]
     },
     "execution_count": 4,
     "metadata": {},
     "output_type": "execute_result"
    }
   ],
   "source": [
    "data = readCSVToNumpyArray('marvel-wikia-data.csv')[1:, :]   # remove the header\n",
    "data"
   ]
  },
  {
   "cell_type": "markdown",
   "metadata": {},
   "source": [
    "### 12.2. Find the total number of characters in the file\n",
    "Hint: https://numpy.org/doc/stable/reference/generated/numpy.ndarray.shape.html\n",
    "\n",
    "```16376```\n"
   ]
  },
  {
   "cell_type": "code",
   "execution_count": 5,
   "metadata": {},
   "outputs": [
    {
     "data": {
      "text/plain": [
       "16376"
      ]
     },
     "execution_count": 5,
     "metadata": {},
     "output_type": "execute_result"
    }
   ],
   "source": [
    "np.shape(data)[0]"
   ]
  },
  {
   "cell_type": "markdown",
   "metadata": {},
   "source": [
    "## Masking"
   ]
  },
  {
   "cell_type": "markdown",
   "metadata": {},
   "source": [
    "Masking comes up when you want to extract, modify, count, or otherwise manipulate values in an array based on some criteria, For example, you might wish to count all values greater than a certain value, or perhaps remove all outliers that are above some threshold. \n",
    "\n",
    "In NumPy, Boolean masking is often the most efficient way to accomplish these types of tasks.\n",
    "\n",
    "Masks have the same dimensions as the original data they are made from. In a boolean mask, the mask at index `i` is `True` if the condition is evaluated as true for index `i` of the original array, otherwise `False`.\n",
    "_____\n",
    "\n",
    "Consider this example array `arr`."
   ]
  },
  {
   "cell_type": "code",
   "execution_count": 6,
   "metadata": {},
   "outputs": [
    {
     "name": "stdout",
     "output_type": "stream",
     "text": [
      "[[1 2 1]\n",
      " [2 3 1]\n",
      " [4 5 3]]\n"
     ]
    }
   ],
   "source": [
    "arr = np.array([[1,2,1],[2,3,1],[4,5,3]]) \n",
    "print(arr)"
   ]
  },
  {
   "cell_type": "markdown",
   "metadata": {},
   "source": [
    "We here create a mask that identifies and extracts the values of `1` in the original array `arr`.\n",
    "\n",
    "The logical evaluation `arr == 1` will actually give us a mask of the array where the index `i` is `True` if `arr[i] == 1`, otherwise `False`. Try to print `arr == 1` to ensure this for yourself.\n",
    "\n",
    "This is exactly what we wanted. So we can take the return value of `arr == 1` and assign it to the variable `mask`."
   ]
  },
  {
   "cell_type": "code",
   "execution_count": 7,
   "metadata": {},
   "outputs": [
    {
     "name": "stdout",
     "output_type": "stream",
     "text": [
      "[[ True False  True]\n",
      " [False False  True]\n",
      " [False False False]]\n"
     ]
    }
   ],
   "source": [
    "mask = arr == 1\n",
    "print(mask)"
   ]
  },
  {
   "cell_type": "markdown",
   "metadata": {},
   "source": [
    "We now have a **mask for if numbers in `arr` are 1 or not.**"
   ]
  },
  {
   "cell_type": "markdown",
   "metadata": {},
   "source": [
    "We can now select only the parts of `arr` that match the mask by doing `arr[mask]`. This also allows us to do calculations etc. with only these values."
   ]
  },
  {
   "cell_type": "code",
   "execution_count": 8,
   "metadata": {},
   "outputs": [
    {
     "name": "stdout",
     "output_type": "stream",
     "text": [
      "[1 1 1]\n"
     ]
    }
   ],
   "source": [
    "print(arr[mask])"
   ]
  },
  {
   "cell_type": "markdown",
   "metadata": {},
   "source": [
    "### 12.3. Create a (boolean) mask for if characters have a secret identity\n",
    "\n",
    "The data for this is in the `ID` column at index 3. \n",
    "\n",
    "`[ True, False, False, ...,  True,  True, False]`"
   ]
  },
  {
   "cell_type": "code",
   "execution_count": 9,
   "metadata": {},
   "outputs": [
    {
     "data": {
      "text/plain": [
       "array([ True, False, False, ...,  True,  True, False])"
      ]
     },
     "execution_count": 9,
     "metadata": {},
     "output_type": "execute_result"
    }
   ],
   "source": [
    "id_mask = data[:,3] == 'Secret Identity'\n",
    "id_mask"
   ]
  },
  {
   "cell_type": "markdown",
   "metadata": {},
   "source": [
    "### 12.4. Find out how many of the characters have secret identies\n",
    "Hint: `sum([True, False, False, False, True]) >> 2`\n",
    "\n",
    "`6275`"
   ]
  },
  {
   "cell_type": "code",
   "execution_count": 11,
   "metadata": {},
   "outputs": [
    {
     "data": {
      "text/plain": [
       "6275"
      ]
     },
     "execution_count": 11,
     "metadata": {},
     "output_type": "execute_result"
    }
   ],
   "source": [
    "sum(id_mask)"
   ]
  },
  {
   "cell_type": "markdown",
   "metadata": {},
   "source": [
    "### 12.5. Select all rows from the data set where the character has a secret identity\n",
    "Hint: Use your mask from 11.3.\n",
    "\n",
    "Save the view to the variable `secret_identities`.\n",
    "\n",
    "`secret_identities` should start with the rows for Spider-Man, Robert Drake and Piotr Rasputin, while ending with the rows for Jack O'Lantern, Tinkerer and TK421."
   ]
  },
  {
   "cell_type": "code",
   "execution_count": 12,
   "metadata": {},
   "outputs": [
    {
     "data": {
      "text/plain": [
       "array([['1678.0', 'Spider-Man (Peter Parker)',\n",
       "        '\\\\/Spider-Man_(Peter_Parker)', ..., '4043.0', 'Aug-62',\n",
       "        '1962.0'],\n",
       "       ['35350.0', 'Robert Drake (Earth-616)',\n",
       "        '\\\\/Robert_Drake_(Earth-616)', ..., '1265.0', 'Sep-63', '1963.0'],\n",
       "       ['1346.0', 'Piotr Rasputin (Earth-616)',\n",
       "        '\\\\/Piotr_Rasputin_(Earth-616)', ..., '1162.0', 'May-75',\n",
       "        '1975.0'],\n",
       "       ...,\n",
       "       ['655292.0', \"Jack O'Lantern (Impostor) (Earth-616)\",\n",
       "        '\\\\/Jack_O%27Lantern_(Impostor)_(Earth-616)', ..., '', '', ''],\n",
       "       ['695217.0', 'Tinkerer (Skrull) (Earth-616)',\n",
       "        '\\\\/Tinkerer_(Skrull)_(Earth-616)', ..., '', '', ''],\n",
       "       ['708811.0', 'TK421 (Spiderling) (Earth-616)',\n",
       "        '\\\\/TK421_(Spiderling)_(Earth-616)', ..., '', '', '']],\n",
       "      dtype='<U71')"
      ]
     },
     "execution_count": 12,
     "metadata": {},
     "output_type": "execute_result"
    }
   ],
   "source": [
    "secret_identities = data[id_mask]\n",
    "secret_identities"
   ]
  },
  {
   "cell_type": "markdown",
   "metadata": {},
   "source": [
    "### 12.6. Select all rows from the data set where the character has Yellow Hair and/or Blue Eyes.\n",
    "Hint1: Use a mask for each condition\n",
    "\n",
    "Hint2: https://stackoverflow.com/questions/41898000/python-select-row-in-numpy-array-where-multiple-conditions-are-met\n",
    "\n",
    "There should be `1981` rows in the extracted data array."
   ]
  },
  {
   "cell_type": "code",
   "execution_count": 13,
   "metadata": {},
   "outputs": [
    {
     "data": {
      "text/plain": [
       "1981"
      ]
     },
     "execution_count": 13,
     "metadata": {},
     "output_type": "execute_result"
    }
   ],
   "source": [
    "res = data[(data[:,6] == 'Yellow Hair') | (data[:,5] == 'Blue Eyes')]\n",
    "np.shape(res)[0]"
   ]
  },
  {
   "cell_type": "markdown",
   "metadata": {},
   "source": [
    "### 12.7. How many unique hair colors are there? How many for eye color?\n",
    "Hint: https://numpy.org/doc/stable/reference/generated/numpy.unique.html\n",
    "\n",
    "Hair colors: `26`\n",
    "Eye colors: `25`"
   ]
  },
  {
   "cell_type": "code",
   "execution_count": 17,
   "metadata": {},
   "outputs": [
    {
     "name": "stdout",
     "output_type": "stream",
     "text": [
      "hair:  26\n",
      "eyes:  25\n"
     ]
    }
   ],
   "source": [
    "print('hair: ', len(np.unique(data[:,6])))\n",
    "print('eyes: ', len(np.unique(data[:,5])))"
   ]
  },
  {
   "cell_type": "markdown",
   "metadata": {},
   "source": [
    "### 12.8. Create a dictionary of the frequency distribution of the *number of appearances* of the characters\n",
    "\n",
    "The data can be found in the `APPEARANCES` column at index 10. You should have a key for each unique value of the `APPEARANCES` column.\n",
    "\n",
    "The output should be of the form `{'number_of_occurences': sum_amount_of_characters_matching}`\n",
    "\n",
    "\n",
    "Hint: `sum(arr==elem)` returns the number of occurences of the value `elem` in `arr`.\n",
    "\n",
    "**NB!** This will take a few seconds to run as the data set is on the larger side.\n",
    "\n",
    "Your dictionary should contain `359` keys, and the value at the key `'1.0'` should be `4810`."
   ]
  },
  {
   "cell_type": "code",
   "execution_count": 18,
   "metadata": {},
   "outputs": [
    {
     "name": "stdout",
     "output_type": "stream",
     "text": [
      "359\n"
     ]
    },
    {
     "data": {
      "text/plain": [
       "4810"
      ]
     },
     "execution_count": 18,
     "metadata": {},
     "output_type": "execute_result"
    }
   ],
   "source": [
    "D = {number:sum(data[:,10]==number) for number in np.unique(data[:,10])}\n",
    "print(len(D))\n",
    "D['1.0']"
   ]
  },
  {
   "cell_type": "markdown",
   "metadata": {},
   "source": [
    "### 12.9. Plot the frequency distribution of the identity status of the characters\n",
    "Hint: https://matplotlib.org/3.3.1/api/_as_gen/matplotlib.pyplot.hist.html\n",
    "\n",
    "The data can be found in the `ID` column at index 3.\n",
    "\n",
    "The frequency of `Known to Authorities Identity` is 15, and thus the bar is not visible on your plot. Additionally, one bar has the empty string as a label, and so it appears to have no label on the plot.\n",
    "\n",
    "Neat trick: Adding `;` to the end of a line in a jupyter notebook code cell  prevents the return value from being shown automatically. You can use this to remove the ugly text output when plotting."
   ]
  },
  {
   "cell_type": "code",
   "execution_count": 19,
   "metadata": {},
   "outputs": [
    {
     "data": {
      "image/png": "[encoded data removed]",
      "text/plain": [
       "<Figure size 432x288 with 1 Axes>"
      ]
     },
     "metadata": {},
     "output_type": "display_data"
    }
   ],
   "source": [
    "plt.xticks(rotation='vertical') #This makes the labels of the x axis vertical so they don't overlap.\n",
    "plt.hist(data[:,3]);"
   ]
  },
  {
   "cell_type": "markdown",
   "metadata": {},
   "source": [
    "### 12.10. Plot a pie chart of the distribution of genders of the characters, for each of the files\n",
    "Hint: https://matplotlib.org/3.3.0/api/_as_gen/matplotlib.pyplot.pie.html\n",
    "\n",
    "The data can be found in the `SEX` column at index 7. The plot should have labels corresponding to the unique values of the `SEX` column.\n",
    "\n",
    "The third largest wedge will have the empty string as a label, and so it appears to have no label on the plot.\n",
    "\n",
    "Note: Remember to have the same order for wedges and labels so you don't shuffle your labels!"
   ]
  },
  {
   "cell_type": "code",
   "execution_count": 20,
   "metadata": {},
   "outputs": [
    {
     "data": {
      "image/png": "[encoded data removed]",
      "text/plain": [
       "<Figure size 432x288 with 1 Axes>"
      ]
     },
     "metadata": {},
     "output_type": "display_data"
    }
   ],
   "source": [
    "labels = np.unique(data[:,7])\n",
    "plt.pie([sum(data[:,7]==elem) for elem in labels], labels=labels);"
   ]
  },
  {
   "cell_type": "markdown",
   "metadata": {},
   "source": [
    "### 12.11. Identify all the years in which Marvel introduced new female characters\n",
    "\n",
    "The data on the first appearance of a character can be found in the `YEAR` column at index 12. \n",
    "\n",
    "We only want the **unique** years where female characters were introduced, i.e. the year 2004 should only be counted once, even if it introduced several new female characters.\n",
    "\n",
    "\n",
    "\n",
    "There should be `74` unique years."
   ]
  },
  {
   "cell_type": "code",
   "execution_count": 22,
   "metadata": {},
   "outputs": [
    {
     "name": "stdout",
     "output_type": "stream",
     "text": [
      "['' '1939.0' '1940.0' '1941.0' '1942.0' '1943.0' '1944.0' '1945.0'\n",
      " '1946.0' '1947.0' '1948.0' '1949.0' '1950.0' '1951.0' '1952.0' '1953.0'\n",
      " '1954.0' '1955.0' '1956.0' '1958.0' '1960.0' '1961.0' '1962.0' '1963.0'\n",
      " '1964.0' '1965.0' '1966.0' '1967.0' '1968.0' '1969.0' '1970.0' '1971.0'\n",
      " '1972.0' '1973.0' '1974.0' '1975.0' '1976.0' '1977.0' '1978.0' '1979.0'\n",
      " '1980.0' '1981.0' '1982.0' '1983.0' '1984.0' '1985.0' '1986.0' '1987.0'\n",
      " '1988.0' '1989.0' '1990.0' '1991.0' '1992.0' '1993.0' '1994.0' '1995.0'\n",
      " '1996.0' '1997.0' '1998.0' '1999.0' '2000.0' '2001.0' '2002.0' '2003.0'\n",
      " '2004.0' '2005.0' '2006.0' '2007.0' '2008.0' '2009.0' '2010.0' '2011.0'\n",
      " '2012.0' '2013.0']\n"
     ]
    },
    {
     "data": {
      "text/plain": [
       "74"
      ]
     },
     "execution_count": 22,
     "metadata": {},
     "output_type": "execute_result"
    }
   ],
   "source": [
    "fem_mask = data[:,7] == \"Female Characters\"\n",
    "fem_years = np.unique(data[:,12][fem_mask])\n",
    "print(fem_years)\n",
    "len(fem_years)"
   ]
  },
  {
   "cell_type": "markdown",
   "metadata": {},
   "source": [
    "### 12.12. Identify the year in which Marvel introduced the largest number of new characters\n",
    "\n",
    "The data on the year of introduction for a character can be found in the `YEAR` column at index 12. \n",
    "\n",
    "**NB!** In this part, you have to filter out rows with empty string values in column 12 (where `YEAR` = `''`).\n",
    "\n",
    "The correct year har `554` new introduced characters."
   ]
  },
  {
   "cell_type": "code",
   "execution_count": 23,
   "metadata": {},
   "outputs": [
    {
     "data": {
      "text/plain": [
       "('1993.0', 554)"
      ]
     },
     "execution_count": 23,
     "metadata": {},
     "output_type": "execute_result"
    }
   ],
   "source": [
    "largest_year = 0\n",
    "year_count = 0\n",
    "for elem in np.unique(data[:,12]):\n",
    "    if elem == '': continue\n",
    "    c = sum(data[:,12] == elem)\n",
    "    if c > year_count:\n",
    "        largest_year = elem\n",
    "        year_count = c\n",
    "\n",
    "largest_year, year_count"
   ]
  }
 ],
 "metadata": {
  "kernelspec": {
   "display_name": "Python 3.10.7 64-bit",
   "language": "python",
   "name": "python3"
  },
  "language_info": {
   "codemirror_mode": {
    "name": "ipython",
    "version": 3
   },
   "file_extension": ".py",
   "mimetype": "text/x-python",
   "name": "python",
   "nbconvert_exporter": "python",
   "pygments_lexer": "ipython3",
   "version": "3.10.7"
  },
  "vscode": {
   "interpreter": {
    "hash": "b5f0bfb910b5f89afee0c4e65874b118d019a6f05b0e3b9906c17a1424dc1b44"
   }
  }
 },
 "nbformat": 4,
 "nbformat_minor": 4
}

{
 "cells": [
  {
   "cell_type": "code",
   "execution_count": null,
   "metadata": {},
   "outputs": [],
   "source": [
    "# Coursera Qwiklab, week 4, Using Python to Interact with the Operating System\n",
    "\n",
    "#!/usr/bin/env python3\n",
    "import sys\n",
    "import os\n",
    "import re\n",
    "def error_search(log_file):\n",
    "    error = input(\"What is the error? \")\n",
    "    returned_errors = []\n",
    "    with open(log_file, mode='r',encoding='UTF-8') as file:\n",
    "        for log in file.readlines():\n",
    "            error_patterns = [\"error\"]\n",
    "            for i in range(len(error.split(' '))):\n",
    "                error_patterns.append(r\"{}\".format(error.split(' ')[i].lower()))\n",
    "                if all(re.search(error_pattern, log.lower()) for error_pattern in error_patterns):\n",
    "                    returned_errors.append(log)\n",
    "        file.close()\n",
    "    return returned_errors\n",
    "  \n",
    "def file_output(returned_errors):\n",
    "    # os.path.expanduser('~') returns the path of the current user's home directory. \n",
    "    # ~ is a shortcut for the home directory, and expanduser() replaces the tilde with the full path to the home directory. \n",
    "    # E.g. if current user's home directory is /home/username, os.path.expanduser('~') would return /home/username.\n",
    "    with open(os.path.expanduser('~') + '/data/errors_found.log', 'w') as file:\n",
    "        for error in returned_errors:\n",
    "            file.write(error)\n",
    "        file.close()\n",
    "\n",
    "if __name__ == \"__main__\":\n",
    "    log_file = sys.argv[1]\n",
    "    returned_errors = error_search(log_file)\n",
    "    file_output(returned_errors)\n",
    "    sys.exit(0)"
   ]
  }
 ],
 "metadata": {
  "kernelspec": {
   "display_name": "Python 3",
   "language": "python",
   "name": "python3"
  },
  "language_info": {
   "codemirror_mode": {
    "name": "ipython",
    "version": 3
   },
   "file_extension": ".py",
   "mimetype": "text/x-python",
   "name": "python",
   "nbconvert_exporter": "python",
   "pygments_lexer": "ipython3",
   "version": "3.10.7 (tags/v3.10.7:6cc6b13, Sep  5 2022, 14:08:36) [MSC v.1933 64 bit (AMD64)]"
  },
  "orig_nbformat": 4,
  "vscode": {
   "interpreter": {
    "hash": "b5f0bfb910b5f89afee0c4e65874b118d019a6f05b0e3b9906c17a1424dc1b44"
   }
  }
 },
 "nbformat": 4,
 "nbformat_minor": 2
}

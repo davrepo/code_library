{
 "cells": [
  {
   "cell_type": "markdown",
   "metadata": {},
   "source": [
    "# 1. The Lie Factor\n",
    "\n",
    "## 1.1 Definition\n",
    "\n",
    "Often, visualizations are manipulated or distorted to persuade the reader or viewer to come around to a certain conclusion or point of view. We can quantify such distortions using the so-called **Lie Factor* to help quantify such distortions. It describes the relation between the size of effect shown in a graphic or visualization and the size of effect present in the data. Edward Tufte, professor at Yale University, defined the Lie Factor in his book *The Visual Display of Quantitative Information* (Tufte, 1991). Tufte states that *\"The representation of numbers, as physically measured on the surface of the graphic itself, should be directly proportional to the quantities represented.\"*.\n",
    "\n",
    "This results in the following formula:\n",
    "$$\n",
    "\\text{Lie Factor} = \\frac{\\text{size of effect shown in graphic}}{\\text{size of effect in data}}\n",
    "$$\n",
    "where\n",
    "$$\n",
    "\\text{size of effect} = \\frac{\\text{|second value - first value|}}{\\text{first value}}\n",
    "$$\n",
    "\n",
    "In other words, the Lie Factor is the size of an effect shown in a graphic, divided by the actual size of the effect in the data on which the graphic is based. When you measure the effect in the graphic, it is of course independent of the unit of measurement: pixels, cms, inches, etc.\n",
    "\n",
    "\n",
    "## 1.2 Interpretation\n",
    "\n",
    "The Lie Factor of a graphic should have a value between 0.95 and 1.05 to ensure the integrity. If the value is less or greater, it indicates a substantial (and often intended) distortion, far beyond minor inaccuracies (e.g., caused by plotting).\n",
    "\n",
    "For example, if the lie factor had a value of 1.02, then the graphic should not be described as lying or distorted, since a jitter in the graphic or another minor error is more likely the cause for the given distortion. On the other hand, if the factor had the value 1.45, we can generally assume that the producer intentionally distorted the graphic. Is the Lie Factor greater than 1, the concerned graphic is so called “Overstating”. Is it less than 1, the graphic is \"Understating\". "
   ]
  },
  {
   "cell_type": "markdown",
   "metadata": {},
   "source": [
    "## 1.3 Example\n",
    "![](visualization01.png)\n",
    "\n",
    "In this chart from the Argentinian TV channel C5N, it looks like Argentina is testing for COVID-19 at almost the same rate as the United States (EEUU). However, by inspecting the numbers, we immediately observe that Argentina is doing significantly worse than the US. Let's calculate the Lie Factor:\n",
    "\n",
    "* The Argentinian bar is about 80 pixels tall. The American bar is about 100 pixels tall.\n",
    "* The size of the effect shown in graphic is then (100-80)/80 = 0.25, and the size of the effect in data is (7000-330)/(330) = 20.2\n",
    "* The lie factor is thus 0.25 / 20.2=0.0123.\n",
    "\n",
    "We can now conclude that the graphic is **understating**."
   ]
  },
  {
   "cell_type": "markdown",
   "metadata": {},
   "source": [
    "## 1.4 Exercises\n",
    "Find the Lie Factors (outside the range [0.95, 1.05]) in the following charts.\n",
    "\n",
    "On Windows, you can save the screenshot from snipping tool (Win+Shift+s) and look at its properties to see its size in pixels."
   ]
  },
  {
   "cell_type": "markdown",
   "metadata": {},
   "source": [
    "### 1.4.1 Work hours\n",
    "![](visualization02.gif)"
   ]
  },
  {
   "cell_type": "markdown",
   "metadata": {},
   "source": []
  },
  {
   "cell_type": "markdown",
   "metadata": {},
   "source": [
    "### 1.4.2 Clipped bar charts\n",
    "![](visualization03.png)"
   ]
  },
  {
   "cell_type": "markdown",
   "metadata": {},
   "source": []
  },
  {
   "cell_type": "markdown",
   "metadata": {},
   "source": [
    "### 1.4.3 Poll results\n",
    "\n",
    "![](visualization04.png)"
   ]
  },
  {
   "cell_type": "markdown",
   "metadata": {},
   "source": []
  },
  {
   "cell_type": "markdown",
   "metadata": {},
   "source": [
    "## References\n",
    "\n",
    "- Tufte, E. R. (1991). The Visual Display of Quantitative Information (2nd edition), Graphics Press, USA, 1991, p. 57–69.\n",
    "- https://infovis-wiki.net/wiki/Lie_Factor"
   ]
  }
 ],
 "metadata": {
  "kernelspec": {
   "display_name": "Python 3 (ipykernel)",
   "language": "python",
   "name": "python3"
  },
  "language_info": {
   "codemirror_mode": {
    "name": "ipython",
    "version": 3
   },
   "file_extension": ".py",
   "mimetype": "text/x-python",
   "name": "python",
   "nbconvert_exporter": "python",
   "pygments_lexer": "ipython3",
   "version": "3.9.16"
  }
 },
 "nbformat": 4,
 "nbformat_minor": 2
}

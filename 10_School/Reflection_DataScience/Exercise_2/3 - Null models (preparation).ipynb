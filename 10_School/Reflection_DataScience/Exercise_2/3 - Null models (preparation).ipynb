{
 "cells": [
  {
   "cell_type": "markdown",
   "metadata": {},
   "source": [
    "# 3. Null models\n",
    "\n",
    "During our third lecture, we will discuss the value of **null models** in calling BS. We will discuss three cases during the lecture and this notebook contains instructions for preparing for this in-class exercise.\n",
    "\n",
    "## 3.1 What are null models?\n",
    "\n",
    "We always need to have an expectation (or hypothesis or baseline) when we do a measurement/analysis. This is also known as our **null model**: what should we expect if there was no effect. A good principle to follow is *Occam’s razor*: when faced with two equally good hypotheses, always choose the simpler. This is an important tool in your BS detection toolkit. \n",
    "\n",
    "When observation A is used as evidence for claim B, then we should do our best to show that A has a simpler alternative explanation (through a null model). It is important to realize here that our alternative explanation does not even have to be correct to rob the original argument of its rhetorical force! If we suddenly we have two competing explanations for claim B, then the original one is not so obvious anymore.\n",
    "\n",
    "We will do an in-class exercise with null models during the next lecture, which we ask you to prepare for in advance during this lab session.\n",
    "\n",
    "\n",
    "## 3.2 Preparation steps\n",
    "\n",
    "There is no unique recipe for finding the right null model, so the best way is to work through examples. We have uploaded explanatory videos for three different cases on LearnIT under lecture 3 ['Spotting BS, part 2'](https://learnit.itu.dk/course/view.php?id=3022833#section-4) under the header 'Null model case videos'. Please do the following:\n",
    "\n",
    "1. Form a small group (2-4 students) to prepare for this exercise. If you have already formed your course group, by all means do this with your group. Otherwise, you can simply discuss them with some of your neighbors during the exercise session.\n",
    "2. Pick one of the case videos (such as the one you are most interested in)\n",
    "3. Watch the case video (probably with headphones in ;-)\n",
    "4. Prepare answers to the following questions: (1) what the example is about, (2) why a null model is needed, and (3) how you can compute that null model in practice.\n",
    "\n",
    "It is important that you prepare your answers in advance. Next week in class, as I will call on different groups to hear their answers, but we will not have a lot of time in class for discussing your case (and you may also not be seated next to each other)."
   ]
  }
 ],
 "metadata": {
  "kernelspec": {
   "display_name": "Python 3 (ipykernel)",
   "language": "python",
   "name": "python3"
  },
  "language_info": {
   "codemirror_mode": {
    "name": "ipython",
    "version": 3
   },
   "file_extension": ".py",
   "mimetype": "text/x-python",
   "name": "python",
   "nbconvert_exporter": "python",
   "pygments_lexer": "ipython3",
   "version": "3.9.16"
  }
 },
 "nbformat": 4,
 "nbformat_minor": 2
}

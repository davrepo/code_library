{
 "cells": [
  {
   "cell_type": "markdown",
   "id": "181bbe29-26f4-4c4a-a9e9-0053263bff52",
   "metadata": {},
   "source": [
    "# Exercises for Spark \n",
    "by Viggo Gascou  viga@itu.dk & Thorvald Sørensen thso@itu.dk | 19-09-2023"
   ]
  },
  {
   "cell_type": "markdown",
   "id": "92690678-bb97-43d7-ab27-4a6f8db87079",
   "metadata": {},
   "source": [
    "## Connecting to the Spark Cluster job using the two JobParameters.json\n",
    "\n",
    "To connect this jupyter notebook with your Spark cluster, we need to tell jupyter how it can access the spark cluster. Below code accomplishes that. "
   ]
  },
  {
   "cell_type": "code",
   "execution_count": null,
   "id": "d483a774-a0ca-4873-a2ee-51d2fcd30ead",
   "metadata": {
    "tags": []
   },
   "outputs": [],
   "source": [
    "#####################################################################\n",
    "# DO NOT CHANGE ANYTHING HERE.\n",
    "# IF YOU HAVE PROBLEMS, CHECK THE ASSIGNMENT GUIDE CAREFULLY \n",
    "#####################################################################\n",
    "    \n",
    "# Only execute this cell once.\n",
    "if 'EXECUTED' in globals():\n",
    "    # check if variable 'EXECUTED' exists in the global variable namespace\n",
    "    print(\"Already been executed once, not running again!\")\n",
    "else:\n",
    "    print(\"Cell has not been executed before, running...\")\n",
    "    import os, json, pyspark\n",
    "    from pyspark.conf import SparkConf\n",
    "    from pyspark.sql import SparkSession, functions as F\n",
    "\n",
    "    # Two files are automatically read: JobParameters.json for the Spark Cluster job using a temporary spark instance\n",
    "    # and JobParameters.json for the Jupyter Lab job to extract the hostname of the cluster. \n",
    "\n",
    "    MASTER_HOST_NAME = None\n",
    "\n",
    "    # Open the parameters Jupyter Lab app was launched with\n",
    "    with open('/work/JobParameters.json', 'r') as file:\n",
    "        JUPYTER_LAB_JOB_PARAMS = json.load(file)\n",
    "        # from pprint import pprint; pprint(JUPYTER_LAB_JOB_PARAMS) \n",
    "        for resource in JUPYTER_LAB_JOB_PARAMS['request']['resources']:\n",
    "            if 'hostname' in resource.keys():\n",
    "                MASTER_HOST_NAME = resource['hostname']\n",
    "\n",
    "    MASTER_HOST = f\"spark://{MASTER_HOST_NAME}:7077\"\n",
    "\n",
    "    conf = SparkConf().setAll([\n",
    "            (\"spark.app.name\", 'reading_job_params_app'), \n",
    "            (\"spark.master\", MASTER_HOST),\n",
    "        ])\n",
    "    spark = SparkSession.builder.config(conf=conf)\\\n",
    "                                .getOrCreate()\n",
    "\n",
    "    CLUSTER_PARAMETERS_JSON_DF = spark.read.option(\"multiline\",\"true\").json('/work/JobParameters.json')\n",
    "\n",
    "    # Extract cluster info from the specific JobParameters.json\n",
    "    NODES = CLUSTER_PARAMETERS_JSON_DF.select(\"request.replicas\").first()[0]\n",
    "    CPUS_PER_NODE = CLUSTER_PARAMETERS_JSON_DF.select(\"machineType.cpu\").first()[0] - 1\n",
    "    MEM_PER_NODE = CLUSTER_PARAMETERS_JSON_DF.select(\"machineType.memoryInGigs\").first()[0]\n",
    "\n",
    "    CLUSTER_CORES_MAX = CPUS_PER_NODE * NODES\n",
    "    CLUSTER_MEMORY_MAX = MEM_PER_NODE * NODES \n",
    "\n",
    "    EXECUTOR_CORES = CPUS_PER_NODE - 1  # set cores per executor on worker node\n",
    "    EXECUTOR_MEMORY = int(\n",
    "        MEM_PER_NODE / (CPUS_PER_NODE / EXECUTOR_CORES) * 0.5\n",
    "    )  # set executor memory in GB on each worker node\n",
    "\n",
    "    # Make sure there is a dir for spark logs\n",
    "    if not os.path.exists('spark_logs'):\n",
    "        os.mkdir('spark_logs')\n",
    "\n",
    "    conf = SparkConf().setAll(\n",
    "        [\n",
    "            (\"spark.app.name\", 'spark_assignment'), # Change to your liking \n",
    "            (\"spark.sql.caseSensitive\", False), # Optional: Make queries strings sensitive to captialization\n",
    "            (\"spark.master\", MASTER_HOST),\n",
    "            (\"spark.cores.max\", CLUSTER_CORES_MAX),\n",
    "            (\"spark.executor.cores\", EXECUTOR_CORES),\n",
    "            (\"spark.executor.memory\", str(EXECUTOR_MEMORY) + \"g\"),\n",
    "            (\"spark.eventLog.enabled\", True),\n",
    "            (\"spark.eventLog.dir\", \"spark_logs\"),\n",
    "            (\"spark.history.fs.logDirectory\", \"spark_logs\"),\n",
    "            (\"spark.deploy.mode\", \"cluster\"),\n",
    "        ]\n",
    "    )\n",
    "\n",
    "    ## check executor memory, taking into accout 10% of memory overhead (minimum 384 MiB)\n",
    "    CHECK = (CLUSTER_CORES_MAX / EXECUTOR_CORES) * (\n",
    "        EXECUTOR_MEMORY + max(EXECUTOR_MEMORY * 0.10, 0.403)\n",
    "    )\n",
    "\n",
    "    assert (\n",
    "        int(CHECK) <= CLUSTER_MEMORY_MAX\n",
    "    ), \"Executor memory larger than cluster total memory!\"\n",
    "\n",
    "    # Stop previous session that was just for loading cluster params\n",
    "    spark.stop()\n",
    "\n",
    "    # Start new session with above config, that has better resource handling\n",
    "    spark = SparkSession.builder.config(conf=conf)\\\n",
    "                                .getOrCreate()\n",
    "    sc = spark.sparkContext\n",
    "    EXECUTED = True\n",
    "    print(\"Success!\")\n"
   ]
  },
  {
   "cell_type": "markdown",
   "id": "92efc415-1930-4bf3-8aa1-d21701e1dc3a",
   "metadata": {
    "tags": []
   },
   "source": [
    "## Transforming data using SQL, DataFrames and RDDs (Resillient Distributed Datasets)\n",
    "Today's exercise will let you dig deeper into how a Spark Cluster operates. So far you have worked with a high-level API, that is, a simplification of a more complex API. You have tried to transform data using DataFrames and perhaps SQL like syntax. Today you will try to use RDDs.\n",
    "\n",
    "DataFrame operations are built on top of RDDs and compile down to these lower level tools for convenient and extremely efficient distributed execution. There are some things that you might use RDDs for, especially when you’re reading or manipulating raw data, but for the assignment, you should stick to the Structured APIs.\n",
    "\n",
    "<img src=attachment:911c73e3-29a1-4d35-9ad1-3e0d5249a113.png width=\"500\">"
   ]
  },
  {
   "cell_type": "markdown",
   "id": "b1de3dec-d95c-44b9-a996-12e97cc34c2b",
   "metadata": {},
   "source": [
    "## Loading the data\n",
    "Here we specify where the textfile is located on UCloud and read it using the spark session. "
   ]
  },
  {
   "cell_type": "code",
   "execution_count": null,
   "id": "e5f1e199-ec55-4ea2-918e-32ddce699eea",
   "metadata": {
    "tags": []
   },
   "outputs": [],
   "source": [
    "reviews = spark.read.json('file:////work/yelp/yelp_academic_dataset_review.json').select(\"text\").rdd"
   ]
  },
  {
   "cell_type": "markdown",
   "id": "73a80b4d-1568-452f-9fa6-b6aecc2ec74f",
   "metadata": {},
   "source": [
    "Let's see the data type this object. How does it differ to what you have used for your assignement?"
   ]
  },
  {
   "cell_type": "code",
   "execution_count": null,
   "id": "0f746ec2-e012-457a-a3f4-678f950eef6f",
   "metadata": {
    "tags": []
   },
   "outputs": [],
   "source": [
    "type(reviews)"
   ]
  },
  {
   "cell_type": "markdown",
   "id": "4f083a9e-7b92-4033-baea-44aa217348db",
   "metadata": {},
   "source": [
    "If you want to use e.g., the first 5000 reviews you can use the limit function as such"
   ]
  },
  {
   "cell_type": "code",
   "execution_count": null,
   "id": "23930aed-1963-4b9c-bf5f-22b7308ed0cd",
   "metadata": {
    "tags": []
   },
   "outputs": [],
   "source": [
    "reviews_subset = spark.read.json('file:////work/yelp/yelp_academic_dataset_review.json').select(\"text\").limit(5000).rdd"
   ]
  },
  {
   "cell_type": "code",
   "execution_count": null,
   "id": "22f1bea9-1efb-4152-80de-272f666191fb",
   "metadata": {
    "tags": []
   },
   "outputs": [],
   "source": [
    "reviews_subset.take(2)"
   ]
  },
  {
   "cell_type": "markdown",
   "id": "154c3189-b670-4c9c-a80b-545cfc8febda",
   "metadata": {},
   "source": [
    "# Part A): Counting the occurences of every word in the reviews column  \n",
    "For this first part, you will try to use the above RDD and code a solution (using the RDD API instead of the DataFrame API that you have been used to)"
   ]
  },
  {
   "attachments": {
    "95a3f43f-5c22-499e-a5ff-2e3de6becf9e.png": {
     "image/png": "[encoded data removed]"
    }
   },
   "cell_type": "markdown",
   "id": "96f86194-7cc1-436d-8ac5-de16213e0227",
   "metadata": {},
   "source": [
    "**Remember to take a look at the PySpark docs on the different functions that are available on RDD's (Resilient Distributed Dataset's) [here](https://spark.apache.org/docs/3.3.1/api/python/reference/pyspark.html#rdd-apis)**\n",
    "\n",
    "In particular these functions are useful for this exercise:\n",
    "* [flatMap](https://spark.apache.org/docs/3.3.1/api/python/reference/api/pyspark.RDD.flatMap.html)\n",
    "* [map](https://spark.apache.org/docs/3.3.1/api/python/reference/api/pyspark.RDD.map.html)\n",
    "* [reduceByKey](https://spark.apache.org/docs/3.3.1/api/python/reference/api/pyspark.RDD.reduceByKey.html)\n",
    "* [sortBy](https://spark.apache.org/docs/3.3.1/api/python/reference/api/pyspark.RDD.sortBy.html)\n",
    "\n",
    "Map applies a function to every element, and outputs the same number of elements. Flatmap applies a function, but returns several elements per original element.\n",
    "\n",
    "![image.png](attachment:95a3f43f-5c22-499e-a5ff-2e3de6becf9e.png)\n",
    "\n",
    "Also remember that you can use the [take()](https://spark.apache.org/docs/3.3.1/api/python/reference/api/pyspark.RDD.take.html) function to take a look at the first `N` elements of an RDD.\n",
    "\n",
    "Finally take a look at the Python docs to see how you can manipulate strings in Python as well as how to create lambda functions:\n",
    "* [String manipulation in Python](https://docs.python.org/3/library/stdtypes.html#string-methods)\n",
    "* [Lambda functions in Python](https://docs.python.org/3/tutorial/controlflow.html#lambda-expressions)\n",
    "\n",
    "For example a flatMap function that swaps the case of the letters in a string `x` could look like this:\n",
    "```python\n",
    "rdd = rdd.flatMap(lambda x: x.text.swapcase())\n",
    "rdd.take(1)\n",
    "```\n",
    "\n",
    "Notice that above example access the `.text`  object in order to be able to use python's string manipulation functions."
   ]
  },
  {
   "cell_type": "markdown",
   "id": "c175a2d5-7da9-4daf-8323-3cac0d1b6516",
   "metadata": {},
   "source": [
    "## Tokenizing the words\n",
    "First we need to tokenize each word on all the lines in the text file (split each line into words). Then we need to flatten that into a single RDD with just the words."
   ]
  },
  {
   "cell_type": "code",
   "execution_count": null,
   "id": "26fc7a64-8b7e-448e-8606-e76355d86ec9",
   "metadata": {
    "tags": []
   },
   "outputs": [],
   "source": [
    "# Your code here..."
   ]
  },
  {
   "cell_type": "markdown",
   "id": "784f4312-d881-4f1d-bc4b-844fab33366e",
   "metadata": {
    "tags": []
   },
   "source": [
    "## Count the words\n",
    "Next for each word we need to create a key-value pair with the word as the key and 1 as the value."
   ]
  },
  {
   "cell_type": "code",
   "execution_count": null,
   "id": "f9294ebd-18a4-4567-8aa5-828ff17c5cb0",
   "metadata": {
    "tags": []
   },
   "outputs": [],
   "source": [
    "# Your code here..."
   ]
  },
  {
   "cell_type": "markdown",
   "id": "ffa8afc6-8272-4694-9379-9c113a80b87e",
   "metadata": {
    "tags": []
   },
   "source": [
    "## Summing the counts\n",
    "Now we need to aggregate the counts such that for each word we get a single key-value pair. Where the key is the word and the value is the number of occurences of that word."
   ]
  },
  {
   "cell_type": "code",
   "execution_count": null,
   "id": "944fc7de-dc6c-4a33-ab89-8ec8fe722d37",
   "metadata": {
    "tags": []
   },
   "outputs": [],
   "source": [
    "# Your code here..."
   ]
  },
  {
   "cell_type": "markdown",
   "id": "467613e9-b23a-460b-9ce2-1e7300aa602b",
   "metadata": {},
   "source": [
    "## Sorting the counts\n",
    "Finally we can sort the results either by the number of occurences (the value) or alphabetically (the key)"
   ]
  },
  {
   "cell_type": "markdown",
   "id": "c7e25434-7e73-4b6d-8df8-63f62a8c38d4",
   "metadata": {},
   "source": [
    "#### By value (numerically)"
   ]
  },
  {
   "cell_type": "code",
   "execution_count": null,
   "id": "69229f98-a6ec-4276-a24e-95d7e9490ad6",
   "metadata": {
    "tags": []
   },
   "outputs": [],
   "source": [
    "# Your code here..."
   ]
  },
  {
   "cell_type": "markdown",
   "id": "f394aff1-139e-48cf-9f56-248bc6656def",
   "metadata": {
    "tags": []
   },
   "source": [
    "### By key (alphabetically)"
   ]
  },
  {
   "cell_type": "code",
   "execution_count": null,
   "id": "5cf65d1e-5bfe-4d7c-96fb-9c8667d86c97",
   "metadata": {
    "tags": []
   },
   "outputs": [],
   "source": [
    "# Your code here..."
   ]
  },
  {
   "cell_type": "markdown",
   "id": "ee5fd9be-5ff9-405f-8da9-ff1f6a76291f",
   "metadata": {
    "tags": []
   },
   "source": [
    "# Part b) Understanding the workings of the Spark cluster\n",
    "\n",
    "For this exercise, you will need the SparkMonitor tab located at the top in JupyterLab. Use port 4040 and reload the page often using the \"Reload\" button at the top left. You will also need to go to the UCloud page for your spark cluster, and open the interface for one of your nodes. \n",
    "\n",
    "Helpful and recommended reading are found at the bottom of the assignment pdf. Furthermore the `A-Gentle-Introduction-to-Apache-Spark.pdf` is useful find it under todays lecture on LearnIT (page 11-30). Note that some questions require you to read on the spark documentation."
   ]
  },
  {
   "cell_type": "markdown",
   "id": "e0d72f88-2a5e-42a4-8a72-ea2fc6685bad",
   "metadata": {},
   "source": [
    "**Question 1)**"
   ]
  },
  {
   "cell_type": "markdown",
   "id": "4e0f4494-b8ee-48d6-aee3-066bf68e5be3",
   "metadata": {},
   "source": [
    "How many nodes (workers) does your cluster have?"
   ]
  },
  {
   "cell_type": "markdown",
   "id": "e04b8786-4854-4970-bcae-fa513489cd92",
   "metadata": {},
   "source": []
  },
  {
   "cell_type": "markdown",
   "id": "1042641d-8eef-4fb4-99eb-585de23d5836",
   "metadata": {},
   "source": [
    "**Question 2)**  "
   ]
  },
  {
   "cell_type": "markdown",
   "id": "320e17b4-afba-4045-9601-2266be23cf83",
   "metadata": {},
   "source": [
    "What is the relationship between a spark application, driver process and a spark session? What is the name of the variable for your spark session?"
   ]
  },
  {
   "cell_type": "markdown",
   "id": "5829a620-2dcd-43cf-9285-5074bbae0140",
   "metadata": {},
   "source": []
  },
  {
   "cell_type": "markdown",
   "id": "7af1984a-fcc3-4e47-84ab-dea28c0aad49",
   "metadata": {
    "execution": {
     "iopub.execute_input": "2023-09-19T08:50:29.671312Z",
     "iopub.status.busy": "2023-09-19T08:50:29.670544Z",
     "iopub.status.idle": "2023-09-19T08:50:29.679943Z",
     "shell.execute_reply": "2023-09-19T08:50:29.678142Z",
     "shell.execute_reply.started": "2023-09-19T08:50:29.671260Z"
    }
   },
   "source": [
    "**Question 3)**"
   ]
  },
  {
   "cell_type": "markdown",
   "id": "f5e84b73-d5e0-41fc-8f66-9b110f658145",
   "metadata": {},
   "source": [
    "What is the difference between a Spark Job, stage and task?"
   ]
  },
  {
   "cell_type": "markdown",
   "id": "c6c47f12-cdc1-46a9-9cd9-acdde0f0dbd5",
   "metadata": {},
   "source": []
  },
  {
   "cell_type": "markdown",
   "id": "797c89cf-9bf2-4d9a-bdd5-053df5177cbe",
   "metadata": {},
   "source": [
    "**Question 3a)**"
   ]
  },
  {
   "cell_type": "markdown",
   "id": "7917a7ab-0b09-481e-a9c9-dc52e1aff879",
   "metadata": {},
   "source": [
    "Try to execute a cell that takes a while to complete, such as sorting the counts from part A). Explore the SparkMonitor web UI click around and find the pages for the Stages. See if you can find the DAG Visualization and briefly explain how spark computes the answer of your word count (conceptually, in simple terms). "
   ]
  },
  {
   "cell_type": "markdown",
   "id": "69335bc7-08ab-40c0-8b99-b95ee76b9d0d",
   "metadata": {},
   "source": [
    "**Question 3b)**"
   ]
  },
  {
   "cell_type": "markdown",
   "id": "6d6ed089-3811-4c09-a010-c2d598bb4b3b",
   "metadata": {},
   "source": [
    "Again, try to execute a cell that takes a while to complete, such as sorting the counts from part A). Open the interface for node 1 under the UCloud SparkCluster job. Explore the different pages and find the same spark web UI as you can see in JupyterLab."
   ]
  },
  {
   "cell_type": "markdown",
   "id": "e29c37b0-05a2-4750-a267-c779df3be389",
   "metadata": {},
   "source": [
    "**Question 4)** (Optional)"
   ]
  },
  {
   "cell_type": "markdown",
   "id": "101b877d-5d85-43f0-988a-9fa44290fc96",
   "metadata": {},
   "source": [
    "What type of scheduling mode does your cluster use? What does the abbriviation mean? What is the impact of the scheduling mode for a cluster used by several users? (compared to just you using the cluster)."
   ]
  },
  {
   "cell_type": "markdown",
   "id": "f862af16-5af3-4e59-9ee0-9051b6854948",
   "metadata": {},
   "source": []
  },
  {
   "cell_type": "markdown",
   "id": "02defca8-d925-45ae-ad56-66fa98ad7813",
   "metadata": {},
   "source": [
    "**Question 5)** (Optional)"
   ]
  },
  {
   "cell_type": "markdown",
   "id": "e7da3884-31a5-45e3-bb7d-9013886d061b",
   "metadata": {},
   "source": [
    "What is lazy evaluation and how does it affect the time it takes to run your code cells?"
   ]
  },
  {
   "cell_type": "markdown",
   "id": "03634269-c03e-4cf4-930c-01e68a9f7a81",
   "metadata": {},
   "source": []
  }
 ],
 "metadata": {
  "hide_input": false,
  "kernelspec": {
   "display_name": "Python 3 ",
   "language": "python",
   "name": "python3"
  },
  "language_info": {
   "codemirror_mode": {
    "name": "ipython",
    "version": 3
   },
   "file_extension": ".py",
   "mimetype": "text/x-python",
   "name": "python",
   "nbconvert_exporter": "python",
   "pygments_lexer": "ipython3",
   "version": "3.10.6"
  },
  "toc": {
   "base_numbering": 1,
   "nav_menu": {
    "height": "134px",
    "width": "399px"
   },
   "number_sections": true,
   "sideBar": true,
   "skip_h1_title": false,
   "title_cell": "Table of Contents",
   "title_sidebar": "Contents",
   "toc_cell": false,
   "toc_position": {},
   "toc_section_display": true,
   "toc_window_display": false
  },
  "varInspector": {
   "cols": {
    "lenName": 16,
    "lenType": 16,
    "lenVar": 40
   },
   "kernels_config": {
    "python": {
     "delete_cmd_postfix": "",
     "delete_cmd_prefix": "del ",
     "library": "var_list.py",
     "varRefreshCmd": "print(var_dic_list())"
    },
    "r": {
     "delete_cmd_postfix": ") ",
     "delete_cmd_prefix": "rm(",
     "library": "var_list.r",
     "varRefreshCmd": "cat(var_dic_list()) "
    }
   },
   "types_to_exclude": [
    "module",
    "function",
    "builtin_function_or_method",
    "instance",
    "_Feature"
   ],
   "window_display": false
  }
 },
 "nbformat": 4,
 "nbformat_minor": 5
}

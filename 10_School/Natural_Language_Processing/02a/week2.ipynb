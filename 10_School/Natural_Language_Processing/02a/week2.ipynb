{
 "cells": [
  {
   "cell_type": "markdown",
   "metadata": {},
   "source": [
    "# Week 2 - NLP and Deep Learning\n",
    "\n",
    "---"
   ]
  },
  {
   "cell_type": "markdown",
   "metadata": {},
   "source": [
    "# Lecture 3: Annotation and POS tagging"
   ]
  },
  {
   "cell_type": "markdown",
   "metadata": {},
   "source": [
    "This assignment consists of 2 parts: first you annotate the data, then you compare your annotations against the annotations of another annotator. The annotation from the other annotator will be made available at 15:00 on 05-02-2024."
   ]
  },
  {
   "cell_type": "markdown",
   "metadata": {},
   "source": [
    "## 1. Annotation \n",
    "\n",
    "Find the file with your ITU username in `assignments/week2/pos-data/`. In this file, you will find 20\n",
    "sentences which are pre-tokenized and in conll format. Behind each word you are supposed to annotate the pos tag, with one tab in between. The final file should look like this:\n",
    "\n",
    "```\n",
    "Seriously\tADV\n",
    ":\tPUNCT\n",
    "do\tAUX\n",
    "not\tPART\n",
    "waste\tVERB\n",
    "your\tPRON\n",
    "time\tNOUN\n",
    ".\tPUNCT\n",
    "\n",
    "```\n",
    "\n",
    "You should use a tab between the word and its tag. Please check with the script posCheck.py\n",
    "whether the file format is correct. Usage: `python3 check-pos.py origFile annotatedFile`\n",
    "For annotation guidelines we refer to the slides and https://universaldependencies.org/u/pos/all.html. Alternatively, it might be helpful to look at example annotations, which are provided in:\n",
    "`assignments/week2/pos-data/ewt.train.txt`\n",
    "\n",
    "### Annotation tool\n",
    "If you prefer to work with an annotation tool instead of text files directly, you can use an annotation tool. You have to make sure to upload the data to LearnIt in the format described above though. I would recommend [Eevee](https://axelsorensen.github.io/EeveeTest/) because it is easy to set up and it works natively with this data format. An Eevee configuration file is available in the repo (`assignments/week2/eevee_pos.json`), and an explanation on how to use it is available from the [repo](https://github.com/AxelSorensenDev/Eevee). In short, you would have to import the configuration file with the ``Import task button``, and then import the POS data with the ``Import \"conll-like\" file`` button, then you can click ``Annotate`` and get started. The tool works completely in your browser, so make sure to download a backup of your data at a regular interval. Also, it has been made in collaboration with Rob, and any feedback is more than welcome. "
   ]
  },
  {
   "cell_type": "markdown",
   "metadata": {},
   "source": [
    "## 2. Annotation Quality\n",
    "If you finished before the annotations of the other annotator are released (15:00) you can double check your annotations, already start implementing the following questions (with a dummy file) or ask a TA for the file. \n",
    "\n",
    "* a) Calculate the accuracy between you and the other annotator, how often did you agree?\n",
    "* b) Now implement Cohen’s Kappa score, and calculate the Kappa for your annotation sample. In which range\n",
    "does your Kappa score fall?\n",
    "* c) Take a closer look at the cases where you disagreed with the other annotator; are these disagreements due\n",
    "to ambiguity, or are there mistakes in the annotation? Would you classify your agreement in the same category as it falls in the standard kappa interpretation?"
   ]
  },
  {
   "cell_type": "code",
   "execution_count": 1,
   "metadata": {},
   "outputs": [],
   "source": [
    "# jhou.conll is self-annotated data\n",
    "self_data = []\n",
    "with open(\"pos-data/jhou.conll\") as f:\n",
    "    for line in f:\n",
    "        # Split line into tokens and POS tag, and ignore lines that are empty or not annotations\n",
    "        if line.strip():\n",
    "            parts = line.strip().split()\n",
    "            if len(parts) > 1:  # Ensure the line has enough parts to be considered an annotation\n",
    "                self_data.append((parts[0], parts[1]))  # Token and its POS tag\n",
    "\n",
    "# jhou.19.other.conll is ground-truth data\n",
    "gold_data = []\n",
    "with open(\"pos-data/jhou.19.other.conll\") as f:\n",
    "    for line in f:\n",
    "        # Split line into tokens and POS tag, and ignore lines that are empty or not annotations\n",
    "        if line.strip():\n",
    "            parts = line.strip().split()\n",
    "            if len(parts) > 1:  # Ensure the line has enough parts to be considered an annotation\n",
    "                gold_data.append((parts[0], parts[1]))  # Token and its POS tag"
   ]
  },
  {
   "cell_type": "code",
   "execution_count": 2,
   "metadata": {},
   "outputs": [
    {
     "data": {
      "text/plain": [
       "([('you', 'PROPN'),\n",
       "  ('mean', 'VERB'),\n",
       "  ('miramar', 'PROPN'),\n",
       "  ('florida', 'PROPN'),\n",
       "  ('theyy', 'PRON')],\n",
       " [('you', 'PRON'),\n",
       "  ('mean', 'VERB'),\n",
       "  ('miramar', 'PROPN'),\n",
       "  ('florida', 'PROPN'),\n",
       "  ('theyy', 'PRON')])"
      ]
     },
     "execution_count": 2,
     "metadata": {},
     "output_type": "execute_result"
    }
   ],
   "source": [
    "self_data[:5], gold_data[:5]  # Display the first 5 annotations from each dataset"
   ]
  },
  {
   "cell_type": "code",
   "execution_count": 3,
   "metadata": {},
   "outputs": [
    {
     "name": "stdout",
     "output_type": "stream",
     "text": [
      "Accuracy: 94.38%\n",
      "Matches: 168\n",
      "Total: 178\n"
     ]
    }
   ],
   "source": [
    "# a) Calculate the accuracy between self and the ground-truth annotator, how often did you agree?\n",
    "\n",
    "# Calculate accuracy\n",
    "matches = sum(1 for self, gold in zip(self_data, gold_data) if self == gold)\n",
    "total = len(gold_data)  # Assuming gold_data is the ground-truth\n",
    "\n",
    "accuracy = matches / total if total > 0 else 0\n",
    "\n",
    "print(f\"Accuracy: {accuracy:.2%}\")\n",
    "print(f\"Matches: {matches}\")\n",
    "print(f\"Total: {total}\")"
   ]
  },
  {
   "cell_type": "code",
   "execution_count": 4,
   "metadata": {},
   "outputs": [
    {
     "name": "stderr",
     "output_type": "stream",
     "text": [
      "c:\\Users\\jackh\\AppData\\Local\\Programs\\Python\\Python310\\lib\\site-packages\\numpy\\_distributor_init.py:30: UserWarning: loaded more than 1 DLL from .libs:\n",
      "c:\\Users\\jackh\\AppData\\Local\\Programs\\Python\\Python310\\lib\\site-packages\\numpy\\.libs\\libopenblas.FB5AE2TYXYH2IJRDKGDGQ3XBKLKTF43H.gfortran-win_amd64.dll\n",
      "c:\\Users\\jackh\\AppData\\Local\\Programs\\Python\\Python310\\lib\\site-packages\\numpy\\.libs\\libopenblas64__v0.3.23-246-g3d31191b-gcc_10_3_0.dll\n",
      "  warnings.warn(\"loaded more than 1 DLL from .libs:\"\n"
     ]
    },
    {
     "data": {
      "text/plain": [
       "0.9370179038992287"
      ]
     },
     "execution_count": 4,
     "metadata": {},
     "output_type": "execute_result"
    }
   ],
   "source": [
    "# b) Now implement Cohen’s Kappa score, and calculate the Kappa for your annotation sample. In which range does your Kappa score fall?\n",
    "from sklearn.metrics import cohen_kappa_score\n",
    "\n",
    "# Extract only the POS tags for comparison\n",
    "self_tags = [tag for _, tag in self_data]\n",
    "gold_tags = [tag for _, tag in gold_data]\n",
    "\n",
    "# Calculate Cohen's Kappa score\n",
    "kappa_score = cohen_kappa_score(self_tags, gold_tags)\n",
    "kappa_score"
   ]
  },
  {
   "cell_type": "code",
   "execution_count": 5,
   "metadata": {},
   "outputs": [
    {
     "data": {
      "text/plain": [
       "[('you', 'PROPN', 'PRON'),\n",
       " ('I', 'PROPN', 'PRON'),\n",
       " ('There', 'ADV', 'PRON'),\n",
       " ('are', 'AUX', 'VERB'),\n",
       " ('cos', 'CCONJ', 'SCONJ'),\n",
       " ('to', 'PART', 'ADP'),\n",
       " ('HORSE', 'NOUN', 'PROPN'),\n",
       " ('horse', 'NOUN', 'PROPN'),\n",
       " ('starting', 'VERB', 'NOUN'),\n",
       " ('National', 'PROPN', 'ADJ')]"
      ]
     },
     "execution_count": 5,
     "metadata": {},
     "output_type": "execute_result"
    }
   ],
   "source": [
    "# Identify the cases where there was a disagreement between the self and ground-truth annotations\n",
    "\n",
    "disagreements = [(self_token, self_tag, gold_tag) for (self_token, self_tag), (_, gold_tag) in zip(self_data, gold_data) if self_tag != gold_tag]\n",
    "\n",
    "disagreements"
   ]
  },
  {
   "cell_type": "markdown",
   "metadata": {},
   "source": [
    "Upon examining the cases of disagreement between my annotations and the ground-truth data, I find the following discrepancies:\n",
    "\n",
    "1. \"you\" annotated as `PROPN` (proper noun) vs. `PRON` (pronoun)\n",
    "2. \"I\" annotated as `PROPN` vs. `PRON`\n",
    "3. \"There\" annotated as `ADV` (adverb) vs. `PRON`\n",
    "4. \"are\" annotated as `AUX` (auxiliary verb) vs. `VERB`\n",
    "5. \"cos\" annotated as `CCONJ` (coordinating conjunction) vs. `SCONJ` (subordinating conjunction)\n",
    "6. \"to\" annotated as `PART` (particle) vs. `ADP` (adposition)\n",
    "7. \"HORSE\" annotated as `NOUN` vs. `PROPN`\n",
    "8. \"horse\" annotated as `NOUN` vs. `PROPN`\n",
    "9. \"starting\" annotated as `VERB` vs. `NOUN`\n",
    "10. \"National\" annotated as `PROPN` vs. `ADJ` (adjective)\n",
    "\n",
    "These disagreements could be due to several factors:\n",
    "\n",
    "- **Ambiguity in Linguistic Usage:** Words like \"you\", \"I\", and \"There\" can have different interpretations based on context, leading to ambiguity in categorizing them strictly as either proper nouns or pronouns, and adverbs or pronouns, respectively.\n",
    "- **Differences in Interpretation:** The classification of words like \"are\" (as `AUX` or `VERB`), \"cos\" (as `CCONJ` or `SCONJ`), \"to\" (as `PART` or `ADP`), and \"starting\" (as `VERB` or `NOUN`) can depend on the annotator's interpretation of the grammatical structure they are part of.\n",
    "- **Mistakes in Annotation:** It's possible that either the self-annotation or the ground-truth data contains errors.\n",
    "\n",
    "Given the Cohen's Kappa score of approximately 0.937, indicating \"almost perfect agreement,\" it's clear that these disagreements are relatively minor compared to the overall dataset. However, examining these disagreements in detail reveals that both ambiguity and possible mistakes in annotation are present. Depending on the context of these words in sentences, some disagreements could be justified, suggesting that while the Kappa score is high, careful review and consensus on guidelines could potentially resolve these ambiguities and improve annotation consistency further.\n",
    "\n",
    "Would I classify our agreement in the same category as the standard Kappa interpretation? Given the types of disagreements observed, the high Kappa score seems justified as it indicates a high level of agreement despite these nuanced discrepancies. However, this assessment underscores the importance of context and clear annotation guidelines in achieving consistent linguistic annotations."
   ]
  },
  {
   "cell_type": "markdown",
   "metadata": {},
   "source": [
    "# Lecture 4: Generative and Discriminative Classification"
   ]
  },
  {
   "cell_type": "markdown",
   "metadata": {},
   "source": [
    "## 3. Words as Features\n",
    "In this assignment, we will convert a text to a matrix of features for the purpose of language identification. We will use data from star-wars fandom wikipedia:\n",
    "* English [Wookipedia](https://starwars.fandom.com/wiki/Main_Page)  \n",
    "* Danish [Kraftens Arkiver](https://starwars.fandom.com/da/wiki) \n",
    "* Dutch [Yodapedia](https://starwars.fandom.com/da/wiki)\n",
    "\n",
    "We have already tokenized the data for you. The data can be read like this:"
   ]
  },
  {
   "cell_type": "code",
   "execution_count": 6,
   "metadata": {},
   "outputs": [],
   "source": [
    "def load_langid(path):\n",
    "    text = []\n",
    "    labels = []\n",
    "    for line in open(path, encoding='utf-8'):\n",
    "        tok = line.strip().split('\\t')\n",
    "        labels.append(tok[0])\n",
    "        text.append(tok[1])\n",
    "    return text, labels\n",
    "\n",
    "wooki_train_text, wooki_train_labels = load_langid('langid-data/wookipedia_langid.train.tok.txt')\n",
    "wooki_dev_text, wooki_dev_labels = load_langid('langid-data/wookipedia_langid.dev.tok.txt')"
   ]
  },
  {
   "cell_type": "code",
   "execution_count": 7,
   "metadata": {},
   "outputs": [
    {
     "data": {
      "text/plain": [
       "(['He even went so far as to suggest that , since they had been standing there for some time and the plague had not affected them , this plague was really a warning from the dark side .',\n",
       "  'De Ewok Catapult was een projectielwapen dat de Ewoks gebruikten .',\n",
       "  'Revenge of the Sith',\n",
       "  \"Under Slaget om Hoth bestod eskadrillen af 11 piloter , men tog nogle 'gæster ' med i deres eskadrille såsom smugleren Dash Rendar , for at få skytter nok til at bemande deres Snowspeedere .\",\n",
       "  \"He , along with the rest of Storm Squad , fell in battle while unsuccessfully defending the `` Dorin 's Sky '' from Imperial boarders .\"],\n",
       " ['en', 'nl', 'nl', 'da', 'en'])"
      ]
     },
     "execution_count": 7,
     "metadata": {},
     "output_type": "execute_result"
    }
   ],
   "source": [
    "# first 5 examples\n",
    "wooki_train_text[:5], wooki_train_labels[:5]"
   ]
  },
  {
   "cell_type": "markdown",
   "metadata": {},
   "source": [
    "a) Convert the train data to \"binary word features\". This means that every instance (sentence) is represented by a vector of binary values, each of which corresponds to a word. For example (features are on the columns, input on the rows):\n",
    "\n",
    "|             | hello | bye | there | here | ... |\n",
    "|-------------|-------|-----|-------|------|-----|\n",
    "| hello there | 1     | 0   | 1     | 0    |     |\n",
    "| bye bye     | 0     | 1   | 0     | 0    |     |\n",
    "\n",
    "\n",
    "Note that this means that you will end up with a matrix of size `(#data_instances, len(vocab))` where `vocab` contains your vocabulary (i.e. all the words in the train data), and the `#data_instances` is the number of input sentences (feel free to use numpy, torch or native python lists). This matrix will be filled with 0's and 1's, indicating which features are present in which instances.\n",
    "\n",
    "**Hint**: Start with two sentences, as it is much easier to debug (and with 1 sentence, you will have only 1s)"
   ]
  },
  {
   "cell_type": "code",
   "execution_count": 8,
   "metadata": {},
   "outputs": [
    {
     "name": "stdout",
     "output_type": "stream",
     "text": [
      "torch.Size([2, 43])\n"
     ]
    }
   ],
   "source": [
    "import torch\n",
    "\n",
    "def build_vocab(texts):\n",
    "    \"\"\"Build vocabulary from a list of texts.\"\"\"\n",
    "    vocab = set()\n",
    "    for text in texts:\n",
    "        words = text.split()  # Split text into words\n",
    "        vocab.update(words)\n",
    "    return {word: i for i, word in enumerate(sorted(list(vocab)))}  # Map word to its index in sorted list\n",
    "\n",
    "def text_to_binary_features(texts, vocab):\n",
    "    \"\"\"Convert texts to binary feature representation in PyTorch.\"\"\"\n",
    "    features = torch.zeros((len(texts), len(vocab)), dtype=torch.float32)  # Initialize feature matrix with zeros\n",
    "    for i, text in enumerate(texts):\n",
    "        words = set(text.split())  # Convert text to a set of unique words\n",
    "        for word in words:\n",
    "            if word in vocab:\n",
    "                features[i, vocab[word]] = 1.0  # Set feature to 1 if word is present\n",
    "    return features\n",
    "\n",
    "# Example usage\n",
    "texts = [\n",
    "    \"He even went so far as to suggest that , since they had been standing there for some time and the plague had not affected them , this plague was really a warning from the dark side .\",\n",
    "    \"De Ewok Catapult was een projectielwapen dat de Ewoks gebruikten .\"\n",
    "]\n",
    "\n",
    "# Build vocabulary from the train texts\n",
    "vocab = build_vocab(texts)\n",
    "\n",
    "# Convert texts to binary features using PyTorch\n",
    "binary_features = text_to_binary_features(texts, vocab)\n",
    "\n",
    "# Print the shape of the binary features tensor to confirm its size\n",
    "print(binary_features.shape)"
   ]
  },
  {
   "cell_type": "code",
   "execution_count": 9,
   "metadata": {},
   "outputs": [
    {
     "name": "stdout",
     "output_type": "stream",
     "text": [
      "torch.Size([15000, 37816])\n"
     ]
    }
   ],
   "source": [
    "train_vocab = build_vocab(wooki_train_text)\n",
    "train_binary_features = text_to_binary_features(wooki_train_text, train_vocab)\n",
    "print(train_binary_features.shape)"
   ]
  },
  {
   "cell_type": "markdown",
   "metadata": {},
   "source": [
    "b) Convert the dev data to the same features generated from the training data. Note that no new features can be introduced at this point, check whether the size of the matrix is `(#dev_instances, len(vocab))`."
   ]
  },
  {
   "cell_type": "code",
   "execution_count": 10,
   "metadata": {},
   "outputs": [
    {
     "name": "stdout",
     "output_type": "stream",
     "text": [
      "torch.Size([3000, 37816])\n"
     ]
    }
   ],
   "source": [
    "# Use the training vocabulary to convert dev texts to binary features\n",
    "dev_binary_features = text_to_binary_features(wooki_dev_text, train_vocab)\n",
    "\n",
    "# Print the shape of the binary features tensor for the dev data to confirm its size\n",
    "print(dev_binary_features.shape)"
   ]
  },
  {
   "cell_type": "markdown",
   "metadata": {},
   "source": [
    "c) Write down what are the pros and cons of representing text as `BOW` (bag-of-words)"
   ]
  },
  {
   "cell_type": "markdown",
   "metadata": {},
   "source": [
    "### c) Pros and Cons of BOW Representation\n",
    "\n",
    "The Bag-of-Words (BOW) model is a text representation technique. In BOW, a text (such as a sentence) is represented as an unordered collection of words, disregarding grammar and even word order but keeping multiplicity.\n",
    "\n",
    "### Pros\n",
    "\n",
    "1. **Simplicity:** BOW is straightforward to understand and implement.\n",
    "2. **Scalability:** BOW models can easily handle large datasets and vocabularies, making them suitable for tasks like document classification and spam detection.\n",
    "3. **Effectiveness:** Despite its simplicity, BOW can be effective at capturing the frequency of words in documents, which can be very informative for tasks like topic modeling and sentiment analysis.\n",
    "\n",
    "### Cons\n",
    "1. **Loss of Context:** BOW models ignore the order of words, resulting in a loss of context, which can lead to misunderstanding the meaning of sentences (e.g., \"dog bites man\" vs. \"man bites dog\").\n",
    "2. **Ignoring Semantics:** BOW does not capture the semantics of words; synonyms are treated as different words unless specifically merged, and it doesn't account for polysemy (words with multiple meanings).\n",
    "3. **Sparsity:** The resulting feature vectors are often sparse (mostly zeros), which can be inefficient for computation and require more memory for larger vocabularies.\n",
    "4. **High Dimensionality:** The dimensionality of the feature vectors can become very high with a large vocabulary, leading to the \"curse of dimensionality,\" which can degrade the performance of machine learning models.\n",
    "5. **Word Order and Grammar:** Important aspects of language such as syntax and grammar are ignored, which can be crucial for understanding the meaning of texts.\n",
    "6. **Document Length Bias:** BOW features can be biased by document length since longer documents might have higher word counts overall, affecting the performance of some models if not normalized."
   ]
  },
  {
   "cell_type": "markdown",
   "metadata": {},
   "source": [
    "## 4. Character n-grams\n",
    "Character n-grams can have some advantages over word-level features, as there can be more overlap and less unknown features. It is common to use a range of n-gram sizes, for example 3-6 is a common choice. Convert the following text to character n-grams, use a range of 1-3 (so unigrams, bigrams and trigrams). You do not have to make use of special start characters:"
   ]
  },
  {
   "cell_type": "code",
   "execution_count": 11,
   "metadata": {},
   "outputs": [],
   "source": [
    "input_data = 'This is a fish'\n",
    "\n",
    "ngrams = []\n",
    "\n",
    "expected_output = ['T', 'h', 'i', 's', ' ', 'i', 's', ' ', 'a', ' ', 'f', 'i', 's', 'h', 'Th', 'hi', 'is', 's ', ' i', 'is', 's ', ' a', 'a ', ' f', 'fi', 'is', 'sh', 'Thi', 'his', 'is ', 's i', ' is', 'is ', 's a', ' a ', 'a f', ' fi', 'fis', 'ish']"
   ]
  },
  {
   "cell_type": "code",
   "execution_count": 12,
   "metadata": {},
   "outputs": [
    {
     "name": "stdout",
     "output_type": "stream",
     "text": [
      "True\n"
     ]
    }
   ],
   "source": [
    "# Unigrams\n",
    "for char in input_data:\n",
    "  ngrams.append(char)\n",
    "# Bigrams\n",
    "for i in range(len(input_data)-1):\n",
    "  ngrams.append(input_data[i:i+2])\n",
    "# Trigrams\n",
    "for i in range(len(input_data)-2):\n",
    "  ngrams.append(input_data[i:i+3])\n",
    "\n",
    "print(ngrams == expected_output)"
   ]
  },
  {
   "cell_type": "markdown",
   "metadata": {},
   "source": [
    "## 5. Naive Bayes Classifier\n",
    "\n",
    "Solve the following exercises from [Chapter 4 of Speech and Language processing](https://web.stanford.edu/~jurafsky/slp3/4.pdf):\n",
    "\n",
    "a) Exercise 4.1 from J&M: (copied here for your convenience):\n",
    "\n",
    "Assume the following likelihoods for each word being part of a positive or negative movie review, and equal prior probabilities for each class.\n",
    "\n",
    "| feature         | pos | neg     |\n",
    "| :---        |    :----:   |          ---: |\n",
    "| I      |  0.09      |  0.16  |\n",
    "| always   | 0.07        | 0.06      |\n",
    "| like      | 0.29       | 0.06   |\n",
    "| foreign      | 0.04       | 0.15   |\n",
    "| films      |  0.08      | 0.11   |\n",
    "\n",
    "- What class will Naive Bayes assign to the sentence `“I always like foreign films.”`?"
   ]
  },
  {
   "cell_type": "markdown",
   "metadata": {},
   "source": [
    "### a) Solution\n",
    "\n",
    "To determine the class Naive Bayes would assign to the sentence \"I always like foreign films,\" we need to calculate the `posterior probabilities` for both classes (positive and negative) for the given sentence. The Naive Bayes classifier assumes that the features (in this case, words) are `independent` given the class. Given this assumption, we can calculate the probability of the sentence being in a class by multiplying the probabilities of the individual words given the class and then multiplying by the `prior probability` of the class. Since the question states equal prior probabilities for each class, we can ignore the priors because they would cancel out in comparison.\n",
    "\n",
    "The formula for the posterior probability of a class given a sentence is as follows, assuming class $C$ (positive or negative) and words $w_1, w_2, ..., w_n$ in the sentence:\n",
    "\n",
    "$P(C | w_1, w_2, ..., w_n) \\propto P(w_1 | C) \\times P(w_2 | C) \\times ... \\times P(w_n | C) \\times P(C)$\n",
    "\n",
    "Given the equal priors, we simplify to:\n",
    "\n",
    "$P(C | w_1, w_2, ..., w_n) \\propto P(w_1 | C) \\times P(w_2 | C) \\times ... \\times P(w_n | C)$\n",
    "\n",
    "Calculate the probabilities for both classes for the sentence \"I always like foreign films\":\n",
    "\n",
    "- For positive class (\\(pos\\)):\n",
    "  - $P(\\text{\"I\"} | pos) = 0.09$\n",
    "  - $P(\\text{\"always\"} | pos) = 0.07$\n",
    "  - $P(\\text{\"like\"} | pos) = 0.29$\n",
    "  - $P(\\text{\"foreign\"} | pos) = 0.04$\n",
    "  - $P(\\text{\"films\"} | pos) = 0.08$\n",
    "\n",
    "- For negative class (\\(neg\\)):\n",
    "  - $P(\\text{\"I\"} | neg) = 0.16$\n",
    "  - $P(\\text{\"always\"} | neg) = 0.06$\n",
    "  - $P(\\text{\"like\"} | neg) = 0.06$\n",
    "  - $P(\\text{\"foreign\"} | neg) = 0.15$\n",
    "  - $P(\\text{\"films\"} | neg) = 0.11$\n",
    "\n",
    "Compute the product of these probabilities for each class to determine which class has the higher posterior probability for the sentence.\n",
    "\n",
    "The calculated product of probabilities for the sentence \"I always like foreign films\" is (see code below):\n",
    "\n",
    "- For the positive class: $5.8464 \\times 10^{-6}$\n",
    "- For the negative class: $9.504 \\times 10^{-6}$\n",
    "\n",
    "Since the product of probabilities for the negative class is higher than that for the positive class, Naive Bayes would assign the sentence \"I always like foreign films\" to the **negative** class."
   ]
  },
  {
   "cell_type": "code",
   "execution_count": 13,
   "metadata": {},
   "outputs": [
    {
     "data": {
      "text/plain": [
       "(5.8464e-06, 9.503999999999999e-06)"
      ]
     },
     "execution_count": 13,
     "metadata": {},
     "output_type": "execute_result"
    }
   ],
   "source": [
    "# Probabilities for each word given the class\n",
    "probabilities_pos = [0.09, 0.07, 0.29, 0.04, 0.08]\n",
    "probabilities_neg = [0.16, 0.06, 0.06, 0.15, 0.11]\n",
    "\n",
    "# Calculate the product of probabilities for each class\n",
    "prob_product_pos = 1\n",
    "prob_product_neg = 1\n",
    "\n",
    "for p_pos, p_neg in zip(probabilities_pos, probabilities_neg):\n",
    "    prob_product_pos *= p_pos\n",
    "    prob_product_neg *= p_neg\n",
    "\n",
    "prob_product_pos, prob_product_neg"
   ]
  },
  {
   "cell_type": "markdown",
   "metadata": {},
   "source": [
    "b) Exercise 4.2 from J&M (copied here for your convenience):\n",
    "\n",
    "Given the following short movie reviews, each labeled with a genre, either comedy or action:\n",
    "\n",
    "1. fun, couple, love, love **comedy**\n",
    "\n",
    "2. fast, furious, shoot **action**\n",
    "\n",
    "3. couple, fly, fast, fun, fun **comedy**\n",
    "\n",
    "4. furious, shoot, shoot, fun **action**\n",
    "\n",
    "5. fly, fast, shoot, love **action**\n",
    "\n",
    "and a new document D:\n",
    "\n",
    "```\n",
    "fast, couple, shoot, fly\n",
    "```\n",
    "\n",
    "- Compute the most likely class for D. Assume a Naive Bayes classifier and use *add-1 smoothing* for the likelihoods."
   ]
  },
  {
   "cell_type": "markdown",
   "metadata": {},
   "source": [
    "### b) Solution\n",
    "\n",
    "To compute the most likely class for the new document $D$ (\"fast, couple, shoot, fly\") using a Naive Bayes classifier with add-1 smoothing, we first need to calculate the `prior probabilities` of each class (comedy and action), the vocabulary size, and then compute the likelihoods of each word given the class with add-1 smoothing.\n",
    "\n",
    "**Step 1: Calculate Prior Probabilities**\n",
    "- Prior probability of comedy: $P(\\text{comedy})$\n",
    "- Prior probability of action: $P(\\text{action})$\n",
    "\n",
    "**Step 2: Calculate Vocabulary Size**\n",
    "The vocabulary size is the total number of unique words across all reviews.\n",
    "\n",
    "**Step 3: Compute Likelihoods with Add-1 Smoothing**\n",
    "The likelihood of a word given a class is calculated as:\n",
    "\n",
    "$P(word|class) = \\frac{count(word, class) + 1}{\\sum_{word'}(count(word', class) + 1)}$\n",
    "\n",
    "where $\\sum_{word'}$ is the sum over all words in the vocabulary.\n",
    "\n",
    "**Step 4: Compute Posterior for Each Class for Document $D$**\n",
    "The `posterior probability` for $D$ given a class is proportional to the product of the likelihoods of its words given the class, multiplied by the class's prior probability.\n",
    "\n",
    "Based on the calculations:\n",
    "\n",
    "- The prior probability of comedy is $\\frac{2}{5}=0.4$ and of action is $\\frac{3}{5}=0.6$.\n",
    "- The vocabulary size, representing the total number of unique words across all reviews, is $7$.\n",
    "\n",
    "For the new document $D$ (\"fast, couple, shoot, fly\"), the posterior probabilities, after applying add-1 smoothing (see code below):\n",
    "\n",
    "- For comedy: $7.324 \\times 10^{-5}$\n",
    "- For action: $1.715 \\times 10^{-4}$\n",
    "\n",
    "Given these posterior probabilities, the Naive Bayes classifier would classify the new document $D$ as belonging to the **action** genre, as it has the higher posterior probability."
   ]
  },
  {
   "cell_type": "code",
   "execution_count": 14,
   "metadata": {},
   "outputs": [
    {
     "data": {
      "text/plain": [
       "({'comedy': 0.4, 'action': 0.6},\n",
       " 7,\n",
       " defaultdict(float,\n",
       "             {'comedy': 7.324218750000001e-05,\n",
       "              'action': 0.00017146776406035664}))"
      ]
     },
     "execution_count": 14,
     "metadata": {},
     "output_type": "execute_result"
    }
   ],
   "source": [
    "from collections import defaultdict\n",
    "\n",
    "# Reviews by genre\n",
    "reviews = {\n",
    "    \"comedy\": [\n",
    "        [\"fun\", \"couple\", \"love\", \"love\"],\n",
    "        [\"couple\", \"fly\", \"fast\", \"fun\", \"fun\"]\n",
    "    ],\n",
    "    \"action\": [\n",
    "        [\"fast\", \"furious\", \"shoot\"],\n",
    "        [\"furious\", \"shoot\", \"shoot\", \"fun\"],\n",
    "        [\"fly\", \"fast\", \"shoot\", \"love\"]\n",
    "    ]\n",
    "}\n",
    "\n",
    "# Document D words\n",
    "document_d = [\"fast\", \"couple\", \"shoot\", \"fly\"]\n",
    "\n",
    "# Step 1: Calculate the total number of documents and prior probabilities\n",
    "total_docs = sum(len(docs) for docs in reviews.values())\n",
    "prior_probs = {genre: len(docs) / total_docs for genre, docs in reviews.items()}\n",
    "\n",
    "# Step 2: Calculate vocabulary size\n",
    "vocab = set(word for docs in reviews.values() for doc in docs for word in doc)\n",
    "\n",
    "# Count words in each class\n",
    "word_counts = {genre: defaultdict(int) for genre in reviews}\n",
    "total_words_in_class = defaultdict(int)\n",
    "for genre, docs in reviews.items():\n",
    "    for doc in docs:\n",
    "        for word in doc:\n",
    "            word_counts[genre][word] += 1\n",
    "            total_words_in_class[genre] += 1\n",
    "\n",
    "vocab_size = len(vocab)\n",
    "\n",
    "# Step 3: Compute likelihoods with add-1 smoothing\n",
    "likelihoods = {\n",
    "    genre: {word: (word_counts[genre][word] + 1) / (total_words_in_class[genre] + vocab_size) for word in vocab}\n",
    "    for genre in reviews\n",
    "}\n",
    "\n",
    "# Step 4: Compute posterior for each class for document D\n",
    "posterior_probs = defaultdict(float)\n",
    "for genre in reviews:\n",
    "    posterior_probs[genre] = prior_probs[genre]\n",
    "    for word in document_d:\n",
    "        posterior_probs[genre] *= likelihoods[genre][word]\n",
    "\n",
    "prior_probs, vocab_size, posterior_probs\n"
   ]
  },
  {
   "cell_type": "markdown",
   "metadata": {},
   "source": [
    "## 6. Naive Bayes with BOW in sklearn \n",
    "\n",
    "In this assignment, we will focus on the task of language identification. You can use the data from assignment 3:"
   ]
  },
  {
   "cell_type": "code",
   "execution_count": 15,
   "metadata": {},
   "outputs": [],
   "source": [
    "def load_langid(path):\n",
    "    text = []\n",
    "    labels = []\n",
    "    for line in open(path, encoding='utf-8'):\n",
    "        tok = line.strip().split('\\t')\n",
    "        labels.append(tok[0])\n",
    "        text.append(tok[1])\n",
    "    return text, labels\n",
    "\n",
    "wooki_train_text, wooki_train_labels = load_langid('langid-data/wookipedia_langid.train.tok.txt')\n",
    "wooki_dev_text, wooki_dev_labels = load_langid('langid-data/wookipedia_langid.dev.tok.txt')"
   ]
  },
  {
   "cell_type": "code",
   "execution_count": 16,
   "metadata": {},
   "outputs": [
    {
     "data": {
      "text/plain": [
       "(['He even went so far as to suggest that , since they had been standing there for some time and the plague had not affected them , this plague was really a warning from the dark side .',\n",
       "  'De Ewok Catapult was een projectielwapen dat de Ewoks gebruikten .',\n",
       "  'Revenge of the Sith',\n",
       "  \"Under Slaget om Hoth bestod eskadrillen af 11 piloter , men tog nogle 'gæster ' med i deres eskadrille såsom smugleren Dash Rendar , for at få skytter nok til at bemande deres Snowspeedere .\",\n",
       "  \"He , along with the rest of Storm Squad , fell in battle while unsuccessfully defending the `` Dorin 's Sky '' from Imperial boarders .\"],\n",
       " ['en', 'nl', 'nl', 'da', 'en'])"
      ]
     },
     "execution_count": 16,
     "metadata": {},
     "output_type": "execute_result"
    }
   ],
   "source": [
    "# first 5 examples\n",
    "wooki_train_text[:5], wooki_train_labels[:5]"
   ]
  },
  {
   "cell_type": "markdown",
   "metadata": {},
   "source": [
    "a) Train a Naive Bayes classifier with character 3-6 grams, you can make use of the scikit-learn implementations for the n-grams ([CountVectorizer](https://scikit-learn.org/stable/modules/generated/sklearn.feature_extraction.text.CountVectorizer.html), you can use the range and analyser parameters) as well as Naive Bayes ([MultinomialNB](https://scikit-learn.org/stable/modules/generated/sklearn.naive_bayes.MultinomialNB.html#sklearn.naive_bayes.MultinomialNB)), note that there are multiple variations of Naive Bayes implementations in sklearn, the one discussed in the book/slides is the multinomial variant. \n",
    "\n",
    "**Note**: the input is a list of lists of features `x` and a list of corresponding gold labels `y`. Therefore, the following should hold `len(x) == len(y)` and their indices should match.\n",
    "Additionally, every instance in `x` should have the same length (the number of features)."
   ]
  },
  {
   "cell_type": "code",
   "execution_count": 17,
   "metadata": {},
   "outputs": [
    {
     "data": {
      "text/html": [
       "<style>#sk-container-id-1 {color: black;background-color: white;}#sk-container-id-1 pre{padding: 0;}#sk-container-id-1 div.sk-toggleable {background-color: white;}#sk-container-id-1 label.sk-toggleable__label {cursor: pointer;display: block;width: 100%;margin-bottom: 0;padding: 0.3em;box-sizing: border-box;text-align: center;}#sk-container-id-1 label.sk-toggleable__label-arrow:before {content: \"▸\";float: left;margin-right: 0.25em;color: #696969;}#sk-container-id-1 label.sk-toggleable__label-arrow:hover:before {color: black;}#sk-container-id-1 div.sk-estimator:hover label.sk-toggleable__label-arrow:before {color: black;}#sk-container-id-1 div.sk-toggleable__content {max-height: 0;max-width: 0;overflow: hidden;text-align: left;background-color: #f0f8ff;}#sk-container-id-1 div.sk-toggleable__content pre {margin: 0.2em;color: black;border-radius: 0.25em;background-color: #f0f8ff;}#sk-container-id-1 input.sk-toggleable__control:checked~div.sk-toggleable__content {max-height: 200px;max-width: 100%;overflow: auto;}#sk-container-id-1 input.sk-toggleable__control:checked~label.sk-toggleable__label-arrow:before {content: \"▾\";}#sk-container-id-1 div.sk-estimator input.sk-toggleable__control:checked~label.sk-toggleable__label {background-color: #d4ebff;}#sk-container-id-1 div.sk-label input.sk-toggleable__control:checked~label.sk-toggleable__label {background-color: #d4ebff;}#sk-container-id-1 input.sk-hidden--visually {border: 0;clip: rect(1px 1px 1px 1px);clip: rect(1px, 1px, 1px, 1px);height: 1px;margin: -1px;overflow: hidden;padding: 0;position: absolute;width: 1px;}#sk-container-id-1 div.sk-estimator {font-family: monospace;background-color: #f0f8ff;border: 1px dotted black;border-radius: 0.25em;box-sizing: border-box;margin-bottom: 0.5em;}#sk-container-id-1 div.sk-estimator:hover {background-color: #d4ebff;}#sk-container-id-1 div.sk-parallel-item::after {content: \"\";width: 100%;border-bottom: 1px solid gray;flex-grow: 1;}#sk-container-id-1 div.sk-label:hover label.sk-toggleable__label {background-color: #d4ebff;}#sk-container-id-1 div.sk-serial::before {content: \"\";position: absolute;border-left: 1px solid gray;box-sizing: border-box;top: 0;bottom: 0;left: 50%;z-index: 0;}#sk-container-id-1 div.sk-serial {display: flex;flex-direction: column;align-items: center;background-color: white;padding-right: 0.2em;padding-left: 0.2em;position: relative;}#sk-container-id-1 div.sk-item {position: relative;z-index: 1;}#sk-container-id-1 div.sk-parallel {display: flex;align-items: stretch;justify-content: center;background-color: white;position: relative;}#sk-container-id-1 div.sk-item::before, #sk-container-id-1 div.sk-parallel-item::before {content: \"\";position: absolute;border-left: 1px solid gray;box-sizing: border-box;top: 0;bottom: 0;left: 50%;z-index: -1;}#sk-container-id-1 div.sk-parallel-item {display: flex;flex-direction: column;z-index: 1;position: relative;background-color: white;}#sk-container-id-1 div.sk-parallel-item:first-child::after {align-self: flex-end;width: 50%;}#sk-container-id-1 div.sk-parallel-item:last-child::after {align-self: flex-start;width: 50%;}#sk-container-id-1 div.sk-parallel-item:only-child::after {width: 0;}#sk-container-id-1 div.sk-dashed-wrapped {border: 1px dashed gray;margin: 0 0.4em 0.5em 0.4em;box-sizing: border-box;padding-bottom: 0.4em;background-color: white;}#sk-container-id-1 div.sk-label label {font-family: monospace;font-weight: bold;display: inline-block;line-height: 1.2em;}#sk-container-id-1 div.sk-label-container {text-align: center;}#sk-container-id-1 div.sk-container {/* jupyter's `normalize.less` sets `[hidden] { display: none; }` but bootstrap.min.css set `[hidden] { display: none !important; }` so we also need the `!important` here to be able to override the default hidden behavior on the sphinx rendered scikit-learn.org. See: https://github.com/scikit-learn/scikit-learn/issues/21755 */display: inline-block !important;position: relative;}#sk-container-id-1 div.sk-text-repr-fallback {display: none;}</style><div id=\"sk-container-id-1\" class=\"sk-top-container\"><div class=\"sk-text-repr-fallback\"><pre>Pipeline(steps=[(&#x27;countvectorizer&#x27;,\n",
       "                 CountVectorizer(analyzer=&#x27;char&#x27;, ngram_range=(3, 6))),\n",
       "                (&#x27;multinomialnb&#x27;, MultinomialNB())])</pre><b>In a Jupyter environment, please rerun this cell to show the HTML representation or trust the notebook. <br />On GitHub, the HTML representation is unable to render, please try loading this page with nbviewer.org.</b></div><div class=\"sk-container\" hidden><div class=\"sk-item sk-dashed-wrapped\"><div class=\"sk-label-container\"><div class=\"sk-label sk-toggleable\"><input class=\"sk-toggleable__control sk-hidden--visually\" id=\"sk-estimator-id-1\" type=\"checkbox\" ><label for=\"sk-estimator-id-1\" class=\"sk-toggleable__label sk-toggleable__label-arrow\">Pipeline</label><div class=\"sk-toggleable__content\"><pre>Pipeline(steps=[(&#x27;countvectorizer&#x27;,\n",
       "                 CountVectorizer(analyzer=&#x27;char&#x27;, ngram_range=(3, 6))),\n",
       "                (&#x27;multinomialnb&#x27;, MultinomialNB())])</pre></div></div></div><div class=\"sk-serial\"><div class=\"sk-item\"><div class=\"sk-estimator sk-toggleable\"><input class=\"sk-toggleable__control sk-hidden--visually\" id=\"sk-estimator-id-2\" type=\"checkbox\" ><label for=\"sk-estimator-id-2\" class=\"sk-toggleable__label sk-toggleable__label-arrow\">CountVectorizer</label><div class=\"sk-toggleable__content\"><pre>CountVectorizer(analyzer=&#x27;char&#x27;, ngram_range=(3, 6))</pre></div></div></div><div class=\"sk-item\"><div class=\"sk-estimator sk-toggleable\"><input class=\"sk-toggleable__control sk-hidden--visually\" id=\"sk-estimator-id-3\" type=\"checkbox\" ><label for=\"sk-estimator-id-3\" class=\"sk-toggleable__label sk-toggleable__label-arrow\">MultinomialNB</label><div class=\"sk-toggleable__content\"><pre>MultinomialNB()</pre></div></div></div></div></div></div></div>"
      ],
      "text/plain": [
       "Pipeline(steps=[('countvectorizer',\n",
       "                 CountVectorizer(analyzer='char', ngram_range=(3, 6))),\n",
       "                ('multinomialnb', MultinomialNB())])"
      ]
     },
     "execution_count": 17,
     "metadata": {},
     "output_type": "execute_result"
    }
   ],
   "source": [
    "# a)\n",
    "\n",
    "from sklearn.feature_extraction.text import CountVectorizer\n",
    "from sklearn.naive_bayes import MultinomialNB\n",
    "from sklearn.pipeline import make_pipeline\n",
    "\n",
    "# Create a pipeline that first transforms the data using CountVectorizer and then applies MultinomialNB classifier\n",
    "NB_model = make_pipeline(CountVectorizer(analyzer='char', ngram_range=(3, 6)), MultinomialNB())\n",
    "\n",
    "# Train the model with the training data\n",
    "NB_model.fit(wooki_train_text, wooki_train_labels)\n"
   ]
  },
  {
   "cell_type": "markdown",
   "metadata": {},
   "source": [
    "b) Run the classifier on the dev data. It is crucial that you ensure that the feature values have exactly the same order as during training. How well does it perform? (what is the accuracy?)\n",
    "\n",
    "**Note**: you cannot introduce new features here (!): you have to use the exact same features as the ones used during training.\n",
    "\n",
    "**Hint**: If the accuracy is lower than 50%, you are probably mixing up the feature order, either during training or during development or both."
   ]
  },
  {
   "cell_type": "code",
   "execution_count": 18,
   "metadata": {},
   "outputs": [
    {
     "name": "stdout",
     "output_type": "stream",
     "text": [
      "Accuracy on the development data: 0.943820\n"
     ]
    }
   ],
   "source": [
    "# b) The model is trained and can be used for predictions or evaluation\n",
    "\n",
    "predictions = NB_model.predict(wooki_dev_text)\n",
    "\n",
    "NB_accuracy = NB_model.score(wooki_dev_text, wooki_dev_labels)\n",
    "print(f\"Accuracy on the development data: {accuracy:.6f}\")"
   ]
  },
  {
   "cell_type": "markdown",
   "metadata": {},
   "source": [
    "\n",
    "\n",
    "## 7. Discriminative Classifier with BOW\n",
    "\n",
    "a) Train a `logistic regression` classifier in a similar fashion. For more information, see: [LogisticRegression](https://scikit-learn.org/stable/modules/generated/sklearn.linear_model.LogisticRegression.html). Does it outperform the naive bayes classifier?"
   ]
  },
  {
   "cell_type": "code",
   "execution_count": 19,
   "metadata": {},
   "outputs": [],
   "source": [
    "bulba_dev_text, bulba_dev_labels = load_langid('langid-data/bulbapedia_langid.dev.tok.txt')"
   ]
  },
  {
   "cell_type": "code",
   "execution_count": 20,
   "metadata": {},
   "outputs": [
    {
     "name": "stdout",
     "output_type": "stream",
     "text": [
      "Accuracy on the development data: 0.943820\n"
     ]
    }
   ],
   "source": [
    "# a) Logistic regression\n",
    "\n",
    "from sklearn.feature_extraction.text import CountVectorizer\n",
    "from sklearn.linear_model import LogisticRegression\n",
    "from sklearn.pipeline import make_pipeline\n",
    "\n",
    "# Create a pipeline that first transforms the data using CountVectorizer and then applies LogisticRegression classifier\n",
    "LR_model = make_pipeline(CountVectorizer(analyzer='char', ngram_range=(3, 6)), LogisticRegression(max_iter=1000))\n",
    "\n",
    "# Train the model with the training data\n",
    "LR_model.fit(wooki_train_text, wooki_train_labels)\n",
    "\n",
    "predictions = LR_model.predict(wooki_dev_text)\n",
    "\n",
    "LR_accuracy = LR_model.score(wooki_dev_text, wooki_dev_labels)\n",
    "print(f\"Accuracy on the development data: {accuracy:.6f}\")\n"
   ]
  },
  {
   "cell_type": "markdown",
   "metadata": {},
   "source": [
    "It appears the LR and NB models perform similarly on Dev set."
   ]
  },
  {
   "cell_type": "markdown",
   "metadata": {},
   "source": [
    "b) Now evaluate both classifiers (`logistic regression` and `naive bayes`) on the out-of-domain Bulbapedia data:\n"
   ]
  },
  {
   "cell_type": "code",
   "execution_count": 21,
   "metadata": {},
   "outputs": [
    {
     "name": "stdout",
     "output_type": "stream",
     "text": [
      "Naive Bayes accuracy on Bulbapedia data: 0.8945\n",
      "Logistic Regression accuracy on Bulbapedia data: 0.8891\n",
      "Naive Bayes model performs better than Logistic Regression model on Bulbapedia data.\n"
     ]
    }
   ],
   "source": [
    "# b)\n",
    "# Evaluate Naive Bayes model on Bulbapedia data\n",
    "NB_predictions_bulba = NB_model.predict(bulba_dev_text)\n",
    "NB_accuracy_bulba = NB_model.score(bulba_dev_text, bulba_dev_labels)\n",
    "print(f\"Naive Bayes accuracy on Bulbapedia data: {NB_accuracy_bulba:.4f}\")\n",
    "\n",
    "# Evaluate Logistic Regression model on Bulbapedia data\n",
    "LR_predictions_bulba = LR_model.predict(bulba_dev_text)\n",
    "LR_accuracy_bulba = LR_model.score(bulba_dev_text, bulba_dev_labels)\n",
    "print(f\"Logistic Regression accuracy on Bulbapedia data: {LR_accuracy_bulba:.4f}\")\n",
    "\n",
    "# Compare performance\n",
    "if LR_accuracy_bulba > NB_accuracy_bulba:\n",
    "    print(\"Logistic Regression model performs better than Naive Bayes model on Bulbapedia data.\")\n",
    "else:\n",
    "    print(\"Naive Bayes model performs better than Logistic Regression model on Bulbapedia data.\")\n"
   ]
  },
  {
   "cell_type": "markdown",
   "metadata": {},
   "source": [
    "## 8. Analysis\n",
    "There are two obvious ways to inspect the classifiers in more detail: by inspecting a confusion matrix and by\n",
    "examining the feature weights. Pick at least one of the following options:\n",
    "\n",
    "### Confusion matrix\n",
    "a) Plot a confusion matrix for the logistic regression BOW model trained in `7a)` when used on Bulbapedia data, and inspect the errors (it is not important how you visualize the results: a table, a figure, or even an ASCII table will suffice). \n",
    "Are there any interesting trends?"
   ]
  },
  {
   "cell_type": "code",
   "execution_count": 22,
   "metadata": {},
   "outputs": [
    {
     "name": "stderr",
     "output_type": "stream",
     "text": [
      "c:\\Users\\jackh\\AppData\\Local\\Programs\\Python\\Python310\\lib\\site-packages\\sklearn\\utils\\deprecation.py:87: FutureWarning: Function plot_confusion_matrix is deprecated; Function `plot_confusion_matrix` is deprecated in 1.0 and will be removed in 1.2. Use one of the class methods: ConfusionMatrixDisplay.from_predictions or ConfusionMatrixDisplay.from_estimator.\n",
      "  warnings.warn(msg, category=FutureWarning)\n"
     ]
    },
    {
     "data": {
      "image/png": "[encoded data removed]",
      "text/plain": [
       "<Figure size 1000x1000 with 2 Axes>"
      ]
     },
     "metadata": {},
     "output_type": "display_data"
    }
   ],
   "source": [
    "# Confusion matrix\n",
    "\n",
    "import matplotlib.pyplot as plt\n",
    "from sklearn.metrics import confusion_matrix, plot_confusion_matrix\n",
    "import numpy as np\n",
    "\n",
    "# Generate predictions on the Bulbapedia development set\n",
    "bulba_predictions = LR_model.predict(bulba_dev_text)\n",
    "\n",
    "# Compute the confusion matrix\n",
    "cm = confusion_matrix(bulba_dev_labels, bulba_predictions, labels=LR_model.classes_)\n",
    "\n",
    "# Plot the confusion matrix\n",
    "fig, ax = plt.subplots(figsize=(10, 10))\n",
    "plot_confusion_matrix(LR_model, bulba_dev_text, bulba_dev_labels,\n",
    "                      display_labels=LR_model.classes_,\n",
    "                      cmap=plt.cm.Blues,\n",
    "                      normalize=None,\n",
    "                      ax=ax)\n",
    "plt.title('Confusion Matrix for Logistic Regression Model on Bulbapedia Data')\n",
    "plt.xticks(rotation=45)\n",
    "plt.show()"
   ]
  },
  {
   "cell_type": "markdown",
   "metadata": {},
   "source": [
    "The confusion matrix provided for the Logistic Regression model on Bulbapedia data shows the following trends:\n",
    "\n",
    "1. **High True Positives for English (en) and Dutch (nl):** The model correctly identifies a large number of English and Dutch samples, as indicated by the high numbers in the diagonal for 'en' and 'nl' classes.\n",
    "\n",
    "2. **Misclassification of Danish (da) as English (en):** A significant number of Danish samples are misclassified as English. This could be due to the similarity between some Danish and English words, or it may suggest that the model has learned patterns that are common in English but also appear in Danish.\n",
    "\n",
    "3. **Some English (en) Misclassified as Dutch (nl) and vice versa:** There are instances where English texts are misclassified as Dutch and Dutch texts as English. This might be because these languages share a lot of vocabulary and grammatical features, leading to confusion.\n",
    "\n",
    "4. **Least Misclassification for Dutch (nl):** Dutch has the least number of texts misclassified as other languages, which might imply that the Dutch language features are more distinct compared to English and Danish in this dataset, or the model has learned to recognize Dutch more accurately.\n",
    "\n",
    "5. **Misclassification of Danish (da) as Dutch (nl) and vice versa:** There are a few instances of Danish being classified as Dutch and Dutch as Danish. This suggests that there are some similarities between the two languages that the model is picking up on, which could be due to shared Germanic roots."
   ]
  },
  {
   "cell_type": "code",
   "execution_count": 23,
   "metadata": {},
   "outputs": [
    {
     "name": "stdout",
     "output_type": "stream",
     "text": [
      "              precision    recall  f1-score   support\n",
      "\n",
      "          da       0.60      0.90      0.72       118\n",
      "          en       0.94      0.91      0.93       500\n",
      "          nl       0.94      0.86      0.90       500\n",
      "\n",
      "    accuracy                           0.89      1118\n",
      "   macro avg       0.83      0.89      0.85      1118\n",
      "weighted avg       0.91      0.89      0.89      1118\n",
      "\n"
     ]
    }
   ],
   "source": [
    "from sklearn.metrics import classification_report\n",
    "\n",
    "# Generate the classification report, which includes precision, recall, and F1 score for each class\n",
    "report = classification_report(bulba_dev_labels, bulba_predictions, target_names=LR_model.classes_)\n",
    "\n",
    "print(report)"
   ]
  },
  {
   "cell_type": "markdown",
   "metadata": {},
   "source": [
    "The classification report provides several important metrics for each language:\n",
    "\n",
    "- **Precision**: Indicates how many of the items identified by the model as belonging to a certain class actually belong to that class.\n",
    "- **Recall**: Indicates how many items of a certain class were correctly identified by the model out of all actual members of that class in the dataset.\n",
    "- **F1-Score**: Combines precision and recall into a single metric by taking their harmonic mean. It's especially useful when the class distribution is unbalanced.\n",
    "- **Support**: The number of actual occurrences of the class in the dataset.\n",
    "\n",
    "Here's the interpretation of the results:\n",
    "\n",
    "- **Danish (da)**: \n",
    "  - Precision is relatively low at 0.60, indicating that when the model predicts an item is in Danish, it is correct 60% of the time.\n",
    "  - Recall is high at 0.90, meaning the model successfully identifies 90% of all Danish items in the dataset.\n",
    "  - The F1-score, which balances precision and recall, is 0.72, suggesting that while the model is quite good at detecting Danish, when it does, it is less reliable than for English and Dutch.\n",
    "  - The support of 118 indicates a smaller number of Danish samples compared to English and Dutch.\n",
    "\n",
    "- **English (en)**:\n",
    "  - Precision is high at 0.94, suggesting a high level of reliability in the model's English predictions.\n",
    "  - Recall is also high at 0.91, meaning the model identifies 91% of all English items correctly.\n",
    "  - The F1-score is 0.93, which is the highest of the three languages, indicating the best overall balance of precision and recall for English.\n",
    "  - English has the highest support with 500, meaning it has more samples in the dataset, which typically helps in training more reliable classifiers.\n",
    "\n",
    "- **Dutch (nl)**:\n",
    "  - Precision is high at 0.94, on par with English.\n",
    "  - Recall is somewhat lower at 0.86, indicating that while the model's predictions are reliable, it misses more Dutch items than it does English items.\n",
    "  - The F1-score is 0.90, which is slightly lower than English but still indicates a strong performance.\n",
    "  - Dutch also has a high support value of 500, which means a large number of samples for this class as well.\n",
    "\n",
    "- **Overall Accuracy**: \n",
    "  - The model has an overall accuracy of 0.89, which means that it correctly identifies the language 89% of the time across all predictions.\n",
    "\n",
    "- **Macro Average**: \n",
    "  - The macro average treats all classes equally, averaging the metric scores without taking the support into account. The macro avg F1-score is 0.85, which is a strong performance but slightly lower than the weighted average.\n",
    "\n",
    "- **Weighted Average**: \n",
    "  - The weighted average takes the support into account, giving more weight to classes with more samples. The weighted avg F1-score is 0.89, which is closer to the overall accuracy and reflects the influence of the more numerous English and Dutch samples.\n",
    "\n",
    "In summary, English has the best F1-score and thus the best performance according to this metric, followed closely by Dutch. Danish has the lowest F1-score, which is significantly affected by its lower precision."
   ]
  },
  {
   "cell_type": "markdown",
   "metadata": {},
   "source": [
    "### Feature weights\n",
    "In scikit-learn, you can inspect the internal weights given to each feature in the `.coef_` variable. \n",
    "\n",
    "b) Inspect the most important features for both the naive bayes and logistic regression classifiers. Are there any interesting differences?\n",
    "\n",
    "**Hint**: The weights are given per class, so you can either inspect three lists, or compute the average importance\n",
    "(make sure to use the absolute feature values for the average).\n",
    "\n",
    "Top features for both models according to the average importance of their weights across all classes. [::-1] reverses the indices to sort from highest to lowest. Get top 10 features to retrieve with [:10].\n",
    "\n",
    "For Naive Bayes, the `.feature_log_prob_` gives the log probability of each feature given a class, while for Logistic Regression, `.coef_ gives` the actual weights that multiply the feature values to get the decision function. High absolute values of weights in Logistic Regression imply greater importance in the classification decision, while for Naive Bayes, higher log probabilities indicate a stronger relationship with the class."
   ]
  },
  {
   "cell_type": "code",
   "execution_count": 24,
   "metadata": {},
   "outputs": [
    {
     "name": "stdout",
     "output_type": "stream",
     "text": [
      "Top features for Logistic Regression:\n",
      "['[ 2' '200' 'maj' 'tap' '[ 1' 'ed ' 'de ' 'maj ' 'aan' 'gar']\n",
      "\n",
      "Top features for Naive Bayes:\n",
      "[' s-0d3' 't om u' 't opwa' 'ku te' 'ku te ' 'ku van' 'ku ve' 'ku ver'\n",
      " 'ku vo' 'ku voz']\n"
     ]
    }
   ],
   "source": [
    "import numpy as np\n",
    "\n",
    "# For Logistic Regression\n",
    "# Get feature names from the vectorizer\n",
    "feature_names = LR_model.named_steps['countvectorizer'].get_feature_names_out()\n",
    "\n",
    "# Get the coefficients from the Logistic Regression model\n",
    "lr_coefs = LR_model.named_steps['logisticregression'].coef_\n",
    "\n",
    "# Get the absolute values of the coefficients for each class and then average them\n",
    "lr_avg_coefs = np.mean(np.abs(lr_coefs), axis=0)\n",
    "\n",
    "# Get the indices of the sorted averaged coefficients\n",
    "lr_sorted_indices = np.argsort(lr_avg_coefs)[::-1]\n",
    "\n",
    "# Get the top features for Logistic Regression\n",
    "top_lr_features = feature_names[lr_sorted_indices[:10]]  # change 10 to desired number of top features\n",
    "\n",
    "# For Naive Bayes\n",
    "# Get the log probabilities of features for each class\n",
    "nb_log_prob = NB_model.named_steps['multinomialnb'].feature_log_prob_\n",
    "\n",
    "# Get the absolute values of the log probabilities and then average them\n",
    "nb_avg_log_prob = np.mean(np.abs(nb_log_prob), axis=0)\n",
    "\n",
    "# Get the indices of the sorted averaged log probabilities\n",
    "nb_sorted_indices = np.argsort(nb_avg_log_prob)[::-1]\n",
    "\n",
    "# Get the top features for Naive Bayes\n",
    "top_nb_features = feature_names[nb_sorted_indices[:10]]  # change 10 to desired number of top features\n",
    "\n",
    "# Compare the top features\n",
    "print(\"Top features for Logistic Regression:\")\n",
    "print(top_lr_features)\n",
    "print(\"\\nTop features for Naive Bayes:\")\n",
    "print(top_nb_features)\n"
   ]
  },
  {
   "cell_type": "markdown",
   "metadata": {},
   "source": [
    "N-gram character features from text.\n",
    "\n",
    "**Logistic Regression Features:**\n",
    "- The n-grams like `'de '` (likely the beginning of Dutch definite articles or prepositions), `'ed '` (possibly the end of a past-tense verb in English), and `'aan'` (Dutch for \"on\" or part of a verb) suggest that the Logistic Regression model is picking up on common substrings that may be indicative of the language's grammar and common words.\n",
    "- The n-grams `'maj'` and `'gar'` could be parts of words that are distinctive to certain languages within the dataset. For instance, `'maj'` could be part of a word like \"majestic\" in English or \"majestæt\" in Danish, and `'gar'` might be from \"garçon\" in English borrowed from French or \"garage\" in Dutch.\n",
    "- N-grams such as `'[ 2'` and `'[ 1'` might be artifacts from the dataset.\n",
    "\n",
    "**Naive Bayes Features:**\n",
    "- The Naive Bayes features like `'ku te'`, `'ku van'`, `'ku ver'`, and `'ku vo'` seem to be part of larger words or sequences that may be very common in one of the languages. It's not immediately clear what language these could belong to without additional context.\n",
    "- Sequences such as `'t om u'` and `'t opwa'` might be more indicative of Dutch, as the `'t` could be the article \"het\" abbreviated and common verb prefixes like \"om\" (around) and \"opwa\" (upward).\n",
    "\n",
    "**Interpretation Differences:**\n",
    "- The features important to the Logistic Regression model seem to include both language-specific character sequences and possible formatting or numbering from the data, suggesting that it might be leveraging both linguistic and structural cues from the text.\n",
    "- The Naive Bayes features are less immediately interpretable and seem to focus on more unique sequences that might be highly indicative of the language but are less obviously connected to language structure.\n",
    "\n",
    "The differences in the features may indicate differences in the strategies the two models use to classify text: Logistic Regression might be picking up on more general patterns that apply across multiple instances, while Naive Bayes may be capturing more specific cues that are highly predictive of certain classes. This could be due to the intrinsic differences in how these models learn from the data."
   ]
  }
 ],
 "metadata": {
  "hide_input": false,
  "kernelspec": {
   "display_name": "Python 3 (ipykernel)",
   "language": "python",
   "name": "python3"
  },
  "language_info": {
   "codemirror_mode": {
    "name": "ipython",
    "version": 3
   },
   "file_extension": ".py",
   "mimetype": "text/x-python",
   "name": "python",
   "nbconvert_exporter": "python",
   "pygments_lexer": "ipython3",
   "version": "3.10.10"
  }
 },
 "nbformat": 4,
 "nbformat_minor": 4
}

{
 "cells": [
  {
   "cell_type": "markdown",
   "metadata": {},
   "source": [
    "Convert Excel file to individual sheets"
   ]
  },
  {
   "cell_type": "code",
   "execution_count": 7,
   "metadata": {},
   "outputs": [],
   "source": [
    "import pandas as pd"
   ]
  },
  {
   "cell_type": "code",
   "execution_count": 3,
   "metadata": {},
   "outputs": [],
   "source": [
    "# flag\n",
    "toSplitSheet = False"
   ]
  },
  {
   "cell_type": "code",
   "execution_count": 4,
   "metadata": {},
   "outputs": [],
   "source": [
    "import openpyxl\n",
    "\n",
    "if toSplitSheet:\n",
    "    # Load the Excel file\n",
    "    workbook = openpyxl.load_workbook('Trump.xlsx')\n",
    "\n",
    "    # Iterate through each sheet\n",
    "    for sheet_name in workbook.sheetnames:\n",
    "        # Create a new workbook\n",
    "        new_workbook = openpyxl.Workbook()\n",
    "        \n",
    "        # Get the current sheet\n",
    "        current_sheet = workbook[sheet_name]\n",
    "        \n",
    "        # Copy the data from the current sheet to the new workbook\n",
    "        new_sheet = new_workbook.active\n",
    "        new_sheet.title = sheet_name\n",
    "        for row in current_sheet.iter_rows(values_only=True):\n",
    "            new_sheet.append(row)\n",
    "        \n",
    "        # Save the new workbook as an individual Excel file\n",
    "        new_workbook.save(f'{sheet_name}.xlsx')"
   ]
  },
  {
   "cell_type": "code",
   "execution_count": 8,
   "metadata": {},
   "outputs": [
    {
     "data": {
      "text/plain": [
       "{'Archival_Data_raw.xlsx':            id                                               text isRetweet  \\\n",
       " 0  1698308935  Be sure to tune in and watch Donald Trump on L...         f   \n",
       " 1  1701461182  Donald Trump will be appearing on The View tom...         f   \n",
       " 2  1737479987  Donald Trump reads Top Ten Financial Tips on L...         f   \n",
       " 3  1741160716  New Blog Post: Celebrity Apprentice Finale and...         f   \n",
       " 4  1773561338  \"\"\"My persona will never be that of a wallflow...         f   \n",
       " \n",
       "   isDeleted              device  favorites  retweets                date  \\\n",
       " 0         f  Twitter Web Client        939       519 2009-05-04 18:54:25   \n",
       " 1         f  Twitter Web Client        259        34 2009-05-05 01:00:10   \n",
       " 2         f  Twitter Web Client         37        15 2009-05-08 13:38:08   \n",
       " 3         f  Twitter Web Client         29        11 2009-05-08 20:40:15   \n",
       " 4         f  Twitter Web Client       1877      1321 2009-05-12 14:07:28   \n",
       " \n",
       "   isFlagged  \n",
       " 0         f  \n",
       " 1         f  \n",
       " 2         f  \n",
       " 3         f  \n",
       " 4         f  ,\n",
       " 'Top_Terms_in_flagged_tweets.xlsx':        word  frequency\n",
       " 0  election         99\n",
       " 1     votes         48\n",
       " 2   ballots         38\n",
       " 3      vote         35\n",
       " 4    people         34,\n",
       " 'Tweets_Analysis.xlsx':                         _id                date  \\\n",
       " 0  60092d9d0b2bd2420a8129f5 2009-05-04 18:54:25   \n",
       " 1  60092d9d0b2bd2420a8129f4 2009-05-05 01:00:10   \n",
       " 2  60092d9d0b2bd2420a8129f3 2009-05-08 13:38:08   \n",
       " 3  60092d9d0b2bd2420a8129f2 2009-05-08 20:40:15   \n",
       " 4  60092d9d0b2bd2420a8129f1 2009-05-12 14:07:28   \n",
       " \n",
       "                                                 text              device  \\\n",
       " 0  Be sure to tune in and watch Donald Trump on L...  Twitter Web Client   \n",
       " 1  Donald Trump will be appearing on The View tom...  Twitter Web Client   \n",
       " 2  Donald Trump reads Top Ten Financial Tips on L...  Twitter Web Client   \n",
       " 3  New Blog Post: Celebrity Apprentice Finale and...  Twitter Web Client   \n",
       " 4  \"\"\"My persona will never be that of a wallflow...  Twitter Web Client   \n",
       " \n",
       "    favorites  retweets          id isdeleted isflagged isretweet  ...  \\\n",
       " 0        939       519  1698308935         f         f         f  ...   \n",
       " 1        259        34  1701461182         f         f         f  ...   \n",
       " 2         37        15  1737479987         f         f         f  ...   \n",
       " 3         29        11  1741160716         f         f         f  ...   \n",
       " 4       1877      1321  1773561338         f         f         f  ...   \n",
       " \n",
       "          10        11        12        13        14        15        16  \\\n",
       " 0  0.002249  0.001788  0.001533  0.593668  0.001834  0.001331  0.002247   \n",
       " 1  0.002891  0.002299  0.001971  0.192159  0.002357  0.382379  0.002888   \n",
       " 2  0.002639  0.349688  0.001799  0.175461  0.002153  0.001562  0.002637   \n",
       " 3  0.005515  0.185945  0.003759  0.003482  0.004497  0.729500  0.005511   \n",
       " 4  0.006738  0.005358  0.004593  0.004254  0.005495  0.003988  0.006733   \n",
       " \n",
       "          17        18        19  \n",
       " 0  0.001792  0.003174  0.002118  \n",
       " 1  0.002303  0.004080  0.002723  \n",
       " 2  0.002103  0.003726  0.002486  \n",
       " 3  0.004394  0.007784  0.005194  \n",
       " 4  0.005368  0.009511  0.006346  \n",
       " \n",
       " [5 rows x 33 columns]}"
      ]
     },
     "execution_count": 8,
     "metadata": {},
     "output_type": "execute_result"
    }
   ],
   "source": [
    "# Load each of the individually uploaded sheets to explore their structure\n",
    "file_paths = [\n",
    "    'Archival_Data_raw.xlsx',\n",
    "    'Top_Terms_in_flagged_tweets.xlsx',\n",
    "    'Tweets_Analysis.xlsx'\n",
    "]\n",
    "\n",
    "# Load and preview the first few rows of each file to understand their structure\n",
    "sheets_data = {}\n",
    "\n",
    "for path in file_paths:\n",
    "    try:\n",
    "        df = pd.read_excel(path)\n",
    "        sheets_data[path] = df.head()  # Preview the first few rows\n",
    "    except Exception as e:\n",
    "        sheets_data[path] = str(e)\n",
    "\n",
    "sheets_data"
   ]
  },
  {
   "cell_type": "code",
   "execution_count": 10,
   "metadata": {},
   "outputs": [
    {
     "data": {
      "text/html": [
       "<div>\n",
       "<style scoped>\n",
       "    .dataframe tbody tr th:only-of-type {\n",
       "        vertical-align: middle;\n",
       "    }\n",
       "\n",
       "    .dataframe tbody tr th {\n",
       "        vertical-align: top;\n",
       "    }\n",
       "\n",
       "    .dataframe thead th {\n",
       "        text-align: right;\n",
       "    }\n",
       "</style>\n",
       "<table border=\"1\" class=\"dataframe\">\n",
       "  <thead>\n",
       "    <tr style=\"text-align: right;\">\n",
       "      <th></th>\n",
       "      <th># of Characters</th>\n",
       "      <th>Frequency</th>\n",
       "    </tr>\n",
       "  </thead>\n",
       "  <tbody>\n",
       "    <tr>\n",
       "      <th>0</th>\n",
       "      <td>1</td>\n",
       "      <td>42</td>\n",
       "    </tr>\n",
       "    <tr>\n",
       "      <th>1</th>\n",
       "      <td>2</td>\n",
       "      <td>48</td>\n",
       "    </tr>\n",
       "    <tr>\n",
       "      <th>2</th>\n",
       "      <td>3</td>\n",
       "      <td>263</td>\n",
       "    </tr>\n",
       "    <tr>\n",
       "      <th>3</th>\n",
       "      <td>4</td>\n",
       "      <td>518</td>\n",
       "    </tr>\n",
       "    <tr>\n",
       "      <th>4</th>\n",
       "      <td>5</td>\n",
       "      <td>534</td>\n",
       "    </tr>\n",
       "  </tbody>\n",
       "</table>\n",
       "</div>"
      ],
      "text/plain": [
       "   # of Characters  Frequency\n",
       "0                1         42\n",
       "1                2         48\n",
       "2                3        263\n",
       "3                4        518\n",
       "4                5        534"
      ]
     },
     "execution_count": 10,
     "metadata": {},
     "output_type": "execute_result"
    }
   ],
   "source": [
    "data = pd.read_excel('Top_Terms_in_flagged_tweets.xlsx')\n",
    "\n",
    "# Ensure that all entries in 'word' column are strings before applying len function\n",
    "data['word'] = data['word'].astype(str)\n",
    "data['num_characters'] = data['word'].apply(len)\n",
    "\n",
    "# Group by the number of characters, and sum the frequencies for each group\n",
    "grouped_data = data.groupby('num_characters')['frequency'].sum().reset_index()\n",
    "\n",
    "# Rename columns for clarity\n",
    "grouped_data.columns = ['# of Characters', 'Frequency']\n",
    "\n",
    "grouped_data.head()"
   ]
  },
  {
   "cell_type": "code",
   "execution_count": 11,
   "metadata": {},
   "outputs": [
    {
     "data": {
      "text/plain": [
       "'transformed_word_frequencies.xlsx'"
      ]
     },
     "execution_count": 11,
     "metadata": {},
     "output_type": "execute_result"
    }
   ],
   "source": [
    "# Save the transformed data to an Excel file\n",
    "output_file_path = 'transformed_word_frequencies.xlsx'\n",
    "grouped_data.to_excel(output_file_path, index=False)\n",
    "\n",
    "output_file_path"
   ]
  }
 ],
 "metadata": {
  "kernelspec": {
   "display_name": "Python 3",
   "language": "python",
   "name": "python3"
  },
  "language_info": {
   "codemirror_mode": {
    "name": "ipython",
    "version": 3
   },
   "file_extension": ".py",
   "mimetype": "text/x-python",
   "name": "python",
   "nbconvert_exporter": "python",
   "pygments_lexer": "ipython3",
   "version": "3.10.10"
  }
 },
 "nbformat": 4,
 "nbformat_minor": 2
}

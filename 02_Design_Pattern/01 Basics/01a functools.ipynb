{
 "cells": [
  {
   "cell_type": "code",
   "execution_count": null,
   "metadata": {},
   "outputs": [],
   "source": [
    "# https://www.youtube.com/watch?v=t4zln38ABsE - JetBeans Functools presentation"
   ]
  },
  {
   "cell_type": "code",
   "execution_count": 1,
   "metadata": {},
   "outputs": [
    {
     "name": "stdout",
     "output_type": "stream",
     "text": [
      "12586269025\n"
     ]
    }
   ],
   "source": [
    "# -------- cache / memoization --------\n",
    "# lru_cache stands for Least Recently Used Cache, which is a cache that stores the most recently used results.\n",
    "# @cache is equivalent to @lru_cache(maxsize=None)\n",
    "# creates a thin wrapper around a dictionary lookup for function arguments\n",
    "from functools import cache, lru_cache\n",
    "@lru_cache(maxsize=5)\n",
    "def fib(n): # recursive inefficient fibonacci, but cached / memoization so it's fast\n",
    "    if n < 2: return n\n",
    "    return fib(n-1) + fib(n-2)\n",
    "\n",
    "print(fib(50))      # this is fast now"
   ]
  },
  {
   "cell_type": "code",
   "execution_count": null,
   "metadata": {},
   "outputs": [],
   "source": [
    "# -------- total_ordering --------\n",
    "# see Dataclass note\n",
    "from functools import total_ordering\n",
    "# then you only have to define __eq__ and __lt__, and the rest will be automatically generated\n",
    "# i.e. the class must define one of the four ordering methods: __lt__, __le__, __gt__, __ge__\n",
    "# in addition, the class must define __eq__"
   ]
  },
  {
   "cell_type": "code",
   "execution_count": 15,
   "metadata": {},
   "outputs": [
    {
     "name": "stdout",
     "output_type": "stream",
     "text": [
      "a=5, b=4\n",
      "9\n"
     ]
    },
    {
     "ename": "TypeError",
     "evalue": "the first argument must be callable",
     "output_type": "error",
     "traceback": [
      "\u001b[1;31m---------------------------------------------------------------------------\u001b[0m",
      "\u001b[1;31mTypeError\u001b[0m                                 Traceback (most recent call last)",
      "Cell \u001b[1;32mIn [15], line 19\u001b[0m\n\u001b[0;32m     14\u001b[0m \u001b[39m# a=5, b=4\u001b[39;00m\n\u001b[0;32m     15\u001b[0m \u001b[39m# 9\u001b[39;00m\n\u001b[0;32m     17\u001b[0m chunks \u001b[39m=\u001b[39m \u001b[39mb\u001b[39m\u001b[39m'\u001b[39m\u001b[39m1234567891011121314151617181920\u001b[39m\u001b[39m'\u001b[39m\n\u001b[1;32m---> 19\u001b[0m \u001b[39mfor\u001b[39;00m chunk \u001b[39min\u001b[39;00m \u001b[39miter\u001b[39m(partial(chunks, \u001b[39m4\u001b[39m), \u001b[39mb\u001b[39m\u001b[39m'\u001b[39m\u001b[39m'\u001b[39m):\n\u001b[0;32m     20\u001b[0m     \u001b[39mprint\u001b[39m(\u001b[39mf\u001b[39m\u001b[39m\"\u001b[39m\u001b[39mchunk: \u001b[39m\u001b[39m{\u001b[39;00mchunk\u001b[39m}\u001b[39;00m\u001b[39m\"\u001b[39m)\n",
      "\u001b[1;31mTypeError\u001b[0m: the first argument must be callable"
     ]
    }
   ],
   "source": [
    "# -------- partial --------\n",
    "# partial() is a function that takes a function and a set of arguments\n",
    "# partial(), which allows you to create a new function from an existing one\n",
    "# by setting some of the arguments to a fixed value\n",
    "# Use functools partial to create your own \"frozen\" callables\n",
    "from functools import partial\n",
    "\n",
    "def add(a, b):\n",
    "    print(f'{a=}, {b=}')\n",
    "    return a + b\n",
    "\n",
    "p_add = partial(add, b=4)   # b is fixed to 4\n",
    "print(p_add(5))             # a is 5\n",
    "# a=5, b=4\n",
    "# 9\n",
    "\n",
    "chunks = b'1234567891011121314151617181920'\n",
    "\n",
    "for chunk in iter(partial(chunks, 4), b''):\n",
    "    print(f\"chunk: {chunk}\")\n"
   ]
  },
  {
   "cell_type": "code",
   "execution_count": 13,
   "metadata": {},
   "outputs": [
    {
     "data": {
      "text/plain": [
       "15"
      ]
     },
     "execution_count": 13,
     "metadata": {},
     "output_type": "execute_result"
    }
   ],
   "source": [
    "# -------- reduce --------\n",
    "# https://realpython.com/python-reduce-function/\n",
    "# reduce() is a function that takes a function and a sequence and reduces it to a single value\n",
    "# cumulatively go over an iterable\n",
    "from functools import reduce\n",
    "reduce(lambda x, y: x+y, [1, 2, 3, 4, 5])   # calculates ((((1+2)+3)+4)+5)\n",
    "# 15\n",
    "\n",
    "# 1. apply a function (or callable) to the first 2 items in an iterable and generate a partial result\n",
    "# 2. use the partial result, together with the third item in the iterable, to generate another partial result\n",
    "# 3. repeat step 2 until the iterable is exhausted and then return a single cumulative value\n"
   ]
  }
 ],
 "metadata": {
  "kernelspec": {
   "display_name": "Python 3.10.7 64-bit",
   "language": "python",
   "name": "python3"
  },
  "language_info": {
   "codemirror_mode": {
    "name": "ipython",
    "version": 3
   },
   "file_extension": ".py",
   "mimetype": "text/x-python",
   "name": "python",
   "nbconvert_exporter": "python",
   "pygments_lexer": "ipython3",
   "version": "3.10.7"
  },
  "orig_nbformat": 4,
  "vscode": {
   "interpreter": {
    "hash": "b5f0bfb910b5f89afee0c4e65874b118d019a6f05b0e3b9906c17a1424dc1b44"
   }
  }
 },
 "nbformat": 4,
 "nbformat_minor": 2
}

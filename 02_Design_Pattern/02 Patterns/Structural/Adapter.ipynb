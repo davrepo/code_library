{
 "cells": [
  {
   "cell_type": "code",
   "execution_count": 1,
   "metadata": {},
   "outputs": [
    {
     "name": "stdout",
     "output_type": "stream",
     "text": [
      "Client: I can work just fine with the Target objects:\n",
      "Target: The default target's behavior.\n",
      "\n",
      "Client: The Adaptee class has a weird interface. See, I don't understand it:\n",
      "Adaptee: .eetpadA eht fo roivaheb laicepS\n",
      "\n",
      "Client: But I can work with it via the Adapter:\n",
      "Adapter: (TRANSLATED) Special behavior of the Adaptee."
     ]
    }
   ],
   "source": [
    "class Target:\n",
    "    \"\"\"\n",
    "    The Target defines the domain-specific interface used by the client code.\n",
    "    \"\"\"\n",
    "\n",
    "    def request(self) -> str:\n",
    "        return \"Target: The default target's behavior.\"\n",
    "\n",
    "\n",
    "class Adaptee:\n",
    "    \"\"\"\n",
    "    The Adaptee contains some useful behavior, but its interface is incompatible\n",
    "    with the existing client code. The Adaptee needs some adaptation before the\n",
    "    client code can use it.\n",
    "    \"\"\"\n",
    "\n",
    "    def specific_request(self) -> str:\n",
    "        return \".eetpadA eht fo roivaheb laicepS\"\n",
    "\n",
    "\n",
    "class Adapter(Target, Adaptee):\n",
    "    \"\"\"\n",
    "    The Adapter makes the Adaptee's interface compatible with the Target's\n",
    "    interface via multiple inheritance.\n",
    "    \"\"\"\n",
    "\n",
    "    def request(self) -> str:\n",
    "        return f\"Adapter: (TRANSLATED) {self.specific_request()[::-1]}\"\n",
    "\n",
    "\n",
    "def client_code(target: \"Target\") -> None:\n",
    "    \"\"\"\n",
    "    The client code supports all classes that follow the Target interface.\n",
    "    \"\"\"\n",
    "\n",
    "    print(target.request(), end=\"\")\n",
    "\n",
    "\n",
    "if __name__ == \"__main__\":\n",
    "    print(\"Client: I can work just fine with the Target objects:\")\n",
    "    target = Target()\n",
    "    client_code(target)\n",
    "    print(\"\\n\")\n",
    "\n",
    "    adaptee = Adaptee()\n",
    "    print(\"Client: The Adaptee class has a weird interface. \"\n",
    "          \"See, I don't understand it:\")\n",
    "    print(f\"Adaptee: {adaptee.specific_request()}\", end=\"\\n\\n\")\n",
    "\n",
    "    print(\"Client: But I can work with it via the Adapter:\")\n",
    "    adapter = Adapter()\n",
    "    client_code(adapter)"
   ]
  },
  {
   "cell_type": "code",
   "execution_count": 3,
   "metadata": {},
   "outputs": [
    {
     "name": "stdout",
     "output_type": "stream",
     "text": [
      "Korean says 'An-neyong?'\n",
      "British says 'Hello!'\n"
     ]
    }
   ],
   "source": [
    "class Korean:\n",
    "    def __init__(self):\n",
    "        self.name = \"Korean\"\n",
    "    def speak_korean(self):\n",
    "        return \"An-neyong?\"\n",
    "\n",
    "class British:\n",
    "    def __init__(self):\n",
    "        self.name = \"British\"\n",
    "    def speak_english(self):    # Note the different method name here!\n",
    "        return \"Hello!\"\n",
    "\n",
    "class Adapter:\n",
    "    \"\"\"This changes the generic method name to individualized method names\"\"\"\n",
    "    def __init__(self, object, **adapted_method):\n",
    "        \"\"\"Change the name of the method\"\"\"\n",
    "        self._object = object\n",
    "# Add a new dictionary item that establishes the mapping between the generic method name: speak() and the concrete method\n",
    "# For example, speak() will be translated to speak_korean() if the mapping says so\n",
    "        self.__dict__.update(adapted_method)\n",
    "    def __getattr__(self, attr):\n",
    "    # __getattr__ is called when an attribute lookup has not found the attribute in the usual places \n",
    "    # (i.e. it is not an instance attribute nor is it found in the class tree for self). \n",
    "    # name is the attribute name. This method should return the (computed) attribute value \n",
    "    # or raise an AttributeError exception.\n",
    "        return getattr(self._object, attr)\n",
    "\n",
    "# List to store speaker objects\n",
    "objects = []\n",
    "# Create a Korean and British object\n",
    "korean = Korean()\n",
    "british = British()\n",
    "# Append the objects to the objects list\n",
    "objects.append(Adapter(korean, speak=korean.speak_korean))\n",
    "objects.append(Adapter(british, speak=british.speak_english))\n",
    "\n",
    "for obj in objects:\n",
    "    print(f\"{obj.name} says '{obj.speak()}'\")\n",
    "# Korean says 'An-neyong?'\n",
    "# British says 'Hello!"
   ]
  }
 ],
 "metadata": {
  "kernelspec": {
   "display_name": "Python 3.10.7 64-bit",
   "language": "python",
   "name": "python3"
  },
  "language_info": {
   "codemirror_mode": {
    "name": "ipython",
    "version": 3
   },
   "file_extension": ".py",
   "mimetype": "text/x-python",
   "name": "python",
   "nbconvert_exporter": "python",
   "pygments_lexer": "ipython3",
   "version": "3.10.7"
  },
  "orig_nbformat": 4,
  "vscode": {
   "interpreter": {
    "hash": "b5f0bfb910b5f89afee0c4e65874b118d019a6f05b0e3b9906c17a1424dc1b44"
   }
  }
 },
 "nbformat": 4,
 "nbformat_minor": 2
}

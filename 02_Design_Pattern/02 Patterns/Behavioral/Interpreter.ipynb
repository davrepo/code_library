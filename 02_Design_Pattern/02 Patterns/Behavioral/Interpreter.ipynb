{
 "cells": [
  {
   "cell_type": "code",
   "execution_count": 4,
   "metadata": {},
   "outputs": [
    {
     "name": "stdout",
     "output_type": "stream",
     "text": [
      "Non-terminal expression being interpreted...\n",
      "Non-terminal expression being interpreted...\n",
      "Terminal expression being interpreted...\n"
     ]
    }
   ],
   "source": [
    "from abc import ABC, abstractmethod     # abc: Abstract Base Classes\n",
    "\n",
    "class AbstractExpression():\n",
    "    @abstractmethod     # abstract method must be overridden in subclass\n",
    "    def interpret(self, context):\n",
    "        pass\n",
    "\n",
    "class NonterminalExpression(AbstractExpression):\n",
    "    def __init__(self, expression):\n",
    "        self._expression = expression\n",
    "    def interpret(self):\n",
    "        print(\"Non-terminal expression being interpreted...\")\n",
    "        self._expression.interpret()\n",
    "\n",
    "class TerminalExpression(AbstractExpression):\n",
    "    def interpret(self):\n",
    "        print(\"Terminal expression being interpreted...\")\n",
    "\n",
    "# here we create a tree of expressions\n",
    "# we pass a terminal expression object to the non-terminal expression object, then pass to another non-terminal expression object\n",
    "# so it continues to interpret expressions, until it reaches a terminal expression\n",
    "ast = NonterminalExpression(NonterminalExpression(TerminalExpression()))    # AST: Abstract Syntax Tree\n",
    "ast.interpret()"
   ]
  }
 ],
 "metadata": {
  "kernelspec": {
   "display_name": "Python 3.10.7 64-bit",
   "language": "python",
   "name": "python3"
  },
  "language_info": {
   "codemirror_mode": {
    "name": "ipython",
    "version": 3
   },
   "file_extension": ".py",
   "mimetype": "text/x-python",
   "name": "python",
   "nbconvert_exporter": "python",
   "pygments_lexer": "ipython3",
   "version": "3.10.7"
  },
  "orig_nbformat": 4,
  "vscode": {
   "interpreter": {
    "hash": "b5f0bfb910b5f89afee0c4e65874b118d019a6f05b0e3b9906c17a1424dc1b44"
   }
  }
 },
 "nbformat": 4,
 "nbformat_minor": 2
}

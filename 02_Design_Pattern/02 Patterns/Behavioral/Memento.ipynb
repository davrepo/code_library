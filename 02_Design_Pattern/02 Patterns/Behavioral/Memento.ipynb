{
 "cells": [
  {
   "cell_type": "code",
   "execution_count": null,
   "metadata": {},
   "outputs": [],
   "source": [
    "# Memento is a behavioral design pattern that lets you save and restore the previous state of an object \n",
    "# without revealing the details of its implementation."
   ]
  },
  {
   "cell_type": "code",
   "execution_count": 2,
   "metadata": {},
   "outputs": [
    {
     "name": "stdout",
     "output_type": "stream",
     "text": [
      "{'_state': None}\n",
      "{'_state': True}\n",
      "{'_state': None}\n"
     ]
    }
   ],
   "source": [
    "import pickle   # for serialization\n",
    "\n",
    "class Originator: \n",
    "    def __init__(self) -> None:\n",
    "        self._state = None\n",
    "    \n",
    "    def create_memento(self):\n",
    "        # vars() is a built-in python function returns a dictionary of the object's attributes and values\n",
    "        # pickle.dumps() serializes an object into a byte stream\n",
    "        return pickle.dumps(vars(self))     \n",
    "    \n",
    "    def set_memento(self, memento):\n",
    "        previous_state = pickle.loads(memento)\n",
    "        vars(self).clear()  # clear the current state\n",
    "        vars(self).update(previous_state)   # update the state with the previous state\n",
    "\n",
    "originator = Originator()\n",
    "print(vars(originator))     # {'_state': None}\n",
    "memento = originator.create_memento()\n",
    "originator._state = True\n",
    "print(vars(originator))     # {'_state': True}\n",
    "originator.set_memento(memento)\n",
    "print(vars(originator))     # {'_state': None}"
   ]
  }
 ],
 "metadata": {
  "kernelspec": {
   "display_name": "Python 3.10.7 64-bit",
   "language": "python",
   "name": "python3"
  },
  "language_info": {
   "codemirror_mode": {
    "name": "ipython",
    "version": 3
   },
   "file_extension": ".py",
   "mimetype": "text/x-python",
   "name": "python",
   "nbconvert_exporter": "python",
   "pygments_lexer": "ipython3",
   "version": "3.10.7"
  },
  "orig_nbformat": 4,
  "vscode": {
   "interpreter": {
    "hash": "b5f0bfb910b5f89afee0c4e65874b118d019a6f05b0e3b9906c17a1424dc1b44"
   }
  }
 },
 "nbformat": 4,
 "nbformat_minor": 2
}

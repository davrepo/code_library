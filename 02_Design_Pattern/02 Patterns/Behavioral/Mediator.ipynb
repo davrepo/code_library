{
 "cells": [
  {
   "cell_type": "code",
   "execution_count": null,
   "metadata": {},
   "outputs": [],
   "source": [
    "# Problem: too many dependencies between objects, \n",
    "# so that it is difficult to change the behavior of one object without affecting the others (tight coupling)\n",
    "# Solution: introduce a mediator object that encapsulates the way a set of objects interact (loose coupling)"
   ]
  },
  {
   "cell_type": "code",
   "execution_count": 2,
   "metadata": {},
   "outputs": [
    {
     "name": "stdout",
     "output_type": "stream",
     "text": [
      "Message 'How are you?' sent from 1\n",
      "Message 'How are you?' received from 2\n",
      "Message 'How are you?' received from 3\n",
      "Message 'Fine, thanks' sent from 2\n",
      "Message 'Fine, thanks' received from 1\n",
      "Message 'Fine, thanks' received from 3\n"
     ]
    }
   ],
   "source": [
    "import sys\n",
    "\n",
    "class Colleague(object):\n",
    "    def __init__(self, mediator, id):\n",
    "        self._mediator = mediator\n",
    "        self._id = id\n",
    "\n",
    "    def getID(self):\n",
    "        return self._id\n",
    "    def send(self, message):\n",
    "        pass\n",
    "    def receive(self, message):\n",
    "        pass\n",
    "\n",
    "class ConcreteColleague(Colleague):\n",
    "    def __init__(self, mediator, id):\n",
    "        super().__init__(mediator, id)\n",
    "\n",
    "    def send(self, message):\n",
    "        print(f\"Message '{message}' sent from {self._id}\")\n",
    "        self._mediator.distribute(self, message)\n",
    "\n",
    "    def receive(self, message):\n",
    "        print(f\"Message '{message}' received from {self._id}\")\n",
    "\n",
    "class Mediator:\n",
    "    def add(self, colleague):\n",
    "        pass\n",
    "    def distribute(self, sender, message):\n",
    "        pass\n",
    "\n",
    "class ConcreteMediator(Mediator):\n",
    "    def __init__(self):\n",
    "        self._colleagues = []\n",
    "\n",
    "    def add(self, colleague):\n",
    "        self._colleagues.append(colleague)\n",
    "\n",
    "    def distribute(self, sender, message):\n",
    "        for colleague in self._colleagues:\n",
    "            if colleague.getID() != sender.getID():\n",
    "                colleague.receive(message)\n",
    "\n",
    "mediator = ConcreteMediator()\n",
    "\n",
    "colleague1 = ConcreteColleague(mediator, 1)\n",
    "colleague2 = ConcreteColleague(mediator, 2)\n",
    "colleague3 = ConcreteColleague(mediator, 3)\n",
    "\n",
    "mediator.add(colleague1)\n",
    "mediator.add(colleague2)\n",
    "mediator.add(colleague3)\n",
    "\n",
    "colleague1.send(\"How are you?\")\n",
    "colleague2.send(\"Fine, thanks\")"
   ]
  }
 ],
 "metadata": {
  "kernelspec": {
   "display_name": "Python 3.10.7 64-bit",
   "language": "python",
   "name": "python3"
  },
  "language_info": {
   "codemirror_mode": {
    "name": "ipython",
    "version": 3
   },
   "file_extension": ".py",
   "mimetype": "text/x-python",
   "name": "python",
   "nbconvert_exporter": "python",
   "pygments_lexer": "ipython3",
   "version": "3.10.7"
  },
  "orig_nbformat": 4,
  "vscode": {
   "interpreter": {
    "hash": "b5f0bfb910b5f89afee0c4e65874b118d019a6f05b0e3b9906c17a1424dc1b44"
   }
  }
 },
 "nbformat": 4,
 "nbformat_minor": 2
}

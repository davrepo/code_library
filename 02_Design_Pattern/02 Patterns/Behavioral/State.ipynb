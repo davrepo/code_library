{
 "cells": [
  {
   "cell_type": "code",
   "execution_count": null,
   "metadata": {},
   "outputs": [],
   "source": [
    "# State pattern is used when an Object change its behavior based on its internal state."
   ]
  },
  {
   "cell_type": "code",
   "execution_count": 1,
   "metadata": {},
   "outputs": [
    {
     "name": "stdout",
     "output_type": "stream",
     "text": [
      "Current: off  => switched to new state on\n",
      "Current: on  => switched to new state card\n",
      "Current: card  => switched to new state pin\n",
      "Current: pin  => switched to new state off\n",
      "Current: off  => switched to new state on\n",
      "Current: on  => switched to new state card\n",
      "Current: card  => switching to on not possible.\n",
      "Current: card  => switched to new state off\n"
     ]
    }
   ],
   "source": [
    "class AtmState():\n",
    "    name = \"state\"\n",
    "    allowed = []\n",
    "    \n",
    "    def switch(self, state):\n",
    "        if state.name in self.allowed:\n",
    "            print('Current:', self, ' => switched to new state', state.name)\n",
    "            self.__class__ = state    # __class__ is a reference to the class of the object\n",
    "        else:\n",
    "            print('Current:', self, ' => switching to', state.name, 'not possible.')\n",
    "    \n",
    "    def __str__(self):\n",
    "        return self.name\n",
    "\n",
    "class Off(AtmState):\n",
    "    name = \"off\"\n",
    "    allowed = ['on']    # allowed state to switch to from current state\n",
    "\n",
    "class On(AtmState):   \n",
    "    name = \"on\"\n",
    "    allowed = ['off', 'pin', 'card']   # allowed states to switch to from current state\n",
    "\n",
    "class Pin(AtmState):\n",
    "    name = \"pin\"\n",
    "    allowed = ['off', 'card']\n",
    "\n",
    "class Card(AtmState):\n",
    "    name = \"card\"\n",
    "    allowed = ['off', 'pin']\n",
    "\n",
    "class Atm():\n",
    "    def __init__(self):\n",
    "        self.current = Off()    # initial state\n",
    "    \n",
    "    def setState(self, state):\n",
    "        self.current.switch(state)  # switch to new state\n",
    "\n",
    "\n",
    "atm = Atm()\n",
    "atm.setState(On)\n",
    "atm.setState(Card)\n",
    "atm.setState(Pin)\n",
    "atm.setState(Off)\n",
    "atm.setState(On)\n",
    "atm.setState(Card)\n",
    "atm.setState(On)\n",
    "atm.setState(Off)"
   ]
  }
 ],
 "metadata": {
  "kernelspec": {
   "display_name": "Python 3.10.7 64-bit",
   "language": "python",
   "name": "python3"
  },
  "language_info": {
   "codemirror_mode": {
    "name": "ipython",
    "version": 3
   },
   "file_extension": ".py",
   "mimetype": "text/x-python",
   "name": "python",
   "nbconvert_exporter": "python",
   "pygments_lexer": "ipython3",
   "version": "3.10.7"
  },
  "orig_nbformat": 4,
  "vscode": {
   "interpreter": {
    "hash": "b5f0bfb910b5f89afee0c4e65874b118d019a6f05b0e3b9906c17a1424dc1b44"
   }
  }
 },
 "nbformat": 4,
 "nbformat_minor": 2
}

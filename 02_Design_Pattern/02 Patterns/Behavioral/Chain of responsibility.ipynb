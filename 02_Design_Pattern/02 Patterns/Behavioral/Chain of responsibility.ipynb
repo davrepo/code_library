{
 "cells": [
  {
   "cell_type": "code",
   "execution_count": null,
   "metadata": {},
   "outputs": [],
   "source": [
    "# Problem: Various types of processing are required for a request.\n",
    "# Solution: consisting of a source of command objects and a series of processing objects. \n",
    "# Each processing object contains logic that defines the types of command objects that it can handle; \n",
    "# the rest are passed to the next processing object in the chain. \n",
    "# A mechanism also exists for adding new processing objects to the end of this chain.\n",
    "\n",
    "# Not to tie a specific solution to a request"
   ]
  },
  {
   "cell_type": "code",
   "execution_count": 1,
   "metadata": {},
   "outputs": [
    {
     "name": "stdout",
     "output_type": "stream",
     "text": [
      "Request 2 handled in handler 1\n",
      "Request 5 handled in handler 1\n",
      "End of chain, no handler for 30\n"
     ]
    }
   ],
   "source": [
    "# related to Composite pattern\n",
    "class Handler: \n",
    "    \"\"\"Abstract handler\"\"\"\n",
    "    def __init__(self, successor):\n",
    "        self._successor = successor # Define who is the next handler\n",
    "    \n",
    "    def handle(self, request):\n",
    "        handled = self._handle(request) # If handled, stop here\n",
    "        \n",
    "        # Otherwise, keep going\n",
    "        if not handled:\n",
    "            self._successor.handle(request)\n",
    "            \n",
    "    def _handle(self, request):\n",
    "        raise NotImplementedError('Must provide implementation in subclass!')\n",
    "\n",
    "class ConcreteHandler1(Handler): # Inherits from the abstract handler\n",
    "    \"\"\"Concrete handler 1\"\"\"\n",
    "    def _handle(self, request):\n",
    "        if 0 < request <= 10: # Provide a condition for handling\n",
    "            print(f\"Request {request} handled in handler 1\")\n",
    "            return True # Indicates that the request has been handled\n",
    "\n",
    "class DefaultHandler(Handler): # Inherits from the abstract handler\n",
    "    \"\"\"Default handler\"\"\"\n",
    "    def _handle(self, request):\n",
    "        \"\"\"If there is no handler available\"\"\"\n",
    "        # No condition checking since this is a default handler\n",
    "        print(f\"End of chain, no handler for {request}\")\n",
    "        return True # Indicates that the request has been handled\n",
    "\n",
    "class Client: # Using handlers\n",
    "    def __init__(self):\n",
    "        # DefaultHanlder has no successor, so it has None\n",
    "        self.handler = ConcreteHandler1(DefaultHandler(None)) # Create handlers and use them in a sequence you want\n",
    "        # Note that the default handler has no successor\n",
    "        \n",
    "    def delegate(self, requests): # Send your requests one at a time for handlers to handle\n",
    "        for request in requests:\n",
    "            self.handler.handle(request)\n",
    "\n",
    "# Create a client\n",
    "c = Client()\n",
    "# Create requests\n",
    "requests = [2, 5, 30]\n",
    "# Send the requests\n",
    "c.delegate(requests)\n",
    "# Request 2 handled in handler 1\n",
    "# Request 5 handled in handler 1\n",
    "# End of chain, no handler for 30"
   ]
  }
 ],
 "metadata": {
  "kernelspec": {
   "display_name": "Python 3.10.7 64-bit",
   "language": "python",
   "name": "python3"
  },
  "language_info": {
   "codemirror_mode": {
    "name": "ipython",
    "version": 3
   },
   "file_extension": ".py",
   "mimetype": "text/x-python",
   "name": "python",
   "nbconvert_exporter": "python",
   "pygments_lexer": "ipython3",
   "version": "3.10.7"
  },
  "orig_nbformat": 4,
  "vscode": {
   "interpreter": {
    "hash": "b5f0bfb910b5f89afee0c4e65874b118d019a6f05b0e3b9906c17a1424dc1b44"
   }
  }
 },
 "nbformat": 4,
 "nbformat_minor": 2
}

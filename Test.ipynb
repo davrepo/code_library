{
 "cells": [
  {
   "cell_type": "code",
   "execution_count": 1,
   "metadata": {},
   "outputs": [
    {
     "name": "stdout",
     "output_type": "stream",
     "text": [
      "True\n",
      "False\n"
     ]
    }
   ],
   "source": [
    "def has_three_consecutive_identical_values(A):\n",
    "    for i in range(len(A) - 2):\n",
    "        if A[i] == A[i+1] == A[i+2]:\n",
    "            return True\n",
    "    return False\n",
    "\n",
    "true_list = [1, 6, 2, 2, 2, 5, 5, 2]\n",
    "false_list = [1, 1, 2, 2, 3, 2]\n",
    "\n",
    "print(has_three_consecutive_identical_values(true_list))\n",
    "print(has_three_consecutive_identical_values(false_list))"
   ]
  },
  {
   "cell_type": "code",
   "execution_count": 8,
   "metadata": {},
   "outputs": [
    {
     "name": "stdout",
     "output_type": "stream",
     "text": [
      "C\n",
      "4\n"
     ]
    }
   ],
   "source": [
    "class Elem:\n",
    "    def __init__(self, key, val):\n",
    "        self.key = key\n",
    "        self.val = val\n",
    "        self.next = None\n",
    "\n",
    "    def __lt__(self, other):\n",
    "        return self.val < other.val\n",
    "\n",
    "class Mystery:\n",
    "    def __init__(self):\n",
    "        self.head = None\n",
    "\n",
    "    def insert(self, key, val):\n",
    "        e = Elem(key, val)\n",
    "        e.next = self.head\n",
    "        self.head = e\n",
    "\n",
    "    def unlink(self, elem):\n",
    "        if elem == self.head:\n",
    "            self.head = self.head.next \n",
    "            return\n",
    "        cur = self.head\n",
    "        while cur.next != elem:\n",
    "            cur = cur.next\n",
    "        cur.next = elem.next\n",
    "\n",
    "    def extract(self):\n",
    "        minElem = None\n",
    "        cur = self.head\n",
    "        while cur:\n",
    "            if not minElem or minElem > cur:\n",
    "                minElem = cur\n",
    "            cur = cur.next\n",
    "        self.unlink(minElem)\n",
    "        return minElem.key\n",
    "    \n",
    "    def size(self):\n",
    "        size = 0\n",
    "        cur = self.head\n",
    "        while cur is not None:\n",
    "            size += 1\n",
    "            cur = cur.next\n",
    "        size = size + 1\n",
    "        return size\n",
    "    \n",
    "\n",
    "m = Mystery()\n",
    "m.insert(\"A\", 3)\n",
    "m.insert(\"B\", 10)\n",
    "m.insert(\"C\", 1)\n",
    "m.insert(\"D\", 5)\n",
    "print(m.extract())\n",
    "print(m.size())"
   ]
  }
 ],
 "metadata": {
  "kernelspec": {
   "display_name": "Python 3",
   "language": "python",
   "name": "python3"
  },
  "language_info": {
   "codemirror_mode": {
    "name": "ipython",
    "version": 3
   },
   "file_extension": ".py",
   "mimetype": "text/x-python",
   "name": "python",
   "nbconvert_exporter": "python",
   "pygments_lexer": "ipython3",
   "version": "3.10.10"
  },
  "orig_nbformat": 4
 },
 "nbformat": 4,
 "nbformat_minor": 2
}

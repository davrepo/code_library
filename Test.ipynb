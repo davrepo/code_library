{
 "cells": [
  {
   "cell_type": "code",
   "execution_count": 2,
   "metadata": {},
   "outputs": [
    {
     "ename": "TypeError",
     "evalue": "'>=' not supported between instances of 'Grade' and 'int'",
     "output_type": "error",
     "traceback": [
      "\u001b[1;31m---------------------------------------------------------------------------\u001b[0m",
      "\u001b[1;31mTypeError\u001b[0m                                 Traceback (most recent call last)",
      "Cell \u001b[1;32mIn [2], line 20\u001b[0m\n\u001b[0;32m     15\u001b[0m         \u001b[39mreturn\u001b[39;00m \u001b[39mNotImplemented\u001b[39m\n\u001b[0;32m     18\u001b[0m Grade\u001b[39m.\u001b[39mA \u001b[39m>\u001b[39m\u001b[39m=\u001b[39m Grade\u001b[39m.\u001b[39mB      \u001b[39m# True\u001b[39;00m\n\u001b[1;32m---> 20\u001b[0m Grade\u001b[39m.\u001b[39mA \u001b[39m>\u001b[39m\u001b[39m=\u001b[39m \u001b[39m3\u001b[39m\n",
      "\u001b[1;31mTypeError\u001b[0m: '>=' not supported between instances of 'Grade' and 'int'"
     ]
    }
   ],
   "source": [
    "import enum\n",
    "from functools import total_ordering\n",
    "\n",
    "@total_ordering\n",
    "class Grade(enum.Enum):\n",
    "    A = 5\n",
    "    B = 4\n",
    "    C = 3\n",
    "    D = 2\n",
    "    F = 1\n",
    "    \n",
    "    def __lt__(self, other):\n",
    "        if self.__class__ is other.__class__:\n",
    "            return self.value < other.value\n",
    "        return NotImplemented\n",
    " \n",
    " \n",
    "Grade.A >= Grade.B      # True\n",
    "Grade.A >= 3        # TypeError: '>=' not supported between instances of 'Grade' and 'int'"
   ]
  }
 ],
 "metadata": {
  "kernelspec": {
   "display_name": "Python 3.10.7 64-bit",
   "language": "python",
   "name": "python3"
  },
  "language_info": {
   "codemirror_mode": {
    "name": "ipython",
    "version": 3
   },
   "file_extension": ".py",
   "mimetype": "text/x-python",
   "name": "python",
   "nbconvert_exporter": "python",
   "pygments_lexer": "ipython3",
   "version": "3.10.7"
  },
  "orig_nbformat": 4,
  "vscode": {
   "interpreter": {
    "hash": "b5f0bfb910b5f89afee0c4e65874b118d019a6f05b0e3b9906c17a1424dc1b44"
   }
  }
 },
 "nbformat": 4,
 "nbformat_minor": 2
}

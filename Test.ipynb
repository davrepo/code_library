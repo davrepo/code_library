{
 "cells": [
  {
   "cell_type": "code",
   "execution_count": 5,
   "metadata": {},
   "outputs": [
    {
     "data": {
      "text/plain": [
       "57"
      ]
     },
     "execution_count": 5,
     "metadata": {},
     "output_type": "execute_result"
    }
   ],
   "source": [
    "import math\n",
    "\n",
    "# math.lcm(60, 32)\n",
    "math.gcd(34,-59)\n",
    "3*19"
   ]
  },
  {
   "cell_type": "code",
   "execution_count": 25,
   "metadata": {},
   "outputs": [
    {
     "name": "stdout",
     "output_type": "stream",
     "text": [
      "False\n"
     ]
    }
   ],
   "source": [
    "def some_operation(s, i=0, j=0):\n",
    "    if i == len(s):\n",
    "        return j == 0\n",
    "    if j < 0:\n",
    "        return False\n",
    "    if s[i] == \"(\":\n",
    "        return some_operation(s, i + 1, j + 1)\n",
    "    elif s[i] == \")\":\n",
    "        return some_operation(s, i + 1, j - 1)\n",
    "\n",
    "result = some_operation(\"((()\")\n",
    "print(result)"
   ]
  },
  {
   "cell_type": "code",
   "execution_count": 26,
   "metadata": {},
   "outputs": [
    {
     "name": "stdout",
     "output_type": "stream",
     "text": [
      "32\n",
      "67\n",
      "102\n",
      "137\n",
      "172\n",
      "207\n",
      "242\n",
      "277\n",
      "312\n",
      "347\n",
      "382\n",
      "417\n",
      "452\n",
      "487\n"
     ]
    }
   ],
   "source": [
    "# Chinese remainder theorem\n",
    "# x is congruent to 0 mod 3\n",
    "# x is congruent to 7 mod 14\n",
    "# find the smallest positive integer x\n",
    "\n",
    "def foo(x):\n",
    "    return x % 5 == 2 and x % 7 == 4\n",
    "\n",
    "for i in range(1, 500):\n",
    "    if foo(i):\n",
    "        print(i)\n",
    "        continue\n",
    "\n",
    "# def foo1(x):\n",
    "#     return (18*x) % 33 == 6\n",
    "\n",
    "# for i in range(1, 500):\n",
    "#     if foo1(i):\n",
    "#         print(i)\n",
    "#         continue"
   ]
  },
  {
   "cell_type": "code",
   "execution_count": 15,
   "metadata": {},
   "outputs": [
    {
     "data": {
      "text/plain": [
       "2"
      ]
     },
     "execution_count": 15,
     "metadata": {},
     "output_type": "execute_result"
    }
   ],
   "source": [
    "# Find multiplicative inverse of 3 mod 17\n",
    "def multiplicative_inverse(a, b):\n",
    "    for i in range(1, b):\n",
    "        if (a * i) % b == 1:\n",
    "            return i\n",
    "\n",
    "multiplicative_inverse(8, 17)   # 15        8 * 15 = 1 mod 17\n",
    "multiplicative_inverse(6, 11)"
   ]
  },
  {
   "cell_type": "code",
   "execution_count": 2,
   "metadata": {},
   "outputs": [
    {
     "data": {
      "text/plain": [
       "(1, 11, -2)"
      ]
     },
     "execution_count": 2,
     "metadata": {},
     "output_type": "execute_result"
    }
   ],
   "source": [
    "# Extended Euclidean algorithm\n",
    "\n",
    "def extended_euclidean(a, b):\n",
    "    \"\"\" Returns the GCD of a and b along with the coefficients x and y such that ax + by = gcd(a, b) \"\"\"\n",
    "    if b == 0:\n",
    "        return (a, 1, 0)\n",
    "    else:\n",
    "        d, x, y = extended_euclidean(b, a % b)\n",
    "        return (d, y, x - (a // b) * y)\n",
    "\n",
    "extended_euclidean(5, 27)   # (1, 11, -2)      gcd(5, 27) = 1 = 5 * 11 - 27 * -2"
   ]
  },
  {
   "cell_type": "code",
   "execution_count": 2,
   "metadata": {},
   "outputs": [
    {
     "name": "stdout",
     "output_type": "stream",
     "text": [
      "(43, 51)\n"
     ]
    }
   ],
   "source": [
    "# diophantine equation solver for ax + by = c\n",
    "\n",
    "def diophatine(a, b, c):\n",
    "    for i in range(1, c):\n",
    "        for j in range(1, c):\n",
    "            if a * i + b * j == c:\n",
    "                return i, j\n",
    "\n",
    "print(diophatine(59, 92, 7229))     # (43, 51)   59 * 43 + 92 * 51 = 7229"
   ]
  },
  {
   "cell_type": "code",
   "execution_count": null,
   "metadata": {},
   "outputs": [],
   "source": [
    "# what is the least common multiple formula\n",
    "# a * b = gcd(a, b) * lcm(a, b)"
   ]
  },
  {
   "cell_type": "code",
   "execution_count": 1,
   "metadata": {},
   "outputs": [
    {
     "ename": "NameError",
     "evalue": "name 'data_reliable' is not defined",
     "output_type": "error",
     "traceback": [
      "\u001b[1;31m---------------------------------------------------------------------------\u001b[0m",
      "\u001b[1;31mNameError\u001b[0m                                 Traceback (most recent call last)",
      "Cell \u001b[1;32mIn [1], line 4\u001b[0m\n\u001b[0;32m      2\u001b[0m \u001b[39mimport\u001b[39;00m \u001b[39mmatplotlib\u001b[39;00m\u001b[39m.\u001b[39;00m\u001b[39mpyplot\u001b[39;00m \u001b[39mas\u001b[39;00m \u001b[39mplt\u001b[39;00m\n\u001b[0;32m      3\u001b[0m get_ipython()\u001b[39m.\u001b[39mrun_line_magic(\u001b[39m'\u001b[39m\u001b[39mmatplotlib\u001b[39m\u001b[39m'\u001b[39m, \u001b[39m'\u001b[39m\u001b[39minline\u001b[39m\u001b[39m'\u001b[39m)\n\u001b[1;32m----> 4\u001b[0m categories, counts \u001b[39m=\u001b[39m np\u001b[39m.\u001b[39munique(data_reliable[:, \u001b[39m-\u001b[39m\u001b[39m1\u001b[39m], return_counts\u001b[39m=\u001b[39m\u001b[39mTrue\u001b[39;00m)\n\u001b[0;32m      5\u001b[0m fig, axes \u001b[39m=\u001b[39m plt\u001b[39m.\u001b[39msubplots(nrows\u001b[39m=\u001b[39m\u001b[39m1\u001b[39m, ncols\u001b[39m=\u001b[39m\u001b[39m2\u001b[39m, figsize\u001b[39m=\u001b[39m(\u001b[39m8\u001b[39m, \u001b[39m3\u001b[39m))\n\u001b[0;32m      6\u001b[0m axis1 \u001b[39m=\u001b[39m axes[\u001b[39m0\u001b[39m]\n",
      "\u001b[1;31mNameError\u001b[0m: name 'data_reliable' is not defined"
     ]
    }
   ],
   "source": [
    "import numpy as np\n",
    "import matplotlib.pyplot as plt\n",
    "%matplotlib inline\n",
    "categories, counts = np.unique(data_reliable[:, -1], return_counts=True)\n",
    "fig, axes = plt.subplots(nrows=1, ncols=2, figsize=(8, 3))\n",
    "axis1 = axes[0]\n",
    "axis2 = axes[1]\n",
    "axis1.bar(categories, counts)\n",
    "axis1.set_title(\"Station location\")\n",
    "axis1.set_xticks(categories)\n",
    "axis1.set_xticklabels(\"Inland\", \"Coastal\")\n",
    "axis2.scatter(data_reliable[:,1], data_reliable[:,2]);"
   ]
  }
 ],
 "metadata": {
  "kernelspec": {
   "display_name": "Python 3.10.7 64-bit",
   "language": "python",
   "name": "python3"
  },
  "language_info": {
   "codemirror_mode": {
    "name": "ipython",
    "version": 3
   },
   "file_extension": ".py",
   "mimetype": "text/x-python",
   "name": "python",
   "nbconvert_exporter": "python",
   "pygments_lexer": "ipython3",
   "version": "3.10.7 (tags/v3.10.7:6cc6b13, Sep  5 2022, 14:08:36) [MSC v.1933 64 bit (AMD64)]"
  },
  "orig_nbformat": 4,
  "vscode": {
   "interpreter": {
    "hash": "b5f0bfb910b5f89afee0c4e65874b118d019a6f05b0e3b9906c17a1424dc1b44"
   }
  }
 },
 "nbformat": 4,
 "nbformat_minor": 2
}
